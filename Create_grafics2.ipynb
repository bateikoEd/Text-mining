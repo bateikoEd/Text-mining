{
 "cells": [
  {
   "cell_type": "code",
   "execution_count": 1,
   "metadata": {},
   "outputs": [],
   "source": [
    "import pandas as pd\n",
    "import numpy as np\n",
    "import re\n",
    "import matplotlib.pyplot as plot"
   ]
  },
  {
   "cell_type": "code",
   "execution_count": null,
   "metadata": {},
   "outputs": [],
   "source": []
  },
  {
   "cell_type": "code",
   "execution_count": null,
   "metadata": {},
   "outputs": [],
   "source": []
  },
  {
   "cell_type": "code",
   "execution_count": null,
   "metadata": {},
   "outputs": [],
   "source": []
  },
  {
   "cell_type": "code",
   "execution_count": 3,
   "metadata": {},
   "outputs": [],
   "source": [
    "file_name_bbc = 'BBC_reading/exсel_files/bbc_scraping.xlsx'\n",
    "file_name_nz = 'BBC_reading/exсel_files/zn_ua_scraping.xlsx'\n",
    "file_name_csv = '../sas/report/report2.csv'\n",
    "\n",
    "csv_final_report = pd.read_csv(file_name_csv)\n",
    "excel_bbc_texts = pd.read_excel(file_name_bbc, index_col=0)\n",
    "excel_nz_texts = pd.read_excel(file_name_nz, index_col=0)"
   ]
  },
  {
   "cell_type": "code",
   "execution_count": null,
   "metadata": {},
   "outputs": [],
   "source": []
  },
  {
   "cell_type": "code",
   "execution_count": null,
   "metadata": {},
   "outputs": [],
   "source": []
  },
  {
   "cell_type": "code",
   "execution_count": null,
   "metadata": {},
   "outputs": [],
   "source": []
  },
  {
   "cell_type": "code",
   "execution_count": 3,
   "metadata": {},
   "outputs": [
    {
     "data": {
      "text/plain": [
       "<bound method NDFrame.head of      file_code  pass  is_fail_doc  \\\n",
       "0        bbc_0     1            0   \n",
       "1        bbc_0     1            0   \n",
       "2        bbc_0     1            0   \n",
       "3        bbc_0     1            0   \n",
       "4        bbc_0     1            0   \n",
       "...        ...   ...          ...   \n",
       "9706    zn_842     1            0   \n",
       "9707    zn_842     1            0   \n",
       "9708    zn_843     1            0   \n",
       "9709    zn_843     1            0   \n",
       "9710    zn_843     1            0   \n",
       "\n",
       "                                          category_name  relevancy  \\\n",
       "0                         Top/politics/healthcarepolicy        1.0   \n",
       "1     Top/politics/healthcarepolicy/quarntine_streng...        1.0   \n",
       "2                                            Top/events        1.0   \n",
       "3                          Top/events/onlinetransformed        1.0   \n",
       "4                              Top/economy/coronacrisis        1.0   \n",
       "...                                                 ...        ...   \n",
       "9706                                       Top/politics        1.0   \n",
       "9707  Top/politics/healthcarepolicy/quarntine_streng...        1.0   \n",
       "9708                                 Top/health/recover        1.0   \n",
       "9709                           Top/health/dissemination        1.0   \n",
       "9710                                   Top/technologies        1.0   \n",
       "\n",
       "      above_rel_cutoff                  date  \n",
       "0                    1  11May2014 11:15:36.0  \n",
       "1                    1  11May2014 11:15:36.0  \n",
       "2                    1  11May2014 11:15:36.0  \n",
       "3                    1  11May2014 11:15:36.0  \n",
       "4                    1  11May2014 11:15:36.0  \n",
       "...                ...                   ...  \n",
       "9706                 1  11May2014 11:15:37.0  \n",
       "9707                 1  11May2014 11:15:37.0  \n",
       "9708                 1  11May2014 11:15:37.0  \n",
       "9709                 1  11May2014 11:15:37.0  \n",
       "9710                 1  11May2014 11:15:37.0  \n",
       "\n",
       "[9711 rows x 7 columns]>"
      ]
     },
     "execution_count": 3,
     "metadata": {},
     "output_type": "execute_result"
    }
   ],
   "source": [
    "csv_final_report.head"
   ]
  },
  {
   "cell_type": "code",
   "execution_count": 4,
   "metadata": {},
   "outputs": [
    {
     "data": {
      "text/plain": [
       "<bound method NDFrame.head of            Date                       Author  Main_Topics  \\\n",
       "0    22/03/2020                          NaN     Здоров'я   \n",
       "1    22/03/2020                          NaN     Здоров'я   \n",
       "2    22/03/2020                          NaN     Здоров'я   \n",
       "3    22/03/2020              Ольга Паламарюк     Здоров'я   \n",
       "4    22/03/2020               BBC Моніторинг     Здоров'я   \n",
       "..          ...                          ...          ...   \n",
       "866  12/05/2020  Говард Мусто і Сем Проффітт  Коронавірус   \n",
       "867  13/05/2020                          NaN  Коронавірус   \n",
       "868  13/05/2020                          NaN  Коронавірус   \n",
       "869  13/05/2020                          NaN  Коронавірус   \n",
       "870  13/05/2020                          NaN  Коронавірус   \n",
       "\n",
       "                                                 Topic  \\\n",
       "0    Надія є: п'ять причин порадіти під час пандемі...   \n",
       "1           Маски: щоб захистити інших, а не вас - МОЗ   \n",
       "2       Коронавірус: як у світі запроваджують карантин   \n",
       "3    \"Коли тобі кажуть: у тебе - коронавірус\". Розп...   \n",
       "4        Ібупрофен і Covid-19: міфи та правда про ліки   \n",
       "..                                                 ...   \n",
       "866  Застрягли в морі через коронавірус: як моряків...   \n",
       "867  Як подолала коронавірус найстаріша жителька Іс...   \n",
       "868           Коронавірус в Україні. Інтерактивна мапа   \n",
       "869                                        Коронавірус   \n",
       "870  Twitter дозволив співробітникам працювати з до...   \n",
       "\n",
       "                                                  Text  \n",
       "0    Копирайт изображения\\nAFP\\nImage caption\\nПо в...  \n",
       "1    Копирайт изображения\\nUNIAN\\nЗахисні маски не ...  \n",
       "2    Копирайт изображения\\nGETTY IMAGES\\nПандемія к...  \n",
       "3    Копирайт изображения\\nUNIAN\\nОлександр з Черні...  \n",
       "4    Копирайт изображения\\nGETTY IMAGES\\nОстаннім ч...  \n",
       "..                                                 ...  \n",
       "866  Копирайт изображения\\nGETTY IMAGES\\nЧерез панд...  \n",
       "867  Копирайт изображения\\nGETTY IMAGES\\nImage capt...  \n",
       "868  В якій області найбільше інфікованих коронавір...  \n",
       "869                                                NaN  \n",
       "870  Копирайт изображения\\nGETTY IMAGES\\nКомпанія T...  \n",
       "\n",
       "[871 rows x 5 columns]>"
      ]
     },
     "execution_count": 4,
     "metadata": {},
     "output_type": "execute_result"
    }
   ],
   "source": [
    "excel_bbc_texts.head"
   ]
  },
  {
   "cell_type": "code",
   "execution_count": 5,
   "metadata": {},
   "outputs": [
    {
     "data": {
      "text/plain": [
       "<bound method NDFrame.head of             Date  Author Main_Topics  \\\n",
       "0     05/04/2020     NaN    Політика   \n",
       "1     05/04/2020     NaN    Політика   \n",
       "2     05/04/2020     NaN    Політика   \n",
       "3     05/04/2020     NaN    Політика   \n",
       "4     05/04/2020     NaN    Політика   \n",
       "...          ...     ...         ...   \n",
       "3026  14/05/2020     NaN     Україна   \n",
       "3027  14/05/2020     NaN     Україна   \n",
       "3028  14/05/2020     NaN     Україна   \n",
       "3029  14/05/2020     NaN     Україна   \n",
       "3030  14/05/2020     NaN     Україна   \n",
       "\n",
       "                                                  Topic  \\\n",
       "0     Постпред України в ООН розповів, як Росія пере...   \n",
       "1     З початку року в Донбасі 12 осіб загинули від ...   \n",
       "2     Людина Ахметова стала позаштатним радником пре...   \n",
       "3          НАБУ завершило розслідування справи Гримчака   \n",
       "4                           НАБУ допитало Дениса Єрмака   \n",
       "...                                                 ...   \n",
       "3026  На Закарпатті обрушився кінотеатр: з-під завал...   \n",
       "3027  COVID-19 додали до переліку профзахворювань ук...   \n",
       "3028  Стерненка викликали до СБУ: активіст очікує ог...   \n",
       "3029  Зеркаль стала відповідальною за організацію ро...   \n",
       "3030  Венедіктова повернула в Офіс генпрокурора прак...   \n",
       "\n",
       "                                                   Text  \n",
       "0     Москва розробляє багаторівневі та багатокроков...  \n",
       "1     В ОБСЄ закликали негайно провести розмінування...  \n",
       "2     Топ-чиновник корпорації ДТЕК став радником пре...  \n",
       "3     Матеріали кримінального провадження відкриті д...  \n",
       "4     Детективи записали зразки голосу брата керівни...  \n",
       "...                                                 ...  \n",
       "3026  Рятувальники шукають людей під завалами.\\n\\nУ ...  \n",
       "3027  Кабмін доповнив перелік захворювань, які відно...  \n",
       "3028  Сергія Стерненко в понеділок чекають в СБУ для...  \n",
       "3029  У \"Нафтогазі України\" нагадали, що Зеркаль бра...  \n",
       "3030  Саме для вибудовування контрольованої вертикал...  \n",
       "\n",
       "[3031 rows x 5 columns]>"
      ]
     },
     "execution_count": 5,
     "metadata": {},
     "output_type": "execute_result"
    }
   ],
   "source": [
    "excel_nz_texts.head"
   ]
  },
  {
   "cell_type": "code",
   "execution_count": 4,
   "metadata": {},
   "outputs": [],
   "source": [
    "name_colums_for_new_csv = ['file_code', 'class', 'date']\n",
    "new_csv = pd.DataFrame(zip(csv_final_report.file_code, csv_final_report.category_name, csv_final_report.date), columns=name_colums_for_new_csv)"
   ]
  },
  {
   "cell_type": "code",
   "execution_count": null,
   "metadata": {},
   "outputs": [],
   "source": []
  },
  {
   "cell_type": "code",
   "execution_count": null,
   "metadata": {},
   "outputs": [],
   "source": []
  },
  {
   "cell_type": "code",
   "execution_count": 7,
   "metadata": {},
   "outputs": [
    {
     "data": {
      "text/plain": [
       "<bound method NDFrame.head of      file_code                                              class  \\\n",
       "0        bbc_0                      Top/politics/healthcarepolicy   \n",
       "1        bbc_0  Top/politics/healthcarepolicy/quarntine_streng...   \n",
       "2        bbc_0                                         Top/events   \n",
       "3        bbc_0                       Top/events/onlinetransformed   \n",
       "4        bbc_0                           Top/economy/coronacrisis   \n",
       "...        ...                                                ...   \n",
       "9706    zn_842                                       Top/politics   \n",
       "9707    zn_842  Top/politics/healthcarepolicy/quarntine_streng...   \n",
       "9708    zn_843                                 Top/health/recover   \n",
       "9709    zn_843                           Top/health/dissemination   \n",
       "9710    zn_843                                   Top/technologies   \n",
       "\n",
       "                      date  \n",
       "0     11May2014 11:15:36.0  \n",
       "1     11May2014 11:15:36.0  \n",
       "2     11May2014 11:15:36.0  \n",
       "3     11May2014 11:15:36.0  \n",
       "4     11May2014 11:15:36.0  \n",
       "...                    ...  \n",
       "9706  11May2014 11:15:37.0  \n",
       "9707  11May2014 11:15:37.0  \n",
       "9708  11May2014 11:15:37.0  \n",
       "9709  11May2014 11:15:37.0  \n",
       "9710  11May2014 11:15:37.0  \n",
       "\n",
       "[9711 rows x 3 columns]>"
      ]
     },
     "execution_count": 7,
     "metadata": {},
     "output_type": "execute_result"
    }
   ],
   "source": [
    "new_csv.head"
   ]
  },
  {
   "cell_type": "code",
   "execution_count": 5,
   "metadata": {},
   "outputs": [],
   "source": [
    "def preparation():\n",
    "    \n",
    "    for index in range(len(csv_final_report)):\n",
    "        source_name = (re.findall('zn|bbc',new_csv.loc[index][0]))[0]\n",
    "        count_in_table = re.findall('_\\d{0,10}', new_csv.loc[index][0])\n",
    "        count_in_table = int(count_in_table[0].replace('_', ''))\n",
    "\n",
    "        if source_name == 'bbc':\n",
    "            new_csv.loc[index][2] = pd.to_datetime(excel_bbc_texts.loc[count_in_table]['Date'], format='%d/%m/%Y', dayfirst=True)\n",
    "        elif source_name == 'zn':\n",
    "            new_csv.loc[index][2] = pd.to_datetime(excel_nz_texts.loc[count_in_table]['Date'], format='%d/%m/%Y', dayfirst=True)\n",
    "    \n",
    "    my_classes = list(set(new_csv['class']))\n",
    "    len_my_classes = len(my_classes)\n",
    "    \n",
    "    return my_classes,len_my_classes"
   ]
  },
  {
   "cell_type": "code",
   "execution_count": null,
   "metadata": {},
   "outputs": [],
   "source": []
  },
  {
   "cell_type": "code",
   "execution_count": 6,
   "metadata": {},
   "outputs": [
    {
     "data": {
      "text/plain": [
       "['Top/politics/healthcarepolicy/education',\n",
       " 'Top/economy',\n",
       " 'Top/society/death',\n",
       " 'Top/technologies/developingofequipment',\n",
       " 'Top/politics/healthcarepolicy/transport',\n",
       " 'Top/economy/coronaimport',\n",
       " 'Top/politics/healthcarepolicy/quarntine_strengthening',\n",
       " 'Top/economy/coronabusiness',\n",
       " 'Top/society/potentialdeath',\n",
       " 'Top/health/dissemination',\n",
       " 'Top/politics',\n",
       " 'Top/society/familytroubles',\n",
       " 'Top/politics/healthcarepolicy/safetysteps',\n",
       " 'Top/economy/coronacrisis',\n",
       " 'Top/coronavirus',\n",
       " 'Top/technologies',\n",
       " 'Top/society/producthisteria',\n",
       " 'Top/politics/healthcarepolicy/entertaiment',\n",
       " 'Top/society',\n",
       " 'Top/science/developingvaccine',\n",
       " 'Top/health/illness',\n",
       " 'Top/events/onlinetransformed',\n",
       " 'Top/health',\n",
       " 'Top/politics/criminal',\n",
       " 'Top/science/existeddrugs',\n",
       " 'Top/health/recover',\n",
       " 'Top/science',\n",
       " 'Top/events',\n",
       " 'Top/politics/healthcarepolicy',\n",
       " 'Top/economy/coronajobloss',\n",
       " 'Top/economy/crisis',\n",
       " 'Top/society/potentialdeathhisteria',\n",
       " 'Top/science/developingnewdrugs',\n",
       " 'Top/events/coronacanceledevents']"
      ]
     },
     "execution_count": 6,
     "metadata": {},
     "output_type": "execute_result"
    }
   ],
   "source": [
    "my_classes, len_my_classes = preparation()\n",
    "my_classes"
   ]
  },
  {
   "cell_type": "code",
   "execution_count": null,
   "metadata": {},
   "outputs": [],
   "source": []
  },
  {
   "cell_type": "code",
   "execution_count": 7,
   "metadata": {},
   "outputs": [],
   "source": [
    "def create_result_table(name_colums_for_new_csv, my_classes, days_period, first_day, last_day):\n",
    "    \n",
    "    all_source_for_bars = pd.DataFrame(columns=my_classes)\n",
    "    dates_period = pd.DataFrame(columns=my_classes)\n",
    "    \n",
    "    last_day = pd.to_datetime(last_day,format='%d/%m/%Y')\n",
    "    start_period = pd.to_datetime(first_day,format='%d/%m/%Y')\n",
    "    period_time = pd.Timedelta(days=days_period)\n",
    "    bool_parametr = True\n",
    "    \n",
    "    while bool_parametr:\n",
    "        end_period = start_period + period_time\n",
    "        \n",
    "        if end_period >= last_day:\n",
    "            bool_parametr = False\n",
    "            end_period = last_day\n",
    "            break\n",
    "        \n",
    "        counts_dateFrame = pd.DataFrame(columns=name_colums_for_new_csv)\n",
    "        counts_dates = pd.DataFrame(columns=['start_period','end_period'])\n",
    "        counts_list = np.array([])\n",
    "        counts_dates_array = np.array([start_period, end_period])\n",
    "        \n",
    "        counts_dates_temp = pd.DataFrame([counts_dates_array],columns=['start_period','end_period']) \n",
    "        counts_dates = counts_dates.append(counts_dates_temp, ignore_index=True)\n",
    "        \n",
    "        for index,name_class in enumerate(my_classes):\n",
    "\n",
    "            counts_dateFrame = new_csv[(new_csv['class'] == name_class) & (start_period <= new_csv['date']) & (new_csv['date'] <= end_period)]\n",
    "            # print(counts_dateFrame.head)\n",
    "            count = len(counts_dateFrame)\n",
    "\n",
    "            # print(f\"count\\t{count}\\nindex\\t{index}\")\n",
    "            counts_list = np.append(counts_list, count)\n",
    "        \n",
    "        all_summ = np.sum(counts_list)\n",
    "        counts_list = (counts_list / all_summ ) * 100\n",
    "        \n",
    "        temp_count_table = pd.DataFrame([counts_list],columns=my_classes) \n",
    "        all_source_for_bars = all_source_for_bars.append(temp_count_table, ignore_index=True)\n",
    "        \n",
    "        start_period = end_period + pd.Timedelta(days=1)\n",
    "    \n",
    "    return all_source_for_bars, counts_dates"
   ]
  },
  {
   "cell_type": "code",
   "execution_count": null,
   "metadata": {},
   "outputs": [],
   "source": []
  },
  {
   "cell_type": "code",
   "execution_count": 8,
   "metadata": {},
   "outputs": [],
   "source": [
    "days_period = 3 \n",
    "first_day = '03/03/2020' \n",
    "last_day = '12/05/2020'\n",
    "all_source_bars,dates = create_result_table(name_colums_for_new_csv, my_classes, days_period, first_day, last_day)"
   ]
  },
  {
   "cell_type": "code",
   "execution_count": null,
   "metadata": {},
   "outputs": [],
   "source": []
  },
  {
   "cell_type": "code",
   "execution_count": 12,
   "metadata": {},
   "outputs": [
    {
     "data": {
      "text/plain": [
       "<bound method NDFrame.head of     Top/technologies  Top/economy/coronabusiness  Top/politics/criminal  \\\n",
       "0           0.000000                    0.000000               0.000000   \n",
       "1           0.000000                    0.000000               0.000000   \n",
       "2           0.000000                    0.000000               0.000000   \n",
       "3           0.330033                    0.330033               1.320132   \n",
       "4           0.320513                    0.961538               0.000000   \n",
       "5           0.963391                    0.578035               0.578035   \n",
       "6           0.852878                    0.000000               0.000000   \n",
       "7           1.328904                    0.221484               0.885936   \n",
       "8           2.321263                    0.185701               0.464253   \n",
       "9           4.258675                    0.000000               0.630915   \n",
       "10          4.105090                    0.164204               0.164204   \n",
       "11          2.684564                    0.167785               0.503356   \n",
       "12          2.995392                    0.345622               0.345622   \n",
       "13          3.846154                    0.167224               0.167224   \n",
       "14          3.982301                    0.000000               0.147493   \n",
       "15          2.877698                    0.000000               0.000000   \n",
       "16          2.402023                    0.000000               0.000000   \n",
       "\n",
       "    Top/politics/healthcarepolicy/education  Top/events/coronacanceledevents  \\\n",
       "0                                  0.000000                         0.000000   \n",
       "1                                  0.000000                         0.000000   \n",
       "2                                  1.764706                         2.352941   \n",
       "3                                  1.980198                         0.990099   \n",
       "4                                  1.602564                         0.641026   \n",
       "5                                  0.578035                         0.192678   \n",
       "6                                  0.000000                         0.426439   \n",
       "7                                  0.221484                         0.442968   \n",
       "8                                  0.464253                         1.021356   \n",
       "9                                  0.630915                         1.419558   \n",
       "10                                 0.164204                         1.642036   \n",
       "11                                 0.000000                         0.671141   \n",
       "12                                 0.115207                         1.267281   \n",
       "13                                 0.000000                         0.836120   \n",
       "14                                 0.000000                         1.179941   \n",
       "15                                 0.000000                         2.158273   \n",
       "16                                 0.126422                         0.632111   \n",
       "\n",
       "    Top/health/illness  Top/economy/crisis  Top/health/dissemination  \\\n",
       "0             0.000000            0.000000                  0.000000   \n",
       "1             1.818182            9.090909                  1.818182   \n",
       "2             2.352941            2.941176                  0.000000   \n",
       "3             0.990099            5.280528                  0.660066   \n",
       "4             1.602564            7.692308                  0.641026   \n",
       "5             3.853565            8.670520                  1.348748   \n",
       "6             3.837953            6.823028                  1.705757   \n",
       "7             3.875969            5.869324                  0.885936   \n",
       "8             2.878366            3.899721                  1.299907   \n",
       "9             2.365931            5.993691                  0.630915   \n",
       "10            3.612479            5.090312                  1.313629   \n",
       "11            4.194631            5.033557                  1.006711   \n",
       "12            2.764977            6.682028                  1.152074   \n",
       "13            1.839465            4.849498                  0.000000   \n",
       "14            2.359882            4.572271                  2.359882   \n",
       "15            2.697842            3.417266                  1.079137   \n",
       "16            2.781290            5.309735                  1.264223   \n",
       "\n",
       "    Top/politics/healthcarepolicy/transport  \\\n",
       "0                                  0.000000   \n",
       "1                                  0.000000   \n",
       "2                                  2.352941   \n",
       "3                                  5.610561   \n",
       "4                                  5.448718   \n",
       "5                                  3.082852   \n",
       "6                                  2.771855   \n",
       "7                                  2.657807   \n",
       "8                                  2.414113   \n",
       "9                                  1.419558   \n",
       "10                                 1.313629   \n",
       "11                                 1.845638   \n",
       "12                                 1.152074   \n",
       "13                                 0.501672   \n",
       "14                                 1.327434   \n",
       "15                                 0.539568   \n",
       "16                                 0.632111   \n",
       "\n",
       "    Top/society/potentialdeathhisteria  ...  Top/economy  \\\n",
       "0                             0.000000  ...     0.000000   \n",
       "1                             0.000000  ...    14.545455   \n",
       "2                             0.588235  ...     2.941176   \n",
       "3                             0.000000  ...     4.950495   \n",
       "4                             0.961538  ...     5.769231   \n",
       "5                             0.578035  ...     6.743738   \n",
       "6                             0.639659  ...     3.624733   \n",
       "7                             0.664452  ...     3.100775   \n",
       "8                             0.464253  ...     2.785515   \n",
       "9                             0.315457  ...     3.627760   \n",
       "10                            0.328407  ...     4.926108   \n",
       "11                            0.335570  ...     3.859060   \n",
       "12                            0.230415  ...     5.069124   \n",
       "13                            0.334448  ...     4.180602   \n",
       "14                            0.000000  ...     3.392330   \n",
       "15                            0.000000  ...     2.877698   \n",
       "16                            0.252845  ...     3.539823   \n",
       "\n",
       "    Top/events/onlinetransformed  Top/economy/coronacrisis  Top/coronavirus  \\\n",
       "0                       0.000000                  0.000000       100.000000   \n",
       "1                       0.000000                  9.090909        14.545455   \n",
       "2                       0.000000                  2.941176        13.529412   \n",
       "3                       1.320132                  2.970297        16.501650   \n",
       "4                       0.961538                  3.205128        20.512821   \n",
       "5                       0.770713                  3.853565        20.038536   \n",
       "6                       0.852878                  2.558635        21.961620   \n",
       "7                       0.442968                  2.879291        21.483942   \n",
       "8                       0.649954                  1.578459        18.941504   \n",
       "9                       0.473186                  2.523659        20.504732   \n",
       "10                      0.492611                  1.970443        22.824302   \n",
       "11                      0.671141                  1.845638        22.147651   \n",
       "12                      0.230415                  2.534562        20.506912   \n",
       "13                      0.334448                  1.672241        21.571906   \n",
       "14                      0.589971                  1.769912        22.713864   \n",
       "15                      0.359712                  0.539568        22.841727   \n",
       "16                      0.379267                  1.643489        20.733249   \n",
       "\n",
       "    Top/science  Top/politics/healthcarepolicy  Top/politics  \\\n",
       "0      0.000000                       0.000000      0.000000   \n",
       "1      5.454545                       0.000000      5.454545   \n",
       "2      1.176471                       4.117647     15.882353   \n",
       "3      0.660066                       1.980198      6.930693   \n",
       "4      2.564103                       3.205128      3.205128   \n",
       "5      1.926782                       3.082852      2.697495   \n",
       "6      2.558635                       1.066098      1.918977   \n",
       "7      1.550388                       2.436323      2.657807   \n",
       "8      2.042711                       1.207057      5.385330   \n",
       "9      1.419558                       2.523659      3.785489   \n",
       "10     1.149425                       0.985222      3.776683   \n",
       "11     1.677852                       1.845638      2.516779   \n",
       "12     2.188940                       1.958525      5.875576   \n",
       "13     1.839465                       0.668896      6.354515   \n",
       "14     1.917404                       1.179941      5.752212   \n",
       "15     1.978417                       2.158273      6.115108   \n",
       "16     3.666245                       1.137800      6.953224   \n",
       "\n",
       "    Top/technologies/developingofequipment  Top/events  \\\n",
       "0                                 0.000000    0.000000   \n",
       "1                                 0.000000   16.363636   \n",
       "2                                 0.000000   22.352941   \n",
       "3                                 0.330033   12.211221   \n",
       "4                                 0.320513    7.371795   \n",
       "5                                 1.156069    5.973025   \n",
       "6                                 1.492537    8.955224   \n",
       "7                                 0.332226    8.970100   \n",
       "8                                 0.278552   13.834726   \n",
       "9                                 0.473186   12.302839   \n",
       "10                                0.492611   13.300493   \n",
       "11                                0.000000   13.255034   \n",
       "12                                0.115207   14.170507   \n",
       "13                                0.334448   16.220736   \n",
       "14                                0.442478   16.371681   \n",
       "15                                0.359712   15.107914   \n",
       "16                                0.126422   15.170670   \n",
       "\n",
       "    Top/politics/healthcarepolicy/quarntine_strengthening  \n",
       "0                                            0.000000      \n",
       "1                                            0.000000      \n",
       "2                                            0.588235      \n",
       "3                                            3.960396      \n",
       "4                                            0.961538      \n",
       "5                                            3.660886      \n",
       "6                                            2.345416      \n",
       "7                                            2.436323      \n",
       "8                                            3.621170      \n",
       "9                                            3.154574      \n",
       "10                                           1.313629      \n",
       "11                                           1.677852      \n",
       "12                                           1.382488      \n",
       "13                                           0.668896      \n",
       "14                                           0.884956      \n",
       "15                                           0.719424      \n",
       "16                                           0.884956      \n",
       "\n",
       "[17 rows x 34 columns]>"
      ]
     },
     "execution_count": 12,
     "metadata": {},
     "output_type": "execute_result"
    }
   ],
   "source": [
    "all_source_bars.head"
   ]
  },
  {
   "cell_type": "code",
   "execution_count": 13,
   "metadata": {
    "scrolled": false
   },
   "outputs": [
    {
     "data": {
      "text/plain": [
       "<bound method NDFrame.head of     Top/technologies  Top/economy/coronabusiness  Top/politics/criminal  \\\n",
       "1           0.000000                    0.000000               0.000000   \n",
       "2           0.000000                    0.000000               0.000000   \n",
       "3           0.330033                    0.330033               1.320132   \n",
       "4           0.320513                    0.961538               0.000000   \n",
       "5           0.963391                    0.578035               0.578035   \n",
       "6           0.852878                    0.000000               0.000000   \n",
       "7           1.328904                    0.221484               0.885936   \n",
       "8           2.321263                    0.185701               0.464253   \n",
       "9           4.258675                    0.000000               0.630915   \n",
       "10          4.105090                    0.164204               0.164204   \n",
       "11          2.684564                    0.167785               0.503356   \n",
       "12          2.995392                    0.345622               0.345622   \n",
       "13          3.846154                    0.167224               0.167224   \n",
       "14          3.982301                    0.000000               0.147493   \n",
       "15          2.877698                    0.000000               0.000000   \n",
       "16          2.402023                    0.000000               0.000000   \n",
       "\n",
       "    Top/politics/healthcarepolicy/education  Top/events/coronacanceledevents  \\\n",
       "1                                  0.000000                         0.000000   \n",
       "2                                  1.764706                         2.352941   \n",
       "3                                  1.980198                         0.990099   \n",
       "4                                  1.602564                         0.641026   \n",
       "5                                  0.578035                         0.192678   \n",
       "6                                  0.000000                         0.426439   \n",
       "7                                  0.221484                         0.442968   \n",
       "8                                  0.464253                         1.021356   \n",
       "9                                  0.630915                         1.419558   \n",
       "10                                 0.164204                         1.642036   \n",
       "11                                 0.000000                         0.671141   \n",
       "12                                 0.115207                         1.267281   \n",
       "13                                 0.000000                         0.836120   \n",
       "14                                 0.000000                         1.179941   \n",
       "15                                 0.000000                         2.158273   \n",
       "16                                 0.126422                         0.632111   \n",
       "\n",
       "    Top/health/illness  Top/economy/crisis  Top/health/dissemination  \\\n",
       "1             1.818182            9.090909                  1.818182   \n",
       "2             2.352941            2.941176                  0.000000   \n",
       "3             0.990099            5.280528                  0.660066   \n",
       "4             1.602564            7.692308                  0.641026   \n",
       "5             3.853565            8.670520                  1.348748   \n",
       "6             3.837953            6.823028                  1.705757   \n",
       "7             3.875969            5.869324                  0.885936   \n",
       "8             2.878366            3.899721                  1.299907   \n",
       "9             2.365931            5.993691                  0.630915   \n",
       "10            3.612479            5.090312                  1.313629   \n",
       "11            4.194631            5.033557                  1.006711   \n",
       "12            2.764977            6.682028                  1.152074   \n",
       "13            1.839465            4.849498                  0.000000   \n",
       "14            2.359882            4.572271                  2.359882   \n",
       "15            2.697842            3.417266                  1.079137   \n",
       "16            2.781290            5.309735                  1.264223   \n",
       "\n",
       "    Top/politics/healthcarepolicy/transport  \\\n",
       "1                                  0.000000   \n",
       "2                                  2.352941   \n",
       "3                                  5.610561   \n",
       "4                                  5.448718   \n",
       "5                                  3.082852   \n",
       "6                                  2.771855   \n",
       "7                                  2.657807   \n",
       "8                                  2.414113   \n",
       "9                                  1.419558   \n",
       "10                                 1.313629   \n",
       "11                                 1.845638   \n",
       "12                                 1.152074   \n",
       "13                                 0.501672   \n",
       "14                                 1.327434   \n",
       "15                                 0.539568   \n",
       "16                                 0.632111   \n",
       "\n",
       "    Top/society/potentialdeathhisteria  ...  Top/economy  \\\n",
       "1                             0.000000  ...    14.545455   \n",
       "2                             0.588235  ...     2.941176   \n",
       "3                             0.000000  ...     4.950495   \n",
       "4                             0.961538  ...     5.769231   \n",
       "5                             0.578035  ...     6.743738   \n",
       "6                             0.639659  ...     3.624733   \n",
       "7                             0.664452  ...     3.100775   \n",
       "8                             0.464253  ...     2.785515   \n",
       "9                             0.315457  ...     3.627760   \n",
       "10                            0.328407  ...     4.926108   \n",
       "11                            0.335570  ...     3.859060   \n",
       "12                            0.230415  ...     5.069124   \n",
       "13                            0.334448  ...     4.180602   \n",
       "14                            0.000000  ...     3.392330   \n",
       "15                            0.000000  ...     2.877698   \n",
       "16                            0.252845  ...     3.539823   \n",
       "\n",
       "    Top/events/onlinetransformed  Top/economy/coronacrisis  Top/coronavirus  \\\n",
       "1                       0.000000                  9.090909        14.545455   \n",
       "2                       0.000000                  2.941176        13.529412   \n",
       "3                       1.320132                  2.970297        16.501650   \n",
       "4                       0.961538                  3.205128        20.512821   \n",
       "5                       0.770713                  3.853565        20.038536   \n",
       "6                       0.852878                  2.558635        21.961620   \n",
       "7                       0.442968                  2.879291        21.483942   \n",
       "8                       0.649954                  1.578459        18.941504   \n",
       "9                       0.473186                  2.523659        20.504732   \n",
       "10                      0.492611                  1.970443        22.824302   \n",
       "11                      0.671141                  1.845638        22.147651   \n",
       "12                      0.230415                  2.534562        20.506912   \n",
       "13                      0.334448                  1.672241        21.571906   \n",
       "14                      0.589971                  1.769912        22.713864   \n",
       "15                      0.359712                  0.539568        22.841727   \n",
       "16                      0.379267                  1.643489        20.733249   \n",
       "\n",
       "    Top/science  Top/politics/healthcarepolicy  Top/politics  \\\n",
       "1      5.454545                       0.000000      5.454545   \n",
       "2      1.176471                       4.117647     15.882353   \n",
       "3      0.660066                       1.980198      6.930693   \n",
       "4      2.564103                       3.205128      3.205128   \n",
       "5      1.926782                       3.082852      2.697495   \n",
       "6      2.558635                       1.066098      1.918977   \n",
       "7      1.550388                       2.436323      2.657807   \n",
       "8      2.042711                       1.207057      5.385330   \n",
       "9      1.419558                       2.523659      3.785489   \n",
       "10     1.149425                       0.985222      3.776683   \n",
       "11     1.677852                       1.845638      2.516779   \n",
       "12     2.188940                       1.958525      5.875576   \n",
       "13     1.839465                       0.668896      6.354515   \n",
       "14     1.917404                       1.179941      5.752212   \n",
       "15     1.978417                       2.158273      6.115108   \n",
       "16     3.666245                       1.137800      6.953224   \n",
       "\n",
       "    Top/technologies/developingofequipment  Top/events  \\\n",
       "1                                 0.000000   16.363636   \n",
       "2                                 0.000000   22.352941   \n",
       "3                                 0.330033   12.211221   \n",
       "4                                 0.320513    7.371795   \n",
       "5                                 1.156069    5.973025   \n",
       "6                                 1.492537    8.955224   \n",
       "7                                 0.332226    8.970100   \n",
       "8                                 0.278552   13.834726   \n",
       "9                                 0.473186   12.302839   \n",
       "10                                0.492611   13.300493   \n",
       "11                                0.000000   13.255034   \n",
       "12                                0.115207   14.170507   \n",
       "13                                0.334448   16.220736   \n",
       "14                                0.442478   16.371681   \n",
       "15                                0.359712   15.107914   \n",
       "16                                0.126422   15.170670   \n",
       "\n",
       "    Top/politics/healthcarepolicy/quarntine_strengthening  \n",
       "1                                            0.000000      \n",
       "2                                            0.588235      \n",
       "3                                            3.960396      \n",
       "4                                            0.961538      \n",
       "5                                            3.660886      \n",
       "6                                            2.345416      \n",
       "7                                            2.436323      \n",
       "8                                            3.621170      \n",
       "9                                            3.154574      \n",
       "10                                           1.313629      \n",
       "11                                           1.677852      \n",
       "12                                           1.382488      \n",
       "13                                           0.668896      \n",
       "14                                           0.884956      \n",
       "15                                           0.719424      \n",
       "16                                           0.884956      \n",
       "\n",
       "[16 rows x 34 columns]>"
      ]
     },
     "execution_count": 13,
     "metadata": {},
     "output_type": "execute_result"
    }
   ],
   "source": [
    "res_without_dates = all_source_bars.drop([0], axis=0)\n",
    "res_without_dates.head"
   ]
  },
  {
   "cell_type": "code",
   "execution_count": 9,
   "metadata": {},
   "outputs": [
    {
     "ename": "ModuleNotFoundError",
     "evalue": "No module named 'chart_studio'",
     "output_type": "error",
     "traceback": [
      "\u001b[0;31m---------------------------------------------------------------------------\u001b[0m",
      "\u001b[0;31mModuleNotFoundError\u001b[0m                       Traceback (most recent call last)",
      "\u001b[0;32m<ipython-input-9-80dbd4e01062>\u001b[0m in \u001b[0;36m<module>\u001b[0;34m\u001b[0m\n\u001b[0;32m----> 1\u001b[0;31m \u001b[0;32mimport\u001b[0m \u001b[0mchart_studio\u001b[0m\u001b[0;34m.\u001b[0m\u001b[0mplotly\u001b[0m\u001b[0;34m.\u001b[0m\u001b[0mplotly\u001b[0m \u001b[0;32mas\u001b[0m \u001b[0mplotly\u001b[0m\u001b[0;34m\u001b[0m\u001b[0;34m\u001b[0m\u001b[0m\n\u001b[0m\u001b[1;32m      2\u001b[0m \u001b[0;32mfrom\u001b[0m \u001b[0mplotly\u001b[0m\u001b[0;34m.\u001b[0m\u001b[0mgraph_objs\u001b[0m \u001b[0;32mimport\u001b[0m \u001b[0;34m*\u001b[0m\u001b[0;34m\u001b[0m\u001b[0;34m\u001b[0m\u001b[0m\n\u001b[1;32m      3\u001b[0m \u001b[0;32mfrom\u001b[0m \u001b[0mchart_studio\u001b[0m\u001b[0;34m.\u001b[0m\u001b[0mplotly\u001b[0m \u001b[0;32mimport\u001b[0m \u001b[0miplot\u001b[0m\u001b[0;34m\u001b[0m\u001b[0;34m\u001b[0m\u001b[0m\n\u001b[1;32m      4\u001b[0m \u001b[0;32mimport\u001b[0m \u001b[0mcufflinks\u001b[0m \u001b[0;32mas\u001b[0m \u001b[0mcf\u001b[0m\u001b[0;34m\u001b[0m\u001b[0;34m\u001b[0m\u001b[0m\n\u001b[1;32m      5\u001b[0m \u001b[0mcf\u001b[0m\u001b[0;34m.\u001b[0m\u001b[0mset_config_file\u001b[0m\u001b[0;34m(\u001b[0m\u001b[0moffline\u001b[0m\u001b[0;34m=\u001b[0m\u001b[0;32mFalse\u001b[0m\u001b[0;34m,\u001b[0m \u001b[0mworld_readable\u001b[0m\u001b[0;34m=\u001b[0m\u001b[0;32mTrue\u001b[0m\u001b[0;34m)\u001b[0m\u001b[0;34m\u001b[0m\u001b[0;34m\u001b[0m\u001b[0m\n",
      "\u001b[0;31mModuleNotFoundError\u001b[0m: No module named 'chart_studio'"
     ]
    }
   ],
   "source": [
    "import chart_studio.plotly.plotly as plotly\n",
    "from plotly.graph_objs import *\n",
    "from chart_studio.plotly import iplot \n",
    "import cufflinks as cf\n",
    "cf.set_config_file(offline=False, world_readable=True)\n",
    "import plotly.express as px\n",
    "\n",
    "import plotly.io as pio\n",
    "pio.templates.default = \"plotly_dark\"\n",
    "\n",
    "plotly.sign_in('pavloboiko', 'az5LvJJAnnHGiWxie4Rq')\n",
    "\n",
    "ax = res_without_dates.iplot(kind='bar', histnorm='percent',\n",
    "    barmode='overlay', xTitle='period',\n",
    "                  yTitle='percent', title='Coronovirus')\n",
    "\n",
    "\n",
    "res_without_dates.iplot(kind='bar', histnorm='percent',\n",
    "    barmode='overlay', xTitle='period',\n",
    "                  yTitle='count', title='Coronovirus')\n",
    "\n"
   ]
  },
  {
   "cell_type": "code",
   "execution_count": null,
   "metadata": {},
   "outputs": [],
   "source": []
  },
  {
   "cell_type": "code",
   "execution_count": 15,
   "metadata": {
    "scrolled": true
   },
   "outputs": [
    {
     "data": {
      "text/html": [
       "        <script type=\"text/javascript\">\n",
       "        window.PlotlyConfig = {MathJaxConfig: 'local'};\n",
       "        if (window.MathJax) {MathJax.Hub.Config({SVG: {font: \"STIX-Web\"}});}\n",
       "        if (typeof require !== 'undefined') {\n",
       "        require.undef(\"plotly\");\n",
       "        requirejs.config({\n",
       "            paths: {\n",
       "                'plotly': ['https://cdn.plot.ly/plotly-latest.min']\n",
       "            }\n",
       "        });\n",
       "        require(['plotly'], function(Plotly) {\n",
       "            window._Plotly = Plotly;\n",
       "        });\n",
       "        }\n",
       "        </script>\n",
       "        "
      ]
     },
     "metadata": {},
     "output_type": "display_data"
    },
    {
     "data": {
      "application/vnd.plotly.v1+json": {
       "config": {
        "linkText": "Export to plot.ly",
        "plotlyServerURL": "https://plot.ly",
        "showLink": true
       },
       "data": [
        {
         "line": {
          "color": "rgba(255, 153, 51, 1.0)",
          "dash": "solid",
          "shape": "linear",
          "width": 1.3
         },
         "mode": "lines",
         "name": "Top/health/recover",
         "text": "",
         "type": "scatter",
         "x": [
          1,
          2,
          3,
          4,
          5,
          6,
          7,
          8,
          9,
          10,
          11,
          12,
          13,
          14,
          15,
          16
         ],
         "y": [
          0,
          0.5882352941176471,
          0.6600660066006601,
          1.9230769230769231,
          2.697495183044316,
          4.264392324093817,
          2.990033222591362,
          2.321262766945218,
          1.8927444794952681,
          2.7914614121510675,
          2.1812080536912752,
          2.5345622119815667,
          3.3444816053511706,
          1.9174041297935103,
          3.0575539568345325,
          3.4134007585335016
         ]
        },
        {
         "line": {
          "color": "rgba(55, 128, 191, 1.0)",
          "dash": "solid",
          "shape": "linear",
          "width": 1.3
         },
         "mode": "lines",
         "name": "Top/society/death",
         "text": "",
         "type": "scatter",
         "x": [
          1,
          2,
          3,
          4,
          5,
          6,
          7,
          8,
          9,
          10,
          11,
          12,
          13,
          14,
          15,
          16
         ],
         "y": [
          3.6363636363636362,
          1.1764705882352942,
          0.6600660066006601,
          2.8846153846153846,
          3.0828516377649327,
          2.345415778251599,
          3.10077519379845,
          2.5998142989786444,
          2.5236593059936907,
          4.105090311986864,
          3.691275167785235,
          2.1889400921658986,
          2.6755852842809364,
          1.7699115044247788,
          3.597122302158273,
          2.402022756005057
         ]
        }
       ],
       "layout": {
        "legend": {
         "bgcolor": "#F5F6F9",
         "font": {
          "color": "#4D5663"
         }
        },
        "paper_bgcolor": "#F5F6F9",
        "plot_bgcolor": "#F5F6F9",
        "template": {
         "data": {
          "bar": [
           {
            "error_x": {
             "color": "#f2f5fa"
            },
            "error_y": {
             "color": "#f2f5fa"
            },
            "marker": {
             "line": {
              "color": "rgb(17,17,17)",
              "width": 0.5
             }
            },
            "type": "bar"
           }
          ],
          "barpolar": [
           {
            "marker": {
             "line": {
              "color": "rgb(17,17,17)",
              "width": 0.5
             }
            },
            "type": "barpolar"
           }
          ],
          "carpet": [
           {
            "aaxis": {
             "endlinecolor": "#A2B1C6",
             "gridcolor": "#506784",
             "linecolor": "#506784",
             "minorgridcolor": "#506784",
             "startlinecolor": "#A2B1C6"
            },
            "baxis": {
             "endlinecolor": "#A2B1C6",
             "gridcolor": "#506784",
             "linecolor": "#506784",
             "minorgridcolor": "#506784",
             "startlinecolor": "#A2B1C6"
            },
            "type": "carpet"
           }
          ],
          "choropleth": [
           {
            "colorbar": {
             "outlinewidth": 0,
             "ticks": ""
            },
            "type": "choropleth"
           }
          ],
          "contour": [
           {
            "colorbar": {
             "outlinewidth": 0,
             "ticks": ""
            },
            "colorscale": [
             [
              0,
              "#0d0887"
             ],
             [
              0.1111111111111111,
              "#46039f"
             ],
             [
              0.2222222222222222,
              "#7201a8"
             ],
             [
              0.3333333333333333,
              "#9c179e"
             ],
             [
              0.4444444444444444,
              "#bd3786"
             ],
             [
              0.5555555555555556,
              "#d8576b"
             ],
             [
              0.6666666666666666,
              "#ed7953"
             ],
             [
              0.7777777777777778,
              "#fb9f3a"
             ],
             [
              0.8888888888888888,
              "#fdca26"
             ],
             [
              1,
              "#f0f921"
             ]
            ],
            "type": "contour"
           }
          ],
          "contourcarpet": [
           {
            "colorbar": {
             "outlinewidth": 0,
             "ticks": ""
            },
            "type": "contourcarpet"
           }
          ],
          "heatmap": [
           {
            "colorbar": {
             "outlinewidth": 0,
             "ticks": ""
            },
            "colorscale": [
             [
              0,
              "#0d0887"
             ],
             [
              0.1111111111111111,
              "#46039f"
             ],
             [
              0.2222222222222222,
              "#7201a8"
             ],
             [
              0.3333333333333333,
              "#9c179e"
             ],
             [
              0.4444444444444444,
              "#bd3786"
             ],
             [
              0.5555555555555556,
              "#d8576b"
             ],
             [
              0.6666666666666666,
              "#ed7953"
             ],
             [
              0.7777777777777778,
              "#fb9f3a"
             ],
             [
              0.8888888888888888,
              "#fdca26"
             ],
             [
              1,
              "#f0f921"
             ]
            ],
            "type": "heatmap"
           }
          ],
          "heatmapgl": [
           {
            "colorbar": {
             "outlinewidth": 0,
             "ticks": ""
            },
            "colorscale": [
             [
              0,
              "#0d0887"
             ],
             [
              0.1111111111111111,
              "#46039f"
             ],
             [
              0.2222222222222222,
              "#7201a8"
             ],
             [
              0.3333333333333333,
              "#9c179e"
             ],
             [
              0.4444444444444444,
              "#bd3786"
             ],
             [
              0.5555555555555556,
              "#d8576b"
             ],
             [
              0.6666666666666666,
              "#ed7953"
             ],
             [
              0.7777777777777778,
              "#fb9f3a"
             ],
             [
              0.8888888888888888,
              "#fdca26"
             ],
             [
              1,
              "#f0f921"
             ]
            ],
            "type": "heatmapgl"
           }
          ],
          "histogram": [
           {
            "marker": {
             "colorbar": {
              "outlinewidth": 0,
              "ticks": ""
             }
            },
            "type": "histogram"
           }
          ],
          "histogram2d": [
           {
            "colorbar": {
             "outlinewidth": 0,
             "ticks": ""
            },
            "colorscale": [
             [
              0,
              "#0d0887"
             ],
             [
              0.1111111111111111,
              "#46039f"
             ],
             [
              0.2222222222222222,
              "#7201a8"
             ],
             [
              0.3333333333333333,
              "#9c179e"
             ],
             [
              0.4444444444444444,
              "#bd3786"
             ],
             [
              0.5555555555555556,
              "#d8576b"
             ],
             [
              0.6666666666666666,
              "#ed7953"
             ],
             [
              0.7777777777777778,
              "#fb9f3a"
             ],
             [
              0.8888888888888888,
              "#fdca26"
             ],
             [
              1,
              "#f0f921"
             ]
            ],
            "type": "histogram2d"
           }
          ],
          "histogram2dcontour": [
           {
            "colorbar": {
             "outlinewidth": 0,
             "ticks": ""
            },
            "colorscale": [
             [
              0,
              "#0d0887"
             ],
             [
              0.1111111111111111,
              "#46039f"
             ],
             [
              0.2222222222222222,
              "#7201a8"
             ],
             [
              0.3333333333333333,
              "#9c179e"
             ],
             [
              0.4444444444444444,
              "#bd3786"
             ],
             [
              0.5555555555555556,
              "#d8576b"
             ],
             [
              0.6666666666666666,
              "#ed7953"
             ],
             [
              0.7777777777777778,
              "#fb9f3a"
             ],
             [
              0.8888888888888888,
              "#fdca26"
             ],
             [
              1,
              "#f0f921"
             ]
            ],
            "type": "histogram2dcontour"
           }
          ],
          "mesh3d": [
           {
            "colorbar": {
             "outlinewidth": 0,
             "ticks": ""
            },
            "type": "mesh3d"
           }
          ],
          "parcoords": [
           {
            "line": {
             "colorbar": {
              "outlinewidth": 0,
              "ticks": ""
             }
            },
            "type": "parcoords"
           }
          ],
          "pie": [
           {
            "automargin": true,
            "type": "pie"
           }
          ],
          "scatter": [
           {
            "marker": {
             "line": {
              "color": "#283442"
             }
            },
            "type": "scatter"
           }
          ],
          "scatter3d": [
           {
            "line": {
             "colorbar": {
              "outlinewidth": 0,
              "ticks": ""
             }
            },
            "marker": {
             "colorbar": {
              "outlinewidth": 0,
              "ticks": ""
             }
            },
            "type": "scatter3d"
           }
          ],
          "scattercarpet": [
           {
            "marker": {
             "colorbar": {
              "outlinewidth": 0,
              "ticks": ""
             }
            },
            "type": "scattercarpet"
           }
          ],
          "scattergeo": [
           {
            "marker": {
             "colorbar": {
              "outlinewidth": 0,
              "ticks": ""
             }
            },
            "type": "scattergeo"
           }
          ],
          "scattergl": [
           {
            "marker": {
             "line": {
              "color": "#283442"
             }
            },
            "type": "scattergl"
           }
          ],
          "scattermapbox": [
           {
            "marker": {
             "colorbar": {
              "outlinewidth": 0,
              "ticks": ""
             }
            },
            "type": "scattermapbox"
           }
          ],
          "scatterpolar": [
           {
            "marker": {
             "colorbar": {
              "outlinewidth": 0,
              "ticks": ""
             }
            },
            "type": "scatterpolar"
           }
          ],
          "scatterpolargl": [
           {
            "marker": {
             "colorbar": {
              "outlinewidth": 0,
              "ticks": ""
             }
            },
            "type": "scatterpolargl"
           }
          ],
          "scatterternary": [
           {
            "marker": {
             "colorbar": {
              "outlinewidth": 0,
              "ticks": ""
             }
            },
            "type": "scatterternary"
           }
          ],
          "surface": [
           {
            "colorbar": {
             "outlinewidth": 0,
             "ticks": ""
            },
            "colorscale": [
             [
              0,
              "#0d0887"
             ],
             [
              0.1111111111111111,
              "#46039f"
             ],
             [
              0.2222222222222222,
              "#7201a8"
             ],
             [
              0.3333333333333333,
              "#9c179e"
             ],
             [
              0.4444444444444444,
              "#bd3786"
             ],
             [
              0.5555555555555556,
              "#d8576b"
             ],
             [
              0.6666666666666666,
              "#ed7953"
             ],
             [
              0.7777777777777778,
              "#fb9f3a"
             ],
             [
              0.8888888888888888,
              "#fdca26"
             ],
             [
              1,
              "#f0f921"
             ]
            ],
            "type": "surface"
           }
          ],
          "table": [
           {
            "cells": {
             "fill": {
              "color": "#506784"
             },
             "line": {
              "color": "rgb(17,17,17)"
             }
            },
            "header": {
             "fill": {
              "color": "#2a3f5f"
             },
             "line": {
              "color": "rgb(17,17,17)"
             }
            },
            "type": "table"
           }
          ]
         },
         "layout": {
          "annotationdefaults": {
           "arrowcolor": "#f2f5fa",
           "arrowhead": 0,
           "arrowwidth": 1
          },
          "coloraxis": {
           "colorbar": {
            "outlinewidth": 0,
            "ticks": ""
           }
          },
          "colorscale": {
           "diverging": [
            [
             0,
             "#8e0152"
            ],
            [
             0.1,
             "#c51b7d"
            ],
            [
             0.2,
             "#de77ae"
            ],
            [
             0.3,
             "#f1b6da"
            ],
            [
             0.4,
             "#fde0ef"
            ],
            [
             0.5,
             "#f7f7f7"
            ],
            [
             0.6,
             "#e6f5d0"
            ],
            [
             0.7,
             "#b8e186"
            ],
            [
             0.8,
             "#7fbc41"
            ],
            [
             0.9,
             "#4d9221"
            ],
            [
             1,
             "#276419"
            ]
           ],
           "sequential": [
            [
             0,
             "#0d0887"
            ],
            [
             0.1111111111111111,
             "#46039f"
            ],
            [
             0.2222222222222222,
             "#7201a8"
            ],
            [
             0.3333333333333333,
             "#9c179e"
            ],
            [
             0.4444444444444444,
             "#bd3786"
            ],
            [
             0.5555555555555556,
             "#d8576b"
            ],
            [
             0.6666666666666666,
             "#ed7953"
            ],
            [
             0.7777777777777778,
             "#fb9f3a"
            ],
            [
             0.8888888888888888,
             "#fdca26"
            ],
            [
             1,
             "#f0f921"
            ]
           ],
           "sequentialminus": [
            [
             0,
             "#0d0887"
            ],
            [
             0.1111111111111111,
             "#46039f"
            ],
            [
             0.2222222222222222,
             "#7201a8"
            ],
            [
             0.3333333333333333,
             "#9c179e"
            ],
            [
             0.4444444444444444,
             "#bd3786"
            ],
            [
             0.5555555555555556,
             "#d8576b"
            ],
            [
             0.6666666666666666,
             "#ed7953"
            ],
            [
             0.7777777777777778,
             "#fb9f3a"
            ],
            [
             0.8888888888888888,
             "#fdca26"
            ],
            [
             1,
             "#f0f921"
            ]
           ]
          },
          "colorway": [
           "#636efa",
           "#EF553B",
           "#00cc96",
           "#ab63fa",
           "#FFA15A",
           "#19d3f3",
           "#FF6692",
           "#B6E880",
           "#FF97FF",
           "#FECB52"
          ],
          "font": {
           "color": "#f2f5fa"
          },
          "geo": {
           "bgcolor": "rgb(17,17,17)",
           "lakecolor": "rgb(17,17,17)",
           "landcolor": "rgb(17,17,17)",
           "showlakes": true,
           "showland": true,
           "subunitcolor": "#506784"
          },
          "hoverlabel": {
           "align": "left"
          },
          "hovermode": "closest",
          "mapbox": {
           "style": "dark"
          },
          "paper_bgcolor": "rgb(17,17,17)",
          "plot_bgcolor": "rgb(17,17,17)",
          "polar": {
           "angularaxis": {
            "gridcolor": "#506784",
            "linecolor": "#506784",
            "ticks": ""
           },
           "bgcolor": "rgb(17,17,17)",
           "radialaxis": {
            "gridcolor": "#506784",
            "linecolor": "#506784",
            "ticks": ""
           }
          },
          "scene": {
           "xaxis": {
            "backgroundcolor": "rgb(17,17,17)",
            "gridcolor": "#506784",
            "gridwidth": 2,
            "linecolor": "#506784",
            "showbackground": true,
            "ticks": "",
            "zerolinecolor": "#C8D4E3"
           },
           "yaxis": {
            "backgroundcolor": "rgb(17,17,17)",
            "gridcolor": "#506784",
            "gridwidth": 2,
            "linecolor": "#506784",
            "showbackground": true,
            "ticks": "",
            "zerolinecolor": "#C8D4E3"
           },
           "zaxis": {
            "backgroundcolor": "rgb(17,17,17)",
            "gridcolor": "#506784",
            "gridwidth": 2,
            "linecolor": "#506784",
            "showbackground": true,
            "ticks": "",
            "zerolinecolor": "#C8D4E3"
           }
          },
          "shapedefaults": {
           "line": {
            "color": "#f2f5fa"
           }
          },
          "sliderdefaults": {
           "bgcolor": "#C8D4E3",
           "bordercolor": "rgb(17,17,17)",
           "borderwidth": 1,
           "tickwidth": 0
          },
          "ternary": {
           "aaxis": {
            "gridcolor": "#506784",
            "linecolor": "#506784",
            "ticks": ""
           },
           "baxis": {
            "gridcolor": "#506784",
            "linecolor": "#506784",
            "ticks": ""
           },
           "bgcolor": "rgb(17,17,17)",
           "caxis": {
            "gridcolor": "#506784",
            "linecolor": "#506784",
            "ticks": ""
           }
          },
          "title": {
           "x": 0.05
          },
          "updatemenudefaults": {
           "bgcolor": "#506784",
           "borderwidth": 0
          },
          "xaxis": {
           "automargin": true,
           "gridcolor": "#283442",
           "linecolor": "#506784",
           "ticks": "",
           "title": {
            "standoff": 15
           },
           "zerolinecolor": "#283442",
           "zerolinewidth": 2
          },
          "yaxis": {
           "automargin": true,
           "gridcolor": "#283442",
           "linecolor": "#506784",
           "ticks": "",
           "title": {
            "standoff": 15
           },
           "zerolinecolor": "#283442",
           "zerolinewidth": 2
          }
         }
        },
        "title": {
         "font": {
          "color": "#4D5663"
         },
         "text": "Top/health/recover and Top/health/death"
        },
        "xaxis": {
         "gridcolor": "#E1E5ED",
         "showgrid": true,
         "tickfont": {
          "color": "#4D5663"
         },
         "title": {
          "font": {
           "color": "#4D5663"
          },
          "text": "percent"
         },
         "zerolinecolor": "#E1E5ED"
        },
        "yaxis": {
         "gridcolor": "#E1E5ED",
         "showgrid": true,
         "tickfont": {
          "color": "#4D5663"
         },
         "title": {
          "font": {
           "color": "#4D5663"
          },
          "text": "count"
         },
         "zerolinecolor": "#E1E5ED"
        }
       }
      },
      "text/html": [
       "<div>\n",
       "        \n",
       "        \n",
       "            <div id=\"1b92735b-ba01-4ceb-ab27-361c8b8d899e\" class=\"plotly-graph-div\" style=\"height:525px; width:100%;\"></div>\n",
       "            <script type=\"text/javascript\">\n",
       "                require([\"plotly\"], function(Plotly) {\n",
       "                    window.PLOTLYENV=window.PLOTLYENV || {};\n",
       "                    window.PLOTLYENV.BASE_URL='https://plot.ly';\n",
       "                    \n",
       "                if (document.getElementById(\"1b92735b-ba01-4ceb-ab27-361c8b8d899e\")) {\n",
       "                    Plotly.newPlot(\n",
       "                        '1b92735b-ba01-4ceb-ab27-361c8b8d899e',\n",
       "                        [{\"line\": {\"color\": \"rgba(255, 153, 51, 1.0)\", \"dash\": \"solid\", \"shape\": \"linear\", \"width\": 1.3}, \"mode\": \"lines\", \"name\": \"Top/health/recover\", \"text\": \"\", \"type\": \"scatter\", \"x\": [1, 2, 3, 4, 5, 6, 7, 8, 9, 10, 11, 12, 13, 14, 15, 16], \"y\": [0.0, 0.5882352941176471, 0.6600660066006601, 1.9230769230769231, 2.697495183044316, 4.264392324093817, 2.990033222591362, 2.321262766945218, 1.8927444794952681, 2.7914614121510675, 2.1812080536912752, 2.5345622119815667, 3.3444816053511706, 1.9174041297935103, 3.0575539568345325, 3.4134007585335016]}, {\"line\": {\"color\": \"rgba(55, 128, 191, 1.0)\", \"dash\": \"solid\", \"shape\": \"linear\", \"width\": 1.3}, \"mode\": \"lines\", \"name\": \"Top/society/death\", \"text\": \"\", \"type\": \"scatter\", \"x\": [1, 2, 3, 4, 5, 6, 7, 8, 9, 10, 11, 12, 13, 14, 15, 16], \"y\": [3.6363636363636362, 1.1764705882352942, 0.6600660066006601, 2.8846153846153846, 3.0828516377649327, 2.345415778251599, 3.10077519379845, 2.5998142989786444, 2.5236593059936907, 4.105090311986864, 3.691275167785235, 2.1889400921658986, 2.6755852842809364, 1.7699115044247788, 3.597122302158273, 2.402022756005057]}],\n",
       "                        {\"legend\": {\"bgcolor\": \"#F5F6F9\", \"font\": {\"color\": \"#4D5663\"}}, \"paper_bgcolor\": \"#F5F6F9\", \"plot_bgcolor\": \"#F5F6F9\", \"template\": {\"data\": {\"bar\": [{\"error_x\": {\"color\": \"#f2f5fa\"}, \"error_y\": {\"color\": \"#f2f5fa\"}, \"marker\": {\"line\": {\"color\": \"rgb(17,17,17)\", \"width\": 0.5}}, \"type\": \"bar\"}], \"barpolar\": [{\"marker\": {\"line\": {\"color\": \"rgb(17,17,17)\", \"width\": 0.5}}, \"type\": \"barpolar\"}], \"carpet\": [{\"aaxis\": {\"endlinecolor\": \"#A2B1C6\", \"gridcolor\": \"#506784\", \"linecolor\": \"#506784\", \"minorgridcolor\": \"#506784\", \"startlinecolor\": \"#A2B1C6\"}, \"baxis\": {\"endlinecolor\": \"#A2B1C6\", \"gridcolor\": \"#506784\", \"linecolor\": \"#506784\", \"minorgridcolor\": \"#506784\", \"startlinecolor\": \"#A2B1C6\"}, \"type\": \"carpet\"}], \"choropleth\": [{\"colorbar\": {\"outlinewidth\": 0, \"ticks\": \"\"}, \"type\": \"choropleth\"}], \"contour\": [{\"colorbar\": {\"outlinewidth\": 0, \"ticks\": \"\"}, \"colorscale\": [[0.0, \"#0d0887\"], [0.1111111111111111, \"#46039f\"], [0.2222222222222222, \"#7201a8\"], [0.3333333333333333, \"#9c179e\"], [0.4444444444444444, \"#bd3786\"], [0.5555555555555556, \"#d8576b\"], [0.6666666666666666, \"#ed7953\"], [0.7777777777777778, \"#fb9f3a\"], [0.8888888888888888, \"#fdca26\"], [1.0, \"#f0f921\"]], \"type\": \"contour\"}], \"contourcarpet\": [{\"colorbar\": {\"outlinewidth\": 0, \"ticks\": \"\"}, \"type\": \"contourcarpet\"}], \"heatmap\": [{\"colorbar\": {\"outlinewidth\": 0, \"ticks\": \"\"}, \"colorscale\": [[0.0, \"#0d0887\"], [0.1111111111111111, \"#46039f\"], [0.2222222222222222, \"#7201a8\"], [0.3333333333333333, \"#9c179e\"], [0.4444444444444444, \"#bd3786\"], [0.5555555555555556, \"#d8576b\"], [0.6666666666666666, \"#ed7953\"], [0.7777777777777778, \"#fb9f3a\"], [0.8888888888888888, \"#fdca26\"], [1.0, \"#f0f921\"]], \"type\": \"heatmap\"}], \"heatmapgl\": [{\"colorbar\": {\"outlinewidth\": 0, \"ticks\": \"\"}, \"colorscale\": [[0.0, \"#0d0887\"], [0.1111111111111111, \"#46039f\"], [0.2222222222222222, \"#7201a8\"], [0.3333333333333333, \"#9c179e\"], [0.4444444444444444, \"#bd3786\"], [0.5555555555555556, \"#d8576b\"], [0.6666666666666666, \"#ed7953\"], [0.7777777777777778, \"#fb9f3a\"], [0.8888888888888888, \"#fdca26\"], [1.0, \"#f0f921\"]], \"type\": \"heatmapgl\"}], \"histogram\": [{\"marker\": {\"colorbar\": {\"outlinewidth\": 0, \"ticks\": \"\"}}, \"type\": \"histogram\"}], \"histogram2d\": [{\"colorbar\": {\"outlinewidth\": 0, \"ticks\": \"\"}, \"colorscale\": [[0.0, \"#0d0887\"], [0.1111111111111111, \"#46039f\"], [0.2222222222222222, \"#7201a8\"], [0.3333333333333333, \"#9c179e\"], [0.4444444444444444, \"#bd3786\"], [0.5555555555555556, \"#d8576b\"], [0.6666666666666666, \"#ed7953\"], [0.7777777777777778, \"#fb9f3a\"], [0.8888888888888888, \"#fdca26\"], [1.0, \"#f0f921\"]], \"type\": \"histogram2d\"}], \"histogram2dcontour\": [{\"colorbar\": {\"outlinewidth\": 0, \"ticks\": \"\"}, \"colorscale\": [[0.0, \"#0d0887\"], [0.1111111111111111, \"#46039f\"], [0.2222222222222222, \"#7201a8\"], [0.3333333333333333, \"#9c179e\"], [0.4444444444444444, \"#bd3786\"], [0.5555555555555556, \"#d8576b\"], [0.6666666666666666, \"#ed7953\"], [0.7777777777777778, \"#fb9f3a\"], [0.8888888888888888, \"#fdca26\"], [1.0, \"#f0f921\"]], \"type\": \"histogram2dcontour\"}], \"mesh3d\": [{\"colorbar\": {\"outlinewidth\": 0, \"ticks\": \"\"}, \"type\": \"mesh3d\"}], \"parcoords\": [{\"line\": {\"colorbar\": {\"outlinewidth\": 0, \"ticks\": \"\"}}, \"type\": \"parcoords\"}], \"pie\": [{\"automargin\": true, \"type\": \"pie\"}], \"scatter\": [{\"marker\": {\"line\": {\"color\": \"#283442\"}}, \"type\": \"scatter\"}], \"scatter3d\": [{\"line\": {\"colorbar\": {\"outlinewidth\": 0, \"ticks\": \"\"}}, \"marker\": {\"colorbar\": {\"outlinewidth\": 0, \"ticks\": \"\"}}, \"type\": \"scatter3d\"}], \"scattercarpet\": [{\"marker\": {\"colorbar\": {\"outlinewidth\": 0, \"ticks\": \"\"}}, \"type\": \"scattercarpet\"}], \"scattergeo\": [{\"marker\": {\"colorbar\": {\"outlinewidth\": 0, \"ticks\": \"\"}}, \"type\": \"scattergeo\"}], \"scattergl\": [{\"marker\": {\"line\": {\"color\": \"#283442\"}}, \"type\": \"scattergl\"}], \"scattermapbox\": [{\"marker\": {\"colorbar\": {\"outlinewidth\": 0, \"ticks\": \"\"}}, \"type\": \"scattermapbox\"}], \"scatterpolar\": [{\"marker\": {\"colorbar\": {\"outlinewidth\": 0, \"ticks\": \"\"}}, \"type\": \"scatterpolar\"}], \"scatterpolargl\": [{\"marker\": {\"colorbar\": {\"outlinewidth\": 0, \"ticks\": \"\"}}, \"type\": \"scatterpolargl\"}], \"scatterternary\": [{\"marker\": {\"colorbar\": {\"outlinewidth\": 0, \"ticks\": \"\"}}, \"type\": \"scatterternary\"}], \"surface\": [{\"colorbar\": {\"outlinewidth\": 0, \"ticks\": \"\"}, \"colorscale\": [[0.0, \"#0d0887\"], [0.1111111111111111, \"#46039f\"], [0.2222222222222222, \"#7201a8\"], [0.3333333333333333, \"#9c179e\"], [0.4444444444444444, \"#bd3786\"], [0.5555555555555556, \"#d8576b\"], [0.6666666666666666, \"#ed7953\"], [0.7777777777777778, \"#fb9f3a\"], [0.8888888888888888, \"#fdca26\"], [1.0, \"#f0f921\"]], \"type\": \"surface\"}], \"table\": [{\"cells\": {\"fill\": {\"color\": \"#506784\"}, \"line\": {\"color\": \"rgb(17,17,17)\"}}, \"header\": {\"fill\": {\"color\": \"#2a3f5f\"}, \"line\": {\"color\": \"rgb(17,17,17)\"}}, \"type\": \"table\"}]}, \"layout\": {\"annotationdefaults\": {\"arrowcolor\": \"#f2f5fa\", \"arrowhead\": 0, \"arrowwidth\": 1}, \"coloraxis\": {\"colorbar\": {\"outlinewidth\": 0, \"ticks\": \"\"}}, \"colorscale\": {\"diverging\": [[0, \"#8e0152\"], [0.1, \"#c51b7d\"], [0.2, \"#de77ae\"], [0.3, \"#f1b6da\"], [0.4, \"#fde0ef\"], [0.5, \"#f7f7f7\"], [0.6, \"#e6f5d0\"], [0.7, \"#b8e186\"], [0.8, \"#7fbc41\"], [0.9, \"#4d9221\"], [1, \"#276419\"]], \"sequential\": [[0.0, \"#0d0887\"], [0.1111111111111111, \"#46039f\"], [0.2222222222222222, \"#7201a8\"], [0.3333333333333333, \"#9c179e\"], [0.4444444444444444, \"#bd3786\"], [0.5555555555555556, \"#d8576b\"], [0.6666666666666666, \"#ed7953\"], [0.7777777777777778, \"#fb9f3a\"], [0.8888888888888888, \"#fdca26\"], [1.0, \"#f0f921\"]], \"sequentialminus\": [[0.0, \"#0d0887\"], [0.1111111111111111, \"#46039f\"], [0.2222222222222222, \"#7201a8\"], [0.3333333333333333, \"#9c179e\"], [0.4444444444444444, \"#bd3786\"], [0.5555555555555556, \"#d8576b\"], [0.6666666666666666, \"#ed7953\"], [0.7777777777777778, \"#fb9f3a\"], [0.8888888888888888, \"#fdca26\"], [1.0, \"#f0f921\"]]}, \"colorway\": [\"#636efa\", \"#EF553B\", \"#00cc96\", \"#ab63fa\", \"#FFA15A\", \"#19d3f3\", \"#FF6692\", \"#B6E880\", \"#FF97FF\", \"#FECB52\"], \"font\": {\"color\": \"#f2f5fa\"}, \"geo\": {\"bgcolor\": \"rgb(17,17,17)\", \"lakecolor\": \"rgb(17,17,17)\", \"landcolor\": \"rgb(17,17,17)\", \"showlakes\": true, \"showland\": true, \"subunitcolor\": \"#506784\"}, \"hoverlabel\": {\"align\": \"left\"}, \"hovermode\": \"closest\", \"mapbox\": {\"style\": \"dark\"}, \"paper_bgcolor\": \"rgb(17,17,17)\", \"plot_bgcolor\": \"rgb(17,17,17)\", \"polar\": {\"angularaxis\": {\"gridcolor\": \"#506784\", \"linecolor\": \"#506784\", \"ticks\": \"\"}, \"bgcolor\": \"rgb(17,17,17)\", \"radialaxis\": {\"gridcolor\": \"#506784\", \"linecolor\": \"#506784\", \"ticks\": \"\"}}, \"scene\": {\"xaxis\": {\"backgroundcolor\": \"rgb(17,17,17)\", \"gridcolor\": \"#506784\", \"gridwidth\": 2, \"linecolor\": \"#506784\", \"showbackground\": true, \"ticks\": \"\", \"zerolinecolor\": \"#C8D4E3\"}, \"yaxis\": {\"backgroundcolor\": \"rgb(17,17,17)\", \"gridcolor\": \"#506784\", \"gridwidth\": 2, \"linecolor\": \"#506784\", \"showbackground\": true, \"ticks\": \"\", \"zerolinecolor\": \"#C8D4E3\"}, \"zaxis\": {\"backgroundcolor\": \"rgb(17,17,17)\", \"gridcolor\": \"#506784\", \"gridwidth\": 2, \"linecolor\": \"#506784\", \"showbackground\": true, \"ticks\": \"\", \"zerolinecolor\": \"#C8D4E3\"}}, \"shapedefaults\": {\"line\": {\"color\": \"#f2f5fa\"}}, \"sliderdefaults\": {\"bgcolor\": \"#C8D4E3\", \"bordercolor\": \"rgb(17,17,17)\", \"borderwidth\": 1, \"tickwidth\": 0}, \"ternary\": {\"aaxis\": {\"gridcolor\": \"#506784\", \"linecolor\": \"#506784\", \"ticks\": \"\"}, \"baxis\": {\"gridcolor\": \"#506784\", \"linecolor\": \"#506784\", \"ticks\": \"\"}, \"bgcolor\": \"rgb(17,17,17)\", \"caxis\": {\"gridcolor\": \"#506784\", \"linecolor\": \"#506784\", \"ticks\": \"\"}}, \"title\": {\"x\": 0.05}, \"updatemenudefaults\": {\"bgcolor\": \"#506784\", \"borderwidth\": 0}, \"xaxis\": {\"automargin\": true, \"gridcolor\": \"#283442\", \"linecolor\": \"#506784\", \"ticks\": \"\", \"title\": {\"standoff\": 15}, \"zerolinecolor\": \"#283442\", \"zerolinewidth\": 2}, \"yaxis\": {\"automargin\": true, \"gridcolor\": \"#283442\", \"linecolor\": \"#506784\", \"ticks\": \"\", \"title\": {\"standoff\": 15}, \"zerolinecolor\": \"#283442\", \"zerolinewidth\": 2}}}, \"title\": {\"font\": {\"color\": \"#4D5663\"}, \"text\": \"Top/health/recover and Top/health/death\"}, \"xaxis\": {\"gridcolor\": \"#E1E5ED\", \"showgrid\": true, \"tickfont\": {\"color\": \"#4D5663\"}, \"title\": {\"font\": {\"color\": \"#4D5663\"}, \"text\": \"percent\"}, \"zerolinecolor\": \"#E1E5ED\"}, \"yaxis\": {\"gridcolor\": \"#E1E5ED\", \"showgrid\": true, \"tickfont\": {\"color\": \"#4D5663\"}, \"title\": {\"font\": {\"color\": \"#4D5663\"}, \"text\": \"count\"}, \"zerolinecolor\": \"#E1E5ED\"}},\n",
       "                        {\"showLink\": true, \"linkText\": \"Export to plot.ly\", \"plotlyServerURL\": \"https://plot.ly\", \"responsive\": true}\n",
       "                    ).then(function(){\n",
       "                            \n",
       "var gd = document.getElementById('1b92735b-ba01-4ceb-ab27-361c8b8d899e');\n",
       "var x = new MutationObserver(function (mutations, observer) {{\n",
       "        var display = window.getComputedStyle(gd).display;\n",
       "        if (!display || display === 'none') {{\n",
       "            console.log([gd, 'removed!']);\n",
       "            Plotly.purge(gd);\n",
       "            observer.disconnect();\n",
       "        }}\n",
       "}});\n",
       "\n",
       "// Listen for the removal of the full notebook cells\n",
       "var notebookContainer = gd.closest('#notebook-container');\n",
       "if (notebookContainer) {{\n",
       "    x.observe(notebookContainer, {childList: true});\n",
       "}}\n",
       "\n",
       "// Listen for the clearing of the current output cell\n",
       "var outputEl = gd.closest('.output');\n",
       "if (outputEl) {{\n",
       "    x.observe(outputEl, {childList: true});\n",
       "}}\n",
       "\n",
       "                        })\n",
       "                };\n",
       "                });\n",
       "            </script>\n",
       "        </div>"
      ]
     },
     "metadata": {},
     "output_type": "display_data"
    }
   ],
   "source": [
    "cf.set_config_file(offline=True, world_readable=False)\n",
    "res_without_dates[['Top/health/recover', 'Top/society/death']].iplot(kind='line', histnorm='percent', xTitle='percent',yTitle='count', title='Top/health/recover and Top/health/death')"
   ]
  },
  {
   "cell_type": "code",
   "execution_count": 16,
   "metadata": {},
   "outputs": [
    {
     "data": {
      "image/png": "[encoded data removed]",
      "text/plain": [
       "<Figure size 360x360 with 6 Axes>"
      ]
     },
     "metadata": {
      "needs_background": "light"
     },
     "output_type": "display_data"
    }
   ],
   "source": [
    "\n",
    "import seaborn as sns\n",
    "sns_plot = sns.pairplot(res_without_dates[['Top/health/recover', 'Top/society/death']])\n",
    "sns_plot.savefig('pairplot.png')"
   ]
  },
  {
   "cell_type": "code",
   "execution_count": null,
   "metadata": {},
   "outputs": [],
   "source": []
  }
 ],
 "metadata": {
  "kernelspec": {
   "display_name": "Python 3",
   "language": "python",
   "name": "python3"
  },
  "language_info": {
   "codemirror_mode": {
    "name": "ipython",
    "version": 3
   },
   "file_extension": ".py",
   "mimetype": "text/x-python",
   "name": "python",
   "nbconvert_exporter": "python",
   "pygments_lexer": "ipython3",
   "version": "3.7.4"
  }
 },
 "nbformat": 4,
 "nbformat_minor": 2
}
