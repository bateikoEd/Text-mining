{
 "cells": [
  {
   "cell_type": "code",
   "execution_count": 1,
   "metadata": {},
   "outputs": [],
   "source": [
    "import pandas as pd\n",
    "import re "
   ]
  },
  {
   "cell_type": "code",
   "execution_count": 2,
   "metadata": {},
   "outputs": [],
   "source": [
    "file_name_bbc = 'BBC_reading/exсel_files/bbc_scraping.xlsx'\n",
    "file_name_nz = 'BBC_reading/exсel_files/zn_ua_scraping.xlsx'\n",
    "file_name_csv = '../sas/report/report_final.csv'\n",
    "\n",
    "csv_final_report = pd.read_csv(file_name_csv)\n",
    "excel_bbc_texts = pd.read_excel(file_name_bbc, index_col=0)\n",
    "excel_nz_texts = pd.read_excel(file_name_nz, index_col=0)"
   ]
  },
  {
   "cell_type": "code",
   "execution_count": 3,
   "metadata": {},
   "outputs": [],
   "source": [
    "new_csv = pd.DataFrame(zip(csv_final_report.file_code, csv_final_report.category_name, csv_final_report.date))"
   ]
  },
  {
   "cell_type": "code",
   "execution_count": 8,
   "metadata": {},
   "outputs": [
    {
     "data": {
      "text/plain": [
       "<bound method NDFrame.head of      file_code  pass  is_fail_doc  \\\n",
       "0        bbc_0     1            0   \n",
       "1        bbc_0     1            0   \n",
       "2        bbc_0     1            0   \n",
       "3        bbc_0     1            0   \n",
       "4        bbc_0     1            0   \n",
       "...        ...   ...          ...   \n",
       "8343    zn_874     1            0   \n",
       "8344    zn_874     1            0   \n",
       "8345    zn_874     1            0   \n",
       "8346    zn_874     1            0   \n",
       "8347    zn_874     1            0   \n",
       "\n",
       "                                          category_name  relevancy  \\\n",
       "0                         Top/politics/healthcarepolicy        1.0   \n",
       "1     Top/politics/healthcarepolicy/quarntine_streng...        1.0   \n",
       "2                                            Top/events        1.0   \n",
       "3                          Top/events/onlinetransformed        1.0   \n",
       "4                              Top/economy/coronacrisis        1.0   \n",
       "...                                                 ...        ...   \n",
       "8343          Top/politics/healthcarepolicy/safetysteps        1.0   \n",
       "8344         Top/politics/healthcarepolicy/entertaiment        1.0   \n",
       "8345                                 Top/health/recover        1.0   \n",
       "8346                                         Top/health        1.0   \n",
       "8347                                 Top/health/illness        1.0   \n",
       "\n",
       "      above_rel_cutoff                  date  \n",
       "0                    1  04May2014 11:24:33.0  \n",
       "1                    1  04May2014 11:24:33.0  \n",
       "2                    1  04May2014 11:24:33.0  \n",
       "3                    1  04May2014 11:24:33.0  \n",
       "4                    1  04May2014 11:24:33.0  \n",
       "...                ...                   ...  \n",
       "8343                 1  04May2014 11:24:33.0  \n",
       "8344                 1  04May2014 11:24:33.0  \n",
       "8345                 1  04May2014 11:24:33.0  \n",
       "8346                 1  04May2014 11:24:33.0  \n",
       "8347                 1  04May2014 11:24:33.0  \n",
       "\n",
       "[8348 rows x 7 columns]>"
      ]
     },
     "execution_count": 8,
     "metadata": {},
     "output_type": "execute_result"
    }
   ],
   "source": [
    "csv_final_report.head"
   ]
  },
  {
   "cell_type": "code",
   "execution_count": 9,
   "metadata": {},
   "outputs": [
    {
     "data": {
      "text/plain": [
       "<bound method NDFrame.head of            Date            Author  Main_Topics  \\\n",
       "0    22/03/2020               NaN     Здоров'я   \n",
       "1    22/03/2020               NaN     Здоров'я   \n",
       "2    22/03/2020               NaN     Здоров'я   \n",
       "3    22/03/2020   Ольга Паламарюк     Здоров'я   \n",
       "4    22/03/2020    BBC Моніторинг     Здоров'я   \n",
       "..          ...               ...          ...   \n",
       "817   8/05/2020               NaN  Коронавірус   \n",
       "818   8/05/2020  Анастасія Зануда    Економіка   \n",
       "819   6/05/2020               NaN  Суспільство   \n",
       "820   6/05/2020               NaN  Суспільство   \n",
       "821   8/05/2020               NaN     Політика   \n",
       "\n",
       "                                                 Topic  \\\n",
       "0    Надія є: п'ять причин порадіти під час пандемі...   \n",
       "1           Маски: щоб захистити інших, а не вас - МОЗ   \n",
       "2       Коронавірус: як у світі запроваджують карантин   \n",
       "3    \"Коли тобі кажуть: у тебе - коронавірус\". Розп...   \n",
       "4        Ібупрофен і Covid-19: міфи та правда про ліки   \n",
       "..                                                 ...   \n",
       "817  11 травня в Україні послаблюють карантин. Що д...   \n",
       "818         Чому МВФ хоче звузити співпрацю з Україною   \n",
       "819                                        Суспільство   \n",
       "820  5-річний хлопчик сів за кермо і помчав купуват...   \n",
       "821  Саакашвілі - це інструмент стабілізації: Украї...   \n",
       "\n",
       "                                                  Text  \n",
       "0    Копирайт изображения\\nAFP\\nImage caption\\nПо в...  \n",
       "1    Копирайт изображения\\nUNIAN\\nЗахисні маски не ...  \n",
       "2    Копирайт изображения\\nGETTY IMAGES\\nПандемія к...  \n",
       "3    Копирайт изображения\\nUNIAN\\nОлександр з Черні...  \n",
       "4    Копирайт изображения\\nGETTY IMAGES\\nОстаннім ч...  \n",
       "..                                                 ...  \n",
       "817  Копирайт изображения\\nGETTY IMAGES\\nХоча каран...  \n",
       "818  Копирайт изображения\\nПРЕССЛУЖБА ПРЕЗИДЕНТА\\nI...  \n",
       "819                                                NaN  \n",
       "820  Копирайт изображения\\nCOURTESY UTAH HIGHWAY PA...  \n",
       "821  Копирайт изображения\\nGETTY IMAGES\\nМЗС Україн...  \n",
       "\n",
       "[822 rows x 5 columns]>"
      ]
     },
     "execution_count": 9,
     "metadata": {},
     "output_type": "execute_result"
    }
   ],
   "source": [
    "excel_bbc_texts.head"
   ]
  },
  {
   "cell_type": "code",
   "execution_count": 10,
   "metadata": {},
   "outputs": [
    {
     "data": {
      "text/plain": [
       "<bound method NDFrame.head of             Date  Author Main_Topics  \\\n",
       "0     05/04/2020     NaN    Політика   \n",
       "1     05/04/2020     NaN    Політика   \n",
       "2     05/04/2020     NaN    Політика   \n",
       "3     05/04/2020     NaN    Політика   \n",
       "4     05/04/2020     NaN    Політика   \n",
       "...          ...     ...         ...   \n",
       "2666   8/05/2020     NaN     Україна   \n",
       "2667   8/05/2020     NaN     Україна   \n",
       "2668   8/05/2020     NaN     Україна   \n",
       "2669   8/05/2020     NaN     Україна   \n",
       "2670   8/05/2020     NaN     Україна   \n",
       "\n",
       "                                                  Topic  \\\n",
       "0     Постпред України в ООН розповів, як Росія пере...   \n",
       "1     З початку року в Донбасі 12 осіб загинули від ...   \n",
       "2     Людина Ахметова стала позаштатним радником пре...   \n",
       "3          НАБУ завершило розслідування справи Гримчака   \n",
       "4                           НАБУ допитало Дениса Єрмака   \n",
       "...                                                 ...   \n",
       "2666  Ми розглядаємо можливість впровадження адаптив...   \n",
       "2667  Кличко розповів, які послаблення карантину в К...   \n",
       "2668  Вперше за час пандемії у Києві за добу три лет...   \n",
       "2669  СБУ про лабораторії США в Україні: \"Це фейки, ...   \n",
       "2670  Двох активістів побили за публічну підтримку С...   \n",
       "\n",
       "                                                   Text  \n",
       "0     Москва розробляє багаторівневі та багатокроков...  \n",
       "1     В ОБСЄ закликали негайно провести розмінування...  \n",
       "2     Топ-чиновник корпорації ДТЕК став радником пре...  \n",
       "3     Матеріали кримінального провадження відкриті д...  \n",
       "4     Детективи записали зразки голосу брата керівни...  \n",
       "...                                                 ...  \n",
       "2666  Існує ймовірність відновлення роботи дитячих с...  \n",
       "2667  Великі ТРЦ у столиці залишаться закритими.\\n\\n...  \n",
       "2668  За минулу добу одужали 17 киян.\\n\\nЗа останні ...  \n",
       "2669  У спецслужбі зазначили, що такі повідомлення м...  \n",
       "2670  За словами Масі Найєма, до побиття причетний л...  \n",
       "\n",
       "[2671 rows x 5 columns]>"
      ]
     },
     "execution_count": 10,
     "metadata": {},
     "output_type": "execute_result"
    }
   ],
   "source": [
    "excel_nz_texts.head"
   ]
  },
  {
   "cell_type": "code",
   "execution_count": null,
   "metadata": {},
   "outputs": [],
   "source": []
  },
  {
   "cell_type": "code",
   "execution_count": 5,
   "metadata": {},
   "outputs": [],
   "source": [
    "for index in range(len(csv_final_report)):\n",
    "    source_name = (re.findall('zn|bbc',new_csv.loc[index][0]))[0]\n",
    "    count_in_table = re.findall('_\\d{0,10}', new_csv.loc[index][0])\n",
    "    count_in_table = int(count_in_table[0].replace('_', ''))\n",
    "    \n",
    "    if source_name == 'bbc':\n",
    "        new_csv.loc[index][2] = excel_bbc_texts.loc[count_in_table]['Date']\n",
    "    elif source_name == 'zn':\n",
    "        new_csv.loc[index][2] = excel_nz_texts.loc[count_in_table]['Date']\n",
    "    "
   ]
  },
  {
   "cell_type": "code",
   "execution_count": 15,
   "metadata": {},
   "outputs": [
    {
     "data": {
      "text/plain": [
       "{'Top/coronavirus',\n",
       " 'Top/economy',\n",
       " 'Top/economy/coronabusiness',\n",
       " 'Top/economy/coronacrisis',\n",
       " 'Top/economy/coronaimport',\n",
       " 'Top/economy/coronajobloss',\n",
       " 'Top/economy/crisis',\n",
       " 'Top/events',\n",
       " 'Top/events/coronacanceledevents',\n",
       " 'Top/events/onlinetransformed',\n",
       " 'Top/health',\n",
       " 'Top/health/dissemination',\n",
       " 'Top/health/illness',\n",
       " 'Top/health/recover',\n",
       " 'Top/politics',\n",
       " 'Top/politics/criminal',\n",
       " 'Top/politics/healthcarepolicy',\n",
       " 'Top/politics/healthcarepolicy/education',\n",
       " 'Top/politics/healthcarepolicy/entertaiment',\n",
       " 'Top/politics/healthcarepolicy/quarntine_strengthening',\n",
       " 'Top/politics/healthcarepolicy/safetysteps',\n",
       " 'Top/politics/healthcarepolicy/transport',\n",
       " 'Top/science',\n",
       " 'Top/science/developingnewdrugs',\n",
       " 'Top/science/developingvaccine',\n",
       " 'Top/science/existeddrugs',\n",
       " 'Top/society',\n",
       " 'Top/society/death',\n",
       " 'Top/society/familytroubles',\n",
       " 'Top/society/potentialdeath',\n",
       " 'Top/society/potentialdeathhisteria',\n",
       " 'Top/society/producthisteria',\n",
       " 'Top/technologies',\n",
       " 'Top/technologies/developingofequipment'}"
      ]
     },
     "execution_count": 15,
     "metadata": {},
     "output_type": "execute_result"
    }
   ],
   "source": [
    "set_of_topics = set(new_csv[1])\n",
    "set_of_topics"
   ]
  },
  {
   "cell_type": "code",
   "execution_count": null,
   "metadata": {},
   "outputs": [],
   "source": []
  },
  {
   "cell_type": "code",
   "execution_count": null,
   "metadata": {},
   "outputs": [],
   "source": []
  },
  {
   "cell_type": "code",
   "execution_count": 64,
   "metadata": {},
   "outputs": [
    {
     "data": {
      "text/plain": [
       "'bbc'"
      ]
     },
     "execution_count": 64,
     "metadata": {},
     "output_type": "execute_result"
    }
   ],
   "source": [
    "source_name"
   ]
  },
  {
   "cell_type": "code",
   "execution_count": 66,
   "metadata": {},
   "outputs": [
    {
     "data": {
      "text/plain": [
       "'22/03/2020'"
      ]
     },
     "execution_count": 66,
     "metadata": {},
     "output_type": "execute_result"
    }
   ],
   "source": [
    "excel_bbc_texts.loc[0]['Date']"
   ]
  },
  {
   "cell_type": "code",
   "execution_count": null,
   "metadata": {},
   "outputs": [],
   "source": []
  },
  {
   "cell_type": "code",
   "execution_count": 72,
   "metadata": {},
   "outputs": [
    {
     "data": {
      "text/plain": [
       "'22/03/2020'"
      ]
     },
     "execution_count": 72,
     "metadata": {},
     "output_type": "execute_result"
    }
   ],
   "source": [
    "new_csv.loc[0][2]"
   ]
  },
  {
   "cell_type": "code",
   "execution_count": null,
   "metadata": {},
   "outputs": [],
   "source": []
  },
  {
   "cell_type": "code",
   "execution_count": 71,
   "metadata": {},
   "outputs": [],
   "source": [
    "if source_name == 'bbc':\n",
    "    new_csv.loc[0][2] = excel_bbc_texts.loc[count_in_table]['Date']\n",
    "elif source_name == 'zn':\n",
    "    new_csv.loc[0][2] = excel_nz_texts.loc[count_in_table]['Date']"
   ]
  },
  {
   "cell_type": "code",
   "execution_count": null,
   "metadata": {},
   "outputs": [],
   "source": []
  }
 ],
 "metadata": {
  "kernelspec": {
   "display_name": "Python 3",
   "language": "python",
   "name": "python3"
  },
  "language_info": {
   "codemirror_mode": {
    "name": "ipython",
    "version": 3
   },
   "file_extension": ".py",
   "mimetype": "text/x-python",
   "name": "python",
   "nbconvert_exporter": "python",
   "pygments_lexer": "ipython3",
   "version": "3.7.4"
  }
 },
 "nbformat": 4,
 "nbformat_minor": 2
}
