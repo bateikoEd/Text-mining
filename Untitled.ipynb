{
 "cells": [
  {
   "cell_type": "code",
   "execution_count": 36,
   "metadata": {},
   "outputs": [],
   "source": [
    "import pandas as pd\n",
    "import numpy as np\n",
    "import re\n",
    "from datetime import datetime"
   ]
  },
  {
   "cell_type": "code",
   "execution_count": 2,
   "metadata": {},
   "outputs": [],
   "source": [
    "file_name_bbc = 'BBC_reading/exсel_files/bbc_scraping.xlsx'\n",
    "file_name_nz = 'BBC_reading/exсel_files/zn_ua_scraping.xlsx'"
   ]
  },
  {
   "cell_type": "code",
   "execution_count": 4,
   "metadata": {},
   "outputs": [],
   "source": [
    "excel_bbc_texts = pd.read_excel(file_name_bbc, index_col=0)\n",
    "excel_nz_texts = pd.read_excel(file_name_nz, index_col=0)"
   ]
  },
  {
   "cell_type": "code",
   "execution_count": 32,
   "metadata": {},
   "outputs": [],
   "source": [
    "excel_bbc_texts['Date'] = pd.to_datetime(excel_bbc_texts['Date'],format='%d/%m/%Y', dayfirst=True)\n",
    "excel_nz_texts['Date'] = pd.to_datetime(excel_nz_texts['Date'],format='%d/%m/%Y', dayfirst=True)"
   ]
  },
  {
   "cell_type": "code",
   "execution_count": 7,
   "metadata": {},
   "outputs": [],
   "source": [
    "topics = list(set(excel_bbc_texts['Main_Topics']))"
   ]
  },
  {
   "cell_type": "code",
   "execution_count": 11,
   "metadata": {},
   "outputs": [],
   "source": [
    "name_class = topics[0]"
   ]
  },
  {
   "cell_type": "code",
   "execution_count": 13,
   "metadata": {},
   "outputs": [],
   "source": [
    "days_period = 3 \n",
    "start_period = '03/03/2020' \n",
    "end_period = '12/05/2020'"
   ]
  },
  {
   "cell_type": "code",
   "execution_count": 33,
   "metadata": {},
   "outputs": [
    {
     "data": {
      "text/html": [
       "<div>\n",
       "<style scoped>\n",
       "    .dataframe tbody tr th:only-of-type {\n",
       "        vertical-align: middle;\n",
       "    }\n",
       "\n",
       "    .dataframe tbody tr th {\n",
       "        vertical-align: top;\n",
       "    }\n",
       "\n",
       "    .dataframe thead th {\n",
       "        text-align: right;\n",
       "    }\n",
       "</style>\n",
       "<table border=\"1\" class=\"dataframe\">\n",
       "  <thead>\n",
       "    <tr style=\"text-align: right;\">\n",
       "      <th></th>\n",
       "      <th>Date</th>\n",
       "      <th>Author</th>\n",
       "      <th>Main_Topics</th>\n",
       "      <th>Topic</th>\n",
       "      <th>Text</th>\n",
       "    </tr>\n",
       "  </thead>\n",
       "  <tbody>\n",
       "    <tr>\n",
       "      <td>99</td>\n",
       "      <td>2020-03-16</td>\n",
       "      <td>NaN</td>\n",
       "      <td>Технології</td>\n",
       "      <td>Закритий кордон: як повернутися в Україну? Вип...</td>\n",
       "      <td>У випуску 16 березня:\\nУкраїна закриває кордон...</td>\n",
       "    </tr>\n",
       "    <tr>\n",
       "      <td>100</td>\n",
       "      <td>2020-03-06</td>\n",
       "      <td>NaN</td>\n",
       "      <td>Технології</td>\n",
       "      <td>Понад мільярд пристроїв Android під загрозою з...</td>\n",
       "      <td>Копирайт изображения\\nGETTY IMAGES\\nПонад міль...</td>\n",
       "    </tr>\n",
       "    <tr>\n",
       "      <td>101</td>\n",
       "      <td>2020-03-03</td>\n",
       "      <td>NaN</td>\n",
       "      <td>Технології</td>\n",
       "      <td>Apple погодилася заплатити $500 млн за сповіль...</td>\n",
       "      <td>Копирайт изображения\\nUNSPLASH\\nКомпанія Apple...</td>\n",
       "    </tr>\n",
       "    <tr>\n",
       "      <td>204</td>\n",
       "      <td>2020-03-29</td>\n",
       "      <td>Адріенне Мюррей</td>\n",
       "      <td>Технології</td>\n",
       "      <td>Коронавірус: як роботи допомагають боротися з ...</td>\n",
       "      <td>Копирайт изображения\\nADRIENNE MURRAY\\nImage c...</td>\n",
       "    </tr>\n",
       "    <tr>\n",
       "      <td>205</td>\n",
       "      <td>2020-03-26</td>\n",
       "      <td>NaN</td>\n",
       "      <td>Технології</td>\n",
       "      <td>Уряд Британії замовив апарати штучної вентиляц...</td>\n",
       "      <td>Копирайт изображения\\nGETTY IMAGES\\nБританськи...</td>\n",
       "    </tr>\n",
       "    <tr>\n",
       "      <td>359</td>\n",
       "      <td>2020-04-06</td>\n",
       "      <td>NaN</td>\n",
       "      <td>Технології</td>\n",
       "      <td>Коронавірус: у Британії підпалюють 5G-вежі моб...</td>\n",
       "      <td>Копирайт изображения\\nGETTY IMAGES\\nУ Великій ...</td>\n",
       "    </tr>\n",
       "    <tr>\n",
       "      <td>458</td>\n",
       "      <td>2020-04-12</td>\n",
       "      <td>Артем Лисенко, Дніпро</td>\n",
       "      <td>Технології</td>\n",
       "      <td>Як вмирає \"Південмаш\": без Росії не допоміг ні...</td>\n",
       "      <td>Копирайт изображения\\nHTTPS://YUZHMASH.COM\\nIm...</td>\n",
       "    </tr>\n",
       "    <tr>\n",
       "      <td>494</td>\n",
       "      <td>2020-04-15</td>\n",
       "      <td>NaN</td>\n",
       "      <td>Технології</td>\n",
       "      <td>Apple представила новий бюджетний iPhone SE</td>\n",
       "      <td>Копирайт изображения\\nAPPLE\\nApple представила...</td>\n",
       "    </tr>\n",
       "    <tr>\n",
       "      <td>597</td>\n",
       "      <td>2020-04-23</td>\n",
       "      <td>NaN</td>\n",
       "      <td>Технології</td>\n",
       "      <td>Мільйони айфонів під загрозою зламу через враз...</td>\n",
       "      <td>Копирайт изображения\\nUNSPLASH\\nЧерез вразливі...</td>\n",
       "    </tr>\n",
       "    <tr>\n",
       "      <td>862</td>\n",
       "      <td>2020-05-11</td>\n",
       "      <td>NaN</td>\n",
       "      <td>Технології</td>\n",
       "      <td>TikTok. Як він підкорює світ і з чого все почи...</td>\n",
       "      <td>Створити ще одну популярну соцмережу. У світі,...</td>\n",
       "    </tr>\n",
       "  </tbody>\n",
       "</table>\n",
       "</div>"
      ],
      "text/plain": [
       "          Date                 Author Main_Topics  \\\n",
       "99  2020-03-16                    NaN  Технології   \n",
       "100 2020-03-06                    NaN  Технології   \n",
       "101 2020-03-03                    NaN  Технології   \n",
       "204 2020-03-29        Адріенне Мюррей  Технології   \n",
       "205 2020-03-26                    NaN  Технології   \n",
       "359 2020-04-06                    NaN  Технології   \n",
       "458 2020-04-12  Артем Лисенко, Дніпро  Технології   \n",
       "494 2020-04-15                    NaN  Технології   \n",
       "597 2020-04-23                    NaN  Технології   \n",
       "862 2020-05-11                    NaN  Технології   \n",
       "\n",
       "                                                 Topic  \\\n",
       "99   Закритий кордон: як повернутися в Україну? Вип...   \n",
       "100  Понад мільярд пристроїв Android під загрозою з...   \n",
       "101  Apple погодилася заплатити $500 млн за сповіль...   \n",
       "204  Коронавірус: як роботи допомагають боротися з ...   \n",
       "205  Уряд Британії замовив апарати штучної вентиляц...   \n",
       "359  Коронавірус: у Британії підпалюють 5G-вежі моб...   \n",
       "458  Як вмирає \"Південмаш\": без Росії не допоміг ні...   \n",
       "494        Apple представила новий бюджетний iPhone SE   \n",
       "597  Мільйони айфонів під загрозою зламу через враз...   \n",
       "862  TikTok. Як він підкорює світ і з чого все почи...   \n",
       "\n",
       "                                                  Text  \n",
       "99   У випуску 16 березня:\\nУкраїна закриває кордон...  \n",
       "100  Копирайт изображения\\nGETTY IMAGES\\nПонад міль...  \n",
       "101  Копирайт изображения\\nUNSPLASH\\nКомпанія Apple...  \n",
       "204  Копирайт изображения\\nADRIENNE MURRAY\\nImage c...  \n",
       "205  Копирайт изображения\\nGETTY IMAGES\\nБританськи...  \n",
       "359  Копирайт изображения\\nGETTY IMAGES\\nУ Великій ...  \n",
       "458  Копирайт изображения\\nHTTPS://YUZHMASH.COM\\nIm...  \n",
       "494  Копирайт изображения\\nAPPLE\\nApple представила...  \n",
       "597  Копирайт изображения\\nUNSPLASH\\nЧерез вразливі...  \n",
       "862  Створити ще одну популярну соцмережу. У світі,...  "
      ]
     },
     "execution_count": 33,
     "metadata": {},
     "output_type": "execute_result"
    }
   ],
   "source": [
    "excel_bbc_texts[(excel_bbc_texts['Main_Topics'] == name_class) & (start_period <= excel_bbc_texts['Date']) & (excel_bbc_texts['Date'] <= end_period)]"
   ]
  },
  {
   "cell_type": "code",
   "execution_count": 39,
   "metadata": {},
   "outputs": [],
   "source": [
    "def create_result_table(topics, days_period, first_day, last_day):\n",
    "    \n",
    "    all_source_for_bars = pd.DataFrame(columns=topics)\n",
    "    \n",
    "    last_day = pd.to_datetime(last_day,format='%d/%m/%Y')\n",
    "    start_period = pd.to_datetime(first_day,format='%d/%m/%Y')\n",
    "    period_time = pd.Timedelta(days=days_period)\n",
    "    bool_parametr = True\n",
    "    \n",
    "    while bool_parametr:\n",
    "        end_period = start_period + period_time\n",
    "        \n",
    "        if end_period >= last_day:\n",
    "            bool_parametr = False\n",
    "            end_period = last_day\n",
    "            break\n",
    "        \n",
    "        counts_dateFrame_1 = pd.DataFrame(columns=topics)\n",
    "        counts_dateFrame_2 = pd.DataFrame(columns=topics)\n",
    "        \n",
    "        counts_list = np.array([])\n",
    "        for index,name_class in enumerate(topics):\n",
    "            if name_class == 'start_period':\n",
    "                counts_list = np.append(counts_list, start_period)\n",
    "                counts_list = np.append(counts_list, end_period)\n",
    "                break\n",
    "\n",
    "            counts_dateFrame_1 = excel_bbc_texts[(excel_bbc_texts['Main_Topics'] == name_class) & (start_period <= excel_bbc_texts['Date']) & (excel_bbc_texts['Date'] <= end_period)]\n",
    "            counts_dateFrame_2 = excel_nz_texts[(excel_nz_texts['Main_Topics'] == name_class) & (start_period <= excel_nz_texts['Date']) & (excel_nz_texts['Date'] <= end_period)]\n",
    "            \n",
    "            # print(counts_dateFrame.head)\n",
    "            count = len(counts_dateFrame_1) + len(counts_dateFrame_2)\n",
    "\n",
    "            # print(f\"count\\t{count}\\nindex\\t{index}\")\n",
    "            counts_list = np.append(counts_list, count)\n",
    "\n",
    "        temp_count_table = pd.DataFrame([counts_list],columns=topics) \n",
    "        all_source_for_bars = all_source_for_bars.append(temp_count_table, ignore_index=True)\n",
    "        \n",
    "        start_period = end_period + pd.Timedelta(days=1)\n",
    "    \n",
    "    return all_source_for_bars"
   ]
  },
  {
   "cell_type": "code",
   "execution_count": 40,
   "metadata": {},
   "outputs": [],
   "source": [
    "days_period = 3 \n",
    "first_day = '03/03/2020' \n",
    "last_day = '12/05/2020'\n",
    "all_source_bars = create_result_table(topics, days_period, first_day, last_day)"
   ]
  },
  {
   "cell_type": "code",
   "execution_count": 42,
   "metadata": {},
   "outputs": [
    {
     "data": {
      "text/plain": [
       "<bound method NDFrame.head of     Технології  Економіка  Україна  Суспільство  Здоров'я  Наука  Коронавірус  \\\n",
       "0          2.0        0.0      0.0          0.0       0.0    0.0          0.0   \n",
       "1          0.0        5.0      0.0          0.0       0.0    3.0          0.0   \n",
       "2          0.0        2.0      0.0          0.0       0.0    1.0          0.0   \n",
       "3          1.0       21.0      0.0          4.0       0.0    5.0          0.0   \n",
       "4          0.0       42.0     10.0          7.0      20.0    0.0          0.0   \n",
       "5          1.0       78.0     39.0          8.0      10.0    2.0          0.0   \n",
       "6          1.0       48.0     21.0         11.0       5.0    3.0         11.0   \n",
       "7         11.0       76.0      0.0          9.0       8.0    2.0         37.0   \n",
       "8         28.0       41.0     42.0         13.0       7.0    0.0         23.0   \n",
       "9         40.0       55.0     71.0          3.0       2.0    0.0         48.0   \n",
       "10        28.0       42.0     39.0          6.0       2.0    1.0         45.0   \n",
       "11        14.0       30.0     85.0          2.0       0.0    1.0         33.0   \n",
       "12        23.0       70.0    100.0          4.0       0.0    2.0         41.0   \n",
       "13        23.0       37.0     94.0          2.0       0.0    1.0         28.0   \n",
       "14        26.0       56.0    106.0          2.0       1.0    0.0         23.0   \n",
       "15        13.0       35.0     72.0          3.0       2.0    0.0         32.0   \n",
       "16        21.0       57.0     94.0          4.0       3.0    3.0         30.0   \n",
       "\n",
       "    Політика  Спорт  \n",
       "0        0.0    0.0  \n",
       "1       12.0    0.0  \n",
       "2       53.0    3.0  \n",
       "3       48.0    1.0  \n",
       "4        8.0    0.0  \n",
       "5        0.0    1.0  \n",
       "6        2.0   34.0  \n",
       "7        6.0  126.0  \n",
       "8      172.0   95.0  \n",
       "9       49.0   40.0  \n",
       "10      35.0   31.0  \n",
       "11      26.0   31.0  \n",
       "12      50.0   32.0  \n",
       "13      57.0   32.0  \n",
       "14      55.0   31.0  \n",
       "15      46.0   32.0  \n",
       "16      65.0   32.0  >"
      ]
     },
     "execution_count": 42,
     "metadata": {},
     "output_type": "execute_result"
    }
   ],
   "source": [
    "all_source_bars.head"
   ]
  },
  {
   "cell_type": "code",
   "execution_count": 43,
   "metadata": {},
   "outputs": [],
   "source": [
    "arr = np.array([1,2,3,4])"
   ]
  },
  {
   "cell_type": "code",
   "execution_count": 44,
   "metadata": {},
   "outputs": [
    {
     "data": {
      "text/plain": [
       "10"
      ]
     },
     "execution_count": 44,
     "metadata": {},
     "output_type": "execute_result"
    }
   ],
   "source": [
    "np.sum(arr)"
   ]
  },
  {
   "cell_type": "code",
   "execution_count": null,
   "metadata": {},
   "outputs": [],
   "source": []
  }
 ],
 "metadata": {
  "kernelspec": {
   "display_name": "Python 3",
   "language": "python",
   "name": "python3"
  },
  "language_info": {
   "codemirror_mode": {
    "name": "ipython",
    "version": 3
   },
   "file_extension": ".py",
   "mimetype": "text/x-python",
   "name": "python",
   "nbconvert_exporter": "python",
   "pygments_lexer": "ipython3",
   "version": "3.7.4"
  }
 },
 "nbformat": 4,
 "nbformat_minor": 2
}
