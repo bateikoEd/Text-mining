{
 "cells": [
  {
   "cell_type": "code",
   "execution_count": 1,
   "metadata": {},
   "outputs": [
    {
     "data": {
      "text/html": [
       "        <script type=\"text/javascript\">\n",
       "        window.PlotlyConfig = {MathJaxConfig: 'local'};\n",
       "        if (window.MathJax) {MathJax.Hub.Config({SVG: {font: \"STIX-Web\"}});}\n",
       "        if (typeof require !== 'undefined') {\n",
       "        require.undef(\"plotly\");\n",
       "        requirejs.config({\n",
       "            paths: {\n",
       "                'plotly': ['https://cdn.plot.ly/plotly-latest.min']\n",
       "            }\n",
       "        });\n",
       "        require(['plotly'], function(Plotly) {\n",
       "            window._Plotly = Plotly;\n",
       "        });\n",
       "        }\n",
       "        </script>\n",
       "        "
      ]
     },
     "metadata": {},
     "output_type": "display_data"
    }
   ],
   "source": [
    "import pandas as pd\n",
    "import numpy as np\n",
    "import re\n",
    "import plotly\n",
    "import plotly.io as pio\n",
    "import cufflinks as cf\n",
    "png_renderer = pio.renderers[\"png\"]\n"
   ]
  },
  {
   "cell_type": "code",
   "execution_count": 2,
   "metadata": {},
   "outputs": [],
   "source": [
    "file_name_bbc = '../BBC_reading/exсel_files/bbc_scraping.xlsx'\n",
    "file_name_nz = '../BBC_reading/exсel_files/zn_ua_scraping.xlsx'\n",
    "file_name_csv = '../report/report2.csv'\n",
    "\n",
    "csv_final_report = pd.read_csv(file_name_csv)\n",
    "excel_bbc_texts = pd.read_excel(file_name_bbc, index_col=0)\n",
    "excel_nz_texts = pd.read_excel(file_name_nz, index_col=0)"
   ]
  },
  {
   "cell_type": "code",
   "execution_count": 3,
   "metadata": {},
   "outputs": [
    {
     "data": {
      "text/plain": [
       "<bound method NDFrame.head of      file_code  pass  is_fail_doc  \\\n",
       "0        bbc_0     1            0   \n",
       "1        bbc_0     1            0   \n",
       "2        bbc_0     1            0   \n",
       "3        bbc_0     1            0   \n",
       "4        bbc_0     1            0   \n",
       "...        ...   ...          ...   \n",
       "9706    zn_842     1            0   \n",
       "9707    zn_842     1            0   \n",
       "9708    zn_843     1            0   \n",
       "9709    zn_843     1            0   \n",
       "9710    zn_843     1            0   \n",
       "\n",
       "                                          category_name  relevancy  \\\n",
       "0                         Top/politics/healthcarepolicy        1.0   \n",
       "1     Top/politics/healthcarepolicy/quarntine_streng...        1.0   \n",
       "2                                            Top/events        1.0   \n",
       "3                          Top/events/onlinetransformed        1.0   \n",
       "4                              Top/economy/coronacrisis        1.0   \n",
       "...                                                 ...        ...   \n",
       "9706                                       Top/politics        1.0   \n",
       "9707  Top/politics/healthcarepolicy/quarntine_streng...        1.0   \n",
       "9708                                 Top/health/recover        1.0   \n",
       "9709                           Top/health/dissemination        1.0   \n",
       "9710                                   Top/technologies        1.0   \n",
       "\n",
       "      above_rel_cutoff                  date  \n",
       "0                    1  11May2014 11:15:36.0  \n",
       "1                    1  11May2014 11:15:36.0  \n",
       "2                    1  11May2014 11:15:36.0  \n",
       "3                    1  11May2014 11:15:36.0  \n",
       "4                    1  11May2014 11:15:36.0  \n",
       "...                ...                   ...  \n",
       "9706                 1  11May2014 11:15:37.0  \n",
       "9707                 1  11May2014 11:15:37.0  \n",
       "9708                 1  11May2014 11:15:37.0  \n",
       "9709                 1  11May2014 11:15:37.0  \n",
       "9710                 1  11May2014 11:15:37.0  \n",
       "\n",
       "[9711 rows x 7 columns]>"
      ]
     },
     "execution_count": 3,
     "metadata": {},
     "output_type": "execute_result"
    }
   ],
   "source": [
    "csv_final_report.head"
   ]
  },
  {
   "cell_type": "code",
   "execution_count": 4,
   "metadata": {},
   "outputs": [
    {
     "data": {
      "text/plain": [
       "<bound method NDFrame.head of            Date                       Author  Main_Topics  \\\n",
       "0    22/03/2020                          NaN     Здоров'я   \n",
       "1    22/03/2020                          NaN     Здоров'я   \n",
       "2    22/03/2020                          NaN     Здоров'я   \n",
       "3    22/03/2020              Ольга Паламарюк     Здоров'я   \n",
       "4    22/03/2020               BBC Моніторинг     Здоров'я   \n",
       "..          ...                          ...          ...   \n",
       "866  12/05/2020  Говард Мусто і Сем Проффітт  Коронавірус   \n",
       "867  13/05/2020                          NaN  Коронавірус   \n",
       "868  13/05/2020                          NaN  Коронавірус   \n",
       "869  13/05/2020                          NaN  Коронавірус   \n",
       "870  13/05/2020                          NaN  Коронавірус   \n",
       "\n",
       "                                                 Topic  \\\n",
       "0    Надія є: п'ять причин порадіти під час пандемі...   \n",
       "1           Маски: щоб захистити інших, а не вас - МОЗ   \n",
       "2       Коронавірус: як у світі запроваджують карантин   \n",
       "3    \"Коли тобі кажуть: у тебе - коронавірус\". Розп...   \n",
       "4        Ібупрофен і Covid-19: міфи та правда про ліки   \n",
       "..                                                 ...   \n",
       "866  Застрягли в морі через коронавірус: як моряків...   \n",
       "867  Як подолала коронавірус найстаріша жителька Іс...   \n",
       "868           Коронавірус в Україні. Інтерактивна мапа   \n",
       "869                                        Коронавірус   \n",
       "870  Twitter дозволив співробітникам працювати з до...   \n",
       "\n",
       "                                                  Text  \n",
       "0    Копирайт изображения\\nAFP\\nImage caption\\nПо в...  \n",
       "1    Копирайт изображения\\nUNIAN\\nЗахисні маски не ...  \n",
       "2    Копирайт изображения\\nGETTY IMAGES\\nПандемія к...  \n",
       "3    Копирайт изображения\\nUNIAN\\nОлександр з Черні...  \n",
       "4    Копирайт изображения\\nGETTY IMAGES\\nОстаннім ч...  \n",
       "..                                                 ...  \n",
       "866  Копирайт изображения\\nGETTY IMAGES\\nЧерез панд...  \n",
       "867  Копирайт изображения\\nGETTY IMAGES\\nImage capt...  \n",
       "868  В якій області найбільше інфікованих коронавір...  \n",
       "869                                                NaN  \n",
       "870  Копирайт изображения\\nGETTY IMAGES\\nКомпанія T...  \n",
       "\n",
       "[871 rows x 5 columns]>"
      ]
     },
     "execution_count": 4,
     "metadata": {},
     "output_type": "execute_result"
    }
   ],
   "source": [
    "excel_bbc_texts.head"
   ]
  },
  {
   "cell_type": "code",
   "execution_count": 5,
   "metadata": {},
   "outputs": [
    {
     "data": {
      "text/plain": [
       "<bound method NDFrame.head of             Date  Author Main_Topics  \\\n",
       "0     05/04/2020     NaN    Політика   \n",
       "1     05/04/2020     NaN    Політика   \n",
       "2     05/04/2020     NaN    Політика   \n",
       "3     05/04/2020     NaN    Політика   \n",
       "4     05/04/2020     NaN    Політика   \n",
       "...          ...     ...         ...   \n",
       "3026  14/05/2020     NaN     Україна   \n",
       "3027  14/05/2020     NaN     Україна   \n",
       "3028  14/05/2020     NaN     Україна   \n",
       "3029  14/05/2020     NaN     Україна   \n",
       "3030  14/05/2020     NaN     Україна   \n",
       "\n",
       "                                                  Topic  \\\n",
       "0     Постпред України в ООН розповів, як Росія пере...   \n",
       "1     З початку року в Донбасі 12 осіб загинули від ...   \n",
       "2     Людина Ахметова стала позаштатним радником пре...   \n",
       "3          НАБУ завершило розслідування справи Гримчака   \n",
       "4                           НАБУ допитало Дениса Єрмака   \n",
       "...                                                 ...   \n",
       "3026  На Закарпатті обрушився кінотеатр: з-під завал...   \n",
       "3027  COVID-19 додали до переліку профзахворювань ук...   \n",
       "3028  Стерненка викликали до СБУ: активіст очікує ог...   \n",
       "3029  Зеркаль стала відповідальною за організацію ро...   \n",
       "3030  Венедіктова повернула в Офіс генпрокурора прак...   \n",
       "\n",
       "                                                   Text  \n",
       "0     Москва розробляє багаторівневі та багатокроков...  \n",
       "1     В ОБСЄ закликали негайно провести розмінування...  \n",
       "2     Топ-чиновник корпорації ДТЕК став радником пре...  \n",
       "3     Матеріали кримінального провадження відкриті д...  \n",
       "4     Детективи записали зразки голосу брата керівни...  \n",
       "...                                                 ...  \n",
       "3026  Рятувальники шукають людей під завалами.\\n\\nУ ...  \n",
       "3027  Кабмін доповнив перелік захворювань, які відно...  \n",
       "3028  Сергія Стерненко в понеділок чекають в СБУ для...  \n",
       "3029  У \"Нафтогазі України\" нагадали, що Зеркаль бра...  \n",
       "3030  Саме для вибудовування контрольованої вертикал...  \n",
       "\n",
       "[3031 rows x 5 columns]>"
      ]
     },
     "execution_count": 5,
     "metadata": {},
     "output_type": "execute_result"
    }
   ],
   "source": [
    "excel_nz_texts.head"
   ]
  },
  {
   "cell_type": "code",
   "execution_count": 6,
   "metadata": {},
   "outputs": [],
   "source": [
    "name_colums_for_new_csv = ['file_code', 'class', 'date']\n",
    "new_csv = pd.DataFrame(zip(csv_final_report.file_code, csv_final_report.category_name, csv_final_report.date), columns=name_colums_for_new_csv)"
   ]
  },
  {
   "cell_type": "code",
   "execution_count": 7,
   "metadata": {},
   "outputs": [
    {
     "data": {
      "text/plain": [
       "<bound method NDFrame.head of      file_code                                              class  \\\n",
       "0        bbc_0                      Top/politics/healthcarepolicy   \n",
       "1        bbc_0  Top/politics/healthcarepolicy/quarntine_streng...   \n",
       "2        bbc_0                                         Top/events   \n",
       "3        bbc_0                       Top/events/onlinetransformed   \n",
       "4        bbc_0                           Top/economy/coronacrisis   \n",
       "...        ...                                                ...   \n",
       "9706    zn_842                                       Top/politics   \n",
       "9707    zn_842  Top/politics/healthcarepolicy/quarntine_streng...   \n",
       "9708    zn_843                                 Top/health/recover   \n",
       "9709    zn_843                           Top/health/dissemination   \n",
       "9710    zn_843                                   Top/technologies   \n",
       "\n",
       "                      date  \n",
       "0     11May2014 11:15:36.0  \n",
       "1     11May2014 11:15:36.0  \n",
       "2     11May2014 11:15:36.0  \n",
       "3     11May2014 11:15:36.0  \n",
       "4     11May2014 11:15:36.0  \n",
       "...                    ...  \n",
       "9706  11May2014 11:15:37.0  \n",
       "9707  11May2014 11:15:37.0  \n",
       "9708  11May2014 11:15:37.0  \n",
       "9709  11May2014 11:15:37.0  \n",
       "9710  11May2014 11:15:37.0  \n",
       "\n",
       "[9711 rows x 3 columns]>"
      ]
     },
     "execution_count": 7,
     "metadata": {},
     "output_type": "execute_result"
    }
   ],
   "source": [
    "new_csv.head"
   ]
  },
  {
   "cell_type": "code",
   "execution_count": 8,
   "metadata": {},
   "outputs": [],
   "source": [
    "def preparation():\n",
    "    \n",
    "    for index in range(len(csv_final_report)):\n",
    "        source_name = (re.findall('zn|bbc',new_csv.loc[index][0]))[0]\n",
    "        count_in_table = re.findall('_\\d{0,10}', new_csv.loc[index][0])\n",
    "        count_in_table = int(count_in_table[0].replace('_', ''))\n",
    "\n",
    "        if source_name == 'bbc':\n",
    "            new_csv.loc[index][2] = pd.to_datetime(excel_bbc_texts.loc[count_in_table]['Date'], format='%d/%m/%Y', dayfirst=True)\n",
    "        elif source_name == 'zn':\n",
    "            new_csv.loc[index][2] = pd.to_datetime(excel_nz_texts.loc[count_in_table]['Date'], format='%d/%m/%Y', dayfirst=True)\n",
    "    \n",
    "    my_classes = list(set(new_csv['class']))\n",
    "    len_my_classes = len(my_classes)\n",
    "    \n",
    "    my_classes.append('start_period')\n",
    "    my_classes.append('end_period')\n",
    "    return my_classes,len_my_classes"
   ]
  },
  {
   "cell_type": "code",
   "execution_count": 9,
   "metadata": {},
   "outputs": [
    {
     "data": {
      "text/plain": [
       "['Top/society/producthisteria',\n",
       " 'Top/events/onlinetransformed',\n",
       " 'Top/society',\n",
       " 'Top/society/potentialdeathhisteria',\n",
       " 'Top/science/developingnewdrugs',\n",
       " 'Top/politics/healthcarepolicy/entertaiment',\n",
       " 'Top/economy/coronaimport',\n",
       " 'Top/politics/healthcarepolicy/quarntine_strengthening',\n",
       " 'Top/politics/healthcarepolicy/transport',\n",
       " 'Top/economy',\n",
       " 'Top/society/death',\n",
       " 'Top/health/dissemination',\n",
       " 'Top/technologies',\n",
       " 'Top/events',\n",
       " 'Top/politics/criminal',\n",
       " 'Top/politics/healthcarepolicy/safetysteps',\n",
       " 'Top/politics/healthcarepolicy',\n",
       " 'Top/health/illness',\n",
       " 'Top/coronavirus',\n",
       " 'Top/technologies/developingofequipment',\n",
       " 'Top/economy/coronabusiness',\n",
       " 'Top/society/potentialdeath',\n",
       " 'Top/science/developingvaccine',\n",
       " 'Top/health',\n",
       " 'Top/economy/crisis',\n",
       " 'Top/economy/coronajobloss',\n",
       " 'Top/politics/healthcarepolicy/education',\n",
       " 'Top/health/recover',\n",
       " 'Top/science',\n",
       " 'Top/science/existeddrugs',\n",
       " 'Top/economy/coronacrisis',\n",
       " 'Top/society/familytroubles',\n",
       " 'Top/politics',\n",
       " 'Top/events/coronacanceledevents',\n",
       " 'start_period',\n",
       " 'end_period']"
      ]
     },
     "execution_count": 9,
     "metadata": {},
     "output_type": "execute_result"
    }
   ],
   "source": [
    "my_classes, len_my_classes = preparation()\n",
    "my_classes"
   ]
  },
  {
   "cell_type": "code",
   "execution_count": 10,
   "metadata": {},
   "outputs": [],
   "source": [
    "def create_result_table(name_colums_for_new_csv, my_classes, days_period, first_day, last_day):\n",
    "    \n",
    "    all_source_for_bars = pd.DataFrame(columns=my_classes)\n",
    "    \n",
    "    last_day = pd.to_datetime(last_day,format='%d/%m/%Y')\n",
    "    start_period = pd.to_datetime(first_day,format='%d/%m/%Y')\n",
    "    period_time = pd.Timedelta(days=days_period)\n",
    "    bool_parametr = True\n",
    "    \n",
    "    while bool_parametr:\n",
    "        end_period = start_period + period_time\n",
    "        \n",
    "        if end_period >= last_day:\n",
    "            bool_parametr = False\n",
    "            end_period = last_day\n",
    "            break\n",
    "        \n",
    "        counts_dateFrame = pd.DataFrame(columns=name_colums_for_new_csv)\n",
    "        counts_list = np.array([])\n",
    "        for index,name_class in enumerate(my_classes):\n",
    "            if name_class == 'start_period':\n",
    "                counts_list = np.append(counts_list, start_period)\n",
    "                counts_list = np.append(counts_list, end_period)\n",
    "                break\n",
    "\n",
    "            counts_dateFrame = new_csv[(new_csv['class'] == name_class) & (start_period <= new_csv['date']) & (new_csv['date'] <= end_period)]\n",
    "            # print(counts_dateFrame.head)\n",
    "            count = len(counts_dateFrame)\n",
    "\n",
    "            # print(f\"count\\t{count}\\nindex\\t{index}\")\n",
    "            counts_list = np.append(counts_list, count)\n",
    "\n",
    "        temp_count_table = pd.DataFrame([counts_list],columns=my_classes) \n",
    "        all_source_for_bars = all_source_for_bars.append(temp_count_table, ignore_index=True)\n",
    "        \n",
    "        start_period = end_period + pd.Timedelta(days=1)\n",
    "    \n",
    "    return all_source_for_bars"
   ]
  },
  {
   "cell_type": "code",
   "execution_count": 11,
   "metadata": {},
   "outputs": [],
   "source": [
    "days_period = 3 \n",
    "first_day = '03/03/2020' \n",
    "last_day = '12/05/2020'\n",
    "all_source_bars = create_result_table(name_colums_for_new_csv, my_classes, days_period, first_day, last_day)\n"
   ]
  },
  {
   "cell_type": "code",
   "execution_count": 12,
   "metadata": {},
   "outputs": [
    {
     "data": {
      "text/plain": [
       "<bound method NDFrame.head of     Top/society/producthisteria  Top/events/onlinetransformed  Top/society  \\\n",
       "0                           0.0                           0.0          0.0   \n",
       "1                           1.0                           0.0          7.0   \n",
       "2                           0.0                           0.0         18.0   \n",
       "3                           2.0                           4.0         27.0   \n",
       "4                           2.0                           3.0         24.0   \n",
       "5                           1.0                           4.0         38.0   \n",
       "6                           6.0                           4.0         39.0   \n",
       "7                           3.0                           4.0         82.0   \n",
       "8                           0.0                           7.0        115.0   \n",
       "9                           3.0                           3.0         45.0   \n",
       "10                          0.0                           3.0         42.0   \n",
       "11                          0.0                           4.0         59.0   \n",
       "12                          0.0                           2.0         75.0   \n",
       "13                          1.0                           2.0         63.0   \n",
       "14                          1.0                           4.0         64.0   \n",
       "15                          2.0                           2.0         55.0   \n",
       "16                          2.0                           3.0         82.0   \n",
       "\n",
       "    Top/society/potentialdeathhisteria  Top/science/developingnewdrugs  \\\n",
       "0                                  0.0                             0.0   \n",
       "1                                  0.0                             0.0   \n",
       "2                                  1.0                             0.0   \n",
       "3                                  0.0                             0.0   \n",
       "4                                  3.0                             3.0   \n",
       "5                                  3.0                             0.0   \n",
       "6                                  3.0                             2.0   \n",
       "7                                  6.0                             0.0   \n",
       "8                                  5.0                             2.0   \n",
       "9                                  2.0                             2.0   \n",
       "10                                 2.0                             4.0   \n",
       "11                                 2.0                             1.0   \n",
       "12                                 2.0                             3.0   \n",
       "13                                 2.0                             2.0   \n",
       "14                                 0.0                             3.0   \n",
       "15                                 0.0                             2.0   \n",
       "16                                 2.0                             3.0   \n",
       "\n",
       "    Top/politics/healthcarepolicy/entertaiment  Top/economy/coronaimport  \\\n",
       "0                                          0.0                       0.0   \n",
       "1                                          0.0                       0.0   \n",
       "2                                          5.0                       0.0   \n",
       "3                                         18.0                       1.0   \n",
       "4                                          6.0                       6.0   \n",
       "5                                          8.0                       6.0   \n",
       "6                                          5.0                       7.0   \n",
       "7                                         28.0                       8.0   \n",
       "8                                         29.0                       9.0   \n",
       "9                                         15.0                       8.0   \n",
       "10                                         6.0                       4.0   \n",
       "11                                         9.0                       9.0   \n",
       "12                                        11.0                      10.0   \n",
       "13                                         6.0                      10.0   \n",
       "14                                         7.0                       8.0   \n",
       "15                                         7.0                       6.0   \n",
       "16                                         6.0                       6.0   \n",
       "\n",
       "    Top/politics/healthcarepolicy/quarntine_strengthening  \\\n",
       "0                                                 0.0       \n",
       "1                                                 0.0       \n",
       "2                                                 1.0       \n",
       "3                                                12.0       \n",
       "4                                                 3.0       \n",
       "5                                                19.0       \n",
       "6                                                11.0       \n",
       "7                                                22.0       \n",
       "8                                                39.0       \n",
       "9                                                20.0       \n",
       "10                                                8.0       \n",
       "11                                               10.0       \n",
       "12                                               12.0       \n",
       "13                                                4.0       \n",
       "14                                                6.0       \n",
       "15                                                4.0       \n",
       "16                                                7.0       \n",
       "\n",
       "    Top/politics/healthcarepolicy/transport  Top/economy  ...  \\\n",
       "0                                       0.0          0.0  ...   \n",
       "1                                       0.0          8.0  ...   \n",
       "2                                       4.0          5.0  ...   \n",
       "3                                      17.0         15.0  ...   \n",
       "4                                      17.0         18.0  ...   \n",
       "5                                      16.0         35.0  ...   \n",
       "6                                      13.0         17.0  ...   \n",
       "7                                      24.0         28.0  ...   \n",
       "8                                      26.0         30.0  ...   \n",
       "9                                       9.0         23.0  ...   \n",
       "10                                      8.0         30.0  ...   \n",
       "11                                     11.0         23.0  ...   \n",
       "12                                     10.0         44.0  ...   \n",
       "13                                      3.0         25.0  ...   \n",
       "14                                      9.0         23.0  ...   \n",
       "15                                      3.0         16.0  ...   \n",
       "16                                      5.0         28.0  ...   \n",
       "\n",
       "    Top/politics/healthcarepolicy/education  Top/health/recover  Top/science  \\\n",
       "0                                       0.0                 0.0          0.0   \n",
       "1                                       0.0                 0.0          3.0   \n",
       "2                                       3.0                 1.0          2.0   \n",
       "3                                       6.0                 2.0          2.0   \n",
       "4                                       5.0                 6.0          8.0   \n",
       "5                                       3.0                14.0         10.0   \n",
       "6                                       0.0                20.0         12.0   \n",
       "7                                       2.0                27.0         14.0   \n",
       "8                                       5.0                25.0         22.0   \n",
       "9                                       4.0                12.0          9.0   \n",
       "10                                      1.0                17.0          7.0   \n",
       "11                                      0.0                13.0         10.0   \n",
       "12                                      1.0                22.0         19.0   \n",
       "13                                      0.0                20.0         11.0   \n",
       "14                                      0.0                13.0         13.0   \n",
       "15                                      0.0                17.0         11.0   \n",
       "16                                      1.0                27.0         29.0   \n",
       "\n",
       "    Top/science/existeddrugs  Top/economy/coronacrisis  \\\n",
       "0                        0.0                       0.0   \n",
       "1                        1.0                       5.0   \n",
       "2                        0.0                       5.0   \n",
       "3                        0.0                       9.0   \n",
       "4                        0.0                      10.0   \n",
       "5                        2.0                      20.0   \n",
       "6                        3.0                      12.0   \n",
       "7                       12.0                      26.0   \n",
       "8                       10.0                      17.0   \n",
       "9                        5.0                      16.0   \n",
       "10                       4.0                      12.0   \n",
       "11                       4.0                      11.0   \n",
       "12                       3.0                      22.0   \n",
       "13                       1.0                      10.0   \n",
       "14                       2.0                      12.0   \n",
       "15                       3.0                       3.0   \n",
       "16                       1.0                      13.0   \n",
       "\n",
       "    Top/society/familytroubles  Top/politics  Top/events/coronacanceledevents  \\\n",
       "0                          0.0           0.0                              0.0   \n",
       "1                          0.0           3.0                              0.0   \n",
       "2                          0.0          27.0                              4.0   \n",
       "3                          0.0          21.0                              3.0   \n",
       "4                          1.0          10.0                              2.0   \n",
       "5                          4.0          14.0                              1.0   \n",
       "6                          1.0           9.0                              2.0   \n",
       "7                          1.0          24.0                              4.0   \n",
       "8                          0.0          58.0                             11.0   \n",
       "9                          2.0          24.0                              9.0   \n",
       "10                         1.0          23.0                             10.0   \n",
       "11                         1.0          15.0                              4.0   \n",
       "12                         0.0          51.0                             11.0   \n",
       "13                         0.0          38.0                              5.0   \n",
       "14                         1.0          39.0                              8.0   \n",
       "15                         0.0          34.0                             12.0   \n",
       "16                         1.0          55.0                              5.0   \n",
       "\n",
       "    start_period  end_period  \n",
       "0     2020-03-03  2020-03-06  \n",
       "1     2020-03-07  2020-03-10  \n",
       "2     2020-03-11  2020-03-14  \n",
       "3     2020-03-15  2020-03-18  \n",
       "4     2020-03-19  2020-03-22  \n",
       "5     2020-03-23  2020-03-26  \n",
       "6     2020-03-27  2020-03-30  \n",
       "7     2020-03-31  2020-04-03  \n",
       "8     2020-04-04  2020-04-07  \n",
       "9     2020-04-08  2020-04-11  \n",
       "10    2020-04-12  2020-04-15  \n",
       "11    2020-04-16  2020-04-19  \n",
       "12    2020-04-20  2020-04-23  \n",
       "13    2020-04-24  2020-04-27  \n",
       "14    2020-04-28  2020-05-01  \n",
       "15    2020-05-02  2020-05-05  \n",
       "16    2020-05-06  2020-05-09  \n",
       "\n",
       "[17 rows x 36 columns]>"
      ]
     },
     "execution_count": 12,
     "metadata": {},
     "output_type": "execute_result"
    }
   ],
   "source": [
    "all_source_bars.head"
   ]
  },
  {
   "cell_type": "code",
   "execution_count": 13,
   "metadata": {},
   "outputs": [],
   "source": [
    "res_without_dates = all_source_bars.drop(['start_period','end_period'], axis=1)\n"
   ]
  },
  {
   "cell_type": "code",
   "execution_count": 14,
   "metadata": {
    "scrolled": false
   },
   "outputs": [
    {
     "data": {
      "image/svg+xml": [
       "<svg class=\"main-svg\" xmlns=\"http://www.w3.org/2000/svg\" xmlns:xlink=\"http://www.w3.org/1999/xlink\" width=\"700\" height=\"450\" style=\"\" viewBox=\"0 0 700 450\"><rect x=\"0\" y=\"0\" width=\"700\" height=\"450\" style=\"fill: rgb(245, 246, 249); fill-opacity: 1;\"/><defs id=\"defs-0930c6\"><g class=\"clips\"><clipPath id=\"clip0930c6xyplot\" class=\"plotclip\"><rect width=\"540\" height=\"270\"/></clipPath><clipPath class=\"axesclip\" id=\"clip0930c6x\"><rect x=\"80\" y=\"0\" width=\"540\" height=\"450\"/></clipPath><clipPath class=\"axesclip\" id=\"clip0930c6y\"><rect x=\"0\" y=\"100\" width=\"700\" height=\"270\"/></clipPath><clipPath class=\"axesclip\" id=\"clip0930c6xy\"><rect x=\"80\" y=\"100\" width=\"540\" height=\"270\"/></clipPath></g><g class=\"gradients\"/></defs><g class=\"bglayer\"/><g class=\"layer-below\"><g class=\"imagelayer\"/><g class=\"shapelayer\"/></g><g class=\"cartesianlayer\"><g class=\"subplot xy\"><g class=\"layer-subplot\"><g class=\"shapelayer\"/><g class=\"imagelayer\"/></g><g class=\"gridlayer\"><g class=\"x\"><path class=\"xgrid crisp\" transform=\"translate(254.71,0)\" d=\"M0,100v270\" style=\"stroke: rgb(225, 229, 237); stroke-opacity: 1; stroke-width: 1px;\"/><path class=\"xgrid crisp\" transform=\"translate(413.53,0)\" d=\"M0,100v270\" style=\"stroke: rgb(225, 229, 237); stroke-opacity: 1; stroke-width: 1px;\"/><path class=\"xgrid crisp\" transform=\"translate(572.35,0)\" d=\"M0,100v270\" style=\"stroke: rgb(225, 229, 237); stroke-opacity: 1; stroke-width: 1px;\"/></g><g class=\"y\"><path class=\"ygrid crisp\" transform=\"translate(0,307.13)\" d=\"M80,0h540\" style=\"stroke: rgb(225, 229, 237); stroke-opacity: 1; stroke-width: 1px;\"/><path class=\"ygrid crisp\" transform=\"translate(0,244.26)\" d=\"M80,0h540\" style=\"stroke: rgb(225, 229, 237); stroke-opacity: 1; stroke-width: 1px;\"/><path class=\"ygrid crisp\" transform=\"translate(0,181.4)\" d=\"M80,0h540\" style=\"stroke: rgb(225, 229, 237); stroke-opacity: 1; stroke-width: 1px;\"/><path class=\"ygrid crisp\" transform=\"translate(0,118.53)\" d=\"M80,0h540\" style=\"stroke: rgb(225, 229, 237); stroke-opacity: 1; stroke-width: 1px;\"/></g></g><g class=\"zerolinelayer\"><path class=\"xzl zl crisp\" transform=\"translate(95.88,0)\" d=\"M0,100v270\" style=\"stroke: rgb(225, 229, 237); stroke-opacity: 1; stroke-width: 2px;\"/><path class=\"yzl zl crisp\" transform=\"translate(0,370)\" d=\"M80,0h540\" style=\"stroke: rgb(225, 229, 237); stroke-opacity: 1; stroke-width: 2px;\"/></g><path class=\"xlines-below\"/><path class=\"ylines-below\"/><g class=\"overlines-below\"/><g class=\"xaxislayer-below\"/><g class=\"yaxislayer-below\"/><g class=\"overaxes-below\"/><g class=\"plot\" transform=\"translate(80, 100)\" clip-path=\"url('#clip0930c6xyplot')\"><g class=\"barlayer mlayer\"><g class=\"trace bars\" style=\"opacity: 1;\"><g class=\"points\"><g class=\"point\"><path d=\"M3.18,270V270H28.59V270Z\" style=\"vector-effect: non-scaling-stroke; opacity: 1; stroke-width: 1px; fill: rgb(255, 153, 51); fill-opacity: 0.6; stroke: rgb(255, 153, 51); stroke-opacity: 1;\"/></g><g class=\"point\"><path d=\"M34.94,270V268.74H60.35V270Z\" style=\"vector-effect: non-scaling-stroke; opacity: 1; stroke-width: 1px; fill: rgb(255, 153, 51); fill-opacity: 0.6; stroke: rgb(255, 153, 51); stroke-opacity: 1;\"/></g><g class=\"point\"><path d=\"M66.71,270V270H92.12V270Z\" style=\"vector-effect: non-scaling-stroke; opacity: 1; stroke-width: 1px; fill: rgb(255, 153, 51); fill-opacity: 0.6; stroke: rgb(255, 153, 51); stroke-opacity: 1;\"/></g><g class=\"point\"><path d=\"M98.47,270V267.49H123.88V270Z\" style=\"vector-effect: non-scaling-stroke; opacity: 1; stroke-width: 1px; fill: rgb(255, 153, 51); fill-opacity: 0.6; stroke: rgb(255, 153, 51); stroke-opacity: 1;\"/></g><g class=\"point\"><path d=\"M130.24,270V267.49H155.65V270Z\" style=\"vector-effect: non-scaling-stroke; opacity: 1; stroke-width: 1px; fill: rgb(255, 153, 51); fill-opacity: 0.6; stroke: rgb(255, 153, 51); stroke-opacity: 1;\"/></g><g class=\"point\"><path d=\"M162,270V268.74H187.41V270Z\" style=\"vector-effect: non-scaling-stroke; opacity: 1; stroke-width: 1px; fill: rgb(255, 153, 51); fill-opacity: 0.6; stroke: rgb(255, 153, 51); stroke-opacity: 1;\"/></g><g class=\"point\"><path d=\"M193.76,270V262.46H219.18V270Z\" style=\"vector-effect: non-scaling-stroke; opacity: 1; stroke-width: 1px; fill: rgb(255, 153, 51); fill-opacity: 0.6; stroke: rgb(255, 153, 51); stroke-opacity: 1;\"/></g><g class=\"point\"><path d=\"M225.53,270V266.23H250.94V270Z\" style=\"vector-effect: non-scaling-stroke; opacity: 1; stroke-width: 1px; fill: rgb(255, 153, 51); fill-opacity: 0.6; stroke: rgb(255, 153, 51); stroke-opacity: 1;\"/></g><g class=\"point\"><path d=\"M257.29,270V270H282.71V270Z\" style=\"vector-effect: non-scaling-stroke; opacity: 1; stroke-width: 1px; fill: rgb(255, 153, 51); fill-opacity: 0.6; stroke: rgb(255, 153, 51); stroke-opacity: 1;\"/></g><g class=\"point\"><path d=\"M289.06,270V266.23H314.47V270Z\" style=\"vector-effect: non-scaling-stroke; opacity: 1; stroke-width: 1px; fill: rgb(255, 153, 51); fill-opacity: 0.6; stroke: rgb(255, 153, 51); stroke-opacity: 1;\"/></g><g class=\"point\"><path d=\"M320.82,270V270H346.24V270Z\" style=\"vector-effect: non-scaling-stroke; opacity: 1; stroke-width: 1px; fill: rgb(255, 153, 51); fill-opacity: 0.6; stroke: rgb(255, 153, 51); stroke-opacity: 1;\"/></g><g class=\"point\"><path d=\"M352.59,270V270H378V270Z\" style=\"vector-effect: non-scaling-stroke; opacity: 1; stroke-width: 1px; fill: rgb(255, 153, 51); fill-opacity: 0.6; stroke: rgb(255, 153, 51); stroke-opacity: 1;\"/></g><g class=\"point\"><path d=\"M384.35,270V270H409.76V270Z\" style=\"vector-effect: non-scaling-stroke; opacity: 1; stroke-width: 1px; fill: rgb(255, 153, 51); fill-opacity: 0.6; stroke: rgb(255, 153, 51); stroke-opacity: 1;\"/></g><g class=\"point\"><path d=\"M416.12,270V268.74H441.53V270Z\" style=\"vector-effect: non-scaling-stroke; opacity: 1; stroke-width: 1px; fill: rgb(255, 153, 51); fill-opacity: 0.6; stroke: rgb(255, 153, 51); stroke-opacity: 1;\"/></g><g class=\"point\"><path d=\"M447.88,270V268.74H473.29V270Z\" style=\"vector-effect: non-scaling-stroke; opacity: 1; stroke-width: 1px; fill: rgb(255, 153, 51); fill-opacity: 0.6; stroke: rgb(255, 153, 51); stroke-opacity: 1;\"/></g><g class=\"point\"><path d=\"M479.65,270V267.49H505.06V270Z\" style=\"vector-effect: non-scaling-stroke; opacity: 1; stroke-width: 1px; fill: rgb(255, 153, 51); fill-opacity: 0.6; stroke: rgb(255, 153, 51); stroke-opacity: 1;\"/></g><g class=\"point\"><path d=\"M511.41,270V267.49H536.82V270Z\" style=\"vector-effect: non-scaling-stroke; opacity: 1; stroke-width: 1px; fill: rgb(255, 153, 51); fill-opacity: 0.6; stroke: rgb(255, 153, 51); stroke-opacity: 1;\"/></g></g></g><g class=\"trace bars\" style=\"opacity: 1;\"><g class=\"points\"><g class=\"point\"><path d=\"M3.18,270V270H28.59V270Z\" style=\"vector-effect: non-scaling-stroke; opacity: 1; stroke-width: 1px; fill: rgb(55, 128, 191); fill-opacity: 0.6; stroke: rgb(55, 128, 191); stroke-opacity: 1;\"/></g><g class=\"point\"><path d=\"M34.94,270V270H60.35V270Z\" style=\"vector-effect: non-scaling-stroke; opacity: 1; stroke-width: 1px; fill: rgb(55, 128, 191); fill-opacity: 0.6; stroke: rgb(55, 128, 191); stroke-opacity: 1;\"/></g><g class=\"point\"><path d=\"M66.71,270V270H92.12V270Z\" style=\"vector-effect: non-scaling-stroke; opacity: 1; stroke-width: 1px; fill: rgb(55, 128, 191); fill-opacity: 0.6; stroke: rgb(55, 128, 191); stroke-opacity: 1;\"/></g><g class=\"point\"><path d=\"M98.47,270V264.97H123.88V270Z\" style=\"vector-effect: non-scaling-stroke; opacity: 1; stroke-width: 1px; fill: rgb(55, 128, 191); fill-opacity: 0.6; stroke: rgb(55, 128, 191); stroke-opacity: 1;\"/></g><g class=\"point\"><path d=\"M130.24,270V266.23H155.65V270Z\" style=\"vector-effect: non-scaling-stroke; opacity: 1; stroke-width: 1px; fill: rgb(55, 128, 191); fill-opacity: 0.6; stroke: rgb(55, 128, 191); stroke-opacity: 1;\"/></g><g class=\"point\"><path d=\"M162,270V264.97H187.41V270Z\" style=\"vector-effect: non-scaling-stroke; opacity: 1; stroke-width: 1px; fill: rgb(55, 128, 191); fill-opacity: 0.6; stroke: rgb(55, 128, 191); stroke-opacity: 1;\"/></g><g class=\"point\"><path d=\"M193.76,270V264.97H219.18V270Z\" style=\"vector-effect: non-scaling-stroke; opacity: 1; stroke-width: 1px; fill: rgb(55, 128, 191); fill-opacity: 0.6; stroke: rgb(55, 128, 191); stroke-opacity: 1;\"/></g><g class=\"point\"><path d=\"M225.53,270V264.97H250.94V270Z\" style=\"vector-effect: non-scaling-stroke; opacity: 1; stroke-width: 1px; fill: rgb(55, 128, 191); fill-opacity: 0.6; stroke: rgb(55, 128, 191); stroke-opacity: 1;\"/></g><g class=\"point\"><path d=\"M257.29,270V261.2H282.71V270Z\" style=\"vector-effect: non-scaling-stroke; opacity: 1; stroke-width: 1px; fill: rgb(55, 128, 191); fill-opacity: 0.6; stroke: rgb(55, 128, 191); stroke-opacity: 1;\"/></g><g class=\"point\"><path d=\"M289.06,270V266.23H314.47V270Z\" style=\"vector-effect: non-scaling-stroke; opacity: 1; stroke-width: 1px; fill: rgb(55, 128, 191); fill-opacity: 0.6; stroke: rgb(55, 128, 191); stroke-opacity: 1;\"/></g><g class=\"point\"><path d=\"M320.82,270V266.23H346.24V270Z\" style=\"vector-effect: non-scaling-stroke; opacity: 1; stroke-width: 1px; fill: rgb(55, 128, 191); fill-opacity: 0.6; stroke: rgb(55, 128, 191); stroke-opacity: 1;\"/></g><g class=\"point\"><path d=\"M352.59,270V264.97H378V270Z\" style=\"vector-effect: non-scaling-stroke; opacity: 1; stroke-width: 1px; fill: rgb(55, 128, 191); fill-opacity: 0.6; stroke: rgb(55, 128, 191); stroke-opacity: 1;\"/></g><g class=\"point\"><path d=\"M384.35,270V267.49H409.76V270Z\" style=\"vector-effect: non-scaling-stroke; opacity: 1; stroke-width: 1px; fill: rgb(55, 128, 191); fill-opacity: 0.6; stroke: rgb(55, 128, 191); stroke-opacity: 1;\"/></g><g class=\"point\"><path d=\"M416.12,270V267.49H441.53V270Z\" style=\"vector-effect: non-scaling-stroke; opacity: 1; stroke-width: 1px; fill: rgb(55, 128, 191); fill-opacity: 0.6; stroke: rgb(55, 128, 191); stroke-opacity: 1;\"/></g><g class=\"point\"><path d=\"M447.88,270V264.97H473.29V270Z\" style=\"vector-effect: non-scaling-stroke; opacity: 1; stroke-width: 1px; fill: rgb(55, 128, 191); fill-opacity: 0.6; stroke: rgb(55, 128, 191); stroke-opacity: 1;\"/></g><g class=\"point\"><path d=\"M479.65,270V267.49H505.06V270Z\" style=\"vector-effect: non-scaling-stroke; opacity: 1; stroke-width: 1px; fill: rgb(55, 128, 191); fill-opacity: 0.6; stroke: rgb(55, 128, 191); stroke-opacity: 1;\"/></g><g class=\"point\"><path d=\"M511.41,270V266.23H536.82V270Z\" style=\"vector-effect: non-scaling-stroke; opacity: 1; stroke-width: 1px; fill: rgb(55, 128, 191); fill-opacity: 0.6; stroke: rgb(55, 128, 191); stroke-opacity: 1;\"/></g></g></g><g class=\"trace bars\" style=\"opacity: 1;\"><g class=\"points\"><g class=\"point\"><path d=\"M3.18,270V270H28.59V270Z\" style=\"vector-effect: non-scaling-stroke; opacity: 1; stroke-width: 1px; fill: rgb(50, 171, 96); fill-opacity: 0.6; stroke: rgb(50, 171, 96); stroke-opacity: 1;\"/></g><g class=\"point\"><path d=\"M34.94,270V261.2H60.35V270Z\" style=\"vector-effect: non-scaling-stroke; opacity: 1; stroke-width: 1px; fill: rgb(50, 171, 96); fill-opacity: 0.6; stroke: rgb(50, 171, 96); stroke-opacity: 1;\"/></g><g class=\"point\"><path d=\"M66.71,270V247.37H92.12V270Z\" style=\"vector-effect: non-scaling-stroke; opacity: 1; stroke-width: 1px; fill: rgb(50, 171, 96); fill-opacity: 0.6; stroke: rgb(50, 171, 96); stroke-opacity: 1;\"/></g><g class=\"point\"><path d=\"M98.47,270V236.05H123.88V270Z\" style=\"vector-effect: non-scaling-stroke; opacity: 1; stroke-width: 1px; fill: rgb(50, 171, 96); fill-opacity: 0.6; stroke: rgb(50, 171, 96); stroke-opacity: 1;\"/></g><g class=\"point\"><path d=\"M130.24,270V239.82H155.65V270Z\" style=\"vector-effect: non-scaling-stroke; opacity: 1; stroke-width: 1px; fill: rgb(50, 171, 96); fill-opacity: 0.6; stroke: rgb(50, 171, 96); stroke-opacity: 1;\"/></g><g class=\"point\"><path d=\"M162,270V222.22H187.41V270Z\" style=\"vector-effect: non-scaling-stroke; opacity: 1; stroke-width: 1px; fill: rgb(50, 171, 96); fill-opacity: 0.6; stroke: rgb(50, 171, 96); stroke-opacity: 1;\"/></g><g class=\"point\"><path d=\"M193.76,270V220.96H219.18V270Z\" style=\"vector-effect: non-scaling-stroke; opacity: 1; stroke-width: 1px; fill: rgb(50, 171, 96); fill-opacity: 0.6; stroke: rgb(50, 171, 96); stroke-opacity: 1;\"/></g><g class=\"point\"><path d=\"M225.53,270V166.9H250.94V270Z\" style=\"vector-effect: non-scaling-stroke; opacity: 1; stroke-width: 1px; fill: rgb(50, 171, 96); fill-opacity: 0.6; stroke: rgb(50, 171, 96); stroke-opacity: 1;\"/></g><g class=\"point\"><path d=\"M257.29,270V125.4H282.71V270Z\" style=\"vector-effect: non-scaling-stroke; opacity: 1; stroke-width: 1px; fill: rgb(50, 171, 96); fill-opacity: 0.6; stroke: rgb(50, 171, 96); stroke-opacity: 1;\"/></g><g class=\"point\"><path d=\"M289.06,270V213.42H314.47V270Z\" style=\"vector-effect: non-scaling-stroke; opacity: 1; stroke-width: 1px; fill: rgb(50, 171, 96); fill-opacity: 0.6; stroke: rgb(50, 171, 96); stroke-opacity: 1;\"/></g><g class=\"point\"><path d=\"M320.82,270V217.19H346.24V270Z\" style=\"vector-effect: non-scaling-stroke; opacity: 1; stroke-width: 1px; fill: rgb(50, 171, 96); fill-opacity: 0.6; stroke: rgb(50, 171, 96); stroke-opacity: 1;\"/></g><g class=\"point\"><path d=\"M352.59,270V195.82H378V270Z\" style=\"vector-effect: non-scaling-stroke; opacity: 1; stroke-width: 1px; fill: rgb(50, 171, 96); fill-opacity: 0.6; stroke: rgb(50, 171, 96); stroke-opacity: 1;\"/></g><g class=\"point\"><path d=\"M384.35,270V175.7H409.76V270Z\" style=\"vector-effect: non-scaling-stroke; opacity: 1; stroke-width: 1px; fill: rgb(50, 171, 96); fill-opacity: 0.6; stroke: rgb(50, 171, 96); stroke-opacity: 1;\"/></g><g class=\"point\"><path d=\"M416.12,270V190.79H441.53V270Z\" style=\"vector-effect: non-scaling-stroke; opacity: 1; stroke-width: 1px; fill: rgb(50, 171, 96); fill-opacity: 0.6; stroke: rgb(50, 171, 96); stroke-opacity: 1;\"/></g><g class=\"point\"><path d=\"M447.88,270V189.53H473.29V270Z\" style=\"vector-effect: non-scaling-stroke; opacity: 1; stroke-width: 1px; fill: rgb(50, 171, 96); fill-opacity: 0.6; stroke: rgb(50, 171, 96); stroke-opacity: 1;\"/></g><g class=\"point\"><path d=\"M479.65,270V200.85H505.06V270Z\" style=\"vector-effect: non-scaling-stroke; opacity: 1; stroke-width: 1px; fill: rgb(50, 171, 96); fill-opacity: 0.6; stroke: rgb(50, 171, 96); stroke-opacity: 1;\"/></g><g class=\"point\"><path d=\"M511.41,270V166.9H536.82V270Z\" style=\"vector-effect: non-scaling-stroke; opacity: 1; stroke-width: 1px; fill: rgb(50, 171, 96); fill-opacity: 0.6; stroke: rgb(50, 171, 96); stroke-opacity: 1;\"/></g></g></g><g class=\"trace bars\" style=\"opacity: 1;\"><g class=\"points\"><g class=\"point\"><path d=\"M3.18,270V270H28.59V270Z\" style=\"vector-effect: non-scaling-stroke; opacity: 1; stroke-width: 1px; fill: rgb(128, 0, 128); fill-opacity: 0.6; stroke: rgb(128, 0, 128); stroke-opacity: 1;\"/></g><g class=\"point\"><path d=\"M34.94,270V270H60.35V270Z\" style=\"vector-effect: non-scaling-stroke; opacity: 1; stroke-width: 1px; fill: rgb(128, 0, 128); fill-opacity: 0.6; stroke: rgb(128, 0, 128); stroke-opacity: 1;\"/></g><g class=\"point\"><path d=\"M66.71,270V268.74H92.12V270Z\" style=\"vector-effect: non-scaling-stroke; opacity: 1; stroke-width: 1px; fill: rgb(128, 0, 128); fill-opacity: 0.6; stroke: rgb(128, 0, 128); stroke-opacity: 1;\"/></g><g class=\"point\"><path d=\"M98.47,270V270H123.88V270Z\" style=\"vector-effect: non-scaling-stroke; opacity: 1; stroke-width: 1px; fill: rgb(128, 0, 128); fill-opacity: 0.6; stroke: rgb(128, 0, 128); stroke-opacity: 1;\"/></g><g class=\"point\"><path d=\"M130.24,270V266.23H155.65V270Z\" style=\"vector-effect: non-scaling-stroke; opacity: 1; stroke-width: 1px; fill: rgb(128, 0, 128); fill-opacity: 0.6; stroke: rgb(128, 0, 128); stroke-opacity: 1;\"/></g><g class=\"point\"><path d=\"M162,270V266.23H187.41V270Z\" style=\"vector-effect: non-scaling-stroke; opacity: 1; stroke-width: 1px; fill: rgb(128, 0, 128); fill-opacity: 0.6; stroke: rgb(128, 0, 128); stroke-opacity: 1;\"/></g><g class=\"point\"><path d=\"M193.76,270V266.23H219.18V270Z\" style=\"vector-effect: non-scaling-stroke; opacity: 1; stroke-width: 1px; fill: rgb(128, 0, 128); fill-opacity: 0.6; stroke: rgb(128, 0, 128); stroke-opacity: 1;\"/></g><g class=\"point\"><path d=\"M225.53,270V262.46H250.94V270Z\" style=\"vector-effect: non-scaling-stroke; opacity: 1; stroke-width: 1px; fill: rgb(128, 0, 128); fill-opacity: 0.6; stroke: rgb(128, 0, 128); stroke-opacity: 1;\"/></g><g class=\"point\"><path d=\"M257.29,270V263.71H282.71V270Z\" style=\"vector-effect: non-scaling-stroke; opacity: 1; stroke-width: 1px; fill: rgb(128, 0, 128); fill-opacity: 0.6; stroke: rgb(128, 0, 128); stroke-opacity: 1;\"/></g><g class=\"point\"><path d=\"M289.06,270V267.49H314.47V270Z\" style=\"vector-effect: non-scaling-stroke; opacity: 1; stroke-width: 1px; fill: rgb(128, 0, 128); fill-opacity: 0.6; stroke: rgb(128, 0, 128); stroke-opacity: 1;\"/></g><g class=\"point\"><path d=\"M320.82,270V267.49H346.24V270Z\" style=\"vector-effect: non-scaling-stroke; opacity: 1; stroke-width: 1px; fill: rgb(128, 0, 128); fill-opacity: 0.6; stroke: rgb(128, 0, 128); stroke-opacity: 1;\"/></g><g class=\"point\"><path d=\"M352.59,270V267.49H378V270Z\" style=\"vector-effect: non-scaling-stroke; opacity: 1; stroke-width: 1px; fill: rgb(128, 0, 128); fill-opacity: 0.6; stroke: rgb(128, 0, 128); stroke-opacity: 1;\"/></g><g class=\"point\"><path d=\"M384.35,270V267.49H409.76V270Z\" style=\"vector-effect: non-scaling-stroke; opacity: 1; stroke-width: 1px; fill: rgb(128, 0, 128); fill-opacity: 0.6; stroke: rgb(128, 0, 128); stroke-opacity: 1;\"/></g><g class=\"point\"><path d=\"M416.12,270V267.49H441.53V270Z\" style=\"vector-effect: non-scaling-stroke; opacity: 1; stroke-width: 1px; fill: rgb(128, 0, 128); fill-opacity: 0.6; stroke: rgb(128, 0, 128); stroke-opacity: 1;\"/></g><g class=\"point\"><path d=\"M447.88,270V270H473.29V270Z\" style=\"vector-effect: non-scaling-stroke; opacity: 1; stroke-width: 1px; fill: rgb(128, 0, 128); fill-opacity: 0.6; stroke: rgb(128, 0, 128); stroke-opacity: 1;\"/></g><g class=\"point\"><path d=\"M479.65,270V270H505.06V270Z\" style=\"vector-effect: non-scaling-stroke; opacity: 1; stroke-width: 1px; fill: rgb(128, 0, 128); fill-opacity: 0.6; stroke: rgb(128, 0, 128); stroke-opacity: 1;\"/></g><g class=\"point\"><path d=\"M511.41,270V267.49H536.82V270Z\" style=\"vector-effect: non-scaling-stroke; opacity: 1; stroke-width: 1px; fill: rgb(128, 0, 128); fill-opacity: 0.6; stroke: rgb(128, 0, 128); stroke-opacity: 1;\"/></g></g></g><g class=\"trace bars\" style=\"opacity: 1;\"><g class=\"points\"><g class=\"point\"><path d=\"M3.18,270V270H28.59V270Z\" style=\"vector-effect: non-scaling-stroke; opacity: 1; stroke-width: 1px; fill: rgb(219, 64, 82); fill-opacity: 0.6; stroke: rgb(219, 64, 82); stroke-opacity: 1;\"/></g><g class=\"point\"><path d=\"M34.94,270V270H60.35V270Z\" style=\"vector-effect: non-scaling-stroke; opacity: 1; stroke-width: 1px; fill: rgb(219, 64, 82); fill-opacity: 0.6; stroke: rgb(219, 64, 82); stroke-opacity: 1;\"/></g><g class=\"point\"><path d=\"M66.71,270V270H92.12V270Z\" style=\"vector-effect: non-scaling-stroke; opacity: 1; stroke-width: 1px; fill: rgb(219, 64, 82); fill-opacity: 0.6; stroke: rgb(219, 64, 82); stroke-opacity: 1;\"/></g><g class=\"point\"><path d=\"M98.47,270V270H123.88V270Z\" style=\"vector-effect: non-scaling-stroke; opacity: 1; stroke-width: 1px; fill: rgb(219, 64, 82); fill-opacity: 0.6; stroke: rgb(219, 64, 82); stroke-opacity: 1;\"/></g><g class=\"point\"><path d=\"M130.24,270V266.23H155.65V270Z\" style=\"vector-effect: non-scaling-stroke; opacity: 1; stroke-width: 1px; fill: rgb(219, 64, 82); fill-opacity: 0.6; stroke: rgb(219, 64, 82); stroke-opacity: 1;\"/></g><g class=\"point\"><path d=\"M162,270V270H187.41V270Z\" style=\"vector-effect: non-scaling-stroke; opacity: 1; stroke-width: 1px; fill: rgb(219, 64, 82); fill-opacity: 0.6; stroke: rgb(219, 64, 82); stroke-opacity: 1;\"/></g><g class=\"point\"><path d=\"M193.76,270V267.49H219.18V270Z\" style=\"vector-effect: non-scaling-stroke; opacity: 1; stroke-width: 1px; fill: rgb(219, 64, 82); fill-opacity: 0.6; stroke: rgb(219, 64, 82); stroke-opacity: 1;\"/></g><g class=\"point\"><path d=\"M225.53,270V270H250.94V270Z\" style=\"vector-effect: non-scaling-stroke; opacity: 1; stroke-width: 1px; fill: rgb(219, 64, 82); fill-opacity: 0.6; stroke: rgb(219, 64, 82); stroke-opacity: 1;\"/></g><g class=\"point\"><path d=\"M257.29,270V267.49H282.71V270Z\" style=\"vector-effect: non-scaling-stroke; opacity: 1; stroke-width: 1px; fill: rgb(219, 64, 82); fill-opacity: 0.6; stroke: rgb(219, 64, 82); stroke-opacity: 1;\"/></g><g class=\"point\"><path d=\"M289.06,270V267.49H314.47V270Z\" style=\"vector-effect: non-scaling-stroke; opacity: 1; stroke-width: 1px; fill: rgb(219, 64, 82); fill-opacity: 0.6; stroke: rgb(219, 64, 82); stroke-opacity: 1;\"/></g><g class=\"point\"><path d=\"M320.82,270V264.97H346.24V270Z\" style=\"vector-effect: non-scaling-stroke; opacity: 1; stroke-width: 1px; fill: rgb(219, 64, 82); fill-opacity: 0.6; stroke: rgb(219, 64, 82); stroke-opacity: 1;\"/></g><g class=\"point\"><path d=\"M352.59,270V268.74H378V270Z\" style=\"vector-effect: non-scaling-stroke; opacity: 1; stroke-width: 1px; fill: rgb(219, 64, 82); fill-opacity: 0.6; stroke: rgb(219, 64, 82); stroke-opacity: 1;\"/></g><g class=\"point\"><path d=\"M384.35,270V266.23H409.76V270Z\" style=\"vector-effect: non-scaling-stroke; opacity: 1; stroke-width: 1px; fill: rgb(219, 64, 82); fill-opacity: 0.6; stroke: rgb(219, 64, 82); stroke-opacity: 1;\"/></g><g class=\"point\"><path d=\"M416.12,270V267.49H441.53V270Z\" style=\"vector-effect: non-scaling-stroke; opacity: 1; stroke-width: 1px; fill: rgb(219, 64, 82); fill-opacity: 0.6; stroke: rgb(219, 64, 82); stroke-opacity: 1;\"/></g><g class=\"point\"><path d=\"M447.88,270V266.23H473.29V270Z\" style=\"vector-effect: non-scaling-stroke; opacity: 1; stroke-width: 1px; fill: rgb(219, 64, 82); fill-opacity: 0.6; stroke: rgb(219, 64, 82); stroke-opacity: 1;\"/></g><g class=\"point\"><path d=\"M479.65,270V267.49H505.06V270Z\" style=\"vector-effect: non-scaling-stroke; opacity: 1; stroke-width: 1px; fill: rgb(219, 64, 82); fill-opacity: 0.6; stroke: rgb(219, 64, 82); stroke-opacity: 1;\"/></g><g class=\"point\"><path d=\"M511.41,270V266.23H536.82V270Z\" style=\"vector-effect: non-scaling-stroke; opacity: 1; stroke-width: 1px; fill: rgb(219, 64, 82); fill-opacity: 0.6; stroke: rgb(219, 64, 82); stroke-opacity: 1;\"/></g></g></g><g class=\"trace bars\" style=\"opacity: 1;\"><g class=\"points\"><g class=\"point\"><path d=\"M3.18,270V270H28.59V270Z\" style=\"vector-effect: non-scaling-stroke; opacity: 1; stroke-width: 1px; fill: rgb(0, 128, 128); fill-opacity: 0.6; stroke: rgb(0, 128, 128); stroke-opacity: 1;\"/></g><g class=\"point\"><path d=\"M34.94,270V270H60.35V270Z\" style=\"vector-effect: non-scaling-stroke; opacity: 1; stroke-width: 1px; fill: rgb(0, 128, 128); fill-opacity: 0.6; stroke: rgb(0, 128, 128); stroke-opacity: 1;\"/></g><g class=\"point\"><path d=\"M66.71,270V263.71H92.12V270Z\" style=\"vector-effect: non-scaling-stroke; opacity: 1; stroke-width: 1px; fill: rgb(0, 128, 128); fill-opacity: 0.6; stroke: rgb(0, 128, 128); stroke-opacity: 1;\"/></g><g class=\"point\"><path d=\"M98.47,270V247.37H123.88V270Z\" style=\"vector-effect: non-scaling-stroke; opacity: 1; stroke-width: 1px; fill: rgb(0, 128, 128); fill-opacity: 0.6; stroke: rgb(0, 128, 128); stroke-opacity: 1;\"/></g><g class=\"point\"><path d=\"M130.24,270V262.46H155.65V270Z\" style=\"vector-effect: non-scaling-stroke; opacity: 1; stroke-width: 1px; fill: rgb(0, 128, 128); fill-opacity: 0.6; stroke: rgb(0, 128, 128); stroke-opacity: 1;\"/></g><g class=\"point\"><path d=\"M162,270V259.94H187.41V270Z\" style=\"vector-effect: non-scaling-stroke; opacity: 1; stroke-width: 1px; fill: rgb(0, 128, 128); fill-opacity: 0.6; stroke: rgb(0, 128, 128); stroke-opacity: 1;\"/></g><g class=\"point\"><path d=\"M193.76,270V263.71H219.18V270Z\" style=\"vector-effect: non-scaling-stroke; opacity: 1; stroke-width: 1px; fill: rgb(0, 128, 128); fill-opacity: 0.6; stroke: rgb(0, 128, 128); stroke-opacity: 1;\"/></g><g class=\"point\"><path d=\"M225.53,270V234.79H250.94V270Z\" style=\"vector-effect: non-scaling-stroke; opacity: 1; stroke-width: 1px; fill: rgb(0, 128, 128); fill-opacity: 0.6; stroke: rgb(0, 128, 128); stroke-opacity: 1;\"/></g><g class=\"point\"><path d=\"M257.29,270V233.54H282.71V270Z\" style=\"vector-effect: non-scaling-stroke; opacity: 1; stroke-width: 1px; fill: rgb(0, 128, 128); fill-opacity: 0.6; stroke: rgb(0, 128, 128); stroke-opacity: 1;\"/></g><g class=\"point\"><path d=\"M289.06,270V251.14H314.47V270Z\" style=\"vector-effect: non-scaling-stroke; opacity: 1; stroke-width: 1px; fill: rgb(0, 128, 128); fill-opacity: 0.6; stroke: rgb(0, 128, 128); stroke-opacity: 1;\"/></g><g class=\"point\"><path d=\"M320.82,270V262.46H346.24V270Z\" style=\"vector-effect: non-scaling-stroke; opacity: 1; stroke-width: 1px; fill: rgb(0, 128, 128); fill-opacity: 0.6; stroke: rgb(0, 128, 128); stroke-opacity: 1;\"/></g><g class=\"point\"><path d=\"M352.59,270V258.68H378V270Z\" style=\"vector-effect: non-scaling-stroke; opacity: 1; stroke-width: 1px; fill: rgb(0, 128, 128); fill-opacity: 0.6; stroke: rgb(0, 128, 128); stroke-opacity: 1;\"/></g><g class=\"point\"><path d=\"M384.35,270V256.17H409.76V270Z\" style=\"vector-effect: non-scaling-stroke; opacity: 1; stroke-width: 1px; fill: rgb(0, 128, 128); fill-opacity: 0.6; stroke: rgb(0, 128, 128); stroke-opacity: 1;\"/></g><g class=\"point\"><path d=\"M416.12,270V262.46H441.53V270Z\" style=\"vector-effect: non-scaling-stroke; opacity: 1; stroke-width: 1px; fill: rgb(0, 128, 128); fill-opacity: 0.6; stroke: rgb(0, 128, 128); stroke-opacity: 1;\"/></g><g class=\"point\"><path d=\"M447.88,270V261.2H473.29V270Z\" style=\"vector-effect: non-scaling-stroke; opacity: 1; stroke-width: 1px; fill: rgb(0, 128, 128); fill-opacity: 0.6; stroke: rgb(0, 128, 128); stroke-opacity: 1;\"/></g><g class=\"point\"><path d=\"M479.65,270V261.2H505.06V270Z\" style=\"vector-effect: non-scaling-stroke; opacity: 1; stroke-width: 1px; fill: rgb(0, 128, 128); fill-opacity: 0.6; stroke: rgb(0, 128, 128); stroke-opacity: 1;\"/></g><g class=\"point\"><path d=\"M511.41,270V262.46H536.82V270Z\" style=\"vector-effect: non-scaling-stroke; opacity: 1; stroke-width: 1px; fill: rgb(0, 128, 128); fill-opacity: 0.6; stroke: rgb(0, 128, 128); stroke-opacity: 1;\"/></g></g></g><g class=\"trace bars\" style=\"opacity: 1;\"><g class=\"points\"><g class=\"point\"><path d=\"M3.18,270V270H28.59V270Z\" style=\"vector-effect: non-scaling-stroke; opacity: 1; stroke-width: 1px; fill: rgb(255, 255, 51); fill-opacity: 0.6; stroke: rgb(255, 255, 51); stroke-opacity: 1;\"/></g><g class=\"point\"><path d=\"M34.94,270V270H60.35V270Z\" style=\"vector-effect: non-scaling-stroke; opacity: 1; stroke-width: 1px; fill: rgb(255, 255, 51); fill-opacity: 0.6; stroke: rgb(255, 255, 51); stroke-opacity: 1;\"/></g><g class=\"point\"><path d=\"M66.71,270V270H92.12V270Z\" style=\"vector-effect: non-scaling-stroke; opacity: 1; stroke-width: 1px; fill: rgb(255, 255, 51); fill-opacity: 0.6; stroke: rgb(255, 255, 51); stroke-opacity: 1;\"/></g><g class=\"point\"><path d=\"M98.47,270V268.74H123.88V270Z\" style=\"vector-effect: non-scaling-stroke; opacity: 1; stroke-width: 1px; fill: rgb(255, 255, 51); fill-opacity: 0.6; stroke: rgb(255, 255, 51); stroke-opacity: 1;\"/></g><g class=\"point\"><path d=\"M130.24,270V262.46H155.65V270Z\" style=\"vector-effect: non-scaling-stroke; opacity: 1; stroke-width: 1px; fill: rgb(255, 255, 51); fill-opacity: 0.6; stroke: rgb(255, 255, 51); stroke-opacity: 1;\"/></g><g class=\"point\"><path d=\"M162,270V262.46H187.41V270Z\" style=\"vector-effect: non-scaling-stroke; opacity: 1; stroke-width: 1px; fill: rgb(255, 255, 51); fill-opacity: 0.6; stroke: rgb(255, 255, 51); stroke-opacity: 1;\"/></g><g class=\"point\"><path d=\"M193.76,270V261.2H219.18V270Z\" style=\"vector-effect: non-scaling-stroke; opacity: 1; stroke-width: 1px; fill: rgb(255, 255, 51); fill-opacity: 0.6; stroke: rgb(255, 255, 51); stroke-opacity: 1;\"/></g><g class=\"point\"><path d=\"M225.53,270V259.94H250.94V270Z\" style=\"vector-effect: non-scaling-stroke; opacity: 1; stroke-width: 1px; fill: rgb(255, 255, 51); fill-opacity: 0.6; stroke: rgb(255, 255, 51); stroke-opacity: 1;\"/></g><g class=\"point\"><path d=\"M257.29,270V258.68H282.71V270Z\" style=\"vector-effect: non-scaling-stroke; opacity: 1; stroke-width: 1px; fill: rgb(255, 255, 51); fill-opacity: 0.6; stroke: rgb(255, 255, 51); stroke-opacity: 1;\"/></g><g class=\"point\"><path d=\"M289.06,270V259.94H314.47V270Z\" style=\"vector-effect: non-scaling-stroke; opacity: 1; stroke-width: 1px; fill: rgb(255, 255, 51); fill-opacity: 0.6; stroke: rgb(255, 255, 51); stroke-opacity: 1;\"/></g><g class=\"point\"><path d=\"M320.82,270V264.97H346.24V270Z\" style=\"vector-effect: non-scaling-stroke; opacity: 1; stroke-width: 1px; fill: rgb(255, 255, 51); fill-opacity: 0.6; stroke: rgb(255, 255, 51); stroke-opacity: 1;\"/></g><g class=\"point\"><path d=\"M352.59,270V258.68H378V270Z\" style=\"vector-effect: non-scaling-stroke; opacity: 1; stroke-width: 1px; fill: rgb(255, 255, 51); fill-opacity: 0.6; stroke: rgb(255, 255, 51); stroke-opacity: 1;\"/></g><g class=\"point\"><path d=\"M384.35,270V257.43H409.76V270Z\" style=\"vector-effect: non-scaling-stroke; opacity: 1; stroke-width: 1px; fill: rgb(255, 255, 51); fill-opacity: 0.6; stroke: rgb(255, 255, 51); stroke-opacity: 1;\"/></g><g class=\"point\"><path d=\"M416.12,270V257.43H441.53V270Z\" style=\"vector-effect: non-scaling-stroke; opacity: 1; stroke-width: 1px; fill: rgb(255, 255, 51); fill-opacity: 0.6; stroke: rgb(255, 255, 51); stroke-opacity: 1;\"/></g><g class=\"point\"><path d=\"M447.88,270V259.94H473.29V270Z\" style=\"vector-effect: non-scaling-stroke; opacity: 1; stroke-width: 1px; fill: rgb(255, 255, 51); fill-opacity: 0.6; stroke: rgb(255, 255, 51); stroke-opacity: 1;\"/></g><g class=\"point\"><path d=\"M479.65,270V262.46H505.06V270Z\" style=\"vector-effect: non-scaling-stroke; opacity: 1; stroke-width: 1px; fill: rgb(255, 255, 51); fill-opacity: 0.6; stroke: rgb(255, 255, 51); stroke-opacity: 1;\"/></g><g class=\"point\"><path d=\"M511.41,270V262.46H536.82V270Z\" style=\"vector-effect: non-scaling-stroke; opacity: 1; stroke-width: 1px; fill: rgb(255, 255, 51); fill-opacity: 0.6; stroke: rgb(255, 255, 51); stroke-opacity: 1;\"/></g></g></g><g class=\"trace bars\" style=\"opacity: 1;\"><g class=\"points\"><g class=\"point\"><path d=\"M3.18,270V270H28.59V270Z\" style=\"vector-effect: non-scaling-stroke; opacity: 1; stroke-width: 1px; fill: rgb(128, 128, 0); fill-opacity: 0.6; stroke: rgb(128, 128, 0); stroke-opacity: 1;\"/></g><g class=\"point\"><path d=\"M34.94,270V270H60.35V270Z\" style=\"vector-effect: non-scaling-stroke; opacity: 1; stroke-width: 1px; fill: rgb(128, 128, 0); fill-opacity: 0.6; stroke: rgb(128, 128, 0); stroke-opacity: 1;\"/></g><g class=\"point\"><path d=\"M66.71,270V268.74H92.12V270Z\" style=\"vector-effect: non-scaling-stroke; opacity: 1; stroke-width: 1px; fill: rgb(128, 128, 0); fill-opacity: 0.6; stroke: rgb(128, 128, 0); stroke-opacity: 1;\"/></g><g class=\"point\"><path d=\"M98.47,270V254.91H123.88V270Z\" style=\"vector-effect: non-scaling-stroke; opacity: 1; stroke-width: 1px; fill: rgb(128, 128, 0); fill-opacity: 0.6; stroke: rgb(128, 128, 0); stroke-opacity: 1;\"/></g><g class=\"point\"><path d=\"M130.24,270V266.23H155.65V270Z\" style=\"vector-effect: non-scaling-stroke; opacity: 1; stroke-width: 1px; fill: rgb(128, 128, 0); fill-opacity: 0.6; stroke: rgb(128, 128, 0); stroke-opacity: 1;\"/></g><g class=\"point\"><path d=\"M162,270V246.11H187.41V270Z\" style=\"vector-effect: non-scaling-stroke; opacity: 1; stroke-width: 1px; fill: rgb(128, 128, 0); fill-opacity: 0.6; stroke: rgb(128, 128, 0); stroke-opacity: 1;\"/></g><g class=\"point\"><path d=\"M193.76,270V256.17H219.18V270Z\" style=\"vector-effect: non-scaling-stroke; opacity: 1; stroke-width: 1px; fill: rgb(128, 128, 0); fill-opacity: 0.6; stroke: rgb(128, 128, 0); stroke-opacity: 1;\"/></g><g class=\"point\"><path d=\"M225.53,270V242.34H250.94V270Z\" style=\"vector-effect: non-scaling-stroke; opacity: 1; stroke-width: 1px; fill: rgb(128, 128, 0); fill-opacity: 0.6; stroke: rgb(128, 128, 0); stroke-opacity: 1;\"/></g><g class=\"point\"><path d=\"M257.29,270V220.96H282.71V270Z\" style=\"vector-effect: non-scaling-stroke; opacity: 1; stroke-width: 1px; fill: rgb(128, 128, 0); fill-opacity: 0.6; stroke: rgb(128, 128, 0); stroke-opacity: 1;\"/></g><g class=\"point\"><path d=\"M289.06,270V244.85H314.47V270Z\" style=\"vector-effect: non-scaling-stroke; opacity: 1; stroke-width: 1px; fill: rgb(128, 128, 0); fill-opacity: 0.6; stroke: rgb(128, 128, 0); stroke-opacity: 1;\"/></g><g class=\"point\"><path d=\"M320.82,270V259.94H346.24V270Z\" style=\"vector-effect: non-scaling-stroke; opacity: 1; stroke-width: 1px; fill: rgb(128, 128, 0); fill-opacity: 0.6; stroke: rgb(128, 128, 0); stroke-opacity: 1;\"/></g><g class=\"point\"><path d=\"M352.59,270V257.43H378V270Z\" style=\"vector-effect: non-scaling-stroke; opacity: 1; stroke-width: 1px; fill: rgb(128, 128, 0); fill-opacity: 0.6; stroke: rgb(128, 128, 0); stroke-opacity: 1;\"/></g><g class=\"point\"><path d=\"M384.35,270V254.91H409.76V270Z\" style=\"vector-effect: non-scaling-stroke; opacity: 1; stroke-width: 1px; fill: rgb(128, 128, 0); fill-opacity: 0.6; stroke: rgb(128, 128, 0); stroke-opacity: 1;\"/></g><g class=\"point\"><path d=\"M416.12,270V264.97H441.53V270Z\" style=\"vector-effect: non-scaling-stroke; opacity: 1; stroke-width: 1px; fill: rgb(128, 128, 0); fill-opacity: 0.6; stroke: rgb(128, 128, 0); stroke-opacity: 1;\"/></g><g class=\"point\"><path d=\"M447.88,270V262.46H473.29V270Z\" style=\"vector-effect: non-scaling-stroke; opacity: 1; stroke-width: 1px; fill: rgb(128, 128, 0); fill-opacity: 0.6; stroke: rgb(128, 128, 0); stroke-opacity: 1;\"/></g><g class=\"point\"><path d=\"M479.65,270V264.97H505.06V270Z\" style=\"vector-effect: non-scaling-stroke; opacity: 1; stroke-width: 1px; fill: rgb(128, 128, 0); fill-opacity: 0.6; stroke: rgb(128, 128, 0); stroke-opacity: 1;\"/></g><g class=\"point\"><path d=\"M511.41,270V261.2H536.82V270Z\" style=\"vector-effect: non-scaling-stroke; opacity: 1; stroke-width: 1px; fill: rgb(128, 128, 0); fill-opacity: 0.6; stroke: rgb(128, 128, 0); stroke-opacity: 1;\"/></g></g></g><g class=\"trace bars\" style=\"opacity: 1;\"><g class=\"points\"><g class=\"point\"><path d=\"M3.18,270V270H28.59V270Z\" style=\"vector-effect: non-scaling-stroke; opacity: 1; stroke-width: 1px; fill: rgb(251, 128, 114); fill-opacity: 0.6; stroke: rgb(251, 128, 114); stroke-opacity: 1;\"/></g><g class=\"point\"><path d=\"M34.94,270V270H60.35V270Z\" style=\"vector-effect: non-scaling-stroke; opacity: 1; stroke-width: 1px; fill: rgb(251, 128, 114); fill-opacity: 0.6; stroke: rgb(251, 128, 114); stroke-opacity: 1;\"/></g><g class=\"point\"><path d=\"M66.71,270V264.97H92.12V270Z\" style=\"vector-effect: non-scaling-stroke; opacity: 1; stroke-width: 1px; fill: rgb(251, 128, 114); fill-opacity: 0.6; stroke: rgb(251, 128, 114); stroke-opacity: 1;\"/></g><g class=\"point\"><path d=\"M98.47,270V248.63H123.88V270Z\" style=\"vector-effect: non-scaling-stroke; opacity: 1; stroke-width: 1px; fill: rgb(251, 128, 114); fill-opacity: 0.6; stroke: rgb(251, 128, 114); stroke-opacity: 1;\"/></g><g class=\"point\"><path d=\"M130.24,270V248.63H155.65V270Z\" style=\"vector-effect: non-scaling-stroke; opacity: 1; stroke-width: 1px; fill: rgb(251, 128, 114); fill-opacity: 0.6; stroke: rgb(251, 128, 114); stroke-opacity: 1;\"/></g><g class=\"point\"><path d=\"M162,270V249.88H187.41V270Z\" style=\"vector-effect: non-scaling-stroke; opacity: 1; stroke-width: 1px; fill: rgb(251, 128, 114); fill-opacity: 0.6; stroke: rgb(251, 128, 114); stroke-opacity: 1;\"/></g><g class=\"point\"><path d=\"M193.76,270V253.65H219.18V270Z\" style=\"vector-effect: non-scaling-stroke; opacity: 1; stroke-width: 1px; fill: rgb(251, 128, 114); fill-opacity: 0.6; stroke: rgb(251, 128, 114); stroke-opacity: 1;\"/></g><g class=\"point\"><path d=\"M225.53,270V239.82H250.94V270Z\" style=\"vector-effect: non-scaling-stroke; opacity: 1; stroke-width: 1px; fill: rgb(251, 128, 114); fill-opacity: 0.6; stroke: rgb(251, 128, 114); stroke-opacity: 1;\"/></g><g class=\"point\"><path d=\"M257.29,270V237.31H282.71V270Z\" style=\"vector-effect: non-scaling-stroke; opacity: 1; stroke-width: 1px; fill: rgb(251, 128, 114); fill-opacity: 0.6; stroke: rgb(251, 128, 114); stroke-opacity: 1;\"/></g><g class=\"point\"><path d=\"M289.06,270V258.68H314.47V270Z\" style=\"vector-effect: non-scaling-stroke; opacity: 1; stroke-width: 1px; fill: rgb(251, 128, 114); fill-opacity: 0.6; stroke: rgb(251, 128, 114); stroke-opacity: 1;\"/></g><g class=\"point\"><path d=\"M320.82,270V259.94H346.24V270Z\" style=\"vector-effect: non-scaling-stroke; opacity: 1; stroke-width: 1px; fill: rgb(251, 128, 114); fill-opacity: 0.6; stroke: rgb(251, 128, 114); stroke-opacity: 1;\"/></g><g class=\"point\"><path d=\"M352.59,270V256.17H378V270Z\" style=\"vector-effect: non-scaling-stroke; opacity: 1; stroke-width: 1px; fill: rgb(251, 128, 114); fill-opacity: 0.6; stroke: rgb(251, 128, 114); stroke-opacity: 1;\"/></g><g class=\"point\"><path d=\"M384.35,270V257.43H409.76V270Z\" style=\"vector-effect: non-scaling-stroke; opacity: 1; stroke-width: 1px; fill: rgb(251, 128, 114); fill-opacity: 0.6; stroke: rgb(251, 128, 114); stroke-opacity: 1;\"/></g><g class=\"point\"><path d=\"M416.12,270V266.23H441.53V270Z\" style=\"vector-effect: non-scaling-stroke; opacity: 1; stroke-width: 1px; fill: rgb(251, 128, 114); fill-opacity: 0.6; stroke: rgb(251, 128, 114); stroke-opacity: 1;\"/></g><g class=\"point\"><path d=\"M447.88,270V258.68H473.29V270Z\" style=\"vector-effect: non-scaling-stroke; opacity: 1; stroke-width: 1px; fill: rgb(251, 128, 114); fill-opacity: 0.6; stroke: rgb(251, 128, 114); stroke-opacity: 1;\"/></g><g class=\"point\"><path d=\"M479.65,270V266.23H505.06V270Z\" style=\"vector-effect: non-scaling-stroke; opacity: 1; stroke-width: 1px; fill: rgb(251, 128, 114); fill-opacity: 0.6; stroke: rgb(251, 128, 114); stroke-opacity: 1;\"/></g><g class=\"point\"><path d=\"M511.41,270V263.71H536.82V270Z\" style=\"vector-effect: non-scaling-stroke; opacity: 1; stroke-width: 1px; fill: rgb(251, 128, 114); fill-opacity: 0.6; stroke: rgb(251, 128, 114); stroke-opacity: 1;\"/></g></g></g><g class=\"trace bars\" style=\"opacity: 1;\"><g class=\"points\"><g class=\"point\"><path d=\"M3.18,270V270H28.59V270Z\" style=\"vector-effect: non-scaling-stroke; opacity: 1; stroke-width: 1px; fill: rgb(128, 177, 211); fill-opacity: 0.6; stroke: rgb(128, 177, 211); stroke-opacity: 1;\"/></g><g class=\"point\"><path d=\"M34.94,270V259.94H60.35V270Z\" style=\"vector-effect: non-scaling-stroke; opacity: 1; stroke-width: 1px; fill: rgb(128, 177, 211); fill-opacity: 0.6; stroke: rgb(128, 177, 211); stroke-opacity: 1;\"/></g><g class=\"point\"><path d=\"M66.71,270V263.71H92.12V270Z\" style=\"vector-effect: non-scaling-stroke; opacity: 1; stroke-width: 1px; fill: rgb(128, 177, 211); fill-opacity: 0.6; stroke: rgb(128, 177, 211); stroke-opacity: 1;\"/></g><g class=\"point\"><path d=\"M98.47,270V251.14H123.88V270Z\" style=\"vector-effect: non-scaling-stroke; opacity: 1; stroke-width: 1px; fill: rgb(128, 177, 211); fill-opacity: 0.6; stroke: rgb(128, 177, 211); stroke-opacity: 1;\"/></g><g class=\"point\"><path d=\"M130.24,270V247.37H155.65V270Z\" style=\"vector-effect: non-scaling-stroke; opacity: 1; stroke-width: 1px; fill: rgb(128, 177, 211); fill-opacity: 0.6; stroke: rgb(128, 177, 211); stroke-opacity: 1;\"/></g><g class=\"point\"><path d=\"M162,270V225.99H187.41V270Z\" style=\"vector-effect: non-scaling-stroke; opacity: 1; stroke-width: 1px; fill: rgb(128, 177, 211); fill-opacity: 0.6; stroke: rgb(128, 177, 211); stroke-opacity: 1;\"/></g><g class=\"point\"><path d=\"M193.76,270V248.63H219.18V270Z\" style=\"vector-effect: non-scaling-stroke; opacity: 1; stroke-width: 1px; fill: rgb(128, 177, 211); fill-opacity: 0.6; stroke: rgb(128, 177, 211); stroke-opacity: 1;\"/></g><g class=\"point\"><path d=\"M225.53,270V234.79H250.94V270Z\" style=\"vector-effect: non-scaling-stroke; opacity: 1; stroke-width: 1px; fill: rgb(128, 177, 211); fill-opacity: 0.6; stroke: rgb(128, 177, 211); stroke-opacity: 1;\"/></g><g class=\"point\"><path d=\"M257.29,270V232.28H282.71V270Z\" style=\"vector-effect: non-scaling-stroke; opacity: 1; stroke-width: 1px; fill: rgb(128, 177, 211); fill-opacity: 0.6; stroke: rgb(128, 177, 211); stroke-opacity: 1;\"/></g><g class=\"point\"><path d=\"M289.06,270V241.08H314.47V270Z\" style=\"vector-effect: non-scaling-stroke; opacity: 1; stroke-width: 1px; fill: rgb(128, 177, 211); fill-opacity: 0.6; stroke: rgb(128, 177, 211); stroke-opacity: 1;\"/></g><g class=\"point\"><path d=\"M320.82,270V232.28H346.24V270Z\" style=\"vector-effect: non-scaling-stroke; opacity: 1; stroke-width: 1px; fill: rgb(128, 177, 211); fill-opacity: 0.6; stroke: rgb(128, 177, 211); stroke-opacity: 1;\"/></g><g class=\"point\"><path d=\"M352.59,270V241.08H378V270Z\" style=\"vector-effect: non-scaling-stroke; opacity: 1; stroke-width: 1px; fill: rgb(128, 177, 211); fill-opacity: 0.6; stroke: rgb(128, 177, 211); stroke-opacity: 1;\"/></g><g class=\"point\"><path d=\"M384.35,270V214.68H409.76V270Z\" style=\"vector-effect: non-scaling-stroke; opacity: 1; stroke-width: 1px; fill: rgb(128, 177, 211); fill-opacity: 0.6; stroke: rgb(128, 177, 211); stroke-opacity: 1;\"/></g><g class=\"point\"><path d=\"M416.12,270V238.57H441.53V270Z\" style=\"vector-effect: non-scaling-stroke; opacity: 1; stroke-width: 1px; fill: rgb(128, 177, 211); fill-opacity: 0.6; stroke: rgb(128, 177, 211); stroke-opacity: 1;\"/></g><g class=\"point\"><path d=\"M447.88,270V241.08H473.29V270Z\" style=\"vector-effect: non-scaling-stroke; opacity: 1; stroke-width: 1px; fill: rgb(128, 177, 211); fill-opacity: 0.6; stroke: rgb(128, 177, 211); stroke-opacity: 1;\"/></g><g class=\"point\"><path d=\"M479.65,270V249.88H505.06V270Z\" style=\"vector-effect: non-scaling-stroke; opacity: 1; stroke-width: 1px; fill: rgb(128, 177, 211); fill-opacity: 0.6; stroke: rgb(128, 177, 211); stroke-opacity: 1;\"/></g><g class=\"point\"><path d=\"M511.41,270V234.79H536.82V270Z\" style=\"vector-effect: non-scaling-stroke; opacity: 1; stroke-width: 1px; fill: rgb(128, 177, 211); fill-opacity: 0.6; stroke: rgb(128, 177, 211); stroke-opacity: 1;\"/></g></g></g><g class=\"trace bars\" style=\"opacity: 1;\"><g class=\"points\"><g class=\"point\"><path d=\"M3.18,270V270H28.59V270Z\" style=\"vector-effect: non-scaling-stroke; opacity: 1; stroke-width: 1px; fill: rgb(128, 177, 211); fill-opacity: 0.6; stroke: rgb(128, 177, 211); stroke-opacity: 0.9;\"/></g><g class=\"point\"><path d=\"M34.94,270V267.49H60.35V270Z\" style=\"vector-effect: non-scaling-stroke; opacity: 1; stroke-width: 1px; fill: rgb(128, 177, 211); fill-opacity: 0.6; stroke: rgb(128, 177, 211); stroke-opacity: 0.9;\"/></g><g class=\"point\"><path d=\"M66.71,270V267.49H92.12V270Z\" style=\"vector-effect: non-scaling-stroke; opacity: 1; stroke-width: 1px; fill: rgb(128, 177, 211); fill-opacity: 0.6; stroke: rgb(128, 177, 211); stroke-opacity: 0.9;\"/></g><g class=\"point\"><path d=\"M98.47,270V267.49H123.88V270Z\" style=\"vector-effect: non-scaling-stroke; opacity: 1; stroke-width: 1px; fill: rgb(128, 177, 211); fill-opacity: 0.6; stroke: rgb(128, 177, 211); stroke-opacity: 0.9;\"/></g><g class=\"point\"><path d=\"M130.24,270V258.68H155.65V270Z\" style=\"vector-effect: non-scaling-stroke; opacity: 1; stroke-width: 1px; fill: rgb(128, 177, 211); fill-opacity: 0.6; stroke: rgb(128, 177, 211); stroke-opacity: 0.9;\"/></g><g class=\"point\"><path d=\"M162,270V249.88H187.41V270Z\" style=\"vector-effect: non-scaling-stroke; opacity: 1; stroke-width: 1px; fill: rgb(128, 177, 211); fill-opacity: 0.6; stroke: rgb(128, 177, 211); stroke-opacity: 0.9;\"/></g><g class=\"point\"><path d=\"M193.76,270V256.17H219.18V270Z\" style=\"vector-effect: non-scaling-stroke; opacity: 1; stroke-width: 1px; fill: rgb(128, 177, 211); fill-opacity: 0.6; stroke: rgb(128, 177, 211); stroke-opacity: 0.9;\"/></g><g class=\"point\"><path d=\"M225.53,270V234.79H250.94V270Z\" style=\"vector-effect: non-scaling-stroke; opacity: 1; stroke-width: 1px; fill: rgb(128, 177, 211); fill-opacity: 0.6; stroke: rgb(128, 177, 211); stroke-opacity: 0.9;\"/></g><g class=\"point\"><path d=\"M257.29,270V234.79H282.71V270Z\" style=\"vector-effect: non-scaling-stroke; opacity: 1; stroke-width: 1px; fill: rgb(128, 177, 211); fill-opacity: 0.6; stroke: rgb(128, 177, 211); stroke-opacity: 0.9;\"/></g><g class=\"point\"><path d=\"M289.06,270V249.88H314.47V270Z\" style=\"vector-effect: non-scaling-stroke; opacity: 1; stroke-width: 1px; fill: rgb(128, 177, 211); fill-opacity: 0.6; stroke: rgb(128, 177, 211); stroke-opacity: 0.9;\"/></g><g class=\"point\"><path d=\"M320.82,270V238.57H346.24V270Z\" style=\"vector-effect: non-scaling-stroke; opacity: 1; stroke-width: 1px; fill: rgb(128, 177, 211); fill-opacity: 0.6; stroke: rgb(128, 177, 211); stroke-opacity: 0.9;\"/></g><g class=\"point\"><path d=\"M352.59,270V242.34H378V270Z\" style=\"vector-effect: non-scaling-stroke; opacity: 1; stroke-width: 1px; fill: rgb(128, 177, 211); fill-opacity: 0.6; stroke: rgb(128, 177, 211); stroke-opacity: 0.9;\"/></g><g class=\"point\"><path d=\"M384.35,270V246.11H409.76V270Z\" style=\"vector-effect: non-scaling-stroke; opacity: 1; stroke-width: 1px; fill: rgb(128, 177, 211); fill-opacity: 0.6; stroke: rgb(128, 177, 211); stroke-opacity: 0.9;\"/></g><g class=\"point\"><path d=\"M416.12,270V249.88H441.53V270Z\" style=\"vector-effect: non-scaling-stroke; opacity: 1; stroke-width: 1px; fill: rgb(128, 177, 211); fill-opacity: 0.6; stroke: rgb(128, 177, 211); stroke-opacity: 0.9;\"/></g><g class=\"point\"><path d=\"M447.88,270V254.91H473.29V270Z\" style=\"vector-effect: non-scaling-stroke; opacity: 1; stroke-width: 1px; fill: rgb(128, 177, 211); fill-opacity: 0.6; stroke: rgb(128, 177, 211); stroke-opacity: 0.9;\"/></g><g class=\"point\"><path d=\"M479.65,270V244.85H505.06V270Z\" style=\"vector-effect: non-scaling-stroke; opacity: 1; stroke-width: 1px; fill: rgb(128, 177, 211); fill-opacity: 0.6; stroke: rgb(128, 177, 211); stroke-opacity: 0.9;\"/></g><g class=\"point\"><path d=\"M511.41,270V246.11H536.82V270Z\" style=\"vector-effect: non-scaling-stroke; opacity: 1; stroke-width: 1px; fill: rgb(128, 177, 211); fill-opacity: 0.6; stroke: rgb(128, 177, 211); stroke-opacity: 0.9;\"/></g></g></g><g class=\"trace bars\" style=\"opacity: 1;\"><g class=\"points\"><g class=\"point\"><path d=\"M3.18,270V270H28.59V270Z\" style=\"vector-effect: non-scaling-stroke; opacity: 1; stroke-width: 1px; fill: rgb(255, 153, 51); fill-opacity: 0.6; stroke: rgb(255, 153, 51); stroke-opacity: 0.9;\"/></g><g class=\"point\"><path d=\"M34.94,270V268.74H60.35V270Z\" style=\"vector-effect: non-scaling-stroke; opacity: 1; stroke-width: 1px; fill: rgb(255, 153, 51); fill-opacity: 0.6; stroke: rgb(255, 153, 51); stroke-opacity: 0.9;\"/></g><g class=\"point\"><path d=\"M66.71,270V270H92.12V270Z\" style=\"vector-effect: non-scaling-stroke; opacity: 1; stroke-width: 1px; fill: rgb(255, 153, 51); fill-opacity: 0.6; stroke: rgb(255, 153, 51); stroke-opacity: 0.9;\"/></g><g class=\"point\"><path d=\"M98.47,270V267.49H123.88V270Z\" style=\"vector-effect: non-scaling-stroke; opacity: 1; stroke-width: 1px; fill: rgb(255, 153, 51); fill-opacity: 0.6; stroke: rgb(255, 153, 51); stroke-opacity: 0.9;\"/></g><g class=\"point\"><path d=\"M130.24,270V267.49H155.65V270Z\" style=\"vector-effect: non-scaling-stroke; opacity: 1; stroke-width: 1px; fill: rgb(255, 153, 51); fill-opacity: 0.6; stroke: rgb(255, 153, 51); stroke-opacity: 0.9;\"/></g><g class=\"point\"><path d=\"M162,270V261.2H187.41V270Z\" style=\"vector-effect: non-scaling-stroke; opacity: 1; stroke-width: 1px; fill: rgb(255, 153, 51); fill-opacity: 0.6; stroke: rgb(255, 153, 51); stroke-opacity: 0.9;\"/></g><g class=\"point\"><path d=\"M193.76,270V259.94H219.18V270Z\" style=\"vector-effect: non-scaling-stroke; opacity: 1; stroke-width: 1px; fill: rgb(255, 153, 51); fill-opacity: 0.6; stroke: rgb(255, 153, 51); stroke-opacity: 0.9;\"/></g><g class=\"point\"><path d=\"M225.53,270V259.94H250.94V270Z\" style=\"vector-effect: non-scaling-stroke; opacity: 1; stroke-width: 1px; fill: rgb(255, 153, 51); fill-opacity: 0.6; stroke: rgb(255, 153, 51); stroke-opacity: 0.9;\"/></g><g class=\"point\"><path d=\"M257.29,270V252.4H282.71V270Z\" style=\"vector-effect: non-scaling-stroke; opacity: 1; stroke-width: 1px; fill: rgb(255, 153, 51); fill-opacity: 0.6; stroke: rgb(255, 153, 51); stroke-opacity: 0.9;\"/></g><g class=\"point\"><path d=\"M289.06,270V264.97H314.47V270Z\" style=\"vector-effect: non-scaling-stroke; opacity: 1; stroke-width: 1px; fill: rgb(255, 153, 51); fill-opacity: 0.6; stroke: rgb(255, 153, 51); stroke-opacity: 0.9;\"/></g><g class=\"point\"><path d=\"M320.82,270V259.94H346.24V270Z\" style=\"vector-effect: non-scaling-stroke; opacity: 1; stroke-width: 1px; fill: rgb(255, 153, 51); fill-opacity: 0.6; stroke: rgb(255, 153, 51); stroke-opacity: 0.9;\"/></g><g class=\"point\"><path d=\"M352.59,270V262.46H378V270Z\" style=\"vector-effect: non-scaling-stroke; opacity: 1; stroke-width: 1px; fill: rgb(255, 153, 51); fill-opacity: 0.6; stroke: rgb(255, 153, 51); stroke-opacity: 0.9;\"/></g><g class=\"point\"><path d=\"M384.35,270V257.43H409.76V270Z\" style=\"vector-effect: non-scaling-stroke; opacity: 1; stroke-width: 1px; fill: rgb(255, 153, 51); fill-opacity: 0.6; stroke: rgb(255, 153, 51); stroke-opacity: 0.9;\"/></g><g class=\"point\"><path d=\"M416.12,270V270H441.53V270Z\" style=\"vector-effect: non-scaling-stroke; opacity: 1; stroke-width: 1px; fill: rgb(255, 153, 51); fill-opacity: 0.6; stroke: rgb(255, 153, 51); stroke-opacity: 0.9;\"/></g><g class=\"point\"><path d=\"M447.88,270V249.88H473.29V270Z\" style=\"vector-effect: non-scaling-stroke; opacity: 1; stroke-width: 1px; fill: rgb(255, 153, 51); fill-opacity: 0.6; stroke: rgb(255, 153, 51); stroke-opacity: 0.9;\"/></g><g class=\"point\"><path d=\"M479.65,270V262.46H505.06V270Z\" style=\"vector-effect: non-scaling-stroke; opacity: 1; stroke-width: 1px; fill: rgb(255, 153, 51); fill-opacity: 0.6; stroke: rgb(255, 153, 51); stroke-opacity: 0.9;\"/></g><g class=\"point\"><path d=\"M511.41,270V257.43H536.82V270Z\" style=\"vector-effect: non-scaling-stroke; opacity: 1; stroke-width: 1px; fill: rgb(255, 153, 51); fill-opacity: 0.6; stroke: rgb(255, 153, 51); stroke-opacity: 0.9;\"/></g></g></g><g class=\"trace bars\" style=\"opacity: 1;\"><g class=\"points\"><g class=\"point\"><path d=\"M3.18,270V270H28.59V270Z\" style=\"vector-effect: non-scaling-stroke; opacity: 1; stroke-width: 1px; fill: rgb(55, 128, 191); fill-opacity: 0.6; stroke: rgb(55, 128, 191); stroke-opacity: 0.9;\"/></g><g class=\"point\"><path d=\"M34.94,270V270H60.35V270Z\" style=\"vector-effect: non-scaling-stroke; opacity: 1; stroke-width: 1px; fill: rgb(55, 128, 191); fill-opacity: 0.6; stroke: rgb(55, 128, 191); stroke-opacity: 0.9;\"/></g><g class=\"point\"><path d=\"M66.71,270V270H92.12V270Z\" style=\"vector-effect: non-scaling-stroke; opacity: 1; stroke-width: 1px; fill: rgb(55, 128, 191); fill-opacity: 0.6; stroke: rgb(55, 128, 191); stroke-opacity: 0.9;\"/></g><g class=\"point\"><path d=\"M98.47,270V268.74H123.88V270Z\" style=\"vector-effect: non-scaling-stroke; opacity: 1; stroke-width: 1px; fill: rgb(55, 128, 191); fill-opacity: 0.6; stroke: rgb(55, 128, 191); stroke-opacity: 0.9;\"/></g><g class=\"point\"><path d=\"M130.24,270V268.74H155.65V270Z\" style=\"vector-effect: non-scaling-stroke; opacity: 1; stroke-width: 1px; fill: rgb(55, 128, 191); fill-opacity: 0.6; stroke: rgb(55, 128, 191); stroke-opacity: 0.9;\"/></g><g class=\"point\"><path d=\"M162,270V263.71H187.41V270Z\" style=\"vector-effect: non-scaling-stroke; opacity: 1; stroke-width: 1px; fill: rgb(55, 128, 191); fill-opacity: 0.6; stroke: rgb(55, 128, 191); stroke-opacity: 0.9;\"/></g><g class=\"point\"><path d=\"M193.76,270V264.97H219.18V270Z\" style=\"vector-effect: non-scaling-stroke; opacity: 1; stroke-width: 1px; fill: rgb(55, 128, 191); fill-opacity: 0.6; stroke: rgb(55, 128, 191); stroke-opacity: 0.9;\"/></g><g class=\"point\"><path d=\"M225.53,270V254.91H250.94V270Z\" style=\"vector-effect: non-scaling-stroke; opacity: 1; stroke-width: 1px; fill: rgb(55, 128, 191); fill-opacity: 0.6; stroke: rgb(55, 128, 191); stroke-opacity: 0.9;\"/></g><g class=\"point\"><path d=\"M257.29,270V238.57H282.71V270Z\" style=\"vector-effect: non-scaling-stroke; opacity: 1; stroke-width: 1px; fill: rgb(55, 128, 191); fill-opacity: 0.6; stroke: rgb(55, 128, 191); stroke-opacity: 0.9;\"/></g><g class=\"point\"><path d=\"M289.06,270V236.05H314.47V270Z\" style=\"vector-effect: non-scaling-stroke; opacity: 1; stroke-width: 1px; fill: rgb(55, 128, 191); fill-opacity: 0.6; stroke: rgb(55, 128, 191); stroke-opacity: 0.9;\"/></g><g class=\"point\"><path d=\"M320.82,270V238.57H346.24V270Z\" style=\"vector-effect: non-scaling-stroke; opacity: 1; stroke-width: 1px; fill: rgb(55, 128, 191); fill-opacity: 0.6; stroke: rgb(55, 128, 191); stroke-opacity: 0.9;\"/></g><g class=\"point\"><path d=\"M352.59,270V249.88H378V270Z\" style=\"vector-effect: non-scaling-stroke; opacity: 1; stroke-width: 1px; fill: rgb(55, 128, 191); fill-opacity: 0.6; stroke: rgb(55, 128, 191); stroke-opacity: 0.9;\"/></g><g class=\"point\"><path d=\"M384.35,270V237.31H409.76V270Z\" style=\"vector-effect: non-scaling-stroke; opacity: 1; stroke-width: 1px; fill: rgb(55, 128, 191); fill-opacity: 0.6; stroke: rgb(55, 128, 191); stroke-opacity: 0.9;\"/></g><g class=\"point\"><path d=\"M416.12,270V241.08H441.53V270Z\" style=\"vector-effect: non-scaling-stroke; opacity: 1; stroke-width: 1px; fill: rgb(55, 128, 191); fill-opacity: 0.6; stroke: rgb(55, 128, 191); stroke-opacity: 0.9;\"/></g><g class=\"point\"><path d=\"M447.88,270V236.05H473.29V270Z\" style=\"vector-effect: non-scaling-stroke; opacity: 1; stroke-width: 1px; fill: rgb(55, 128, 191); fill-opacity: 0.6; stroke: rgb(55, 128, 191); stroke-opacity: 0.9;\"/></g><g class=\"point\"><path d=\"M479.65,270V249.88H505.06V270Z\" style=\"vector-effect: non-scaling-stroke; opacity: 1; stroke-width: 1px; fill: rgb(55, 128, 191); fill-opacity: 0.6; stroke: rgb(55, 128, 191); stroke-opacity: 0.9;\"/></g><g class=\"point\"><path d=\"M511.41,270V246.11H536.82V270Z\" style=\"vector-effect: non-scaling-stroke; opacity: 1; stroke-width: 1px; fill: rgb(55, 128, 191); fill-opacity: 0.6; stroke: rgb(55, 128, 191); stroke-opacity: 0.9;\"/></g></g></g><g class=\"trace bars\" style=\"opacity: 1;\"><g class=\"points\"><g class=\"point\"><path d=\"M3.18,270V270H28.59V270Z\" style=\"vector-effect: non-scaling-stroke; opacity: 1; stroke-width: 1px; fill: rgb(50, 171, 96); fill-opacity: 0.6; stroke: rgb(50, 171, 96); stroke-opacity: 0.9;\"/></g><g class=\"point\"><path d=\"M34.94,270V258.68H60.35V270Z\" style=\"vector-effect: non-scaling-stroke; opacity: 1; stroke-width: 1px; fill: rgb(50, 171, 96); fill-opacity: 0.6; stroke: rgb(50, 171, 96); stroke-opacity: 0.9;\"/></g><g class=\"point\"><path d=\"M66.71,270V222.22H92.12V270Z\" style=\"vector-effect: non-scaling-stroke; opacity: 1; stroke-width: 1px; fill: rgb(50, 171, 96); fill-opacity: 0.6; stroke: rgb(50, 171, 96); stroke-opacity: 0.9;\"/></g><g class=\"point\"><path d=\"M98.47,270V223.48H123.88V270Z\" style=\"vector-effect: non-scaling-stroke; opacity: 1; stroke-width: 1px; fill: rgb(50, 171, 96); fill-opacity: 0.6; stroke: rgb(50, 171, 96); stroke-opacity: 0.9;\"/></g><g class=\"point\"><path d=\"M130.24,270V241.08H155.65V270Z\" style=\"vector-effect: non-scaling-stroke; opacity: 1; stroke-width: 1px; fill: rgb(50, 171, 96); fill-opacity: 0.6; stroke: rgb(50, 171, 96); stroke-opacity: 0.9;\"/></g><g class=\"point\"><path d=\"M162,270V231.02H187.41V270Z\" style=\"vector-effect: non-scaling-stroke; opacity: 1; stroke-width: 1px; fill: rgb(50, 171, 96); fill-opacity: 0.6; stroke: rgb(50, 171, 96); stroke-opacity: 0.9;\"/></g><g class=\"point\"><path d=\"M193.76,270V217.19H219.18V270Z\" style=\"vector-effect: non-scaling-stroke; opacity: 1; stroke-width: 1px; fill: rgb(50, 171, 96); fill-opacity: 0.6; stroke: rgb(50, 171, 96); stroke-opacity: 0.9;\"/></g><g class=\"point\"><path d=\"M225.53,270V168.15H250.94V270Z\" style=\"vector-effect: non-scaling-stroke; opacity: 1; stroke-width: 1px; fill: rgb(50, 171, 96); fill-opacity: 0.6; stroke: rgb(50, 171, 96); stroke-opacity: 0.9;\"/></g><g class=\"point\"><path d=\"M257.29,270V82.65H282.71V270Z\" style=\"vector-effect: non-scaling-stroke; opacity: 1; stroke-width: 1px; fill: rgb(50, 171, 96); fill-opacity: 0.6; stroke: rgb(50, 171, 96); stroke-opacity: 0.9;\"/></g><g class=\"point\"><path d=\"M289.06,270V171.93H314.47V270Z\" style=\"vector-effect: non-scaling-stroke; opacity: 1; stroke-width: 1px; fill: rgb(50, 171, 96); fill-opacity: 0.6; stroke: rgb(50, 171, 96); stroke-opacity: 0.9;\"/></g><g class=\"point\"><path d=\"M320.82,270V168.15H346.24V270Z\" style=\"vector-effect: non-scaling-stroke; opacity: 1; stroke-width: 1px; fill: rgb(50, 171, 96); fill-opacity: 0.6; stroke: rgb(50, 171, 96); stroke-opacity: 0.9;\"/></g><g class=\"point\"><path d=\"M352.59,270V170.67H378V270Z\" style=\"vector-effect: non-scaling-stroke; opacity: 1; stroke-width: 1px; fill: rgb(50, 171, 96); fill-opacity: 0.6; stroke: rgb(50, 171, 96); stroke-opacity: 0.9;\"/></g><g class=\"point\"><path d=\"M384.35,270V115.35H409.76V270Z\" style=\"vector-effect: non-scaling-stroke; opacity: 1; stroke-width: 1px; fill: rgb(50, 171, 96); fill-opacity: 0.6; stroke: rgb(50, 171, 96); stroke-opacity: 0.9;\"/></g><g class=\"point\"><path d=\"M416.12,270V148.04H441.53V270Z\" style=\"vector-effect: non-scaling-stroke; opacity: 1; stroke-width: 1px; fill: rgb(50, 171, 96); fill-opacity: 0.6; stroke: rgb(50, 171, 96); stroke-opacity: 0.9;\"/></g><g class=\"point\"><path d=\"M447.88,270V130.43H473.29V270Z\" style=\"vector-effect: non-scaling-stroke; opacity: 1; stroke-width: 1px; fill: rgb(50, 171, 96); fill-opacity: 0.6; stroke: rgb(50, 171, 96); stroke-opacity: 0.9;\"/></g><g class=\"point\"><path d=\"M479.65,270V164.38H505.06V270Z\" style=\"vector-effect: non-scaling-stroke; opacity: 1; stroke-width: 1px; fill: rgb(50, 171, 96); fill-opacity: 0.6; stroke: rgb(50, 171, 96); stroke-opacity: 0.9;\"/></g><g class=\"point\"><path d=\"M511.41,270V119.12H536.82V270Z\" style=\"vector-effect: non-scaling-stroke; opacity: 1; stroke-width: 1px; fill: rgb(50, 171, 96); fill-opacity: 0.6; stroke: rgb(50, 171, 96); stroke-opacity: 0.9;\"/></g></g></g><g class=\"trace bars\" style=\"opacity: 1;\"><g class=\"points\"><g class=\"point\"><path d=\"M3.18,270V270H28.59V270Z\" style=\"vector-effect: non-scaling-stroke; opacity: 1; stroke-width: 1px; fill: rgb(128, 0, 128); fill-opacity: 0.6; stroke: rgb(128, 0, 128); stroke-opacity: 0.9;\"/></g><g class=\"point\"><path d=\"M34.94,270V270H60.35V270Z\" style=\"vector-effect: non-scaling-stroke; opacity: 1; stroke-width: 1px; fill: rgb(128, 0, 128); fill-opacity: 0.6; stroke: rgb(128, 0, 128); stroke-opacity: 0.9;\"/></g><g class=\"point\"><path d=\"M66.71,270V270H92.12V270Z\" style=\"vector-effect: non-scaling-stroke; opacity: 1; stroke-width: 1px; fill: rgb(128, 0, 128); fill-opacity: 0.6; stroke: rgb(128, 0, 128); stroke-opacity: 0.9;\"/></g><g class=\"point\"><path d=\"M98.47,270V264.97H123.88V270Z\" style=\"vector-effect: non-scaling-stroke; opacity: 1; stroke-width: 1px; fill: rgb(128, 0, 128); fill-opacity: 0.6; stroke: rgb(128, 0, 128); stroke-opacity: 0.9;\"/></g><g class=\"point\"><path d=\"M130.24,270V270H155.65V270Z\" style=\"vector-effect: non-scaling-stroke; opacity: 1; stroke-width: 1px; fill: rgb(128, 0, 128); fill-opacity: 0.6; stroke: rgb(128, 0, 128); stroke-opacity: 0.9;\"/></g><g class=\"point\"><path d=\"M162,270V266.23H187.41V270Z\" style=\"vector-effect: non-scaling-stroke; opacity: 1; stroke-width: 1px; fill: rgb(128, 0, 128); fill-opacity: 0.6; stroke: rgb(128, 0, 128); stroke-opacity: 0.9;\"/></g><g class=\"point\"><path d=\"M193.76,270V270H219.18V270Z\" style=\"vector-effect: non-scaling-stroke; opacity: 1; stroke-width: 1px; fill: rgb(128, 0, 128); fill-opacity: 0.6; stroke: rgb(128, 0, 128); stroke-opacity: 0.9;\"/></g><g class=\"point\"><path d=\"M225.53,270V259.94H250.94V270Z\" style=\"vector-effect: non-scaling-stroke; opacity: 1; stroke-width: 1px; fill: rgb(128, 0, 128); fill-opacity: 0.6; stroke: rgb(128, 0, 128); stroke-opacity: 0.9;\"/></g><g class=\"point\"><path d=\"M257.29,270V263.71H282.71V270Z\" style=\"vector-effect: non-scaling-stroke; opacity: 1; stroke-width: 1px; fill: rgb(128, 0, 128); fill-opacity: 0.6; stroke: rgb(128, 0, 128); stroke-opacity: 0.9;\"/></g><g class=\"point\"><path d=\"M289.06,270V264.97H314.47V270Z\" style=\"vector-effect: non-scaling-stroke; opacity: 1; stroke-width: 1px; fill: rgb(128, 0, 128); fill-opacity: 0.6; stroke: rgb(128, 0, 128); stroke-opacity: 0.9;\"/></g><g class=\"point\"><path d=\"M320.82,270V268.74H346.24V270Z\" style=\"vector-effect: non-scaling-stroke; opacity: 1; stroke-width: 1px; fill: rgb(128, 0, 128); fill-opacity: 0.6; stroke: rgb(128, 0, 128); stroke-opacity: 0.9;\"/></g><g class=\"point\"><path d=\"M352.59,270V266.23H378V270Z\" style=\"vector-effect: non-scaling-stroke; opacity: 1; stroke-width: 1px; fill: rgb(128, 0, 128); fill-opacity: 0.6; stroke: rgb(128, 0, 128); stroke-opacity: 0.9;\"/></g><g class=\"point\"><path d=\"M384.35,270V266.23H409.76V270Z\" style=\"vector-effect: non-scaling-stroke; opacity: 1; stroke-width: 1px; fill: rgb(128, 0, 128); fill-opacity: 0.6; stroke: rgb(128, 0, 128); stroke-opacity: 0.9;\"/></g><g class=\"point\"><path d=\"M416.12,270V268.74H441.53V270Z\" style=\"vector-effect: non-scaling-stroke; opacity: 1; stroke-width: 1px; fill: rgb(128, 0, 128); fill-opacity: 0.6; stroke: rgb(128, 0, 128); stroke-opacity: 0.9;\"/></g><g class=\"point\"><path d=\"M447.88,270V268.74H473.29V270Z\" style=\"vector-effect: non-scaling-stroke; opacity: 1; stroke-width: 1px; fill: rgb(128, 0, 128); fill-opacity: 0.6; stroke: rgb(128, 0, 128); stroke-opacity: 0.9;\"/></g><g class=\"point\"><path d=\"M479.65,270V270H505.06V270Z\" style=\"vector-effect: non-scaling-stroke; opacity: 1; stroke-width: 1px; fill: rgb(128, 0, 128); fill-opacity: 0.6; stroke: rgb(128, 0, 128); stroke-opacity: 0.9;\"/></g><g class=\"point\"><path d=\"M511.41,270V270H536.82V270Z\" style=\"vector-effect: non-scaling-stroke; opacity: 1; stroke-width: 1px; fill: rgb(128, 0, 128); fill-opacity: 0.6; stroke: rgb(128, 0, 128); stroke-opacity: 0.9;\"/></g></g></g><g class=\"trace bars\" style=\"opacity: 1;\"><g class=\"points\"><g class=\"point\"><path d=\"M3.18,270V270H28.59V270Z\" style=\"vector-effect: non-scaling-stroke; opacity: 1; stroke-width: 1px; fill: rgb(219, 64, 82); fill-opacity: 0.6; stroke: rgb(219, 64, 82); stroke-opacity: 0.9;\"/></g><g class=\"point\"><path d=\"M34.94,270V270H60.35V270Z\" style=\"vector-effect: non-scaling-stroke; opacity: 1; stroke-width: 1px; fill: rgb(219, 64, 82); fill-opacity: 0.6; stroke: rgb(219, 64, 82); stroke-opacity: 0.9;\"/></g><g class=\"point\"><path d=\"M66.71,270V266.23H92.12V270Z\" style=\"vector-effect: non-scaling-stroke; opacity: 1; stroke-width: 1px; fill: rgb(219, 64, 82); fill-opacity: 0.6; stroke: rgb(219, 64, 82); stroke-opacity: 0.9;\"/></g><g class=\"point\"><path d=\"M98.47,270V256.17H123.88V270Z\" style=\"vector-effect: non-scaling-stroke; opacity: 1; stroke-width: 1px; fill: rgb(219, 64, 82); fill-opacity: 0.6; stroke: rgb(219, 64, 82); stroke-opacity: 0.9;\"/></g><g class=\"point\"><path d=\"M130.24,270V256.17H155.65V270Z\" style=\"vector-effect: non-scaling-stroke; opacity: 1; stroke-width: 1px; fill: rgb(219, 64, 82); fill-opacity: 0.6; stroke: rgb(219, 64, 82); stroke-opacity: 0.9;\"/></g><g class=\"point\"><path d=\"M162,270V247.37H187.41V270Z\" style=\"vector-effect: non-scaling-stroke; opacity: 1; stroke-width: 1px; fill: rgb(219, 64, 82); fill-opacity: 0.6; stroke: rgb(219, 64, 82); stroke-opacity: 0.9;\"/></g><g class=\"point\"><path d=\"M193.76,270V248.63H219.18V270Z\" style=\"vector-effect: non-scaling-stroke; opacity: 1; stroke-width: 1px; fill: rgb(219, 64, 82); fill-opacity: 0.6; stroke: rgb(219, 64, 82); stroke-opacity: 0.9;\"/></g><g class=\"point\"><path d=\"M225.53,270V219.71H250.94V270Z\" style=\"vector-effect: non-scaling-stroke; opacity: 1; stroke-width: 1px; fill: rgb(219, 64, 82); fill-opacity: 0.6; stroke: rgb(219, 64, 82); stroke-opacity: 0.9;\"/></g><g class=\"point\"><path d=\"M257.29,270V213.42H282.71V270Z\" style=\"vector-effect: non-scaling-stroke; opacity: 1; stroke-width: 1px; fill: rgb(219, 64, 82); fill-opacity: 0.6; stroke: rgb(219, 64, 82); stroke-opacity: 0.9;\"/></g><g class=\"point\"><path d=\"M289.06,270V231.02H314.47V270Z\" style=\"vector-effect: non-scaling-stroke; opacity: 1; stroke-width: 1px; fill: rgb(219, 64, 82); fill-opacity: 0.6; stroke: rgb(219, 64, 82); stroke-opacity: 0.9;\"/></g><g class=\"point\"><path d=\"M320.82,270V239.82H346.24V270Z\" style=\"vector-effect: non-scaling-stroke; opacity: 1; stroke-width: 1px; fill: rgb(219, 64, 82); fill-opacity: 0.6; stroke: rgb(219, 64, 82); stroke-opacity: 0.9;\"/></g><g class=\"point\"><path d=\"M352.59,270V231.02H378V270Z\" style=\"vector-effect: non-scaling-stroke; opacity: 1; stroke-width: 1px; fill: rgb(219, 64, 82); fill-opacity: 0.6; stroke: rgb(219, 64, 82); stroke-opacity: 0.9;\"/></g><g class=\"point\"><path d=\"M384.35,270V242.34H409.76V270Z\" style=\"vector-effect: non-scaling-stroke; opacity: 1; stroke-width: 1px; fill: rgb(219, 64, 82); fill-opacity: 0.6; stroke: rgb(219, 64, 82); stroke-opacity: 0.9;\"/></g><g class=\"point\"><path d=\"M416.12,270V253.65H441.53V270Z\" style=\"vector-effect: non-scaling-stroke; opacity: 1; stroke-width: 1px; fill: rgb(219, 64, 82); fill-opacity: 0.6; stroke: rgb(219, 64, 82); stroke-opacity: 0.9;\"/></g><g class=\"point\"><path d=\"M447.88,270V249.88H473.29V270Z\" style=\"vector-effect: non-scaling-stroke; opacity: 1; stroke-width: 1px; fill: rgb(219, 64, 82); fill-opacity: 0.6; stroke: rgb(219, 64, 82); stroke-opacity: 0.9;\"/></g><g class=\"point\"><path d=\"M479.65,270V256.17H505.06V270Z\" style=\"vector-effect: non-scaling-stroke; opacity: 1; stroke-width: 1px; fill: rgb(219, 64, 82); fill-opacity: 0.6; stroke: rgb(219, 64, 82); stroke-opacity: 0.9;\"/></g><g class=\"point\"><path d=\"M511.41,270V243.6H536.82V270Z\" style=\"vector-effect: non-scaling-stroke; opacity: 1; stroke-width: 1px; fill: rgb(219, 64, 82); fill-opacity: 0.6; stroke: rgb(219, 64, 82); stroke-opacity: 0.9;\"/></g></g></g><g class=\"trace bars\" style=\"opacity: 1;\"><g class=\"points\"><g class=\"point\"><path d=\"M3.18,270V270H28.59V270Z\" style=\"vector-effect: non-scaling-stroke; opacity: 1; stroke-width: 1px; fill: rgb(0, 128, 128); fill-opacity: 0.6; stroke: rgb(0, 128, 128); stroke-opacity: 0.9;\"/></g><g class=\"point\"><path d=\"M34.94,270V270H60.35V270Z\" style=\"vector-effect: non-scaling-stroke; opacity: 1; stroke-width: 1px; fill: rgb(0, 128, 128); fill-opacity: 0.6; stroke: rgb(0, 128, 128); stroke-opacity: 0.9;\"/></g><g class=\"point\"><path d=\"M66.71,270V261.2H92.12V270Z\" style=\"vector-effect: non-scaling-stroke; opacity: 1; stroke-width: 1px; fill: rgb(0, 128, 128); fill-opacity: 0.6; stroke: rgb(0, 128, 128); stroke-opacity: 0.9;\"/></g><g class=\"point\"><path d=\"M98.47,270V262.46H123.88V270Z\" style=\"vector-effect: non-scaling-stroke; opacity: 1; stroke-width: 1px; fill: rgb(0, 128, 128); fill-opacity: 0.6; stroke: rgb(0, 128, 128); stroke-opacity: 0.9;\"/></g><g class=\"point\"><path d=\"M130.24,270V257.43H155.65V270Z\" style=\"vector-effect: non-scaling-stroke; opacity: 1; stroke-width: 1px; fill: rgb(0, 128, 128); fill-opacity: 0.6; stroke: rgb(0, 128, 128); stroke-opacity: 0.9;\"/></g><g class=\"point\"><path d=\"M162,270V249.88H187.41V270Z\" style=\"vector-effect: non-scaling-stroke; opacity: 1; stroke-width: 1px; fill: rgb(0, 128, 128); fill-opacity: 0.6; stroke: rgb(0, 128, 128); stroke-opacity: 0.9;\"/></g><g class=\"point\"><path d=\"M193.76,270V263.71H219.18V270Z\" style=\"vector-effect: non-scaling-stroke; opacity: 1; stroke-width: 1px; fill: rgb(0, 128, 128); fill-opacity: 0.6; stroke: rgb(0, 128, 128); stroke-opacity: 0.9;\"/></g><g class=\"point\"><path d=\"M225.53,270V242.34H250.94V270Z\" style=\"vector-effect: non-scaling-stroke; opacity: 1; stroke-width: 1px; fill: rgb(0, 128, 128); fill-opacity: 0.6; stroke: rgb(0, 128, 128); stroke-opacity: 0.9;\"/></g><g class=\"point\"><path d=\"M257.29,270V253.65H282.71V270Z\" style=\"vector-effect: non-scaling-stroke; opacity: 1; stroke-width: 1px; fill: rgb(0, 128, 128); fill-opacity: 0.6; stroke: rgb(0, 128, 128); stroke-opacity: 0.9;\"/></g><g class=\"point\"><path d=\"M289.06,270V249.88H314.47V270Z\" style=\"vector-effect: non-scaling-stroke; opacity: 1; stroke-width: 1px; fill: rgb(0, 128, 128); fill-opacity: 0.6; stroke: rgb(0, 128, 128); stroke-opacity: 0.9;\"/></g><g class=\"point\"><path d=\"M320.82,270V262.46H346.24V270Z\" style=\"vector-effect: non-scaling-stroke; opacity: 1; stroke-width: 1px; fill: rgb(0, 128, 128); fill-opacity: 0.6; stroke: rgb(0, 128, 128); stroke-opacity: 0.9;\"/></g><g class=\"point\"><path d=\"M352.59,270V256.17H378V270Z\" style=\"vector-effect: non-scaling-stroke; opacity: 1; stroke-width: 1px; fill: rgb(0, 128, 128); fill-opacity: 0.6; stroke: rgb(0, 128, 128); stroke-opacity: 0.9;\"/></g><g class=\"point\"><path d=\"M384.35,270V248.63H409.76V270Z\" style=\"vector-effect: non-scaling-stroke; opacity: 1; stroke-width: 1px; fill: rgb(0, 128, 128); fill-opacity: 0.6; stroke: rgb(0, 128, 128); stroke-opacity: 0.9;\"/></g><g class=\"point\"><path d=\"M416.12,270V264.97H441.53V270Z\" style=\"vector-effect: non-scaling-stroke; opacity: 1; stroke-width: 1px; fill: rgb(0, 128, 128); fill-opacity: 0.6; stroke: rgb(0, 128, 128); stroke-opacity: 0.9;\"/></g><g class=\"point\"><path d=\"M447.88,270V259.94H473.29V270Z\" style=\"vector-effect: non-scaling-stroke; opacity: 1; stroke-width: 1px; fill: rgb(0, 128, 128); fill-opacity: 0.6; stroke: rgb(0, 128, 128); stroke-opacity: 0.9;\"/></g><g class=\"point\"><path d=\"M479.65,270V254.91H505.06V270Z\" style=\"vector-effect: non-scaling-stroke; opacity: 1; stroke-width: 1px; fill: rgb(0, 128, 128); fill-opacity: 0.6; stroke: rgb(0, 128, 128); stroke-opacity: 0.9;\"/></g><g class=\"point\"><path d=\"M511.41,270V258.68H536.82V270Z\" style=\"vector-effect: non-scaling-stroke; opacity: 1; stroke-width: 1px; fill: rgb(0, 128, 128); fill-opacity: 0.6; stroke: rgb(0, 128, 128); stroke-opacity: 0.9;\"/></g></g></g><g class=\"trace bars\" style=\"opacity: 1;\"><g class=\"points\"><g class=\"point\"><path d=\"M3.18,270V270H28.59V270Z\" style=\"vector-effect: non-scaling-stroke; opacity: 1; stroke-width: 1px; fill: rgb(255, 255, 51); fill-opacity: 0.6; stroke: rgb(255, 255, 51); stroke-opacity: 0.9;\"/></g><g class=\"point\"><path d=\"M34.94,270V268.74H60.35V270Z\" style=\"vector-effect: non-scaling-stroke; opacity: 1; stroke-width: 1px; fill: rgb(255, 255, 51); fill-opacity: 0.6; stroke: rgb(255, 255, 51); stroke-opacity: 0.9;\"/></g><g class=\"point\"><path d=\"M66.71,270V264.97H92.12V270Z\" style=\"vector-effect: non-scaling-stroke; opacity: 1; stroke-width: 1px; fill: rgb(255, 255, 51); fill-opacity: 0.6; stroke: rgb(255, 255, 51); stroke-opacity: 0.9;\"/></g><g class=\"point\"><path d=\"M98.47,270V266.23H123.88V270Z\" style=\"vector-effect: non-scaling-stroke; opacity: 1; stroke-width: 1px; fill: rgb(255, 255, 51); fill-opacity: 0.6; stroke: rgb(255, 255, 51); stroke-opacity: 0.9;\"/></g><g class=\"point\"><path d=\"M130.24,270V263.71H155.65V270Z\" style=\"vector-effect: non-scaling-stroke; opacity: 1; stroke-width: 1px; fill: rgb(255, 255, 51); fill-opacity: 0.6; stroke: rgb(255, 255, 51); stroke-opacity: 0.9;\"/></g><g class=\"point\"><path d=\"M162,270V244.85H187.41V270Z\" style=\"vector-effect: non-scaling-stroke; opacity: 1; stroke-width: 1px; fill: rgb(255, 255, 51); fill-opacity: 0.6; stroke: rgb(255, 255, 51); stroke-opacity: 0.9;\"/></g><g class=\"point\"><path d=\"M193.76,270V247.37H219.18V270Z\" style=\"vector-effect: non-scaling-stroke; opacity: 1; stroke-width: 1px; fill: rgb(255, 255, 51); fill-opacity: 0.6; stroke: rgb(255, 255, 51); stroke-opacity: 0.9;\"/></g><g class=\"point\"><path d=\"M225.53,270V225.99H250.94V270Z\" style=\"vector-effect: non-scaling-stroke; opacity: 1; stroke-width: 1px; fill: rgb(255, 255, 51); fill-opacity: 0.6; stroke: rgb(255, 255, 51); stroke-opacity: 0.9;\"/></g><g class=\"point\"><path d=\"M257.29,270V231.02H282.71V270Z\" style=\"vector-effect: non-scaling-stroke; opacity: 1; stroke-width: 1px; fill: rgb(255, 255, 51); fill-opacity: 0.6; stroke: rgb(255, 255, 51); stroke-opacity: 0.9;\"/></g><g class=\"point\"><path d=\"M289.06,270V251.14H314.47V270Z\" style=\"vector-effect: non-scaling-stroke; opacity: 1; stroke-width: 1px; fill: rgb(255, 255, 51); fill-opacity: 0.6; stroke: rgb(255, 255, 51); stroke-opacity: 0.9;\"/></g><g class=\"point\"><path d=\"M320.82,270V242.34H346.24V270Z\" style=\"vector-effect: non-scaling-stroke; opacity: 1; stroke-width: 1px; fill: rgb(255, 255, 51); fill-opacity: 0.6; stroke: rgb(255, 255, 51); stroke-opacity: 0.9;\"/></g><g class=\"point\"><path d=\"M352.59,270V238.57H378V270Z\" style=\"vector-effect: non-scaling-stroke; opacity: 1; stroke-width: 1px; fill: rgb(255, 255, 51); fill-opacity: 0.6; stroke: rgb(255, 255, 51); stroke-opacity: 0.9;\"/></g><g class=\"point\"><path d=\"M384.35,270V239.82H409.76V270Z\" style=\"vector-effect: non-scaling-stroke; opacity: 1; stroke-width: 1px; fill: rgb(255, 255, 51); fill-opacity: 0.6; stroke: rgb(255, 255, 51); stroke-opacity: 0.9;\"/></g><g class=\"point\"><path d=\"M416.12,270V256.17H441.53V270Z\" style=\"vector-effect: non-scaling-stroke; opacity: 1; stroke-width: 1px; fill: rgb(255, 255, 51); fill-opacity: 0.6; stroke: rgb(255, 255, 51); stroke-opacity: 0.9;\"/></g><g class=\"point\"><path d=\"M447.88,270V249.88H473.29V270Z\" style=\"vector-effect: non-scaling-stroke; opacity: 1; stroke-width: 1px; fill: rgb(255, 255, 51); fill-opacity: 0.6; stroke: rgb(255, 255, 51); stroke-opacity: 0.9;\"/></g><g class=\"point\"><path d=\"M479.65,270V251.14H505.06V270Z\" style=\"vector-effect: non-scaling-stroke; opacity: 1; stroke-width: 1px; fill: rgb(255, 255, 51); fill-opacity: 0.6; stroke: rgb(255, 255, 51); stroke-opacity: 0.9;\"/></g><g class=\"point\"><path d=\"M511.41,270V242.34H536.82V270Z\" style=\"vector-effect: non-scaling-stroke; opacity: 1; stroke-width: 1px; fill: rgb(255, 255, 51); fill-opacity: 0.6; stroke: rgb(255, 255, 51); stroke-opacity: 0.9;\"/></g></g></g><g class=\"trace bars\" style=\"opacity: 1;\"><g class=\"points\"><g class=\"point\"><path d=\"M3.18,270V268.74H28.59V270Z\" style=\"vector-effect: non-scaling-stroke; opacity: 1; stroke-width: 1px; fill: rgb(128, 128, 0); fill-opacity: 0.6; stroke: rgb(128, 128, 0); stroke-opacity: 0.9;\"/></g><g class=\"point\"><path d=\"M34.94,270V259.94H60.35V270Z\" style=\"vector-effect: non-scaling-stroke; opacity: 1; stroke-width: 1px; fill: rgb(128, 128, 0); fill-opacity: 0.6; stroke: rgb(128, 128, 0); stroke-opacity: 0.9;\"/></g><g class=\"point\"><path d=\"M66.71,270V241.08H92.12V270Z\" style=\"vector-effect: non-scaling-stroke; opacity: 1; stroke-width: 1px; fill: rgb(128, 128, 0); fill-opacity: 0.6; stroke: rgb(128, 128, 0); stroke-opacity: 0.9;\"/></g><g class=\"point\"><path d=\"M98.47,270V207.13H123.88V270Z\" style=\"vector-effect: non-scaling-stroke; opacity: 1; stroke-width: 1px; fill: rgb(128, 128, 0); fill-opacity: 0.6; stroke: rgb(128, 128, 0); stroke-opacity: 0.9;\"/></g><g class=\"point\"><path d=\"M130.24,270V189.53H155.65V270Z\" style=\"vector-effect: non-scaling-stroke; opacity: 1; stroke-width: 1px; fill: rgb(128, 128, 0); fill-opacity: 0.6; stroke: rgb(128, 128, 0); stroke-opacity: 0.9;\"/></g><g class=\"point\"><path d=\"M162,270V139.24H187.41V270Z\" style=\"vector-effect: non-scaling-stroke; opacity: 1; stroke-width: 1px; fill: rgb(128, 128, 0); fill-opacity: 0.6; stroke: rgb(128, 128, 0); stroke-opacity: 0.9;\"/></g><g class=\"point\"><path d=\"M193.76,270V140.49H219.18V270Z\" style=\"vector-effect: non-scaling-stroke; opacity: 1; stroke-width: 1px; fill: rgb(128, 128, 0); fill-opacity: 0.6; stroke: rgb(128, 128, 0); stroke-opacity: 0.9;\"/></g><g class=\"point\"><path d=\"M225.53,270V26.07H250.94V270Z\" style=\"vector-effect: non-scaling-stroke; opacity: 1; stroke-width: 1px; fill: rgb(128, 128, 0); fill-opacity: 0.6; stroke: rgb(128, 128, 0); stroke-opacity: 0.9;\"/></g><g class=\"point\"><path d=\"M257.29,270V13.5H282.71V270Z\" style=\"vector-effect: non-scaling-stroke; opacity: 1; stroke-width: 1px; fill: rgb(128, 128, 0); fill-opacity: 0.6; stroke: rgb(128, 128, 0); stroke-opacity: 0.9;\"/></g><g class=\"point\"><path d=\"M289.06,270V106.54H314.47V270Z\" style=\"vector-effect: non-scaling-stroke; opacity: 1; stroke-width: 1px; fill: rgb(128, 128, 0); fill-opacity: 0.6; stroke: rgb(128, 128, 0); stroke-opacity: 0.9;\"/></g><g class=\"point\"><path d=\"M320.82,270V95.23H346.24V270Z\" style=\"vector-effect: non-scaling-stroke; opacity: 1; stroke-width: 1px; fill: rgb(128, 128, 0); fill-opacity: 0.6; stroke: rgb(128, 128, 0); stroke-opacity: 0.9;\"/></g><g class=\"point\"><path d=\"M352.59,270V104.03H378V270Z\" style=\"vector-effect: non-scaling-stroke; opacity: 1; stroke-width: 1px; fill: rgb(128, 128, 0); fill-opacity: 0.6; stroke: rgb(128, 128, 0); stroke-opacity: 0.9;\"/></g><g class=\"point\"><path d=\"M384.35,270V46.19H409.76V270Z\" style=\"vector-effect: non-scaling-stroke; opacity: 1; stroke-width: 1px; fill: rgb(128, 128, 0); fill-opacity: 0.6; stroke: rgb(128, 128, 0); stroke-opacity: 0.9;\"/></g><g class=\"point\"><path d=\"M416.12,270V107.8H441.53V270Z\" style=\"vector-effect: non-scaling-stroke; opacity: 1; stroke-width: 1px; fill: rgb(128, 128, 0); fill-opacity: 0.6; stroke: rgb(128, 128, 0); stroke-opacity: 0.9;\"/></g><g class=\"point\"><path d=\"M447.88,270V76.37H473.29V270Z\" style=\"vector-effect: non-scaling-stroke; opacity: 1; stroke-width: 1px; fill: rgb(128, 128, 0); fill-opacity: 0.6; stroke: rgb(128, 128, 0); stroke-opacity: 0.9;\"/></g><g class=\"point\"><path d=\"M479.65,270V110.32H505.06V270Z\" style=\"vector-effect: non-scaling-stroke; opacity: 1; stroke-width: 1px; fill: rgb(128, 128, 0); fill-opacity: 0.6; stroke: rgb(128, 128, 0); stroke-opacity: 0.9;\"/></g><g class=\"point\"><path d=\"M511.41,270V63.79H536.82V270Z\" style=\"vector-effect: non-scaling-stroke; opacity: 1; stroke-width: 1px; fill: rgb(128, 128, 0); fill-opacity: 0.6; stroke: rgb(128, 128, 0); stroke-opacity: 0.9;\"/></g></g></g><g class=\"trace bars\" style=\"opacity: 1;\"><g class=\"points\"><g class=\"point\"><path d=\"M3.18,270V270H28.59V270Z\" style=\"vector-effect: non-scaling-stroke; opacity: 1; stroke-width: 1px; fill: rgb(251, 128, 114); fill-opacity: 0.6; stroke: rgb(251, 128, 114); stroke-opacity: 0.9;\"/></g><g class=\"point\"><path d=\"M34.94,270V270H60.35V270Z\" style=\"vector-effect: non-scaling-stroke; opacity: 1; stroke-width: 1px; fill: rgb(251, 128, 114); fill-opacity: 0.6; stroke: rgb(251, 128, 114); stroke-opacity: 0.9;\"/></g><g class=\"point\"><path d=\"M66.71,270V270H92.12V270Z\" style=\"vector-effect: non-scaling-stroke; opacity: 1; stroke-width: 1px; fill: rgb(251, 128, 114); fill-opacity: 0.6; stroke: rgb(251, 128, 114); stroke-opacity: 0.9;\"/></g><g class=\"point\"><path d=\"M98.47,270V268.74H123.88V270Z\" style=\"vector-effect: non-scaling-stroke; opacity: 1; stroke-width: 1px; fill: rgb(251, 128, 114); fill-opacity: 0.6; stroke: rgb(251, 128, 114); stroke-opacity: 0.9;\"/></g><g class=\"point\"><path d=\"M130.24,270V268.74H155.65V270Z\" style=\"vector-effect: non-scaling-stroke; opacity: 1; stroke-width: 1px; fill: rgb(251, 128, 114); fill-opacity: 0.6; stroke: rgb(251, 128, 114); stroke-opacity: 0.9;\"/></g><g class=\"point\"><path d=\"M162,270V262.46H187.41V270Z\" style=\"vector-effect: non-scaling-stroke; opacity: 1; stroke-width: 1px; fill: rgb(251, 128, 114); fill-opacity: 0.6; stroke: rgb(251, 128, 114); stroke-opacity: 0.9;\"/></g><g class=\"point\"><path d=\"M193.76,270V261.2H219.18V270Z\" style=\"vector-effect: non-scaling-stroke; opacity: 1; stroke-width: 1px; fill: rgb(251, 128, 114); fill-opacity: 0.6; stroke: rgb(251, 128, 114); stroke-opacity: 0.9;\"/></g><g class=\"point\"><path d=\"M225.53,270V266.23H250.94V270Z\" style=\"vector-effect: non-scaling-stroke; opacity: 1; stroke-width: 1px; fill: rgb(251, 128, 114); fill-opacity: 0.6; stroke: rgb(251, 128, 114); stroke-opacity: 0.9;\"/></g><g class=\"point\"><path d=\"M257.29,270V266.23H282.71V270Z\" style=\"vector-effect: non-scaling-stroke; opacity: 1; stroke-width: 1px; fill: rgb(251, 128, 114); fill-opacity: 0.6; stroke: rgb(251, 128, 114); stroke-opacity: 0.9;\"/></g><g class=\"point\"><path d=\"M289.06,270V266.23H314.47V270Z\" style=\"vector-effect: non-scaling-stroke; opacity: 1; stroke-width: 1px; fill: rgb(251, 128, 114); fill-opacity: 0.6; stroke: rgb(251, 128, 114); stroke-opacity: 0.9;\"/></g><g class=\"point\"><path d=\"M320.82,270V266.23H346.24V270Z\" style=\"vector-effect: non-scaling-stroke; opacity: 1; stroke-width: 1px; fill: rgb(251, 128, 114); fill-opacity: 0.6; stroke: rgb(251, 128, 114); stroke-opacity: 0.9;\"/></g><g class=\"point\"><path d=\"M352.59,270V270H378V270Z\" style=\"vector-effect: non-scaling-stroke; opacity: 1; stroke-width: 1px; fill: rgb(251, 128, 114); fill-opacity: 0.6; stroke: rgb(251, 128, 114); stroke-opacity: 0.9;\"/></g><g class=\"point\"><path d=\"M384.35,270V268.74H409.76V270Z\" style=\"vector-effect: non-scaling-stroke; opacity: 1; stroke-width: 1px; fill: rgb(251, 128, 114); fill-opacity: 0.6; stroke: rgb(251, 128, 114); stroke-opacity: 0.9;\"/></g><g class=\"point\"><path d=\"M416.12,270V267.49H441.53V270Z\" style=\"vector-effect: non-scaling-stroke; opacity: 1; stroke-width: 1px; fill: rgb(251, 128, 114); fill-opacity: 0.6; stroke: rgb(251, 128, 114); stroke-opacity: 0.9;\"/></g><g class=\"point\"><path d=\"M447.88,270V266.23H473.29V270Z\" style=\"vector-effect: non-scaling-stroke; opacity: 1; stroke-width: 1px; fill: rgb(251, 128, 114); fill-opacity: 0.6; stroke: rgb(251, 128, 114); stroke-opacity: 0.9;\"/></g><g class=\"point\"><path d=\"M479.65,270V267.49H505.06V270Z\" style=\"vector-effect: non-scaling-stroke; opacity: 1; stroke-width: 1px; fill: rgb(251, 128, 114); fill-opacity: 0.6; stroke: rgb(251, 128, 114); stroke-opacity: 0.9;\"/></g><g class=\"point\"><path d=\"M511.41,270V268.74H536.82V270Z\" style=\"vector-effect: non-scaling-stroke; opacity: 1; stroke-width: 1px; fill: rgb(251, 128, 114); fill-opacity: 0.6; stroke: rgb(251, 128, 114); stroke-opacity: 0.9;\"/></g></g></g><g class=\"trace bars\" style=\"opacity: 1;\"><g class=\"points\"><g class=\"point\"><path d=\"M3.18,270V270H28.59V270Z\" style=\"vector-effect: non-scaling-stroke; opacity: 1; stroke-width: 1px; fill: rgb(251, 128, 114); fill-opacity: 0.6; stroke: rgb(251, 128, 114); stroke-opacity: 0.8;\"/></g><g class=\"point\"><path d=\"M34.94,270V270H60.35V270Z\" style=\"vector-effect: non-scaling-stroke; opacity: 1; stroke-width: 1px; fill: rgb(251, 128, 114); fill-opacity: 0.6; stroke: rgb(251, 128, 114); stroke-opacity: 0.8;\"/></g><g class=\"point\"><path d=\"M66.71,270V270H92.12V270Z\" style=\"vector-effect: non-scaling-stroke; opacity: 1; stroke-width: 1px; fill: rgb(251, 128, 114); fill-opacity: 0.6; stroke: rgb(251, 128, 114); stroke-opacity: 0.8;\"/></g><g class=\"point\"><path d=\"M98.47,270V268.74H123.88V270Z\" style=\"vector-effect: non-scaling-stroke; opacity: 1; stroke-width: 1px; fill: rgb(251, 128, 114); fill-opacity: 0.6; stroke: rgb(251, 128, 114); stroke-opacity: 0.8;\"/></g><g class=\"point\"><path d=\"M130.24,270V266.23H155.65V270Z\" style=\"vector-effect: non-scaling-stroke; opacity: 1; stroke-width: 1px; fill: rgb(251, 128, 114); fill-opacity: 0.6; stroke: rgb(251, 128, 114); stroke-opacity: 0.8;\"/></g><g class=\"point\"><path d=\"M162,270V266.23H187.41V270Z\" style=\"vector-effect: non-scaling-stroke; opacity: 1; stroke-width: 1px; fill: rgb(251, 128, 114); fill-opacity: 0.6; stroke: rgb(251, 128, 114); stroke-opacity: 0.8;\"/></g><g class=\"point\"><path d=\"M193.76,270V270H219.18V270Z\" style=\"vector-effect: non-scaling-stroke; opacity: 1; stroke-width: 1px; fill: rgb(251, 128, 114); fill-opacity: 0.6; stroke: rgb(251, 128, 114); stroke-opacity: 0.8;\"/></g><g class=\"point\"><path d=\"M225.53,270V267.49H250.94V270Z\" style=\"vector-effect: non-scaling-stroke; opacity: 1; stroke-width: 1px; fill: rgb(251, 128, 114); fill-opacity: 0.6; stroke: rgb(251, 128, 114); stroke-opacity: 0.8;\"/></g><g class=\"point\"><path d=\"M257.29,270V267.49H282.71V270Z\" style=\"vector-effect: non-scaling-stroke; opacity: 1; stroke-width: 1px; fill: rgb(251, 128, 114); fill-opacity: 0.6; stroke: rgb(251, 128, 114); stroke-opacity: 0.8;\"/></g><g class=\"point\"><path d=\"M289.06,270V270H314.47V270Z\" style=\"vector-effect: non-scaling-stroke; opacity: 1; stroke-width: 1px; fill: rgb(251, 128, 114); fill-opacity: 0.6; stroke: rgb(251, 128, 114); stroke-opacity: 0.8;\"/></g><g class=\"point\"><path d=\"M320.82,270V268.74H346.24V270Z\" style=\"vector-effect: non-scaling-stroke; opacity: 1; stroke-width: 1px; fill: rgb(251, 128, 114); fill-opacity: 0.6; stroke: rgb(251, 128, 114); stroke-opacity: 0.8;\"/></g><g class=\"point\"><path d=\"M352.59,270V268.74H378V270Z\" style=\"vector-effect: non-scaling-stroke; opacity: 1; stroke-width: 1px; fill: rgb(251, 128, 114); fill-opacity: 0.6; stroke: rgb(251, 128, 114); stroke-opacity: 0.8;\"/></g><g class=\"point\"><path d=\"M384.35,270V266.23H409.76V270Z\" style=\"vector-effect: non-scaling-stroke; opacity: 1; stroke-width: 1px; fill: rgb(251, 128, 114); fill-opacity: 0.6; stroke: rgb(251, 128, 114); stroke-opacity: 0.8;\"/></g><g class=\"point\"><path d=\"M416.12,270V268.74H441.53V270Z\" style=\"vector-effect: non-scaling-stroke; opacity: 1; stroke-width: 1px; fill: rgb(251, 128, 114); fill-opacity: 0.6; stroke: rgb(251, 128, 114); stroke-opacity: 0.8;\"/></g><g class=\"point\"><path d=\"M447.88,270V270H473.29V270Z\" style=\"vector-effect: non-scaling-stroke; opacity: 1; stroke-width: 1px; fill: rgb(251, 128, 114); fill-opacity: 0.6; stroke: rgb(251, 128, 114); stroke-opacity: 0.8;\"/></g><g class=\"point\"><path d=\"M479.65,270V270H505.06V270Z\" style=\"vector-effect: non-scaling-stroke; opacity: 1; stroke-width: 1px; fill: rgb(251, 128, 114); fill-opacity: 0.6; stroke: rgb(251, 128, 114); stroke-opacity: 0.8;\"/></g><g class=\"point\"><path d=\"M511.41,270V270H536.82V270Z\" style=\"vector-effect: non-scaling-stroke; opacity: 1; stroke-width: 1px; fill: rgb(251, 128, 114); fill-opacity: 0.6; stroke: rgb(251, 128, 114); stroke-opacity: 0.8;\"/></g></g></g><g class=\"trace bars\" style=\"opacity: 1;\"><g class=\"points\"><g class=\"point\"><path d=\"M3.18,270V270H28.59V270Z\" style=\"vector-effect: non-scaling-stroke; opacity: 1; stroke-width: 1px; fill: rgb(128, 177, 211); fill-opacity: 0.6; stroke: rgb(128, 177, 211); stroke-opacity: 0.8;\"/></g><g class=\"point\"><path d=\"M34.94,270V270H60.35V270Z\" style=\"vector-effect: non-scaling-stroke; opacity: 1; stroke-width: 1px; fill: rgb(128, 177, 211); fill-opacity: 0.6; stroke: rgb(128, 177, 211); stroke-opacity: 0.8;\"/></g><g class=\"point\"><path d=\"M66.71,270V268.74H92.12V270Z\" style=\"vector-effect: non-scaling-stroke; opacity: 1; stroke-width: 1px; fill: rgb(128, 177, 211); fill-opacity: 0.6; stroke: rgb(128, 177, 211); stroke-opacity: 0.8;\"/></g><g class=\"point\"><path d=\"M98.47,270V270H123.88V270Z\" style=\"vector-effect: non-scaling-stroke; opacity: 1; stroke-width: 1px; fill: rgb(128, 177, 211); fill-opacity: 0.6; stroke: rgb(128, 177, 211); stroke-opacity: 0.8;\"/></g><g class=\"point\"><path d=\"M130.24,270V266.23H155.65V270Z\" style=\"vector-effect: non-scaling-stroke; opacity: 1; stroke-width: 1px; fill: rgb(128, 177, 211); fill-opacity: 0.6; stroke: rgb(128, 177, 211); stroke-opacity: 0.8;\"/></g><g class=\"point\"><path d=\"M162,270V266.23H187.41V270Z\" style=\"vector-effect: non-scaling-stroke; opacity: 1; stroke-width: 1px; fill: rgb(128, 177, 211); fill-opacity: 0.6; stroke: rgb(128, 177, 211); stroke-opacity: 0.8;\"/></g><g class=\"point\"><path d=\"M193.76,270V268.74H219.18V270Z\" style=\"vector-effect: non-scaling-stroke; opacity: 1; stroke-width: 1px; fill: rgb(128, 177, 211); fill-opacity: 0.6; stroke: rgb(128, 177, 211); stroke-opacity: 0.8;\"/></g><g class=\"point\"><path d=\"M225.53,270V263.71H250.94V270Z\" style=\"vector-effect: non-scaling-stroke; opacity: 1; stroke-width: 1px; fill: rgb(128, 177, 211); fill-opacity: 0.6; stroke: rgb(128, 177, 211); stroke-opacity: 0.8;\"/></g><g class=\"point\"><path d=\"M257.29,270V263.71H282.71V270Z\" style=\"vector-effect: non-scaling-stroke; opacity: 1; stroke-width: 1px; fill: rgb(128, 177, 211); fill-opacity: 0.6; stroke: rgb(128, 177, 211); stroke-opacity: 0.8;\"/></g><g class=\"point\"><path d=\"M289.06,270V264.97H314.47V270Z\" style=\"vector-effect: non-scaling-stroke; opacity: 1; stroke-width: 1px; fill: rgb(128, 177, 211); fill-opacity: 0.6; stroke: rgb(128, 177, 211); stroke-opacity: 0.8;\"/></g><g class=\"point\"><path d=\"M320.82,270V268.74H346.24V270Z\" style=\"vector-effect: non-scaling-stroke; opacity: 1; stroke-width: 1px; fill: rgb(128, 177, 211); fill-opacity: 0.6; stroke: rgb(128, 177, 211); stroke-opacity: 0.8;\"/></g><g class=\"point\"><path d=\"M352.59,270V268.74H378V270Z\" style=\"vector-effect: non-scaling-stroke; opacity: 1; stroke-width: 1px; fill: rgb(128, 177, 211); fill-opacity: 0.6; stroke: rgb(128, 177, 211); stroke-opacity: 0.8;\"/></g><g class=\"point\"><path d=\"M384.35,270V267.49H409.76V270Z\" style=\"vector-effect: non-scaling-stroke; opacity: 1; stroke-width: 1px; fill: rgb(128, 177, 211); fill-opacity: 0.6; stroke: rgb(128, 177, 211); stroke-opacity: 0.8;\"/></g><g class=\"point\"><path d=\"M416.12,270V267.49H441.53V270Z\" style=\"vector-effect: non-scaling-stroke; opacity: 1; stroke-width: 1px; fill: rgb(128, 177, 211); fill-opacity: 0.6; stroke: rgb(128, 177, 211); stroke-opacity: 0.8;\"/></g><g class=\"point\"><path d=\"M447.88,270V270H473.29V270Z\" style=\"vector-effect: non-scaling-stroke; opacity: 1; stroke-width: 1px; fill: rgb(128, 177, 211); fill-opacity: 0.6; stroke: rgb(128, 177, 211); stroke-opacity: 0.8;\"/></g><g class=\"point\"><path d=\"M479.65,270V270H505.06V270Z\" style=\"vector-effect: non-scaling-stroke; opacity: 1; stroke-width: 1px; fill: rgb(128, 177, 211); fill-opacity: 0.6; stroke: rgb(128, 177, 211); stroke-opacity: 0.8;\"/></g><g class=\"point\"><path d=\"M511.41,270V263.71H536.82V270Z\" style=\"vector-effect: non-scaling-stroke; opacity: 1; stroke-width: 1px; fill: rgb(128, 177, 211); fill-opacity: 0.6; stroke: rgb(128, 177, 211); stroke-opacity: 0.8;\"/></g></g></g><g class=\"trace bars\" style=\"opacity: 1;\"><g class=\"points\"><g class=\"point\"><path d=\"M3.18,270V270H28.59V270Z\" style=\"vector-effect: non-scaling-stroke; opacity: 1; stroke-width: 1px; fill: rgb(255, 153, 51); fill-opacity: 0.6; stroke: rgb(255, 153, 51); stroke-opacity: 0.8;\"/></g><g class=\"point\"><path d=\"M34.94,270V270H60.35V270Z\" style=\"vector-effect: non-scaling-stroke; opacity: 1; stroke-width: 1px; fill: rgb(255, 153, 51); fill-opacity: 0.6; stroke: rgb(255, 153, 51); stroke-opacity: 0.8;\"/></g><g class=\"point\"><path d=\"M66.71,270V270H92.12V270Z\" style=\"vector-effect: non-scaling-stroke; opacity: 1; stroke-width: 1px; fill: rgb(255, 153, 51); fill-opacity: 0.6; stroke: rgb(255, 153, 51); stroke-opacity: 0.8;\"/></g><g class=\"point\"><path d=\"M98.47,270V268.74H123.88V270Z\" style=\"vector-effect: non-scaling-stroke; opacity: 1; stroke-width: 1px; fill: rgb(255, 153, 51); fill-opacity: 0.6; stroke: rgb(255, 153, 51); stroke-opacity: 0.8;\"/></g><g class=\"point\"><path d=\"M130.24,270V264.97H155.65V270Z\" style=\"vector-effect: non-scaling-stroke; opacity: 1; stroke-width: 1px; fill: rgb(255, 153, 51); fill-opacity: 0.6; stroke: rgb(255, 153, 51); stroke-opacity: 0.8;\"/></g><g class=\"point\"><path d=\"M162,270V268.74H187.41V270Z\" style=\"vector-effect: non-scaling-stroke; opacity: 1; stroke-width: 1px; fill: rgb(255, 153, 51); fill-opacity: 0.6; stroke: rgb(255, 153, 51); stroke-opacity: 0.8;\"/></g><g class=\"point\"><path d=\"M193.76,270V270H219.18V270Z\" style=\"vector-effect: non-scaling-stroke; opacity: 1; stroke-width: 1px; fill: rgb(255, 153, 51); fill-opacity: 0.6; stroke: rgb(255, 153, 51); stroke-opacity: 0.8;\"/></g><g class=\"point\"><path d=\"M225.53,270V264.97H250.94V270Z\" style=\"vector-effect: non-scaling-stroke; opacity: 1; stroke-width: 1px; fill: rgb(255, 153, 51); fill-opacity: 0.6; stroke: rgb(255, 153, 51); stroke-opacity: 0.8;\"/></g><g class=\"point\"><path d=\"M257.29,270V270H282.71V270Z\" style=\"vector-effect: non-scaling-stroke; opacity: 1; stroke-width: 1px; fill: rgb(255, 153, 51); fill-opacity: 0.6; stroke: rgb(255, 153, 51); stroke-opacity: 0.8;\"/></g><g class=\"point\"><path d=\"M289.06,270V268.74H314.47V270Z\" style=\"vector-effect: non-scaling-stroke; opacity: 1; stroke-width: 1px; fill: rgb(255, 153, 51); fill-opacity: 0.6; stroke: rgb(255, 153, 51); stroke-opacity: 0.8;\"/></g><g class=\"point\"><path d=\"M320.82,270V263.71H346.24V270Z\" style=\"vector-effect: non-scaling-stroke; opacity: 1; stroke-width: 1px; fill: rgb(255, 153, 51); fill-opacity: 0.6; stroke: rgb(255, 153, 51); stroke-opacity: 0.8;\"/></g><g class=\"point\"><path d=\"M352.59,270V267.49H378V270Z\" style=\"vector-effect: non-scaling-stroke; opacity: 1; stroke-width: 1px; fill: rgb(255, 153, 51); fill-opacity: 0.6; stroke: rgb(255, 153, 51); stroke-opacity: 0.8;\"/></g><g class=\"point\"><path d=\"M384.35,270V266.23H409.76V270Z\" style=\"vector-effect: non-scaling-stroke; opacity: 1; stroke-width: 1px; fill: rgb(255, 153, 51); fill-opacity: 0.6; stroke: rgb(255, 153, 51); stroke-opacity: 0.8;\"/></g><g class=\"point\"><path d=\"M416.12,270V266.23H441.53V270Z\" style=\"vector-effect: non-scaling-stroke; opacity: 1; stroke-width: 1px; fill: rgb(255, 153, 51); fill-opacity: 0.6; stroke: rgb(255, 153, 51); stroke-opacity: 0.8;\"/></g><g class=\"point\"><path d=\"M447.88,270V267.49H473.29V270Z\" style=\"vector-effect: non-scaling-stroke; opacity: 1; stroke-width: 1px; fill: rgb(255, 153, 51); fill-opacity: 0.6; stroke: rgb(255, 153, 51); stroke-opacity: 0.8;\"/></g><g class=\"point\"><path d=\"M479.65,270V266.23H505.06V270Z\" style=\"vector-effect: non-scaling-stroke; opacity: 1; stroke-width: 1px; fill: rgb(255, 153, 51); fill-opacity: 0.6; stroke: rgb(255, 153, 51); stroke-opacity: 0.8;\"/></g><g class=\"point\"><path d=\"M511.41,270V267.49H536.82V270Z\" style=\"vector-effect: non-scaling-stroke; opacity: 1; stroke-width: 1px; fill: rgb(255, 153, 51); fill-opacity: 0.6; stroke: rgb(255, 153, 51); stroke-opacity: 0.8;\"/></g></g></g><g class=\"trace bars\" style=\"opacity: 1;\"><g class=\"points\"><g class=\"point\"><path d=\"M3.18,270V270H28.59V270Z\" style=\"vector-effect: non-scaling-stroke; opacity: 1; stroke-width: 1px; fill: rgb(55, 128, 191); fill-opacity: 0.6; stroke: rgb(55, 128, 191); stroke-opacity: 0.8;\"/></g><g class=\"point\"><path d=\"M34.94,270V268.74H60.35V270Z\" style=\"vector-effect: non-scaling-stroke; opacity: 1; stroke-width: 1px; fill: rgb(55, 128, 191); fill-opacity: 0.6; stroke: rgb(55, 128, 191); stroke-opacity: 0.8;\"/></g><g class=\"point\"><path d=\"M66.71,270V257.43H92.12V270Z\" style=\"vector-effect: non-scaling-stroke; opacity: 1; stroke-width: 1px; fill: rgb(55, 128, 191); fill-opacity: 0.6; stroke: rgb(55, 128, 191); stroke-opacity: 0.8;\"/></g><g class=\"point\"><path d=\"M98.47,270V244.85H123.88V270Z\" style=\"vector-effect: non-scaling-stroke; opacity: 1; stroke-width: 1px; fill: rgb(55, 128, 191); fill-opacity: 0.6; stroke: rgb(55, 128, 191); stroke-opacity: 0.8;\"/></g><g class=\"point\"><path d=\"M130.24,270V247.37H155.65V270Z\" style=\"vector-effect: non-scaling-stroke; opacity: 1; stroke-width: 1px; fill: rgb(55, 128, 191); fill-opacity: 0.6; stroke: rgb(55, 128, 191); stroke-opacity: 0.8;\"/></g><g class=\"point\"><path d=\"M162,270V238.57H187.41V270Z\" style=\"vector-effect: non-scaling-stroke; opacity: 1; stroke-width: 1px; fill: rgb(55, 128, 191); fill-opacity: 0.6; stroke: rgb(55, 128, 191); stroke-opacity: 0.8;\"/></g><g class=\"point\"><path d=\"M193.76,270V215.93H219.18V270Z\" style=\"vector-effect: non-scaling-stroke; opacity: 1; stroke-width: 1px; fill: rgb(55, 128, 191); fill-opacity: 0.6; stroke: rgb(55, 128, 191); stroke-opacity: 0.8;\"/></g><g class=\"point\"><path d=\"M225.53,270V176.96H250.94V270Z\" style=\"vector-effect: non-scaling-stroke; opacity: 1; stroke-width: 1px; fill: rgb(55, 128, 191); fill-opacity: 0.6; stroke: rgb(55, 128, 191); stroke-opacity: 0.8;\"/></g><g class=\"point\"><path d=\"M257.29,270V171.93H282.71V270Z\" style=\"vector-effect: non-scaling-stroke; opacity: 1; stroke-width: 1px; fill: rgb(55, 128, 191); fill-opacity: 0.6; stroke: rgb(55, 128, 191); stroke-opacity: 0.8;\"/></g><g class=\"point\"><path d=\"M289.06,270V212.16H314.47V270Z\" style=\"vector-effect: non-scaling-stroke; opacity: 1; stroke-width: 1px; fill: rgb(55, 128, 191); fill-opacity: 0.6; stroke: rgb(55, 128, 191); stroke-opacity: 0.8;\"/></g><g class=\"point\"><path d=\"M320.82,270V215.93H346.24V270Z\" style=\"vector-effect: non-scaling-stroke; opacity: 1; stroke-width: 1px; fill: rgb(55, 128, 191); fill-opacity: 0.6; stroke: rgb(55, 128, 191); stroke-opacity: 0.8;\"/></g><g class=\"point\"><path d=\"M352.59,270V213.42H378V270Z\" style=\"vector-effect: non-scaling-stroke; opacity: 1; stroke-width: 1px; fill: rgb(55, 128, 191); fill-opacity: 0.6; stroke: rgb(55, 128, 191); stroke-opacity: 0.8;\"/></g><g class=\"point\"><path d=\"M384.35,270V183.24H409.76V270Z\" style=\"vector-effect: non-scaling-stroke; opacity: 1; stroke-width: 1px; fill: rgb(55, 128, 191); fill-opacity: 0.6; stroke: rgb(55, 128, 191); stroke-opacity: 0.8;\"/></g><g class=\"point\"><path d=\"M416.12,270V203.36H441.53V270Z\" style=\"vector-effect: non-scaling-stroke; opacity: 1; stroke-width: 1px; fill: rgb(55, 128, 191); fill-opacity: 0.6; stroke: rgb(55, 128, 191); stroke-opacity: 0.8;\"/></g><g class=\"point\"><path d=\"M447.88,270V198.33H473.29V270Z\" style=\"vector-effect: non-scaling-stroke; opacity: 1; stroke-width: 1px; fill: rgb(55, 128, 191); fill-opacity: 0.6; stroke: rgb(55, 128, 191); stroke-opacity: 0.8;\"/></g><g class=\"point\"><path d=\"M479.65,270V203.36H505.06V270Z\" style=\"vector-effect: non-scaling-stroke; opacity: 1; stroke-width: 1px; fill: rgb(55, 128, 191); fill-opacity: 0.6; stroke: rgb(55, 128, 191); stroke-opacity: 0.8;\"/></g><g class=\"point\"><path d=\"M511.41,270V180.73H536.82V270Z\" style=\"vector-effect: non-scaling-stroke; opacity: 1; stroke-width: 1px; fill: rgb(55, 128, 191); fill-opacity: 0.6; stroke: rgb(55, 128, 191); stroke-opacity: 0.8;\"/></g></g></g><g class=\"trace bars\" style=\"opacity: 1;\"><g class=\"points\"><g class=\"point\"><path d=\"M3.18,270V270H28.59V270Z\" style=\"vector-effect: non-scaling-stroke; opacity: 1; stroke-width: 1px; fill: rgb(50, 171, 96); fill-opacity: 0.6; stroke: rgb(50, 171, 96); stroke-opacity: 0.8;\"/></g><g class=\"point\"><path d=\"M34.94,270V263.71H60.35V270Z\" style=\"vector-effect: non-scaling-stroke; opacity: 1; stroke-width: 1px; fill: rgb(50, 171, 96); fill-opacity: 0.6; stroke: rgb(50, 171, 96); stroke-opacity: 0.8;\"/></g><g class=\"point\"><path d=\"M66.71,270V263.71H92.12V270Z\" style=\"vector-effect: non-scaling-stroke; opacity: 1; stroke-width: 1px; fill: rgb(50, 171, 96); fill-opacity: 0.6; stroke: rgb(50, 171, 96); stroke-opacity: 0.8;\"/></g><g class=\"point\"><path d=\"M98.47,270V249.88H123.88V270Z\" style=\"vector-effect: non-scaling-stroke; opacity: 1; stroke-width: 1px; fill: rgb(50, 171, 96); fill-opacity: 0.6; stroke: rgb(50, 171, 96); stroke-opacity: 0.8;\"/></g><g class=\"point\"><path d=\"M130.24,270V239.82H155.65V270Z\" style=\"vector-effect: non-scaling-stroke; opacity: 1; stroke-width: 1px; fill: rgb(50, 171, 96); fill-opacity: 0.6; stroke: rgb(50, 171, 96); stroke-opacity: 0.8;\"/></g><g class=\"point\"><path d=\"M162,270V213.42H187.41V270Z\" style=\"vector-effect: non-scaling-stroke; opacity: 1; stroke-width: 1px; fill: rgb(50, 171, 96); fill-opacity: 0.6; stroke: rgb(50, 171, 96); stroke-opacity: 0.8;\"/></g><g class=\"point\"><path d=\"M193.76,270V229.76H219.18V270Z\" style=\"vector-effect: non-scaling-stroke; opacity: 1; stroke-width: 1px; fill: rgb(50, 171, 96); fill-opacity: 0.6; stroke: rgb(50, 171, 96); stroke-opacity: 0.8;\"/></g><g class=\"point\"><path d=\"M225.53,270V203.36H250.94V270Z\" style=\"vector-effect: non-scaling-stroke; opacity: 1; stroke-width: 1px; fill: rgb(50, 171, 96); fill-opacity: 0.6; stroke: rgb(50, 171, 96); stroke-opacity: 0.8;\"/></g><g class=\"point\"><path d=\"M257.29,270V217.19H282.71V270Z\" style=\"vector-effect: non-scaling-stroke; opacity: 1; stroke-width: 1px; fill: rgb(50, 171, 96); fill-opacity: 0.6; stroke: rgb(50, 171, 96); stroke-opacity: 0.8;\"/></g><g class=\"point\"><path d=\"M289.06,270V222.22H314.47V270Z\" style=\"vector-effect: non-scaling-stroke; opacity: 1; stroke-width: 1px; fill: rgb(50, 171, 96); fill-opacity: 0.6; stroke: rgb(50, 171, 96); stroke-opacity: 0.8;\"/></g><g class=\"point\"><path d=\"M320.82,270V231.02H346.24V270Z\" style=\"vector-effect: non-scaling-stroke; opacity: 1; stroke-width: 1px; fill: rgb(50, 171, 96); fill-opacity: 0.6; stroke: rgb(50, 171, 96); stroke-opacity: 0.8;\"/></g><g class=\"point\"><path d=\"M352.59,270V232.28H378V270Z\" style=\"vector-effect: non-scaling-stroke; opacity: 1; stroke-width: 1px; fill: rgb(50, 171, 96); fill-opacity: 0.6; stroke: rgb(50, 171, 96); stroke-opacity: 0.8;\"/></g><g class=\"point\"><path d=\"M384.35,270V197.07H409.76V270Z\" style=\"vector-effect: non-scaling-stroke; opacity: 1; stroke-width: 1px; fill: rgb(50, 171, 96); fill-opacity: 0.6; stroke: rgb(50, 171, 96); stroke-opacity: 0.8;\"/></g><g class=\"point\"><path d=\"M416.12,270V233.54H441.53V270Z\" style=\"vector-effect: non-scaling-stroke; opacity: 1; stroke-width: 1px; fill: rgb(50, 171, 96); fill-opacity: 0.6; stroke: rgb(50, 171, 96); stroke-opacity: 0.8;\"/></g><g class=\"point\"><path d=\"M447.88,270V231.02H473.29V270Z\" style=\"vector-effect: non-scaling-stroke; opacity: 1; stroke-width: 1px; fill: rgb(50, 171, 96); fill-opacity: 0.6; stroke: rgb(50, 171, 96); stroke-opacity: 0.8;\"/></g><g class=\"point\"><path d=\"M479.65,270V246.11H505.06V270Z\" style=\"vector-effect: non-scaling-stroke; opacity: 1; stroke-width: 1px; fill: rgb(50, 171, 96); fill-opacity: 0.6; stroke: rgb(50, 171, 96); stroke-opacity: 0.8;\"/></g><g class=\"point\"><path d=\"M511.41,270V217.19H536.82V270Z\" style=\"vector-effect: non-scaling-stroke; opacity: 1; stroke-width: 1px; fill: rgb(50, 171, 96); fill-opacity: 0.6; stroke: rgb(50, 171, 96); stroke-opacity: 0.8;\"/></g></g></g><g class=\"trace bars\" style=\"opacity: 1;\"><g class=\"points\"><g class=\"point\"><path d=\"M3.18,270V270H28.59V270Z\" style=\"vector-effect: non-scaling-stroke; opacity: 1; stroke-width: 1px; fill: rgb(128, 0, 128); fill-opacity: 0.6; stroke: rgb(128, 0, 128); stroke-opacity: 0.8;\"/></g><g class=\"point\"><path d=\"M34.94,270V270H60.35V270Z\" style=\"vector-effect: non-scaling-stroke; opacity: 1; stroke-width: 1px; fill: rgb(128, 0, 128); fill-opacity: 0.6; stroke: rgb(128, 0, 128); stroke-opacity: 0.8;\"/></g><g class=\"point\"><path d=\"M66.71,270V268.74H92.12V270Z\" style=\"vector-effect: non-scaling-stroke; opacity: 1; stroke-width: 1px; fill: rgb(128, 0, 128); fill-opacity: 0.6; stroke: rgb(128, 0, 128); stroke-opacity: 0.8;\"/></g><g class=\"point\"><path d=\"M98.47,270V258.68H123.88V270Z\" style=\"vector-effect: non-scaling-stroke; opacity: 1; stroke-width: 1px; fill: rgb(128, 0, 128); fill-opacity: 0.6; stroke: rgb(128, 0, 128); stroke-opacity: 0.8;\"/></g><g class=\"point\"><path d=\"M130.24,270V261.2H155.65V270Z\" style=\"vector-effect: non-scaling-stroke; opacity: 1; stroke-width: 1px; fill: rgb(128, 0, 128); fill-opacity: 0.6; stroke: rgb(128, 0, 128); stroke-opacity: 0.8;\"/></g><g class=\"point\"><path d=\"M162,270V247.37H187.41V270Z\" style=\"vector-effect: non-scaling-stroke; opacity: 1; stroke-width: 1px; fill: rgb(128, 0, 128); fill-opacity: 0.6; stroke: rgb(128, 0, 128); stroke-opacity: 0.8;\"/></g><g class=\"point\"><path d=\"M193.76,270V254.91H219.18V270Z\" style=\"vector-effect: non-scaling-stroke; opacity: 1; stroke-width: 1px; fill: rgb(128, 0, 128); fill-opacity: 0.6; stroke: rgb(128, 0, 128); stroke-opacity: 0.8;\"/></g><g class=\"point\"><path d=\"M225.53,270V246.11H250.94V270Z\" style=\"vector-effect: non-scaling-stroke; opacity: 1; stroke-width: 1px; fill: rgb(128, 0, 128); fill-opacity: 0.6; stroke: rgb(128, 0, 128); stroke-opacity: 0.8;\"/></g><g class=\"point\"><path d=\"M257.29,270V241.08H282.71V270Z\" style=\"vector-effect: non-scaling-stroke; opacity: 1; stroke-width: 1px; fill: rgb(128, 0, 128); fill-opacity: 0.6; stroke: rgb(128, 0, 128); stroke-opacity: 0.8;\"/></g><g class=\"point\"><path d=\"M289.06,270V257.43H314.47V270Z\" style=\"vector-effect: non-scaling-stroke; opacity: 1; stroke-width: 1px; fill: rgb(128, 0, 128); fill-opacity: 0.6; stroke: rgb(128, 0, 128); stroke-opacity: 0.8;\"/></g><g class=\"point\"><path d=\"M320.82,270V254.91H346.24V270Z\" style=\"vector-effect: non-scaling-stroke; opacity: 1; stroke-width: 1px; fill: rgb(128, 0, 128); fill-opacity: 0.6; stroke: rgb(128, 0, 128); stroke-opacity: 0.8;\"/></g><g class=\"point\"><path d=\"M352.59,270V262.46H378V270Z\" style=\"vector-effect: non-scaling-stroke; opacity: 1; stroke-width: 1px; fill: rgb(128, 0, 128); fill-opacity: 0.6; stroke: rgb(128, 0, 128); stroke-opacity: 0.8;\"/></g><g class=\"point\"><path d=\"M384.35,270V254.91H409.76V270Z\" style=\"vector-effect: non-scaling-stroke; opacity: 1; stroke-width: 1px; fill: rgb(128, 0, 128); fill-opacity: 0.6; stroke: rgb(128, 0, 128); stroke-opacity: 0.8;\"/></g><g class=\"point\"><path d=\"M416.12,270V256.17H441.53V270Z\" style=\"vector-effect: non-scaling-stroke; opacity: 1; stroke-width: 1px; fill: rgb(128, 0, 128); fill-opacity: 0.6; stroke: rgb(128, 0, 128); stroke-opacity: 0.8;\"/></g><g class=\"point\"><path d=\"M447.88,270V256.17H473.29V270Z\" style=\"vector-effect: non-scaling-stroke; opacity: 1; stroke-width: 1px; fill: rgb(128, 0, 128); fill-opacity: 0.6; stroke: rgb(128, 0, 128); stroke-opacity: 0.8;\"/></g><g class=\"point\"><path d=\"M479.65,270V256.17H505.06V270Z\" style=\"vector-effect: non-scaling-stroke; opacity: 1; stroke-width: 1px; fill: rgb(128, 0, 128); fill-opacity: 0.6; stroke: rgb(128, 0, 128); stroke-opacity: 0.8;\"/></g><g class=\"point\"><path d=\"M511.41,270V257.43H536.82V270Z\" style=\"vector-effect: non-scaling-stroke; opacity: 1; stroke-width: 1px; fill: rgb(128, 0, 128); fill-opacity: 0.6; stroke: rgb(128, 0, 128); stroke-opacity: 0.8;\"/></g></g></g><g class=\"trace bars\" style=\"opacity: 1;\"><g class=\"points\"><g class=\"point\"><path d=\"M3.18,270V270H28.59V270Z\" style=\"vector-effect: non-scaling-stroke; opacity: 1; stroke-width: 1px; fill: rgb(219, 64, 82); fill-opacity: 0.6; stroke: rgb(219, 64, 82); stroke-opacity: 0.8;\"/></g><g class=\"point\"><path d=\"M34.94,270V270H60.35V270Z\" style=\"vector-effect: non-scaling-stroke; opacity: 1; stroke-width: 1px; fill: rgb(219, 64, 82); fill-opacity: 0.6; stroke: rgb(219, 64, 82); stroke-opacity: 0.8;\"/></g><g class=\"point\"><path d=\"M66.71,270V266.23H92.12V270Z\" style=\"vector-effect: non-scaling-stroke; opacity: 1; stroke-width: 1px; fill: rgb(219, 64, 82); fill-opacity: 0.6; stroke: rgb(219, 64, 82); stroke-opacity: 0.8;\"/></g><g class=\"point\"><path d=\"M98.47,270V262.46H123.88V270Z\" style=\"vector-effect: non-scaling-stroke; opacity: 1; stroke-width: 1px; fill: rgb(219, 64, 82); fill-opacity: 0.6; stroke: rgb(219, 64, 82); stroke-opacity: 0.8;\"/></g><g class=\"point\"><path d=\"M130.24,270V263.71H155.65V270Z\" style=\"vector-effect: non-scaling-stroke; opacity: 1; stroke-width: 1px; fill: rgb(219, 64, 82); fill-opacity: 0.6; stroke: rgb(219, 64, 82); stroke-opacity: 0.8;\"/></g><g class=\"point\"><path d=\"M162,270V266.23H187.41V270Z\" style=\"vector-effect: non-scaling-stroke; opacity: 1; stroke-width: 1px; fill: rgb(219, 64, 82); fill-opacity: 0.6; stroke: rgb(219, 64, 82); stroke-opacity: 0.8;\"/></g><g class=\"point\"><path d=\"M193.76,270V270H219.18V270Z\" style=\"vector-effect: non-scaling-stroke; opacity: 1; stroke-width: 1px; fill: rgb(219, 64, 82); fill-opacity: 0.6; stroke: rgb(219, 64, 82); stroke-opacity: 0.8;\"/></g><g class=\"point\"><path d=\"M225.53,270V267.49H250.94V270Z\" style=\"vector-effect: non-scaling-stroke; opacity: 1; stroke-width: 1px; fill: rgb(219, 64, 82); fill-opacity: 0.6; stroke: rgb(219, 64, 82); stroke-opacity: 0.8;\"/></g><g class=\"point\"><path d=\"M257.29,270V263.71H282.71V270Z\" style=\"vector-effect: non-scaling-stroke; opacity: 1; stroke-width: 1px; fill: rgb(219, 64, 82); fill-opacity: 0.6; stroke: rgb(219, 64, 82); stroke-opacity: 0.8;\"/></g><g class=\"point\"><path d=\"M289.06,270V264.97H314.47V270Z\" style=\"vector-effect: non-scaling-stroke; opacity: 1; stroke-width: 1px; fill: rgb(219, 64, 82); fill-opacity: 0.6; stroke: rgb(219, 64, 82); stroke-opacity: 0.8;\"/></g><g class=\"point\"><path d=\"M320.82,270V268.74H346.24V270Z\" style=\"vector-effect: non-scaling-stroke; opacity: 1; stroke-width: 1px; fill: rgb(219, 64, 82); fill-opacity: 0.6; stroke: rgb(219, 64, 82); stroke-opacity: 0.8;\"/></g><g class=\"point\"><path d=\"M352.59,270V270H378V270Z\" style=\"vector-effect: non-scaling-stroke; opacity: 1; stroke-width: 1px; fill: rgb(219, 64, 82); fill-opacity: 0.6; stroke: rgb(219, 64, 82); stroke-opacity: 0.8;\"/></g><g class=\"point\"><path d=\"M384.35,270V268.74H409.76V270Z\" style=\"vector-effect: non-scaling-stroke; opacity: 1; stroke-width: 1px; fill: rgb(219, 64, 82); fill-opacity: 0.6; stroke: rgb(219, 64, 82); stroke-opacity: 0.8;\"/></g><g class=\"point\"><path d=\"M416.12,270V270H441.53V270Z\" style=\"vector-effect: non-scaling-stroke; opacity: 1; stroke-width: 1px; fill: rgb(219, 64, 82); fill-opacity: 0.6; stroke: rgb(219, 64, 82); stroke-opacity: 0.8;\"/></g><g class=\"point\"><path d=\"M447.88,270V270H473.29V270Z\" style=\"vector-effect: non-scaling-stroke; opacity: 1; stroke-width: 1px; fill: rgb(219, 64, 82); fill-opacity: 0.6; stroke: rgb(219, 64, 82); stroke-opacity: 0.8;\"/></g><g class=\"point\"><path d=\"M479.65,270V270H505.06V270Z\" style=\"vector-effect: non-scaling-stroke; opacity: 1; stroke-width: 1px; fill: rgb(219, 64, 82); fill-opacity: 0.6; stroke: rgb(219, 64, 82); stroke-opacity: 0.8;\"/></g><g class=\"point\"><path d=\"M511.41,270V268.74H536.82V270Z\" style=\"vector-effect: non-scaling-stroke; opacity: 1; stroke-width: 1px; fill: rgb(219, 64, 82); fill-opacity: 0.6; stroke: rgb(219, 64, 82); stroke-opacity: 0.8;\"/></g></g></g><g class=\"trace bars\" style=\"opacity: 1;\"><g class=\"points\"><g class=\"point\"><path d=\"M3.18,270V270H28.59V270Z\" style=\"vector-effect: non-scaling-stroke; opacity: 1; stroke-width: 1px; fill: rgb(0, 128, 128); fill-opacity: 0.6; stroke: rgb(0, 128, 128); stroke-opacity: 0.8;\"/></g><g class=\"point\"><path d=\"M34.94,270V270H60.35V270Z\" style=\"vector-effect: non-scaling-stroke; opacity: 1; stroke-width: 1px; fill: rgb(0, 128, 128); fill-opacity: 0.6; stroke: rgb(0, 128, 128); stroke-opacity: 0.8;\"/></g><g class=\"point\"><path d=\"M66.71,270V268.74H92.12V270Z\" style=\"vector-effect: non-scaling-stroke; opacity: 1; stroke-width: 1px; fill: rgb(0, 128, 128); fill-opacity: 0.6; stroke: rgb(0, 128, 128); stroke-opacity: 0.8;\"/></g><g class=\"point\"><path d=\"M98.47,270V267.49H123.88V270Z\" style=\"vector-effect: non-scaling-stroke; opacity: 1; stroke-width: 1px; fill: rgb(0, 128, 128); fill-opacity: 0.6; stroke: rgb(0, 128, 128); stroke-opacity: 0.8;\"/></g><g class=\"point\"><path d=\"M130.24,270V262.46H155.65V270Z\" style=\"vector-effect: non-scaling-stroke; opacity: 1; stroke-width: 1px; fill: rgb(0, 128, 128); fill-opacity: 0.6; stroke: rgb(0, 128, 128); stroke-opacity: 0.8;\"/></g><g class=\"point\"><path d=\"M162,270V252.4H187.41V270Z\" style=\"vector-effect: non-scaling-stroke; opacity: 1; stroke-width: 1px; fill: rgb(0, 128, 128); fill-opacity: 0.6; stroke: rgb(0, 128, 128); stroke-opacity: 0.8;\"/></g><g class=\"point\"><path d=\"M193.76,270V244.85H219.18V270Z\" style=\"vector-effect: non-scaling-stroke; opacity: 1; stroke-width: 1px; fill: rgb(0, 128, 128); fill-opacity: 0.6; stroke: rgb(0, 128, 128); stroke-opacity: 0.8;\"/></g><g class=\"point\"><path d=\"M225.53,270V236.05H250.94V270Z\" style=\"vector-effect: non-scaling-stroke; opacity: 1; stroke-width: 1px; fill: rgb(0, 128, 128); fill-opacity: 0.6; stroke: rgb(0, 128, 128); stroke-opacity: 0.8;\"/></g><g class=\"point\"><path d=\"M257.29,270V238.57H282.71V270Z\" style=\"vector-effect: non-scaling-stroke; opacity: 1; stroke-width: 1px; fill: rgb(0, 128, 128); fill-opacity: 0.6; stroke: rgb(0, 128, 128); stroke-opacity: 0.8;\"/></g><g class=\"point\"><path d=\"M289.06,270V254.91H314.47V270Z\" style=\"vector-effect: non-scaling-stroke; opacity: 1; stroke-width: 1px; fill: rgb(0, 128, 128); fill-opacity: 0.6; stroke: rgb(0, 128, 128); stroke-opacity: 0.8;\"/></g><g class=\"point\"><path d=\"M320.82,270V248.63H346.24V270Z\" style=\"vector-effect: non-scaling-stroke; opacity: 1; stroke-width: 1px; fill: rgb(0, 128, 128); fill-opacity: 0.6; stroke: rgb(0, 128, 128); stroke-opacity: 0.8;\"/></g><g class=\"point\"><path d=\"M352.59,270V253.65H378V270Z\" style=\"vector-effect: non-scaling-stroke; opacity: 1; stroke-width: 1px; fill: rgb(0, 128, 128); fill-opacity: 0.6; stroke: rgb(0, 128, 128); stroke-opacity: 0.8;\"/></g><g class=\"point\"><path d=\"M384.35,270V242.34H409.76V270Z\" style=\"vector-effect: non-scaling-stroke; opacity: 1; stroke-width: 1px; fill: rgb(0, 128, 128); fill-opacity: 0.6; stroke: rgb(0, 128, 128); stroke-opacity: 0.8;\"/></g><g class=\"point\"><path d=\"M416.12,270V244.85H441.53V270Z\" style=\"vector-effect: non-scaling-stroke; opacity: 1; stroke-width: 1px; fill: rgb(0, 128, 128); fill-opacity: 0.6; stroke: rgb(0, 128, 128); stroke-opacity: 0.8;\"/></g><g class=\"point\"><path d=\"M447.88,270V253.65H473.29V270Z\" style=\"vector-effect: non-scaling-stroke; opacity: 1; stroke-width: 1px; fill: rgb(0, 128, 128); fill-opacity: 0.6; stroke: rgb(0, 128, 128); stroke-opacity: 0.8;\"/></g><g class=\"point\"><path d=\"M479.65,270V248.63H505.06V270Z\" style=\"vector-effect: non-scaling-stroke; opacity: 1; stroke-width: 1px; fill: rgb(0, 128, 128); fill-opacity: 0.6; stroke: rgb(0, 128, 128); stroke-opacity: 0.8;\"/></g><g class=\"point\"><path d=\"M511.41,270V236.05H536.82V270Z\" style=\"vector-effect: non-scaling-stroke; opacity: 1; stroke-width: 1px; fill: rgb(0, 128, 128); fill-opacity: 0.6; stroke: rgb(0, 128, 128); stroke-opacity: 0.8;\"/></g></g></g><g class=\"trace bars\" style=\"opacity: 1;\"><g class=\"points\"><g class=\"point\"><path d=\"M3.18,270V270H28.59V270Z\" style=\"vector-effect: non-scaling-stroke; opacity: 1; stroke-width: 1px; fill: rgb(255, 255, 51); fill-opacity: 0.6; stroke: rgb(255, 255, 51); stroke-opacity: 0.8;\"/></g><g class=\"point\"><path d=\"M34.94,270V266.23H60.35V270Z\" style=\"vector-effect: non-scaling-stroke; opacity: 1; stroke-width: 1px; fill: rgb(255, 255, 51); fill-opacity: 0.6; stroke: rgb(255, 255, 51); stroke-opacity: 0.8;\"/></g><g class=\"point\"><path d=\"M66.71,270V267.49H92.12V270Z\" style=\"vector-effect: non-scaling-stroke; opacity: 1; stroke-width: 1px; fill: rgb(255, 255, 51); fill-opacity: 0.6; stroke: rgb(255, 255, 51); stroke-opacity: 0.8;\"/></g><g class=\"point\"><path d=\"M98.47,270V267.49H123.88V270Z\" style=\"vector-effect: non-scaling-stroke; opacity: 1; stroke-width: 1px; fill: rgb(255, 255, 51); fill-opacity: 0.6; stroke: rgb(255, 255, 51); stroke-opacity: 0.8;\"/></g><g class=\"point\"><path d=\"M130.24,270V259.94H155.65V270Z\" style=\"vector-effect: non-scaling-stroke; opacity: 1; stroke-width: 1px; fill: rgb(255, 255, 51); fill-opacity: 0.6; stroke: rgb(255, 255, 51); stroke-opacity: 0.8;\"/></g><g class=\"point\"><path d=\"M162,270V257.43H187.41V270Z\" style=\"vector-effect: non-scaling-stroke; opacity: 1; stroke-width: 1px; fill: rgb(255, 255, 51); fill-opacity: 0.6; stroke: rgb(255, 255, 51); stroke-opacity: 0.8;\"/></g><g class=\"point\"><path d=\"M193.76,270V254.91H219.18V270Z\" style=\"vector-effect: non-scaling-stroke; opacity: 1; stroke-width: 1px; fill: rgb(255, 255, 51); fill-opacity: 0.6; stroke: rgb(255, 255, 51); stroke-opacity: 0.8;\"/></g><g class=\"point\"><path d=\"M225.53,270V252.4H250.94V270Z\" style=\"vector-effect: non-scaling-stroke; opacity: 1; stroke-width: 1px; fill: rgb(255, 255, 51); fill-opacity: 0.6; stroke: rgb(255, 255, 51); stroke-opacity: 0.8;\"/></g><g class=\"point\"><path d=\"M257.29,270V242.34H282.71V270Z\" style=\"vector-effect: non-scaling-stroke; opacity: 1; stroke-width: 1px; fill: rgb(255, 255, 51); fill-opacity: 0.6; stroke: rgb(255, 255, 51); stroke-opacity: 0.8;\"/></g><g class=\"point\"><path d=\"M289.06,270V258.68H314.47V270Z\" style=\"vector-effect: non-scaling-stroke; opacity: 1; stroke-width: 1px; fill: rgb(255, 255, 51); fill-opacity: 0.6; stroke: rgb(255, 255, 51); stroke-opacity: 0.8;\"/></g><g class=\"point\"><path d=\"M320.82,270V261.2H346.24V270Z\" style=\"vector-effect: non-scaling-stroke; opacity: 1; stroke-width: 1px; fill: rgb(255, 255, 51); fill-opacity: 0.6; stroke: rgb(255, 255, 51); stroke-opacity: 0.8;\"/></g><g class=\"point\"><path d=\"M352.59,270V257.43H378V270Z\" style=\"vector-effect: non-scaling-stroke; opacity: 1; stroke-width: 1px; fill: rgb(255, 255, 51); fill-opacity: 0.6; stroke: rgb(255, 255, 51); stroke-opacity: 0.8;\"/></g><g class=\"point\"><path d=\"M384.35,270V246.11H409.76V270Z\" style=\"vector-effect: non-scaling-stroke; opacity: 1; stroke-width: 1px; fill: rgb(255, 255, 51); fill-opacity: 0.6; stroke: rgb(255, 255, 51); stroke-opacity: 0.8;\"/></g><g class=\"point\"><path d=\"M416.12,270V256.17H441.53V270Z\" style=\"vector-effect: non-scaling-stroke; opacity: 1; stroke-width: 1px; fill: rgb(255, 255, 51); fill-opacity: 0.6; stroke: rgb(255, 255, 51); stroke-opacity: 0.8;\"/></g><g class=\"point\"><path d=\"M447.88,270V253.65H473.29V270Z\" style=\"vector-effect: non-scaling-stroke; opacity: 1; stroke-width: 1px; fill: rgb(255, 255, 51); fill-opacity: 0.6; stroke: rgb(255, 255, 51); stroke-opacity: 0.8;\"/></g><g class=\"point\"><path d=\"M479.65,270V256.17H505.06V270Z\" style=\"vector-effect: non-scaling-stroke; opacity: 1; stroke-width: 1px; fill: rgb(255, 255, 51); fill-opacity: 0.6; stroke: rgb(255, 255, 51); stroke-opacity: 0.8;\"/></g><g class=\"point\"><path d=\"M511.41,270V233.54H536.82V270Z\" style=\"vector-effect: non-scaling-stroke; opacity: 1; stroke-width: 1px; fill: rgb(255, 255, 51); fill-opacity: 0.6; stroke: rgb(255, 255, 51); stroke-opacity: 0.8;\"/></g></g></g><g class=\"trace bars\" style=\"opacity: 1;\"><g class=\"points\"><g class=\"point\"><path d=\"M3.18,270V270H28.59V270Z\" style=\"vector-effect: non-scaling-stroke; opacity: 1; stroke-width: 1px; fill: rgb(128, 128, 0); fill-opacity: 0.6; stroke: rgb(128, 128, 0); stroke-opacity: 0.8;\"/></g><g class=\"point\"><path d=\"M34.94,270V268.74H60.35V270Z\" style=\"vector-effect: non-scaling-stroke; opacity: 1; stroke-width: 1px; fill: rgb(128, 128, 0); fill-opacity: 0.6; stroke: rgb(128, 128, 0); stroke-opacity: 0.8;\"/></g><g class=\"point\"><path d=\"M66.71,270V270H92.12V270Z\" style=\"vector-effect: non-scaling-stroke; opacity: 1; stroke-width: 1px; fill: rgb(128, 128, 0); fill-opacity: 0.6; stroke: rgb(128, 128, 0); stroke-opacity: 0.8;\"/></g><g class=\"point\"><path d=\"M98.47,270V270H123.88V270Z\" style=\"vector-effect: non-scaling-stroke; opacity: 1; stroke-width: 1px; fill: rgb(128, 128, 0); fill-opacity: 0.6; stroke: rgb(128, 128, 0); stroke-opacity: 0.8;\"/></g><g class=\"point\"><path d=\"M130.24,270V270H155.65V270Z\" style=\"vector-effect: non-scaling-stroke; opacity: 1; stroke-width: 1px; fill: rgb(128, 128, 0); fill-opacity: 0.6; stroke: rgb(128, 128, 0); stroke-opacity: 0.8;\"/></g><g class=\"point\"><path d=\"M162,270V267.49H187.41V270Z\" style=\"vector-effect: non-scaling-stroke; opacity: 1; stroke-width: 1px; fill: rgb(128, 128, 0); fill-opacity: 0.6; stroke: rgb(128, 128, 0); stroke-opacity: 0.8;\"/></g><g class=\"point\"><path d=\"M193.76,270V266.23H219.18V270Z\" style=\"vector-effect: non-scaling-stroke; opacity: 1; stroke-width: 1px; fill: rgb(128, 128, 0); fill-opacity: 0.6; stroke: rgb(128, 128, 0); stroke-opacity: 0.8;\"/></g><g class=\"point\"><path d=\"M225.53,270V254.91H250.94V270Z\" style=\"vector-effect: non-scaling-stroke; opacity: 1; stroke-width: 1px; fill: rgb(128, 128, 0); fill-opacity: 0.6; stroke: rgb(128, 128, 0); stroke-opacity: 0.8;\"/></g><g class=\"point\"><path d=\"M257.29,270V257.43H282.71V270Z\" style=\"vector-effect: non-scaling-stroke; opacity: 1; stroke-width: 1px; fill: rgb(128, 128, 0); fill-opacity: 0.6; stroke: rgb(128, 128, 0); stroke-opacity: 0.8;\"/></g><g class=\"point\"><path d=\"M289.06,270V263.71H314.47V270Z\" style=\"vector-effect: non-scaling-stroke; opacity: 1; stroke-width: 1px; fill: rgb(128, 128, 0); fill-opacity: 0.6; stroke: rgb(128, 128, 0); stroke-opacity: 0.8;\"/></g><g class=\"point\"><path d=\"M320.82,270V264.97H346.24V270Z\" style=\"vector-effect: non-scaling-stroke; opacity: 1; stroke-width: 1px; fill: rgb(128, 128, 0); fill-opacity: 0.6; stroke: rgb(128, 128, 0); stroke-opacity: 0.8;\"/></g><g class=\"point\"><path d=\"M352.59,270V264.97H378V270Z\" style=\"vector-effect: non-scaling-stroke; opacity: 1; stroke-width: 1px; fill: rgb(128, 128, 0); fill-opacity: 0.6; stroke: rgb(128, 128, 0); stroke-opacity: 0.8;\"/></g><g class=\"point\"><path d=\"M384.35,270V266.23H409.76V270Z\" style=\"vector-effect: non-scaling-stroke; opacity: 1; stroke-width: 1px; fill: rgb(128, 128, 0); fill-opacity: 0.6; stroke: rgb(128, 128, 0); stroke-opacity: 0.8;\"/></g><g class=\"point\"><path d=\"M416.12,270V268.74H441.53V270Z\" style=\"vector-effect: non-scaling-stroke; opacity: 1; stroke-width: 1px; fill: rgb(128, 128, 0); fill-opacity: 0.6; stroke: rgb(128, 128, 0); stroke-opacity: 0.8;\"/></g><g class=\"point\"><path d=\"M447.88,270V267.49H473.29V270Z\" style=\"vector-effect: non-scaling-stroke; opacity: 1; stroke-width: 1px; fill: rgb(128, 128, 0); fill-opacity: 0.6; stroke: rgb(128, 128, 0); stroke-opacity: 0.8;\"/></g><g class=\"point\"><path d=\"M479.65,270V266.23H505.06V270Z\" style=\"vector-effect: non-scaling-stroke; opacity: 1; stroke-width: 1px; fill: rgb(128, 128, 0); fill-opacity: 0.6; stroke: rgb(128, 128, 0); stroke-opacity: 0.8;\"/></g><g class=\"point\"><path d=\"M511.41,270V268.74H536.82V270Z\" style=\"vector-effect: non-scaling-stroke; opacity: 1; stroke-width: 1px; fill: rgb(128, 128, 0); fill-opacity: 0.6; stroke: rgb(128, 128, 0); stroke-opacity: 0.8;\"/></g></g></g><g class=\"trace bars\" style=\"opacity: 1;\"><g class=\"points\"><g class=\"point\"><path d=\"M3.18,270V270H28.59V270Z\" style=\"vector-effect: non-scaling-stroke; opacity: 1; stroke-width: 1px; fill: rgb(128, 128, 0); fill-opacity: 0.6; stroke: rgb(128, 128, 0); stroke-opacity: 0.7;\"/></g><g class=\"point\"><path d=\"M34.94,270V263.71H60.35V270Z\" style=\"vector-effect: non-scaling-stroke; opacity: 1; stroke-width: 1px; fill: rgb(128, 128, 0); fill-opacity: 0.6; stroke: rgb(128, 128, 0); stroke-opacity: 0.7;\"/></g><g class=\"point\"><path d=\"M66.71,270V263.71H92.12V270Z\" style=\"vector-effect: non-scaling-stroke; opacity: 1; stroke-width: 1px; fill: rgb(128, 128, 0); fill-opacity: 0.6; stroke: rgb(128, 128, 0); stroke-opacity: 0.7;\"/></g><g class=\"point\"><path d=\"M98.47,270V258.68H123.88V270Z\" style=\"vector-effect: non-scaling-stroke; opacity: 1; stroke-width: 1px; fill: rgb(128, 128, 0); fill-opacity: 0.6; stroke: rgb(128, 128, 0); stroke-opacity: 0.7;\"/></g><g class=\"point\"><path d=\"M130.24,270V257.43H155.65V270Z\" style=\"vector-effect: non-scaling-stroke; opacity: 1; stroke-width: 1px; fill: rgb(128, 128, 0); fill-opacity: 0.6; stroke: rgb(128, 128, 0); stroke-opacity: 0.7;\"/></g><g class=\"point\"><path d=\"M162,270V244.85H187.41V270Z\" style=\"vector-effect: non-scaling-stroke; opacity: 1; stroke-width: 1px; fill: rgb(128, 128, 0); fill-opacity: 0.6; stroke: rgb(128, 128, 0); stroke-opacity: 0.7;\"/></g><g class=\"point\"><path d=\"M193.76,270V254.91H219.18V270Z\" style=\"vector-effect: non-scaling-stroke; opacity: 1; stroke-width: 1px; fill: rgb(128, 128, 0); fill-opacity: 0.6; stroke: rgb(128, 128, 0); stroke-opacity: 0.7;\"/></g><g class=\"point\"><path d=\"M225.53,270V237.31H250.94V270Z\" style=\"vector-effect: non-scaling-stroke; opacity: 1; stroke-width: 1px; fill: rgb(128, 128, 0); fill-opacity: 0.6; stroke: rgb(128, 128, 0); stroke-opacity: 0.7;\"/></g><g class=\"point\"><path d=\"M257.29,270V248.63H282.71V270Z\" style=\"vector-effect: non-scaling-stroke; opacity: 1; stroke-width: 1px; fill: rgb(128, 128, 0); fill-opacity: 0.6; stroke: rgb(128, 128, 0); stroke-opacity: 0.7;\"/></g><g class=\"point\"><path d=\"M289.06,270V249.88H314.47V270Z\" style=\"vector-effect: non-scaling-stroke; opacity: 1; stroke-width: 1px; fill: rgb(128, 128, 0); fill-opacity: 0.6; stroke: rgb(128, 128, 0); stroke-opacity: 0.7;\"/></g><g class=\"point\"><path d=\"M320.82,270V254.91H346.24V270Z\" style=\"vector-effect: non-scaling-stroke; opacity: 1; stroke-width: 1px; fill: rgb(128, 128, 0); fill-opacity: 0.6; stroke: rgb(128, 128, 0); stroke-opacity: 0.7;\"/></g><g class=\"point\"><path d=\"M352.59,270V256.17H378V270Z\" style=\"vector-effect: non-scaling-stroke; opacity: 1; stroke-width: 1px; fill: rgb(128, 128, 0); fill-opacity: 0.6; stroke: rgb(128, 128, 0); stroke-opacity: 0.7;\"/></g><g class=\"point\"><path d=\"M384.35,270V242.34H409.76V270Z\" style=\"vector-effect: non-scaling-stroke; opacity: 1; stroke-width: 1px; fill: rgb(128, 128, 0); fill-opacity: 0.6; stroke: rgb(128, 128, 0); stroke-opacity: 0.7;\"/></g><g class=\"point\"><path d=\"M416.12,270V257.43H441.53V270Z\" style=\"vector-effect: non-scaling-stroke; opacity: 1; stroke-width: 1px; fill: rgb(128, 128, 0); fill-opacity: 0.6; stroke: rgb(128, 128, 0); stroke-opacity: 0.7;\"/></g><g class=\"point\"><path d=\"M447.88,270V254.91H473.29V270Z\" style=\"vector-effect: non-scaling-stroke; opacity: 1; stroke-width: 1px; fill: rgb(128, 128, 0); fill-opacity: 0.6; stroke: rgb(128, 128, 0); stroke-opacity: 0.7;\"/></g><g class=\"point\"><path d=\"M479.65,270V266.23H505.06V270Z\" style=\"vector-effect: non-scaling-stroke; opacity: 1; stroke-width: 1px; fill: rgb(128, 128, 0); fill-opacity: 0.6; stroke: rgb(128, 128, 0); stroke-opacity: 0.7;\"/></g><g class=\"point\"><path d=\"M511.41,270V253.65H536.82V270Z\" style=\"vector-effect: non-scaling-stroke; opacity: 1; stroke-width: 1px; fill: rgb(128, 128, 0); fill-opacity: 0.6; stroke: rgb(128, 128, 0); stroke-opacity: 0.7;\"/></g></g></g><g class=\"trace bars\" style=\"opacity: 1;\"><g class=\"points\"><g class=\"point\"><path d=\"M3.18,270V270H28.59V270Z\" style=\"vector-effect: non-scaling-stroke; opacity: 1; stroke-width: 1px; fill: rgb(251, 128, 114); fill-opacity: 0.6; stroke: rgb(251, 128, 114); stroke-opacity: 0.7;\"/></g><g class=\"point\"><path d=\"M34.94,270V270H60.35V270Z\" style=\"vector-effect: non-scaling-stroke; opacity: 1; stroke-width: 1px; fill: rgb(251, 128, 114); fill-opacity: 0.6; stroke: rgb(251, 128, 114); stroke-opacity: 0.7;\"/></g><g class=\"point\"><path d=\"M66.71,270V270H92.12V270Z\" style=\"vector-effect: non-scaling-stroke; opacity: 1; stroke-width: 1px; fill: rgb(251, 128, 114); fill-opacity: 0.6; stroke: rgb(251, 128, 114); stroke-opacity: 0.7;\"/></g><g class=\"point\"><path d=\"M98.47,270V270H123.88V270Z\" style=\"vector-effect: non-scaling-stroke; opacity: 1; stroke-width: 1px; fill: rgb(251, 128, 114); fill-opacity: 0.6; stroke: rgb(251, 128, 114); stroke-opacity: 0.7;\"/></g><g class=\"point\"><path d=\"M130.24,270V268.74H155.65V270Z\" style=\"vector-effect: non-scaling-stroke; opacity: 1; stroke-width: 1px; fill: rgb(251, 128, 114); fill-opacity: 0.6; stroke: rgb(251, 128, 114); stroke-opacity: 0.7;\"/></g><g class=\"point\"><path d=\"M162,270V264.97H187.41V270Z\" style=\"vector-effect: non-scaling-stroke; opacity: 1; stroke-width: 1px; fill: rgb(251, 128, 114); fill-opacity: 0.6; stroke: rgb(251, 128, 114); stroke-opacity: 0.7;\"/></g><g class=\"point\"><path d=\"M193.76,270V268.74H219.18V270Z\" style=\"vector-effect: non-scaling-stroke; opacity: 1; stroke-width: 1px; fill: rgb(251, 128, 114); fill-opacity: 0.6; stroke: rgb(251, 128, 114); stroke-opacity: 0.7;\"/></g><g class=\"point\"><path d=\"M225.53,270V268.74H250.94V270Z\" style=\"vector-effect: non-scaling-stroke; opacity: 1; stroke-width: 1px; fill: rgb(251, 128, 114); fill-opacity: 0.6; stroke: rgb(251, 128, 114); stroke-opacity: 0.7;\"/></g><g class=\"point\"><path d=\"M257.29,270V270H282.71V270Z\" style=\"vector-effect: non-scaling-stroke; opacity: 1; stroke-width: 1px; fill: rgb(251, 128, 114); fill-opacity: 0.6; stroke: rgb(251, 128, 114); stroke-opacity: 0.7;\"/></g><g class=\"point\"><path d=\"M289.06,270V267.49H314.47V270Z\" style=\"vector-effect: non-scaling-stroke; opacity: 1; stroke-width: 1px; fill: rgb(251, 128, 114); fill-opacity: 0.6; stroke: rgb(251, 128, 114); stroke-opacity: 0.7;\"/></g><g class=\"point\"><path d=\"M320.82,270V268.74H346.24V270Z\" style=\"vector-effect: non-scaling-stroke; opacity: 1; stroke-width: 1px; fill: rgb(251, 128, 114); fill-opacity: 0.6; stroke: rgb(251, 128, 114); stroke-opacity: 0.7;\"/></g><g class=\"point\"><path d=\"M352.59,270V268.74H378V270Z\" style=\"vector-effect: non-scaling-stroke; opacity: 1; stroke-width: 1px; fill: rgb(251, 128, 114); fill-opacity: 0.6; stroke: rgb(251, 128, 114); stroke-opacity: 0.7;\"/></g><g class=\"point\"><path d=\"M384.35,270V270H409.76V270Z\" style=\"vector-effect: non-scaling-stroke; opacity: 1; stroke-width: 1px; fill: rgb(251, 128, 114); fill-opacity: 0.6; stroke: rgb(251, 128, 114); stroke-opacity: 0.7;\"/></g><g class=\"point\"><path d=\"M416.12,270V270H441.53V270Z\" style=\"vector-effect: non-scaling-stroke; opacity: 1; stroke-width: 1px; fill: rgb(251, 128, 114); fill-opacity: 0.6; stroke: rgb(251, 128, 114); stroke-opacity: 0.7;\"/></g><g class=\"point\"><path d=\"M447.88,270V268.74H473.29V270Z\" style=\"vector-effect: non-scaling-stroke; opacity: 1; stroke-width: 1px; fill: rgb(251, 128, 114); fill-opacity: 0.6; stroke: rgb(251, 128, 114); stroke-opacity: 0.7;\"/></g><g class=\"point\"><path d=\"M479.65,270V270H505.06V270Z\" style=\"vector-effect: non-scaling-stroke; opacity: 1; stroke-width: 1px; fill: rgb(251, 128, 114); fill-opacity: 0.6; stroke: rgb(251, 128, 114); stroke-opacity: 0.7;\"/></g><g class=\"point\"><path d=\"M511.41,270V268.74H536.82V270Z\" style=\"vector-effect: non-scaling-stroke; opacity: 1; stroke-width: 1px; fill: rgb(251, 128, 114); fill-opacity: 0.6; stroke: rgb(251, 128, 114); stroke-opacity: 0.7;\"/></g></g></g><g class=\"trace bars\" style=\"opacity: 1;\"><g class=\"points\"><g class=\"point\"><path d=\"M3.18,270V270H28.59V270Z\" style=\"vector-effect: non-scaling-stroke; opacity: 1; stroke-width: 1px; fill: rgb(128, 177, 211); fill-opacity: 0.6; stroke: rgb(128, 177, 211); stroke-opacity: 0.7;\"/></g><g class=\"point\"><path d=\"M34.94,270V266.23H60.35V270Z\" style=\"vector-effect: non-scaling-stroke; opacity: 1; stroke-width: 1px; fill: rgb(128, 177, 211); fill-opacity: 0.6; stroke: rgb(128, 177, 211); stroke-opacity: 0.7;\"/></g><g class=\"point\"><path d=\"M66.71,270V236.05H92.12V270Z\" style=\"vector-effect: non-scaling-stroke; opacity: 1; stroke-width: 1px; fill: rgb(128, 177, 211); fill-opacity: 0.6; stroke: rgb(128, 177, 211); stroke-opacity: 0.7;\"/></g><g class=\"point\"><path d=\"M98.47,270V243.6H123.88V270Z\" style=\"vector-effect: non-scaling-stroke; opacity: 1; stroke-width: 1px; fill: rgb(128, 177, 211); fill-opacity: 0.6; stroke: rgb(128, 177, 211); stroke-opacity: 0.7;\"/></g><g class=\"point\"><path d=\"M130.24,270V257.43H155.65V270Z\" style=\"vector-effect: non-scaling-stroke; opacity: 1; stroke-width: 1px; fill: rgb(128, 177, 211); fill-opacity: 0.6; stroke: rgb(128, 177, 211); stroke-opacity: 0.7;\"/></g><g class=\"point\"><path d=\"M162,270V252.4H187.41V270Z\" style=\"vector-effect: non-scaling-stroke; opacity: 1; stroke-width: 1px; fill: rgb(128, 177, 211); fill-opacity: 0.6; stroke: rgb(128, 177, 211); stroke-opacity: 0.7;\"/></g><g class=\"point\"><path d=\"M193.76,270V258.68H219.18V270Z\" style=\"vector-effect: non-scaling-stroke; opacity: 1; stroke-width: 1px; fill: rgb(128, 177, 211); fill-opacity: 0.6; stroke: rgb(128, 177, 211); stroke-opacity: 0.7;\"/></g><g class=\"point\"><path d=\"M225.53,270V239.82H250.94V270Z\" style=\"vector-effect: non-scaling-stroke; opacity: 1; stroke-width: 1px; fill: rgb(128, 177, 211); fill-opacity: 0.6; stroke: rgb(128, 177, 211); stroke-opacity: 0.7;\"/></g><g class=\"point\"><path d=\"M257.29,270V197.07H282.71V270Z\" style=\"vector-effect: non-scaling-stroke; opacity: 1; stroke-width: 1px; fill: rgb(128, 177, 211); fill-opacity: 0.6; stroke: rgb(128, 177, 211); stroke-opacity: 0.7;\"/></g><g class=\"point\"><path d=\"M289.06,270V239.82H314.47V270Z\" style=\"vector-effect: non-scaling-stroke; opacity: 1; stroke-width: 1px; fill: rgb(128, 177, 211); fill-opacity: 0.6; stroke: rgb(128, 177, 211); stroke-opacity: 0.7;\"/></g><g class=\"point\"><path d=\"M320.82,270V241.08H346.24V270Z\" style=\"vector-effect: non-scaling-stroke; opacity: 1; stroke-width: 1px; fill: rgb(128, 177, 211); fill-opacity: 0.6; stroke: rgb(128, 177, 211); stroke-opacity: 0.7;\"/></g><g class=\"point\"><path d=\"M352.59,270V251.14H378V270Z\" style=\"vector-effect: non-scaling-stroke; opacity: 1; stroke-width: 1px; fill: rgb(128, 177, 211); fill-opacity: 0.6; stroke: rgb(128, 177, 211); stroke-opacity: 0.7;\"/></g><g class=\"point\"><path d=\"M384.35,270V205.88H409.76V270Z\" style=\"vector-effect: non-scaling-stroke; opacity: 1; stroke-width: 1px; fill: rgb(128, 177, 211); fill-opacity: 0.6; stroke: rgb(128, 177, 211); stroke-opacity: 0.7;\"/></g><g class=\"point\"><path d=\"M416.12,270V222.22H441.53V270Z\" style=\"vector-effect: non-scaling-stroke; opacity: 1; stroke-width: 1px; fill: rgb(128, 177, 211); fill-opacity: 0.6; stroke: rgb(128, 177, 211); stroke-opacity: 0.7;\"/></g><g class=\"point\"><path d=\"M447.88,270V220.96H473.29V270Z\" style=\"vector-effect: non-scaling-stroke; opacity: 1; stroke-width: 1px; fill: rgb(128, 177, 211); fill-opacity: 0.6; stroke: rgb(128, 177, 211); stroke-opacity: 0.7;\"/></g><g class=\"point\"><path d=\"M479.65,270V227.25H505.06V270Z\" style=\"vector-effect: non-scaling-stroke; opacity: 1; stroke-width: 1px; fill: rgb(128, 177, 211); fill-opacity: 0.6; stroke: rgb(128, 177, 211); stroke-opacity: 0.7;\"/></g><g class=\"point\"><path d=\"M511.41,270V200.85H536.82V270Z\" style=\"vector-effect: non-scaling-stroke; opacity: 1; stroke-width: 1px; fill: rgb(128, 177, 211); fill-opacity: 0.6; stroke: rgb(128, 177, 211); stroke-opacity: 0.7;\"/></g></g></g><g class=\"trace bars\" style=\"opacity: 1;\"><g class=\"points\"><g class=\"point\"><path d=\"M3.18,270V270H28.59V270Z\" style=\"vector-effect: non-scaling-stroke; opacity: 1; stroke-width: 1px; fill: rgb(255, 153, 51); fill-opacity: 0.6; stroke: rgb(255, 153, 51); stroke-opacity: 0.7;\"/></g><g class=\"point\"><path d=\"M34.94,270V270H60.35V270Z\" style=\"vector-effect: non-scaling-stroke; opacity: 1; stroke-width: 1px; fill: rgb(255, 153, 51); fill-opacity: 0.6; stroke: rgb(255, 153, 51); stroke-opacity: 0.7;\"/></g><g class=\"point\"><path d=\"M66.71,270V264.97H92.12V270Z\" style=\"vector-effect: non-scaling-stroke; opacity: 1; stroke-width: 1px; fill: rgb(255, 153, 51); fill-opacity: 0.6; stroke: rgb(255, 153, 51); stroke-opacity: 0.7;\"/></g><g class=\"point\"><path d=\"M98.47,270V266.23H123.88V270Z\" style=\"vector-effect: non-scaling-stroke; opacity: 1; stroke-width: 1px; fill: rgb(255, 153, 51); fill-opacity: 0.6; stroke: rgb(255, 153, 51); stroke-opacity: 0.7;\"/></g><g class=\"point\"><path d=\"M130.24,270V267.49H155.65V270Z\" style=\"vector-effect: non-scaling-stroke; opacity: 1; stroke-width: 1px; fill: rgb(255, 153, 51); fill-opacity: 0.6; stroke: rgb(255, 153, 51); stroke-opacity: 0.7;\"/></g><g class=\"point\"><path d=\"M162,270V268.74H187.41V270Z\" style=\"vector-effect: non-scaling-stroke; opacity: 1; stroke-width: 1px; fill: rgb(255, 153, 51); fill-opacity: 0.6; stroke: rgb(255, 153, 51); stroke-opacity: 0.7;\"/></g><g class=\"point\"><path d=\"M193.76,270V267.49H219.18V270Z\" style=\"vector-effect: non-scaling-stroke; opacity: 1; stroke-width: 1px; fill: rgb(255, 153, 51); fill-opacity: 0.6; stroke: rgb(255, 153, 51); stroke-opacity: 0.7;\"/></g><g class=\"point\"><path d=\"M225.53,270V264.97H250.94V270Z\" style=\"vector-effect: non-scaling-stroke; opacity: 1; stroke-width: 1px; fill: rgb(255, 153, 51); fill-opacity: 0.6; stroke: rgb(255, 153, 51); stroke-opacity: 0.7;\"/></g><g class=\"point\"><path d=\"M257.29,270V256.17H282.71V270Z\" style=\"vector-effect: non-scaling-stroke; opacity: 1; stroke-width: 1px; fill: rgb(255, 153, 51); fill-opacity: 0.6; stroke: rgb(255, 153, 51); stroke-opacity: 0.7;\"/></g><g class=\"point\"><path d=\"M289.06,270V258.68H314.47V270Z\" style=\"vector-effect: non-scaling-stroke; opacity: 1; stroke-width: 1px; fill: rgb(255, 153, 51); fill-opacity: 0.6; stroke: rgb(255, 153, 51); stroke-opacity: 0.7;\"/></g><g class=\"point\"><path d=\"M320.82,270V257.43H346.24V270Z\" style=\"vector-effect: non-scaling-stroke; opacity: 1; stroke-width: 1px; fill: rgb(255, 153, 51); fill-opacity: 0.6; stroke: rgb(255, 153, 51); stroke-opacity: 0.7;\"/></g><g class=\"point\"><path d=\"M352.59,270V264.97H378V270Z\" style=\"vector-effect: non-scaling-stroke; opacity: 1; stroke-width: 1px; fill: rgb(255, 153, 51); fill-opacity: 0.6; stroke: rgb(255, 153, 51); stroke-opacity: 0.7;\"/></g><g class=\"point\"><path d=\"M384.35,270V256.17H409.76V270Z\" style=\"vector-effect: non-scaling-stroke; opacity: 1; stroke-width: 1px; fill: rgb(255, 153, 51); fill-opacity: 0.6; stroke: rgb(255, 153, 51); stroke-opacity: 0.7;\"/></g><g class=\"point\"><path d=\"M416.12,270V263.71H441.53V270Z\" style=\"vector-effect: non-scaling-stroke; opacity: 1; stroke-width: 1px; fill: rgb(255, 153, 51); fill-opacity: 0.6; stroke: rgb(255, 153, 51); stroke-opacity: 0.7;\"/></g><g class=\"point\"><path d=\"M447.88,270V259.94H473.29V270Z\" style=\"vector-effect: non-scaling-stroke; opacity: 1; stroke-width: 1px; fill: rgb(255, 153, 51); fill-opacity: 0.6; stroke: rgb(255, 153, 51); stroke-opacity: 0.7;\"/></g><g class=\"point\"><path d=\"M479.65,270V254.91H505.06V270Z\" style=\"vector-effect: non-scaling-stroke; opacity: 1; stroke-width: 1px; fill: rgb(255, 153, 51); fill-opacity: 0.6; stroke: rgb(255, 153, 51); stroke-opacity: 0.7;\"/></g><g class=\"point\"><path d=\"M511.41,270V263.71H536.82V270Z\" style=\"vector-effect: non-scaling-stroke; opacity: 1; stroke-width: 1px; fill: rgb(255, 153, 51); fill-opacity: 0.6; stroke: rgb(255, 153, 51); stroke-opacity: 0.7;\"/></g></g></g></g></g><g class=\"overplot\"/><path class=\"xlines-above crisp\" style=\"fill: none;\" d=\"M0,0\"/><path class=\"ylines-above crisp\" style=\"fill: none;\" d=\"M0,0\"/><g class=\"overlines-above\"/><g class=\"xaxislayer-above\"><g class=\"xtick\"><text text-anchor=\"middle\" x=\"0\" y=\"383\" transform=\"translate(95.88,0)\" style=\"font-family: 'Open Sans', verdana, arial, sans-serif; font-size: 12px; fill: rgb(77, 86, 99); fill-opacity: 1; white-space: pre;\">0</text></g><g class=\"xtick\"><text text-anchor=\"middle\" x=\"0\" y=\"383\" transform=\"translate(254.71,0)\" style=\"font-family: 'Open Sans', verdana, arial, sans-serif; font-size: 12px; fill: rgb(77, 86, 99); fill-opacity: 1; white-space: pre;\">5</text></g><g class=\"xtick\"><text text-anchor=\"middle\" x=\"0\" y=\"383\" transform=\"translate(413.53,0)\" style=\"font-family: 'Open Sans', verdana, arial, sans-serif; font-size: 12px; fill: rgb(77, 86, 99); fill-opacity: 1; white-space: pre;\">10</text></g><g class=\"xtick\"><text text-anchor=\"middle\" x=\"0\" y=\"383\" transform=\"translate(572.35,0)\" style=\"font-family: 'Open Sans', verdana, arial, sans-serif; font-size: 12px; fill: rgb(77, 86, 99); fill-opacity: 1; white-space: pre;\">15</text></g></g><g class=\"yaxislayer-above\"><g class=\"ytick\"><text text-anchor=\"end\" x=\"79\" y=\"4.199999999999999\" transform=\"translate(0,370)\" style=\"font-family: 'Open Sans', verdana, arial, sans-serif; font-size: 12px; fill: rgb(77, 86, 99); fill-opacity: 1; white-space: pre;\">0</text></g><g class=\"ytick\"><text text-anchor=\"end\" x=\"79\" y=\"4.199999999999999\" transform=\"translate(0,307.13)\" style=\"font-family: 'Open Sans', verdana, arial, sans-serif; font-size: 12px; fill: rgb(77, 86, 99); fill-opacity: 1; white-space: pre;\">50</text></g><g class=\"ytick\"><text text-anchor=\"end\" x=\"79\" y=\"4.199999999999999\" transform=\"translate(0,244.26)\" style=\"font-family: 'Open Sans', verdana, arial, sans-serif; font-size: 12px; fill: rgb(77, 86, 99); fill-opacity: 1; white-space: pre;\">100</text></g><g class=\"ytick\"><text text-anchor=\"end\" x=\"79\" y=\"4.199999999999999\" transform=\"translate(0,181.4)\" style=\"font-family: 'Open Sans', verdana, arial, sans-serif; font-size: 12px; fill: rgb(77, 86, 99); fill-opacity: 1; white-space: pre;\">150</text></g><g class=\"ytick\"><text text-anchor=\"end\" x=\"79\" y=\"4.199999999999999\" transform=\"translate(0,118.53)\" style=\"font-family: 'Open Sans', verdana, arial, sans-serif; font-size: 12px; fill: rgb(77, 86, 99); fill-opacity: 1; white-space: pre;\">200</text></g></g><g class=\"overaxes-above\"/></g></g><g class=\"polarlayer\"/><g class=\"ternarylayer\"/><g class=\"geolayer\"/><g class=\"funnelarealayer\"/><g class=\"pielayer\"/><g class=\"treemaplayer\"/><g class=\"sunburstlayer\"/><g class=\"glimages\"/><defs id=\"topdefs-0930c6\"><g class=\"clips\"/><clipPath id=\"legend0930c6\"><rect width=\"373\" height=\"270\" x=\"0\" y=\"0\"/></clipPath></defs><g class=\"layer-above\"><g class=\"imagelayer\"/><g class=\"shapelayer\"/></g><g class=\"infolayer\"><g class=\"legend\" pointer-events=\"all\" transform=\"translate(327, 100)\"><rect class=\"bg\" shape-rendering=\"crispEdges\" style=\"stroke: rgb(68, 68, 68); stroke-opacity: 1; fill: rgb(245, 246, 249); fill-opacity: 1; stroke-width: 0px;\" width=\"373\" height=\"270\" x=\"0\" y=\"0\"/><g class=\"scrollbox\" transform=\"translate(0, 0)\" clip-path=\"url('#legend0930c6')\"><g class=\"groups\"><g class=\"traces\" style=\"opacity: 1;\" transform=\"translate(0, 14.5)\"><text class=\"legendtext user-select-none\" text-anchor=\"start\" x=\"40\" y=\"4.680000000000001\" style=\"font-family: 'Open Sans', verdana, arial, sans-serif; font-size: 12px; fill: rgb(77, 86, 99); fill-opacity: 1; white-space: pre;\">Top/society/producthisteria</text><g class=\"layers\" style=\"opacity: 1;\"><g class=\"legendfill\"/><g class=\"legendlines\"/><g class=\"legendsymbols\"><g class=\"legendpoints\"><path class=\"legendundefined\" d=\"M6,6H-6V-6H6Z\" transform=\"translate(20,0)\" style=\"stroke-width: 1px; fill: rgb(255, 153, 51); fill-opacity: 0.6; stroke: rgb(255, 153, 51); stroke-opacity: 1;\"/></g></g></g><rect class=\"legendtoggle\" pointer-events=\"all\" x=\"0\" y=\"-9.5\" width=\"367.5\" height=\"19\" style=\"cursor: pointer; fill: rgb(0, 0, 0); fill-opacity: 0;\"/></g><g class=\"traces\" style=\"opacity: 1;\" transform=\"translate(0, 33.5)\"><text class=\"legendtext user-select-none\" text-anchor=\"start\" x=\"40\" y=\"4.680000000000001\" style=\"font-family: 'Open Sans', verdana, arial, sans-serif; font-size: 12px; fill: rgb(77, 86, 99); fill-opacity: 1; white-space: pre;\">Top/events/onlinetransformed</text><g class=\"layers\" style=\"opacity: 1;\"><g class=\"legendfill\"/><g class=\"legendlines\"/><g class=\"legendsymbols\"><g class=\"legendpoints\"><path class=\"legendundefined\" d=\"M6,6H-6V-6H6Z\" transform=\"translate(20,0)\" style=\"stroke-width: 1px; fill: rgb(55, 128, 191); fill-opacity: 0.6; stroke: rgb(55, 128, 191); stroke-opacity: 1;\"/></g></g></g><rect class=\"legendtoggle\" pointer-events=\"all\" x=\"0\" y=\"-9.5\" width=\"367.5\" height=\"19\" style=\"cursor: pointer; fill: rgb(0, 0, 0); fill-opacity: 0;\"/></g><g class=\"traces\" style=\"opacity: 1;\" transform=\"translate(0, 52.5)\"><text class=\"legendtext user-select-none\" text-anchor=\"start\" x=\"40\" y=\"4.680000000000001\" style=\"font-family: 'Open Sans', verdana, arial, sans-serif; font-size: 12px; fill: rgb(77, 86, 99); fill-opacity: 1; white-space: pre;\">Top/society</text><g class=\"layers\" style=\"opacity: 1;\"><g class=\"legendfill\"/><g class=\"legendlines\"/><g class=\"legendsymbols\"><g class=\"legendpoints\"><path class=\"legendundefined\" d=\"M6,6H-6V-6H6Z\" transform=\"translate(20,0)\" style=\"stroke-width: 1px; fill: rgb(50, 171, 96); fill-opacity: 0.6; stroke: rgb(50, 171, 96); stroke-opacity: 1;\"/></g></g></g><rect class=\"legendtoggle\" pointer-events=\"all\" x=\"0\" y=\"-9.5\" width=\"367.5\" height=\"19\" style=\"cursor: pointer; fill: rgb(0, 0, 0); fill-opacity: 0;\"/></g><g class=\"traces\" style=\"opacity: 1;\" transform=\"translate(0, 71.5)\"><text class=\"legendtext user-select-none\" text-anchor=\"start\" x=\"40\" y=\"4.680000000000001\" style=\"font-family: 'Open Sans', verdana, arial, sans-serif; font-size: 12px; fill: rgb(77, 86, 99); fill-opacity: 1; white-space: pre;\">Top/society/potentialdeathhisteria</text><g class=\"layers\" style=\"opacity: 1;\"><g class=\"legendfill\"/><g class=\"legendlines\"/><g class=\"legendsymbols\"><g class=\"legendpoints\"><path class=\"legendundefined\" d=\"M6,6H-6V-6H6Z\" transform=\"translate(20,0)\" style=\"stroke-width: 1px; fill: rgb(128, 0, 128); fill-opacity: 0.6; stroke: rgb(128, 0, 128); stroke-opacity: 1;\"/></g></g></g><rect class=\"legendtoggle\" pointer-events=\"all\" x=\"0\" y=\"-9.5\" width=\"367.5\" height=\"19\" style=\"cursor: pointer; fill: rgb(0, 0, 0); fill-opacity: 0;\"/></g><g class=\"traces\" style=\"opacity: 1;\" transform=\"translate(0, 90.5)\"><text class=\"legendtext user-select-none\" text-anchor=\"start\" x=\"40\" y=\"4.680000000000001\" style=\"font-family: 'Open Sans', verdana, arial, sans-serif; font-size: 12px; fill: rgb(77, 86, 99); fill-opacity: 1; white-space: pre;\">Top/science/developingnewdrugs</text><g class=\"layers\" style=\"opacity: 1;\"><g class=\"legendfill\"/><g class=\"legendlines\"/><g class=\"legendsymbols\"><g class=\"legendpoints\"><path class=\"legendundefined\" d=\"M6,6H-6V-6H6Z\" transform=\"translate(20,0)\" style=\"stroke-width: 1px; fill: rgb(219, 64, 82); fill-opacity: 0.6; stroke: rgb(219, 64, 82); stroke-opacity: 1;\"/></g></g></g><rect class=\"legendtoggle\" pointer-events=\"all\" x=\"0\" y=\"-9.5\" width=\"367.5\" height=\"19\" style=\"cursor: pointer; fill: rgb(0, 0, 0); fill-opacity: 0;\"/></g><g class=\"traces\" style=\"opacity: 1;\" transform=\"translate(0, 109.5)\"><text class=\"legendtext user-select-none\" text-anchor=\"start\" x=\"40\" y=\"4.680000000000001\" style=\"font-family: 'Open Sans', verdana, arial, sans-serif; font-size: 12px; fill: rgb(77, 86, 99); fill-opacity: 1; white-space: pre;\">Top/politics/healthcarepolicy/entertaiment</text><g class=\"layers\" style=\"opacity: 1;\"><g class=\"legendfill\"/><g class=\"legendlines\"/><g class=\"legendsymbols\"><g class=\"legendpoints\"><path class=\"legendundefined\" d=\"M6,6H-6V-6H6Z\" transform=\"translate(20,0)\" style=\"stroke-width: 1px; fill: rgb(0, 128, 128); fill-opacity: 0.6; stroke: rgb(0, 128, 128); stroke-opacity: 1;\"/></g></g></g><rect class=\"legendtoggle\" pointer-events=\"all\" x=\"0\" y=\"-9.5\" width=\"367.5\" height=\"19\" style=\"cursor: pointer; fill: rgb(0, 0, 0); fill-opacity: 0;\"/></g><g class=\"traces\" style=\"opacity: 1;\" transform=\"translate(0, 128.5)\"><text class=\"legendtext user-select-none\" text-anchor=\"start\" x=\"40\" y=\"4.680000000000001\" style=\"font-family: 'Open Sans', verdana, arial, sans-serif; font-size: 12px; fill: rgb(77, 86, 99); fill-opacity: 1; white-space: pre;\">Top/economy/coronaimport</text><g class=\"layers\" style=\"opacity: 1;\"><g class=\"legendfill\"/><g class=\"legendlines\"/><g class=\"legendsymbols\"><g class=\"legendpoints\"><path class=\"legendundefined\" d=\"M6,6H-6V-6H6Z\" transform=\"translate(20,0)\" style=\"stroke-width: 1px; fill: rgb(255, 255, 51); fill-opacity: 0.6; stroke: rgb(255, 255, 51); stroke-opacity: 1;\"/></g></g></g><rect class=\"legendtoggle\" pointer-events=\"all\" x=\"0\" y=\"-9.5\" width=\"367.5\" height=\"19\" style=\"cursor: pointer; fill: rgb(0, 0, 0); fill-opacity: 0;\"/></g><g class=\"traces\" style=\"opacity: 1;\" transform=\"translate(0, 147.5)\"><text class=\"legendtext user-select-none\" text-anchor=\"start\" x=\"40\" y=\"4.680000000000001\" style=\"font-family: 'Open Sans', verdana, arial, sans-serif; font-size: 12px; fill: rgb(77, 86, 99); fill-opacity: 1; white-space: pre;\">Top/politics/healthcarepolicy/quarntine_strengthening</text><g class=\"layers\" style=\"opacity: 1;\"><g class=\"legendfill\"/><g class=\"legendlines\"/><g class=\"legendsymbols\"><g class=\"legendpoints\"><path class=\"legendundefined\" d=\"M6,6H-6V-6H6Z\" transform=\"translate(20,0)\" style=\"stroke-width: 1px; fill: rgb(128, 128, 0); fill-opacity: 0.6; stroke: rgb(128, 128, 0); stroke-opacity: 1;\"/></g></g></g><rect class=\"legendtoggle\" pointer-events=\"all\" x=\"0\" y=\"-9.5\" width=\"367.5\" height=\"19\" style=\"cursor: pointer; fill: rgb(0, 0, 0); fill-opacity: 0;\"/></g><g class=\"traces\" style=\"opacity: 1;\" transform=\"translate(0, 166.5)\"><text class=\"legendtext user-select-none\" text-anchor=\"start\" x=\"40\" y=\"4.680000000000001\" style=\"font-family: 'Open Sans', verdana, arial, sans-serif; font-size: 12px; fill: rgb(77, 86, 99); fill-opacity: 1; white-space: pre;\">Top/politics/healthcarepolicy/transport</text><g class=\"layers\" style=\"opacity: 1;\"><g class=\"legendfill\"/><g class=\"legendlines\"/><g class=\"legendsymbols\"><g class=\"legendpoints\"><path class=\"legendundefined\" d=\"M6,6H-6V-6H6Z\" transform=\"translate(20,0)\" style=\"stroke-width: 1px; fill: rgb(251, 128, 114); fill-opacity: 0.6; stroke: rgb(251, 128, 114); stroke-opacity: 1;\"/></g></g></g><rect class=\"legendtoggle\" pointer-events=\"all\" x=\"0\" y=\"-9.5\" width=\"367.5\" height=\"19\" style=\"cursor: pointer; fill: rgb(0, 0, 0); fill-opacity: 0;\"/></g><g class=\"traces\" style=\"opacity: 1;\" transform=\"translate(0, 185.5)\"><text class=\"legendtext user-select-none\" text-anchor=\"start\" x=\"40\" y=\"4.680000000000001\" style=\"font-family: 'Open Sans', verdana, arial, sans-serif; font-size: 12px; fill: rgb(77, 86, 99); fill-opacity: 1; white-space: pre;\">Top/economy</text><g class=\"layers\" style=\"opacity: 1;\"><g class=\"legendfill\"/><g class=\"legendlines\"/><g class=\"legendsymbols\"><g class=\"legendpoints\"><path class=\"legendundefined\" d=\"M6,6H-6V-6H6Z\" transform=\"translate(20,0)\" style=\"stroke-width: 1px; fill: rgb(128, 177, 211); fill-opacity: 0.6; stroke: rgb(128, 177, 211); stroke-opacity: 1;\"/></g></g></g><rect class=\"legendtoggle\" pointer-events=\"all\" x=\"0\" y=\"-9.5\" width=\"367.5\" height=\"19\" style=\"cursor: pointer; fill: rgb(0, 0, 0); fill-opacity: 0;\"/></g><g class=\"traces\" style=\"opacity: 1;\" transform=\"translate(0, 204.5)\"><text class=\"legendtext user-select-none\" text-anchor=\"start\" x=\"40\" y=\"4.680000000000001\" style=\"font-family: 'Open Sans', verdana, arial, sans-serif; font-size: 12px; fill: rgb(77, 86, 99); fill-opacity: 1; white-space: pre;\">Top/society/death</text><g class=\"layers\" style=\"opacity: 1;\"><g class=\"legendfill\"/><g class=\"legendlines\"/><g class=\"legendsymbols\"><g class=\"legendpoints\"><path class=\"legendundefined\" d=\"M6,6H-6V-6H6Z\" transform=\"translate(20,0)\" style=\"stroke-width: 1px; fill: rgb(128, 177, 211); fill-opacity: 0.6; stroke: rgb(128, 177, 211); stroke-opacity: 0.9;\"/></g></g></g><rect class=\"legendtoggle\" pointer-events=\"all\" x=\"0\" y=\"-9.5\" width=\"367.5\" height=\"19\" style=\"cursor: pointer; fill: rgb(0, 0, 0); fill-opacity: 0;\"/></g><g class=\"traces\" style=\"opacity: 1;\" transform=\"translate(0, 223.5)\"><text class=\"legendtext user-select-none\" text-anchor=\"start\" x=\"40\" y=\"4.680000000000001\" style=\"font-family: 'Open Sans', verdana, arial, sans-serif; font-size: 12px; fill: rgb(77, 86, 99); fill-opacity: 1; white-space: pre;\">Top/health/dissemination</text><g class=\"layers\" style=\"opacity: 1;\"><g class=\"legendfill\"/><g class=\"legendlines\"/><g class=\"legendsymbols\"><g class=\"legendpoints\"><path class=\"legendundefined\" d=\"M6,6H-6V-6H6Z\" transform=\"translate(20,0)\" style=\"stroke-width: 1px; fill: rgb(255, 153, 51); fill-opacity: 0.6; stroke: rgb(255, 153, 51); stroke-opacity: 0.9;\"/></g></g></g><rect class=\"legendtoggle\" pointer-events=\"all\" x=\"0\" y=\"-9.5\" width=\"367.5\" height=\"19\" style=\"cursor: pointer; fill: rgb(0, 0, 0); fill-opacity: 0;\"/></g><g class=\"traces\" style=\"opacity: 1;\" transform=\"translate(0, 242.5)\"><text class=\"legendtext user-select-none\" text-anchor=\"start\" x=\"40\" y=\"4.680000000000001\" style=\"font-family: 'Open Sans', verdana, arial, sans-serif; font-size: 12px; fill: rgb(77, 86, 99); fill-opacity: 1; white-space: pre;\">Top/technologies</text><g class=\"layers\" style=\"opacity: 1;\"><g class=\"legendfill\"/><g class=\"legendlines\"/><g class=\"legendsymbols\"><g class=\"legendpoints\"><path class=\"legendundefined\" d=\"M6,6H-6V-6H6Z\" transform=\"translate(20,0)\" style=\"stroke-width: 1px; fill: rgb(55, 128, 191); fill-opacity: 0.6; stroke: rgb(55, 128, 191); stroke-opacity: 0.9;\"/></g></g></g><rect class=\"legendtoggle\" pointer-events=\"all\" x=\"0\" y=\"-9.5\" width=\"367.5\" height=\"19\" style=\"cursor: pointer; fill: rgb(0, 0, 0); fill-opacity: 0;\"/></g><g class=\"traces\" style=\"opacity: 1;\" transform=\"translate(0, 261.5)\"><text class=\"legendtext user-select-none\" text-anchor=\"start\" x=\"40\" y=\"4.680000000000001\" style=\"font-family: 'Open Sans', verdana, arial, sans-serif; font-size: 12px; fill: rgb(77, 86, 99); fill-opacity: 1; white-space: pre;\">Top/events</text><g class=\"layers\" style=\"opacity: 1;\"><g class=\"legendfill\"/><g class=\"legendlines\"/><g class=\"legendsymbols\"><g class=\"legendpoints\"><path class=\"legendundefined\" d=\"M6,6H-6V-6H6Z\" transform=\"translate(20,0)\" style=\"stroke-width: 1px; fill: rgb(50, 171, 96); fill-opacity: 0.6; stroke: rgb(50, 171, 96); stroke-opacity: 0.9;\"/></g></g></g><rect class=\"legendtoggle\" pointer-events=\"all\" x=\"0\" y=\"-9.5\" width=\"367.5\" height=\"19\" style=\"cursor: pointer; fill: rgb(0, 0, 0); fill-opacity: 0;\"/></g><g class=\"traces\" style=\"opacity: 1;\" transform=\"translate(0, 280.5)\"><text class=\"legendtext user-select-none\" text-anchor=\"start\" x=\"40\" y=\"4.680000000000001\" style=\"font-family: 'Open Sans', verdana, arial, sans-serif; font-size: 12px; fill: rgb(77, 86, 99); fill-opacity: 1; white-space: pre;\">Top/politics/criminal</text><g class=\"layers\" style=\"opacity: 1;\"><g class=\"legendfill\"/><g class=\"legendlines\"/><g class=\"legendsymbols\"><g class=\"legendpoints\"><path class=\"legendundefined\" d=\"M6,6H-6V-6H6Z\" transform=\"translate(20,0)\" style=\"stroke-width: 1px; fill: rgb(128, 0, 128); fill-opacity: 0.6; stroke: rgb(128, 0, 128); stroke-opacity: 0.9;\"/></g></g></g><rect class=\"legendtoggle\" pointer-events=\"all\" x=\"0\" y=\"-9.5\" width=\"367.5\" height=\"19\" style=\"cursor: pointer; fill: rgb(0, 0, 0); fill-opacity: 0;\"/></g><g class=\"traces\" style=\"opacity: 1;\" transform=\"translate(0, 299.5)\"><text class=\"legendtext user-select-none\" text-anchor=\"start\" x=\"40\" y=\"4.680000000000001\" style=\"font-family: 'Open Sans', verdana, arial, sans-serif; font-size: 12px; fill: rgb(77, 86, 99); fill-opacity: 1; white-space: pre;\">Top/politics/healthcarepolicy/safetysteps</text><g class=\"layers\" style=\"opacity: 1;\"><g class=\"legendfill\"/><g class=\"legendlines\"/><g class=\"legendsymbols\"><g class=\"legendpoints\"><path class=\"legendundefined\" d=\"M6,6H-6V-6H6Z\" transform=\"translate(20,0)\" style=\"stroke-width: 1px; fill: rgb(219, 64, 82); fill-opacity: 0.6; stroke: rgb(219, 64, 82); stroke-opacity: 0.9;\"/></g></g></g><rect class=\"legendtoggle\" pointer-events=\"all\" x=\"0\" y=\"-9.5\" width=\"367.5\" height=\"19\" style=\"cursor: pointer; fill: rgb(0, 0, 0); fill-opacity: 0;\"/></g><g class=\"traces\" style=\"opacity: 1;\" transform=\"translate(0, 318.5)\"><text class=\"legendtext user-select-none\" text-anchor=\"start\" x=\"40\" y=\"4.680000000000001\" style=\"font-family: 'Open Sans', verdana, arial, sans-serif; font-size: 12px; fill: rgb(77, 86, 99); fill-opacity: 1; white-space: pre;\">Top/politics/healthcarepolicy</text><g class=\"layers\" style=\"opacity: 1;\"><g class=\"legendfill\"/><g class=\"legendlines\"/><g class=\"legendsymbols\"><g class=\"legendpoints\"><path class=\"legendundefined\" d=\"M6,6H-6V-6H6Z\" transform=\"translate(20,0)\" style=\"stroke-width: 1px; fill: rgb(0, 128, 128); fill-opacity: 0.6; stroke: rgb(0, 128, 128); stroke-opacity: 0.9;\"/></g></g></g><rect class=\"legendtoggle\" pointer-events=\"all\" x=\"0\" y=\"-9.5\" width=\"367.5\" height=\"19\" style=\"cursor: pointer; fill: rgb(0, 0, 0); fill-opacity: 0;\"/></g><g class=\"traces\" style=\"opacity: 1;\" transform=\"translate(0, 337.5)\"><text class=\"legendtext user-select-none\" text-anchor=\"start\" x=\"40\" y=\"4.680000000000001\" style=\"font-family: 'Open Sans', verdana, arial, sans-serif; font-size: 12px; fill: rgb(77, 86, 99); fill-opacity: 1; white-space: pre;\">Top/health/illness</text><g class=\"layers\" style=\"opacity: 1;\"><g class=\"legendfill\"/><g class=\"legendlines\"/><g class=\"legendsymbols\"><g class=\"legendpoints\"><path class=\"legendundefined\" d=\"M6,6H-6V-6H6Z\" transform=\"translate(20,0)\" style=\"stroke-width: 1px; fill: rgb(255, 255, 51); fill-opacity: 0.6; stroke: rgb(255, 255, 51); stroke-opacity: 0.9;\"/></g></g></g><rect class=\"legendtoggle\" pointer-events=\"all\" x=\"0\" y=\"-9.5\" width=\"367.5\" height=\"19\" style=\"cursor: pointer; fill: rgb(0, 0, 0); fill-opacity: 0;\"/></g><g class=\"traces\" style=\"opacity: 1;\" transform=\"translate(0, 356.5)\"><text class=\"legendtext user-select-none\" text-anchor=\"start\" x=\"40\" y=\"4.680000000000001\" style=\"font-family: 'Open Sans', verdana, arial, sans-serif; font-size: 12px; fill: rgb(77, 86, 99); fill-opacity: 1; white-space: pre;\">Top/coronavirus</text><g class=\"layers\" style=\"opacity: 1;\"><g class=\"legendfill\"/><g class=\"legendlines\"/><g class=\"legendsymbols\"><g class=\"legendpoints\"><path class=\"legendundefined\" d=\"M6,6H-6V-6H6Z\" transform=\"translate(20,0)\" style=\"stroke-width: 1px; fill: rgb(128, 128, 0); fill-opacity: 0.6; stroke: rgb(128, 128, 0); stroke-opacity: 0.9;\"/></g></g></g><rect class=\"legendtoggle\" pointer-events=\"all\" x=\"0\" y=\"-9.5\" width=\"367.5\" height=\"19\" style=\"cursor: pointer; fill: rgb(0, 0, 0); fill-opacity: 0;\"/></g><g class=\"traces\" style=\"opacity: 1;\" transform=\"translate(0, 375.5)\"><text class=\"legendtext user-select-none\" text-anchor=\"start\" x=\"40\" y=\"4.680000000000001\" style=\"font-family: 'Open Sans', verdana, arial, sans-serif; font-size: 12px; fill: rgb(77, 86, 99); fill-opacity: 1; white-space: pre;\">Top/technologies/developingofequipment</text><g class=\"layers\" style=\"opacity: 1;\"><g class=\"legendfill\"/><g class=\"legendlines\"/><g class=\"legendsymbols\"><g class=\"legendpoints\"><path class=\"legendundefined\" d=\"M6,6H-6V-6H6Z\" transform=\"translate(20,0)\" style=\"stroke-width: 1px; fill: rgb(251, 128, 114); fill-opacity: 0.6; stroke: rgb(251, 128, 114); stroke-opacity: 0.9;\"/></g></g></g><rect class=\"legendtoggle\" pointer-events=\"all\" x=\"0\" y=\"-9.5\" width=\"367.5\" height=\"19\" style=\"cursor: pointer; fill: rgb(0, 0, 0); fill-opacity: 0;\"/></g><g class=\"traces\" style=\"opacity: 1;\" transform=\"translate(0, 394.5)\"><text class=\"legendtext user-select-none\" text-anchor=\"start\" x=\"40\" y=\"4.680000000000001\" style=\"font-family: 'Open Sans', verdana, arial, sans-serif; font-size: 12px; fill: rgb(77, 86, 99); fill-opacity: 1; white-space: pre;\">Top/economy/coronabusiness</text><g class=\"layers\" style=\"opacity: 1;\"><g class=\"legendfill\"/><g class=\"legendlines\"/><g class=\"legendsymbols\"><g class=\"legendpoints\"><path class=\"legendundefined\" d=\"M6,6H-6V-6H6Z\" transform=\"translate(20,0)\" style=\"stroke-width: 1px; fill: rgb(251, 128, 114); fill-opacity: 0.6; stroke: rgb(251, 128, 114); stroke-opacity: 0.8;\"/></g></g></g><rect class=\"legendtoggle\" pointer-events=\"all\" x=\"0\" y=\"-9.5\" width=\"367.5\" height=\"19\" style=\"cursor: pointer; fill: rgb(0, 0, 0); fill-opacity: 0;\"/></g><g class=\"traces\" style=\"opacity: 1;\" transform=\"translate(0, 413.5)\"><text class=\"legendtext user-select-none\" text-anchor=\"start\" x=\"40\" y=\"4.680000000000001\" style=\"font-family: 'Open Sans', verdana, arial, sans-serif; font-size: 12px; fill: rgb(77, 86, 99); fill-opacity: 1; white-space: pre;\">Top/society/potentialdeath</text><g class=\"layers\" style=\"opacity: 1;\"><g class=\"legendfill\"/><g class=\"legendlines\"/><g class=\"legendsymbols\"><g class=\"legendpoints\"><path class=\"legendundefined\" d=\"M6,6H-6V-6H6Z\" transform=\"translate(20,0)\" style=\"stroke-width: 1px; fill: rgb(128, 177, 211); fill-opacity: 0.6; stroke: rgb(128, 177, 211); stroke-opacity: 0.8;\"/></g></g></g><rect class=\"legendtoggle\" pointer-events=\"all\" x=\"0\" y=\"-9.5\" width=\"367.5\" height=\"19\" style=\"cursor: pointer; fill: rgb(0, 0, 0); fill-opacity: 0;\"/></g><g class=\"traces\" style=\"opacity: 1;\" transform=\"translate(0, 432.5)\"><text class=\"legendtext user-select-none\" text-anchor=\"start\" x=\"40\" y=\"4.680000000000001\" style=\"font-family: 'Open Sans', verdana, arial, sans-serif; font-size: 12px; fill: rgb(77, 86, 99); fill-opacity: 1; white-space: pre;\">Top/science/developingvaccine</text><g class=\"layers\" style=\"opacity: 1;\"><g class=\"legendfill\"/><g class=\"legendlines\"/><g class=\"legendsymbols\"><g class=\"legendpoints\"><path class=\"legendundefined\" d=\"M6,6H-6V-6H6Z\" transform=\"translate(20,0)\" style=\"stroke-width: 1px; fill: rgb(255, 153, 51); fill-opacity: 0.6; stroke: rgb(255, 153, 51); stroke-opacity: 0.8;\"/></g></g></g><rect class=\"legendtoggle\" pointer-events=\"all\" x=\"0\" y=\"-9.5\" width=\"367.5\" height=\"19\" style=\"cursor: pointer; fill: rgb(0, 0, 0); fill-opacity: 0;\"/></g><g class=\"traces\" style=\"opacity: 1;\" transform=\"translate(0, 451.5)\"><text class=\"legendtext user-select-none\" text-anchor=\"start\" x=\"40\" y=\"4.680000000000001\" style=\"font-family: 'Open Sans', verdana, arial, sans-serif; font-size: 12px; fill: rgb(77, 86, 99); fill-opacity: 1; white-space: pre;\">Top/health</text><g class=\"layers\" style=\"opacity: 1;\"><g class=\"legendfill\"/><g class=\"legendlines\"/><g class=\"legendsymbols\"><g class=\"legendpoints\"><path class=\"legendundefined\" d=\"M6,6H-6V-6H6Z\" transform=\"translate(20,0)\" style=\"stroke-width: 1px; fill: rgb(55, 128, 191); fill-opacity: 0.6; stroke: rgb(55, 128, 191); stroke-opacity: 0.8;\"/></g></g></g><rect class=\"legendtoggle\" pointer-events=\"all\" x=\"0\" y=\"-9.5\" width=\"367.5\" height=\"19\" style=\"cursor: pointer; fill: rgb(0, 0, 0); fill-opacity: 0;\"/></g><g class=\"traces\" style=\"opacity: 1;\" transform=\"translate(0, 470.5)\"><text class=\"legendtext user-select-none\" text-anchor=\"start\" x=\"40\" y=\"4.680000000000001\" style=\"font-family: 'Open Sans', verdana, arial, sans-serif; font-size: 12px; fill: rgb(77, 86, 99); fill-opacity: 1; white-space: pre;\">Top/economy/crisis</text><g class=\"layers\" style=\"opacity: 1;\"><g class=\"legendfill\"/><g class=\"legendlines\"/><g class=\"legendsymbols\"><g class=\"legendpoints\"><path class=\"legendundefined\" d=\"M6,6H-6V-6H6Z\" transform=\"translate(20,0)\" style=\"stroke-width: 1px; fill: rgb(50, 171, 96); fill-opacity: 0.6; stroke: rgb(50, 171, 96); stroke-opacity: 0.8;\"/></g></g></g><rect class=\"legendtoggle\" pointer-events=\"all\" x=\"0\" y=\"-9.5\" width=\"367.5\" height=\"19\" style=\"cursor: pointer; fill: rgb(0, 0, 0); fill-opacity: 0;\"/></g><g class=\"traces\" style=\"opacity: 1;\" transform=\"translate(0, 489.5)\"><text class=\"legendtext user-select-none\" text-anchor=\"start\" x=\"40\" y=\"4.680000000000001\" style=\"font-family: 'Open Sans', verdana, arial, sans-serif; font-size: 12px; fill: rgb(77, 86, 99); fill-opacity: 1; white-space: pre;\">Top/economy/coronajobloss</text><g class=\"layers\" style=\"opacity: 1;\"><g class=\"legendfill\"/><g class=\"legendlines\"/><g class=\"legendsymbols\"><g class=\"legendpoints\"><path class=\"legendundefined\" d=\"M6,6H-6V-6H6Z\" transform=\"translate(20,0)\" style=\"stroke-width: 1px; fill: rgb(128, 0, 128); fill-opacity: 0.6; stroke: rgb(128, 0, 128); stroke-opacity: 0.8;\"/></g></g></g><rect class=\"legendtoggle\" pointer-events=\"all\" x=\"0\" y=\"-9.5\" width=\"367.5\" height=\"19\" style=\"cursor: pointer; fill: rgb(0, 0, 0); fill-opacity: 0;\"/></g><g class=\"traces\" style=\"opacity: 1;\" transform=\"translate(0, 508.5)\"><text class=\"legendtext user-select-none\" text-anchor=\"start\" x=\"40\" y=\"4.680000000000001\" style=\"font-family: 'Open Sans', verdana, arial, sans-serif; font-size: 12px; fill: rgb(77, 86, 99); fill-opacity: 1; white-space: pre;\">Top/politics/healthcarepolicy/education</text><g class=\"layers\" style=\"opacity: 1;\"><g class=\"legendfill\"/><g class=\"legendlines\"/><g class=\"legendsymbols\"><g class=\"legendpoints\"><path class=\"legendundefined\" d=\"M6,6H-6V-6H6Z\" transform=\"translate(20,0)\" style=\"stroke-width: 1px; fill: rgb(219, 64, 82); fill-opacity: 0.6; stroke: rgb(219, 64, 82); stroke-opacity: 0.8;\"/></g></g></g><rect class=\"legendtoggle\" pointer-events=\"all\" x=\"0\" y=\"-9.5\" width=\"367.5\" height=\"19\" style=\"cursor: pointer; fill: rgb(0, 0, 0); fill-opacity: 0;\"/></g><g class=\"traces\" style=\"opacity: 1;\" transform=\"translate(0, 527.5)\"><text class=\"legendtext user-select-none\" text-anchor=\"start\" x=\"40\" y=\"4.680000000000001\" style=\"font-family: 'Open Sans', verdana, arial, sans-serif; font-size: 12px; fill: rgb(77, 86, 99); fill-opacity: 1; white-space: pre;\">Top/health/recover</text><g class=\"layers\" style=\"opacity: 1;\"><g class=\"legendfill\"/><g class=\"legendlines\"/><g class=\"legendsymbols\"><g class=\"legendpoints\"><path class=\"legendundefined\" d=\"M6,6H-6V-6H6Z\" transform=\"translate(20,0)\" style=\"stroke-width: 1px; fill: rgb(0, 128, 128); fill-opacity: 0.6; stroke: rgb(0, 128, 128); stroke-opacity: 0.8;\"/></g></g></g><rect class=\"legendtoggle\" pointer-events=\"all\" x=\"0\" y=\"-9.5\" width=\"367.5\" height=\"19\" style=\"cursor: pointer; fill: rgb(0, 0, 0); fill-opacity: 0;\"/></g><g class=\"traces\" style=\"opacity: 1;\" transform=\"translate(0, 546.5)\"><text class=\"legendtext user-select-none\" text-anchor=\"start\" x=\"40\" y=\"4.680000000000001\" style=\"font-family: 'Open Sans', verdana, arial, sans-serif; font-size: 12px; fill: rgb(77, 86, 99); fill-opacity: 1; white-space: pre;\">Top/science</text><g class=\"layers\" style=\"opacity: 1;\"><g class=\"legendfill\"/><g class=\"legendlines\"/><g class=\"legendsymbols\"><g class=\"legendpoints\"><path class=\"legendundefined\" d=\"M6,6H-6V-6H6Z\" transform=\"translate(20,0)\" style=\"stroke-width: 1px; fill: rgb(255, 255, 51); fill-opacity: 0.6; stroke: rgb(255, 255, 51); stroke-opacity: 0.8;\"/></g></g></g><rect class=\"legendtoggle\" pointer-events=\"all\" x=\"0\" y=\"-9.5\" width=\"367.5\" height=\"19\" style=\"cursor: pointer; fill: rgb(0, 0, 0); fill-opacity: 0;\"/></g><g class=\"traces\" style=\"opacity: 1;\" transform=\"translate(0, 565.5)\"><text class=\"legendtext user-select-none\" text-anchor=\"start\" x=\"40\" y=\"4.680000000000001\" style=\"font-family: 'Open Sans', verdana, arial, sans-serif; font-size: 12px; fill: rgb(77, 86, 99); fill-opacity: 1; white-space: pre;\">Top/science/existeddrugs</text><g class=\"layers\" style=\"opacity: 1;\"><g class=\"legendfill\"/><g class=\"legendlines\"/><g class=\"legendsymbols\"><g class=\"legendpoints\"><path class=\"legendundefined\" d=\"M6,6H-6V-6H6Z\" transform=\"translate(20,0)\" style=\"stroke-width: 1px; fill: rgb(128, 128, 0); fill-opacity: 0.6; stroke: rgb(128, 128, 0); stroke-opacity: 0.8;\"/></g></g></g><rect class=\"legendtoggle\" pointer-events=\"all\" x=\"0\" y=\"-9.5\" width=\"367.5\" height=\"19\" style=\"cursor: pointer; fill: rgb(0, 0, 0); fill-opacity: 0;\"/></g><g class=\"traces\" style=\"opacity: 1;\" transform=\"translate(0, 584.5)\"><text class=\"legendtext user-select-none\" text-anchor=\"start\" x=\"40\" y=\"4.680000000000001\" style=\"font-family: 'Open Sans', verdana, arial, sans-serif; font-size: 12px; fill: rgb(77, 86, 99); fill-opacity: 1; white-space: pre;\">Top/economy/coronacrisis</text><g class=\"layers\" style=\"opacity: 1;\"><g class=\"legendfill\"/><g class=\"legendlines\"/><g class=\"legendsymbols\"><g class=\"legendpoints\"><path class=\"legendundefined\" d=\"M6,6H-6V-6H6Z\" transform=\"translate(20,0)\" style=\"stroke-width: 1px; fill: rgb(128, 128, 0); fill-opacity: 0.6; stroke: rgb(128, 128, 0); stroke-opacity: 0.7;\"/></g></g></g><rect class=\"legendtoggle\" pointer-events=\"all\" x=\"0\" y=\"-9.5\" width=\"367.5\" height=\"19\" style=\"cursor: pointer; fill: rgb(0, 0, 0); fill-opacity: 0;\"/></g><g class=\"traces\" style=\"opacity: 1;\" transform=\"translate(0, 603.5)\"><text class=\"legendtext user-select-none\" text-anchor=\"start\" x=\"40\" y=\"4.680000000000001\" style=\"font-family: 'Open Sans', verdana, arial, sans-serif; font-size: 12px; fill: rgb(77, 86, 99); fill-opacity: 1; white-space: pre;\">Top/society/familytroubles</text><g class=\"layers\" style=\"opacity: 1;\"><g class=\"legendfill\"/><g class=\"legendlines\"/><g class=\"legendsymbols\"><g class=\"legendpoints\"><path class=\"legendundefined\" d=\"M6,6H-6V-6H6Z\" transform=\"translate(20,0)\" style=\"stroke-width: 1px; fill: rgb(251, 128, 114); fill-opacity: 0.6; stroke: rgb(251, 128, 114); stroke-opacity: 0.7;\"/></g></g></g><rect class=\"legendtoggle\" pointer-events=\"all\" x=\"0\" y=\"-9.5\" width=\"367.5\" height=\"19\" style=\"cursor: pointer; fill: rgb(0, 0, 0); fill-opacity: 0;\"/></g><g class=\"traces\" style=\"opacity: 1;\" transform=\"translate(0, 622.5)\"><text class=\"legendtext user-select-none\" text-anchor=\"start\" x=\"40\" y=\"4.680000000000001\" style=\"font-family: 'Open Sans', verdana, arial, sans-serif; font-size: 12px; fill: rgb(77, 86, 99); fill-opacity: 1; white-space: pre;\">Top/politics</text><g class=\"layers\" style=\"opacity: 1;\"><g class=\"legendfill\"/><g class=\"legendlines\"/><g class=\"legendsymbols\"><g class=\"legendpoints\"><path class=\"legendundefined\" d=\"M6,6H-6V-6H6Z\" transform=\"translate(20,0)\" style=\"stroke-width: 1px; fill: rgb(128, 177, 211); fill-opacity: 0.6; stroke: rgb(128, 177, 211); stroke-opacity: 0.7;\"/></g></g></g><rect class=\"legendtoggle\" pointer-events=\"all\" x=\"0\" y=\"-9.5\" width=\"367.5\" height=\"19\" style=\"cursor: pointer; fill: rgb(0, 0, 0); fill-opacity: 0;\"/></g><g class=\"traces\" style=\"opacity: 1;\" transform=\"translate(0, 641.5)\"><text class=\"legendtext user-select-none\" text-anchor=\"start\" x=\"40\" y=\"4.680000000000001\" style=\"font-family: 'Open Sans', verdana, arial, sans-serif; font-size: 12px; fill: rgb(77, 86, 99); fill-opacity: 1; white-space: pre;\">Top/events/coronacanceledevents</text><g class=\"layers\" style=\"opacity: 1;\"><g class=\"legendfill\"/><g class=\"legendlines\"/><g class=\"legendsymbols\"><g class=\"legendpoints\"><path class=\"legendundefined\" d=\"M6,6H-6V-6H6Z\" transform=\"translate(20,0)\" style=\"stroke-width: 1px; fill: rgb(255, 153, 51); fill-opacity: 0.6; stroke: rgb(255, 153, 51); stroke-opacity: 0.7;\"/></g></g></g><rect class=\"legendtoggle\" pointer-events=\"all\" x=\"0\" y=\"-9.5\" width=\"367.5\" height=\"19\" style=\"cursor: pointer; fill: rgb(0, 0, 0); fill-opacity: 0;\"/></g></g></g><rect class=\"scrollbar\" rx=\"20\" ry=\"3\" width=\"0\" height=\"0\" style=\"fill: rgb(128, 139, 164); fill-opacity: 1;\" x=\"0\" y=\"0\"/></g><g class=\"g-gtitle\"><text class=\"gtitle\" x=\"35\" y=\"50\" text-anchor=\"start\" dy=\"0em\" style=\"font-family: 'Open Sans', verdana, arial, sans-serif; font-size: 17px; fill: rgb(77, 86, 99); opacity: 1; font-weight: normal; white-space: pre;\">Coronovirus</text></g><g class=\"g-xtitle\"><text class=\"xtitle\" x=\"350\" y=\"410.8\" text-anchor=\"middle\" style=\"font-family: 'Open Sans', verdana, arial, sans-serif; font-size: 14px; fill: rgb(77, 86, 99); opacity: 1; font-weight: normal; white-space: pre;\">period</text></g><g class=\"g-ytitle\"><text class=\"ytitle\" transform=\"rotate(-90,31.309375000000003,235)\" x=\"31.309375000000003\" y=\"235\" text-anchor=\"middle\" style=\"font-family: 'Open Sans', verdana, arial, sans-serif; font-size: 14px; fill: rgb(77, 86, 99); opacity: 1; font-weight: normal; white-space: pre;\">count</text></g></g></svg>"
      ]
     },
     "metadata": {},
     "output_type": "display_data"
    }
   ],
   "source": [
    "cf.set_config_file(offline=False, world_readable=True)\n",
    "res_without_dates.figure(kind='bar', histnorm='percent',\n",
    "    barmode='overlay', xTitle='period',\n",
    "                  yTitle='count', title='Coronovirus').show(\"svg\")\n",
    "\n",
    "#res_without_dates.corr().iplot(kind='heatmap',colorscale=\"Blues\",title=\"Feature Correlation Matrix\")"
   ]
  },
  {
   "cell_type": "code",
   "execution_count": null,
   "metadata": {},
   "outputs": [],
   "source": []
  },
  {
   "cell_type": "code",
   "execution_count": 15,
   "metadata": {},
   "outputs": [],
   "source": [
    "days_period = 5 \n",
    "all_source_bars = create_result_table(name_colums_for_new_csv, my_classes, days_period, first_day, last_day)\n",
    "res_without_dates = all_source_bars.drop(['start_period','end_period'], axis=1)\n"
   ]
  },
  {
   "cell_type": "code",
   "execution_count": 16,
   "metadata": {},
   "outputs": [
    {
     "data": {
      "image/svg+xml": [
       "<svg class=\"main-svg\" xmlns=\"http://www.w3.org/2000/svg\" xmlns:xlink=\"http://www.w3.org/1999/xlink\" width=\"700\" height=\"450\" style=\"\" viewBox=\"0 0 700 450\"><rect x=\"0\" y=\"0\" width=\"700\" height=\"450\" style=\"fill: rgb(245, 246, 249); fill-opacity: 1;\"/><defs id=\"defs-62e3d1\"><g class=\"clips\"><clipPath id=\"clip62e3d1xyplot\" class=\"plotclip\"><rect width=\"540\" height=\"270\"/></clipPath><clipPath class=\"axesclip\" id=\"clip62e3d1x\"><rect x=\"80\" y=\"0\" width=\"540\" height=\"450\"/></clipPath><clipPath class=\"axesclip\" id=\"clip62e3d1y\"><rect x=\"0\" y=\"100\" width=\"700\" height=\"270\"/></clipPath><clipPath class=\"axesclip\" id=\"clip62e3d1xy\"><rect x=\"80\" y=\"100\" width=\"540\" height=\"270\"/></clipPath></g><g class=\"gradients\"/></defs><g class=\"bglayer\"/><g class=\"layer-below\"><g class=\"imagelayer\"/><g class=\"shapelayer\"/></g><g class=\"cartesianlayer\"><g class=\"subplot xy\"><g class=\"layer-subplot\"><g class=\"shapelayer\"/><g class=\"imagelayer\"/></g><g class=\"gridlayer\"><g class=\"x\"><path class=\"xgrid crisp\" transform=\"translate(202.73000000000002,0)\" d=\"M0,100v270\" style=\"stroke: rgb(225, 229, 237); stroke-opacity: 1; stroke-width: 1px;\"/><path class=\"xgrid crisp\" transform=\"translate(300.90999999999997,0)\" d=\"M0,100v270\" style=\"stroke: rgb(225, 229, 237); stroke-opacity: 1; stroke-width: 1px;\"/><path class=\"xgrid crisp\" transform=\"translate(399.09,0)\" d=\"M0,100v270\" style=\"stroke: rgb(225, 229, 237); stroke-opacity: 1; stroke-width: 1px;\"/><path class=\"xgrid crisp\" transform=\"translate(497.27,0)\" d=\"M0,100v270\" style=\"stroke: rgb(225, 229, 237); stroke-opacity: 1; stroke-width: 1px;\"/><path class=\"xgrid crisp\" transform=\"translate(595.45,0)\" d=\"M0,100v270\" style=\"stroke: rgb(225, 229, 237); stroke-opacity: 1; stroke-width: 1px;\"/></g><g class=\"y\"><path class=\"ygrid crisp\" transform=\"translate(0,327.81)\" d=\"M80,0h540\" style=\"stroke: rgb(225, 229, 237); stroke-opacity: 1; stroke-width: 1px;\"/><path class=\"ygrid crisp\" transform=\"translate(0,285.63)\" d=\"M80,0h540\" style=\"stroke: rgb(225, 229, 237); stroke-opacity: 1; stroke-width: 1px;\"/><path class=\"ygrid crisp\" transform=\"translate(0,243.44)\" d=\"M80,0h540\" style=\"stroke: rgb(225, 229, 237); stroke-opacity: 1; stroke-width: 1px;\"/><path class=\"ygrid crisp\" transform=\"translate(0,201.25)\" d=\"M80,0h540\" style=\"stroke: rgb(225, 229, 237); stroke-opacity: 1; stroke-width: 1px;\"/><path class=\"ygrid crisp\" transform=\"translate(0,159.06)\" d=\"M80,0h540\" style=\"stroke: rgb(225, 229, 237); stroke-opacity: 1; stroke-width: 1px;\"/><path class=\"ygrid crisp\" transform=\"translate(0,116.88)\" d=\"M80,0h540\" style=\"stroke: rgb(225, 229, 237); stroke-opacity: 1; stroke-width: 1px;\"/></g></g><g class=\"zerolinelayer\"><path class=\"xzl zl crisp\" transform=\"translate(104.55,0)\" d=\"M0,100v270\" style=\"stroke: rgb(225, 229, 237); stroke-opacity: 1; stroke-width: 2px;\"/><path class=\"yzl zl crisp\" transform=\"translate(0,370)\" d=\"M80,0h540\" style=\"stroke: rgb(225, 229, 237); stroke-opacity: 1; stroke-width: 2px;\"/></g><path class=\"xlines-below\"/><path class=\"ylines-below\"/><g class=\"overlines-below\"/><g class=\"xaxislayer-below\"/><g class=\"yaxislayer-below\"/><g class=\"overaxes-below\"/><g class=\"plot\" transform=\"translate(80, 100)\" clip-path=\"url('#clip62e3d1xyplot')\"><g class=\"barlayer mlayer\"><g class=\"trace bars\" style=\"opacity: 1;\"><g class=\"points\"><g class=\"point\"><path d=\"M4.91,270V269.16H44.18V270Z\" style=\"vector-effect: non-scaling-stroke; opacity: 1; stroke-width: 1px; fill: rgb(255, 153, 51); fill-opacity: 0.6; stroke: rgb(255, 153, 51); stroke-opacity: 1;\"/></g><g class=\"point\"><path d=\"M54,270V270H93.27V270Z\" style=\"vector-effect: non-scaling-stroke; opacity: 1; stroke-width: 1px; fill: rgb(255, 153, 51); fill-opacity: 0.6; stroke: rgb(255, 153, 51); stroke-opacity: 1;\"/></g><g class=\"point\"><path d=\"M103.09,270V267.47H142.36V270Z\" style=\"vector-effect: non-scaling-stroke; opacity: 1; stroke-width: 1px; fill: rgb(255, 153, 51); fill-opacity: 0.6; stroke: rgb(255, 153, 51); stroke-opacity: 1;\"/></g><g class=\"point\"><path d=\"M152.18,270V268.31H191.45V270Z\" style=\"vector-effect: non-scaling-stroke; opacity: 1; stroke-width: 1px; fill: rgb(255, 153, 51); fill-opacity: 0.6; stroke: rgb(255, 153, 51); stroke-opacity: 1;\"/></g><g class=\"point\"><path d=\"M201.27,270V263.25H240.55V270Z\" style=\"vector-effect: non-scaling-stroke; opacity: 1; stroke-width: 1px; fill: rgb(255, 153, 51); fill-opacity: 0.6; stroke: rgb(255, 153, 51); stroke-opacity: 1;\"/></g><g class=\"point\"><path d=\"M250.36,270V269.16H289.64V270Z\" style=\"vector-effect: non-scaling-stroke; opacity: 1; stroke-width: 1px; fill: rgb(255, 153, 51); fill-opacity: 0.6; stroke: rgb(255, 153, 51); stroke-opacity: 1;\"/></g><g class=\"point\"><path d=\"M299.45,270V267.47H338.73V270Z\" style=\"vector-effect: non-scaling-stroke; opacity: 1; stroke-width: 1px; fill: rgb(255, 153, 51); fill-opacity: 0.6; stroke: rgb(255, 153, 51); stroke-opacity: 1;\"/></g><g class=\"point\"><path d=\"M348.55,270V270H387.82V270Z\" style=\"vector-effect: non-scaling-stroke; opacity: 1; stroke-width: 1px; fill: rgb(255, 153, 51); fill-opacity: 0.6; stroke: rgb(255, 153, 51); stroke-opacity: 1;\"/></g><g class=\"point\"><path d=\"M397.64,270V270H436.91V270Z\" style=\"vector-effect: non-scaling-stroke; opacity: 1; stroke-width: 1px; fill: rgb(255, 153, 51); fill-opacity: 0.6; stroke: rgb(255, 153, 51); stroke-opacity: 1;\"/></g><g class=\"point\"><path d=\"M446.73,270V268.31H486V270Z\" style=\"vector-effect: non-scaling-stroke; opacity: 1; stroke-width: 1px; fill: rgb(255, 153, 51); fill-opacity: 0.6; stroke: rgb(255, 153, 51); stroke-opacity: 1;\"/></g><g class=\"point\"><path d=\"M495.82,270V267.47H535.09V270Z\" style=\"vector-effect: non-scaling-stroke; opacity: 1; stroke-width: 1px; fill: rgb(255, 153, 51); fill-opacity: 0.6; stroke: rgb(255, 153, 51); stroke-opacity: 1;\"/></g></g></g><g class=\"trace bars\" style=\"opacity: 1;\"><g class=\"points\"><g class=\"point\"><path d=\"M4.91,270V270H44.18V270Z\" style=\"vector-effect: non-scaling-stroke; opacity: 1; stroke-width: 1px; fill: rgb(55, 128, 191); fill-opacity: 0.6; stroke: rgb(55, 128, 191); stroke-opacity: 1;\"/></g><g class=\"point\"><path d=\"M54,270V270H93.27V270Z\" style=\"vector-effect: non-scaling-stroke; opacity: 1; stroke-width: 1px; fill: rgb(55, 128, 191); fill-opacity: 0.6; stroke: rgb(55, 128, 191); stroke-opacity: 1;\"/></g><g class=\"point\"><path d=\"M103.09,270V265.78H142.36V270Z\" style=\"vector-effect: non-scaling-stroke; opacity: 1; stroke-width: 1px; fill: rgb(55, 128, 191); fill-opacity: 0.6; stroke: rgb(55, 128, 191); stroke-opacity: 1;\"/></g><g class=\"point\"><path d=\"M152.18,270V264.94H191.45V270Z\" style=\"vector-effect: non-scaling-stroke; opacity: 1; stroke-width: 1px; fill: rgb(55, 128, 191); fill-opacity: 0.6; stroke: rgb(55, 128, 191); stroke-opacity: 1;\"/></g><g class=\"point\"><path d=\"M201.27,270V264.94H240.55V270Z\" style=\"vector-effect: non-scaling-stroke; opacity: 1; stroke-width: 1px; fill: rgb(55, 128, 191); fill-opacity: 0.6; stroke: rgb(55, 128, 191); stroke-opacity: 1;\"/></g><g class=\"point\"><path d=\"M250.36,270V262.41H289.64V270Z\" style=\"vector-effect: non-scaling-stroke; opacity: 1; stroke-width: 1px; fill: rgb(55, 128, 191); fill-opacity: 0.6; stroke: rgb(55, 128, 191); stroke-opacity: 1;\"/></g><g class=\"point\"><path d=\"M299.45,270V265.78H338.73V270Z\" style=\"vector-effect: non-scaling-stroke; opacity: 1; stroke-width: 1px; fill: rgb(55, 128, 191); fill-opacity: 0.6; stroke: rgb(55, 128, 191); stroke-opacity: 1;\"/></g><g class=\"point\"><path d=\"M348.55,270V265.78H387.82V270Z\" style=\"vector-effect: non-scaling-stroke; opacity: 1; stroke-width: 1px; fill: rgb(55, 128, 191); fill-opacity: 0.6; stroke: rgb(55, 128, 191); stroke-opacity: 1;\"/></g><g class=\"point\"><path d=\"M397.64,270V266.63H436.91V270Z\" style=\"vector-effect: non-scaling-stroke; opacity: 1; stroke-width: 1px; fill: rgb(55, 128, 191); fill-opacity: 0.6; stroke: rgb(55, 128, 191); stroke-opacity: 1;\"/></g><g class=\"point\"><path d=\"M446.73,270V266.63H486V270Z\" style=\"vector-effect: non-scaling-stroke; opacity: 1; stroke-width: 1px; fill: rgb(55, 128, 191); fill-opacity: 0.6; stroke: rgb(55, 128, 191); stroke-opacity: 1;\"/></g><g class=\"point\"><path d=\"M495.82,270V267.47H535.09V270Z\" style=\"vector-effect: non-scaling-stroke; opacity: 1; stroke-width: 1px; fill: rgb(55, 128, 191); fill-opacity: 0.6; stroke: rgb(55, 128, 191); stroke-opacity: 1;\"/></g></g></g><g class=\"trace bars\" style=\"opacity: 1;\"><g class=\"points\"><g class=\"point\"><path d=\"M4.91,270V269.16H44.18V270Z\" style=\"vector-effect: non-scaling-stroke; opacity: 1; stroke-width: 1px; fill: rgb(50, 171, 96); fill-opacity: 0.6; stroke: rgb(50, 171, 96); stroke-opacity: 1;\"/></g><g class=\"point\"><path d=\"M54,270V249.75H93.27V270Z\" style=\"vector-effect: non-scaling-stroke; opacity: 1; stroke-width: 1px; fill: rgb(50, 171, 96); fill-opacity: 0.6; stroke: rgb(50, 171, 96); stroke-opacity: 1;\"/></g><g class=\"point\"><path d=\"M103.09,270V236.25H142.36V270Z\" style=\"vector-effect: non-scaling-stroke; opacity: 1; stroke-width: 1px; fill: rgb(50, 171, 96); fill-opacity: 0.6; stroke: rgb(50, 171, 96); stroke-opacity: 1;\"/></g><g class=\"point\"><path d=\"M152.18,270V228.66H191.45V270Z\" style=\"vector-effect: non-scaling-stroke; opacity: 1; stroke-width: 1px; fill: rgb(50, 171, 96); fill-opacity: 0.6; stroke: rgb(50, 171, 96); stroke-opacity: 1;\"/></g><g class=\"point\"><path d=\"M201.27,270V202.5H240.55V270Z\" style=\"vector-effect: non-scaling-stroke; opacity: 1; stroke-width: 1px; fill: rgb(50, 171, 96); fill-opacity: 0.6; stroke: rgb(50, 171, 96); stroke-opacity: 1;\"/></g><g class=\"point\"><path d=\"M250.36,270V138.38H289.64V270Z\" style=\"vector-effect: non-scaling-stroke; opacity: 1; stroke-width: 1px; fill: rgb(50, 171, 96); fill-opacity: 0.6; stroke: rgb(50, 171, 96); stroke-opacity: 1;\"/></g><g class=\"point\"><path d=\"M299.45,270V214.31H338.73V270Z\" style=\"vector-effect: non-scaling-stroke; opacity: 1; stroke-width: 1px; fill: rgb(50, 171, 96); fill-opacity: 0.6; stroke: rgb(50, 171, 96); stroke-opacity: 1;\"/></g><g class=\"point\"><path d=\"M348.55,270V202.5H387.82V270Z\" style=\"vector-effect: non-scaling-stroke; opacity: 1; stroke-width: 1px; fill: rgb(50, 171, 96); fill-opacity: 0.6; stroke: rgb(50, 171, 96); stroke-opacity: 1;\"/></g><g class=\"point\"><path d=\"M397.64,270V177.19H436.91V270Z\" style=\"vector-effect: non-scaling-stroke; opacity: 1; stroke-width: 1px; fill: rgb(50, 171, 96); fill-opacity: 0.6; stroke: rgb(50, 171, 96); stroke-opacity: 1;\"/></g><g class=\"point\"><path d=\"M446.73,270V192.38H486V270Z\" style=\"vector-effect: non-scaling-stroke; opacity: 1; stroke-width: 1px; fill: rgb(50, 171, 96); fill-opacity: 0.6; stroke: rgb(50, 171, 96); stroke-opacity: 1;\"/></g><g class=\"point\"><path d=\"M495.82,270V183.94H535.09V270Z\" style=\"vector-effect: non-scaling-stroke; opacity: 1; stroke-width: 1px; fill: rgb(50, 171, 96); fill-opacity: 0.6; stroke: rgb(50, 171, 96); stroke-opacity: 1;\"/></g></g></g><g class=\"trace bars\" style=\"opacity: 1;\"><g class=\"points\"><g class=\"point\"><path d=\"M4.91,270V270H44.18V270Z\" style=\"vector-effect: non-scaling-stroke; opacity: 1; stroke-width: 1px; fill: rgb(128, 0, 128); fill-opacity: 0.6; stroke: rgb(128, 0, 128); stroke-opacity: 1;\"/></g><g class=\"point\"><path d=\"M54,270V269.16H93.27V270Z\" style=\"vector-effect: non-scaling-stroke; opacity: 1; stroke-width: 1px; fill: rgb(128, 0, 128); fill-opacity: 0.6; stroke: rgb(128, 0, 128); stroke-opacity: 1;\"/></g><g class=\"point\"><path d=\"M103.09,270V269.16H142.36V270Z\" style=\"vector-effect: non-scaling-stroke; opacity: 1; stroke-width: 1px; fill: rgb(128, 0, 128); fill-opacity: 0.6; stroke: rgb(128, 0, 128); stroke-opacity: 1;\"/></g><g class=\"point\"><path d=\"M152.18,270V265.78H191.45V270Z\" style=\"vector-effect: non-scaling-stroke; opacity: 1; stroke-width: 1px; fill: rgb(128, 0, 128); fill-opacity: 0.6; stroke: rgb(128, 0, 128); stroke-opacity: 1;\"/></g><g class=\"point\"><path d=\"M201.27,270V265.78H240.55V270Z\" style=\"vector-effect: non-scaling-stroke; opacity: 1; stroke-width: 1px; fill: rgb(128, 0, 128); fill-opacity: 0.6; stroke: rgb(128, 0, 128); stroke-opacity: 1;\"/></g><g class=\"point\"><path d=\"M250.36,270V262.41H289.64V270Z\" style=\"vector-effect: non-scaling-stroke; opacity: 1; stroke-width: 1px; fill: rgb(128, 0, 128); fill-opacity: 0.6; stroke: rgb(128, 0, 128); stroke-opacity: 1;\"/></g><g class=\"point\"><path d=\"M299.45,270V268.31H338.73V270Z\" style=\"vector-effect: non-scaling-stroke; opacity: 1; stroke-width: 1px; fill: rgb(128, 0, 128); fill-opacity: 0.6; stroke: rgb(128, 0, 128); stroke-opacity: 1;\"/></g><g class=\"point\"><path d=\"M348.55,270V266.63H387.82V270Z\" style=\"vector-effect: non-scaling-stroke; opacity: 1; stroke-width: 1px; fill: rgb(128, 0, 128); fill-opacity: 0.6; stroke: rgb(128, 0, 128); stroke-opacity: 1;\"/></g><g class=\"point\"><path d=\"M397.64,270V267.47H436.91V270Z\" style=\"vector-effect: non-scaling-stroke; opacity: 1; stroke-width: 1px; fill: rgb(128, 0, 128); fill-opacity: 0.6; stroke: rgb(128, 0, 128); stroke-opacity: 1;\"/></g><g class=\"point\"><path d=\"M446.73,270V269.16H486V270Z\" style=\"vector-effect: non-scaling-stroke; opacity: 1; stroke-width: 1px; fill: rgb(128, 0, 128); fill-opacity: 0.6; stroke: rgb(128, 0, 128); stroke-opacity: 1;\"/></g><g class=\"point\"><path d=\"M495.82,270V268.31H535.09V270Z\" style=\"vector-effect: non-scaling-stroke; opacity: 1; stroke-width: 1px; fill: rgb(128, 0, 128); fill-opacity: 0.6; stroke: rgb(128, 0, 128); stroke-opacity: 1;\"/></g></g></g><g class=\"trace bars\" style=\"opacity: 1;\"><g class=\"points\"><g class=\"point\"><path d=\"M4.91,270V270H44.18V270Z\" style=\"vector-effect: non-scaling-stroke; opacity: 1; stroke-width: 1px; fill: rgb(219, 64, 82); fill-opacity: 0.6; stroke: rgb(219, 64, 82); stroke-opacity: 1;\"/></g><g class=\"point\"><path d=\"M54,270V270H93.27V270Z\" style=\"vector-effect: non-scaling-stroke; opacity: 1; stroke-width: 1px; fill: rgb(219, 64, 82); fill-opacity: 0.6; stroke: rgb(219, 64, 82); stroke-opacity: 1;\"/></g><g class=\"point\"><path d=\"M103.09,270V270H142.36V270Z\" style=\"vector-effect: non-scaling-stroke; opacity: 1; stroke-width: 1px; fill: rgb(219, 64, 82); fill-opacity: 0.6; stroke: rgb(219, 64, 82); stroke-opacity: 1;\"/></g><g class=\"point\"><path d=\"M152.18,270V267.47H191.45V270Z\" style=\"vector-effect: non-scaling-stroke; opacity: 1; stroke-width: 1px; fill: rgb(219, 64, 82); fill-opacity: 0.6; stroke: rgb(219, 64, 82); stroke-opacity: 1;\"/></g><g class=\"point\"><path d=\"M201.27,270V268.31H240.55V270Z\" style=\"vector-effect: non-scaling-stroke; opacity: 1; stroke-width: 1px; fill: rgb(219, 64, 82); fill-opacity: 0.6; stroke: rgb(219, 64, 82); stroke-opacity: 1;\"/></g><g class=\"point\"><path d=\"M250.36,270V268.31H289.64V270Z\" style=\"vector-effect: non-scaling-stroke; opacity: 1; stroke-width: 1px; fill: rgb(219, 64, 82); fill-opacity: 0.6; stroke: rgb(219, 64, 82); stroke-opacity: 1;\"/></g><g class=\"point\"><path d=\"M299.45,270V265.78H338.73V270Z\" style=\"vector-effect: non-scaling-stroke; opacity: 1; stroke-width: 1px; fill: rgb(219, 64, 82); fill-opacity: 0.6; stroke: rgb(219, 64, 82); stroke-opacity: 1;\"/></g><g class=\"point\"><path d=\"M348.55,270V268.31H387.82V270Z\" style=\"vector-effect: non-scaling-stroke; opacity: 1; stroke-width: 1px; fill: rgb(219, 64, 82); fill-opacity: 0.6; stroke: rgb(219, 64, 82); stroke-opacity: 1;\"/></g><g class=\"point\"><path d=\"M397.64,270V266.63H436.91V270Z\" style=\"vector-effect: non-scaling-stroke; opacity: 1; stroke-width: 1px; fill: rgb(219, 64, 82); fill-opacity: 0.6; stroke: rgb(219, 64, 82); stroke-opacity: 1;\"/></g><g class=\"point\"><path d=\"M446.73,270V266.63H486V270Z\" style=\"vector-effect: non-scaling-stroke; opacity: 1; stroke-width: 1px; fill: rgb(219, 64, 82); fill-opacity: 0.6; stroke: rgb(219, 64, 82); stroke-opacity: 1;\"/></g><g class=\"point\"><path d=\"M495.82,270V265.78H535.09V270Z\" style=\"vector-effect: non-scaling-stroke; opacity: 1; stroke-width: 1px; fill: rgb(219, 64, 82); fill-opacity: 0.6; stroke: rgb(219, 64, 82); stroke-opacity: 1;\"/></g></g></g><g class=\"trace bars\" style=\"opacity: 1;\"><g class=\"points\"><g class=\"point\"><path d=\"M4.91,270V270H44.18V270Z\" style=\"vector-effect: non-scaling-stroke; opacity: 1; stroke-width: 1px; fill: rgb(0, 128, 128); fill-opacity: 0.6; stroke: rgb(0, 128, 128); stroke-opacity: 1;\"/></g><g class=\"point\"><path d=\"M54,270V265.78H93.27V270Z\" style=\"vector-effect: non-scaling-stroke; opacity: 1; stroke-width: 1px; fill: rgb(0, 128, 128); fill-opacity: 0.6; stroke: rgb(0, 128, 128); stroke-opacity: 1;\"/></g><g class=\"point\"><path d=\"M103.09,270V253.97H142.36V270Z\" style=\"vector-effect: non-scaling-stroke; opacity: 1; stroke-width: 1px; fill: rgb(0, 128, 128); fill-opacity: 0.6; stroke: rgb(0, 128, 128); stroke-opacity: 1;\"/></g><g class=\"point\"><path d=\"M152.18,270V259.03H191.45V270Z\" style=\"vector-effect: non-scaling-stroke; opacity: 1; stroke-width: 1px; fill: rgb(0, 128, 128); fill-opacity: 0.6; stroke: rgb(0, 128, 128); stroke-opacity: 1;\"/></g><g class=\"point\"><path d=\"M201.27,270V256.5H240.55V270Z\" style=\"vector-effect: non-scaling-stroke; opacity: 1; stroke-width: 1px; fill: rgb(0, 128, 128); fill-opacity: 0.6; stroke: rgb(0, 128, 128); stroke-opacity: 1;\"/></g><g class=\"point\"><path d=\"M250.36,270V231.19H289.64V270Z\" style=\"vector-effect: non-scaling-stroke; opacity: 1; stroke-width: 1px; fill: rgb(0, 128, 128); fill-opacity: 0.6; stroke: rgb(0, 128, 128); stroke-opacity: 1;\"/></g><g class=\"point\"><path d=\"M299.45,270V254.81H338.73V270Z\" style=\"vector-effect: non-scaling-stroke; opacity: 1; stroke-width: 1px; fill: rgb(0, 128, 128); fill-opacity: 0.6; stroke: rgb(0, 128, 128); stroke-opacity: 1;\"/></g><g class=\"point\"><path d=\"M348.55,270V259.88H387.82V270Z\" style=\"vector-effect: non-scaling-stroke; opacity: 1; stroke-width: 1px; fill: rgb(0, 128, 128); fill-opacity: 0.6; stroke: rgb(0, 128, 128); stroke-opacity: 1;\"/></g><g class=\"point\"><path d=\"M397.64,270V257.34H436.91V270Z\" style=\"vector-effect: non-scaling-stroke; opacity: 1; stroke-width: 1px; fill: rgb(0, 128, 128); fill-opacity: 0.6; stroke: rgb(0, 128, 128); stroke-opacity: 1;\"/></g><g class=\"point\"><path d=\"M446.73,270V262.41H486V270Z\" style=\"vector-effect: non-scaling-stroke; opacity: 1; stroke-width: 1px; fill: rgb(0, 128, 128); fill-opacity: 0.6; stroke: rgb(0, 128, 128); stroke-opacity: 1;\"/></g><g class=\"point\"><path d=\"M495.82,270V261.56H535.09V270Z\" style=\"vector-effect: non-scaling-stroke; opacity: 1; stroke-width: 1px; fill: rgb(0, 128, 128); fill-opacity: 0.6; stroke: rgb(0, 128, 128); stroke-opacity: 1;\"/></g></g></g><g class=\"trace bars\" style=\"opacity: 1;\"><g class=\"points\"><g class=\"point\"><path d=\"M4.91,270V270H44.18V270Z\" style=\"vector-effect: non-scaling-stroke; opacity: 1; stroke-width: 1px; fill: rgb(255, 255, 51); fill-opacity: 0.6; stroke: rgb(255, 255, 51); stroke-opacity: 1;\"/></g><g class=\"point\"><path d=\"M54,270V270H93.27V270Z\" style=\"vector-effect: non-scaling-stroke; opacity: 1; stroke-width: 1px; fill: rgb(255, 255, 51); fill-opacity: 0.6; stroke: rgb(255, 255, 51); stroke-opacity: 1;\"/></g><g class=\"point\"><path d=\"M103.09,270V266.63H142.36V270Z\" style=\"vector-effect: non-scaling-stroke; opacity: 1; stroke-width: 1px; fill: rgb(255, 255, 51); fill-opacity: 0.6; stroke: rgb(255, 255, 51); stroke-opacity: 1;\"/></g><g class=\"point\"><path d=\"M152.18,270V262.41H191.45V270Z\" style=\"vector-effect: non-scaling-stroke; opacity: 1; stroke-width: 1px; fill: rgb(255, 255, 51); fill-opacity: 0.6; stroke: rgb(255, 255, 51); stroke-opacity: 1;\"/></g><g class=\"point\"><path d=\"M201.27,270V259.88H240.55V270Z\" style=\"vector-effect: non-scaling-stroke; opacity: 1; stroke-width: 1px; fill: rgb(255, 255, 51); fill-opacity: 0.6; stroke: rgb(255, 255, 51); stroke-opacity: 1;\"/></g><g class=\"point\"><path d=\"M250.36,270V259.88H289.64V270Z\" style=\"vector-effect: non-scaling-stroke; opacity: 1; stroke-width: 1px; fill: rgb(255, 255, 51); fill-opacity: 0.6; stroke: rgb(255, 255, 51); stroke-opacity: 1;\"/></g><g class=\"point\"><path d=\"M299.45,270V263.25H338.73V270Z\" style=\"vector-effect: non-scaling-stroke; opacity: 1; stroke-width: 1px; fill: rgb(255, 255, 51); fill-opacity: 0.6; stroke: rgb(255, 255, 51); stroke-opacity: 1;\"/></g><g class=\"point\"><path d=\"M348.55,270V259.03H387.82V270Z\" style=\"vector-effect: non-scaling-stroke; opacity: 1; stroke-width: 1px; fill: rgb(255, 255, 51); fill-opacity: 0.6; stroke: rgb(255, 255, 51); stroke-opacity: 1;\"/></g><g class=\"point\"><path d=\"M397.64,270V257.34H436.91V270Z\" style=\"vector-effect: non-scaling-stroke; opacity: 1; stroke-width: 1px; fill: rgb(255, 255, 51); fill-opacity: 0.6; stroke: rgb(255, 255, 51); stroke-opacity: 1;\"/></g><g class=\"point\"><path d=\"M446.73,270V259.03H486V270Z\" style=\"vector-effect: non-scaling-stroke; opacity: 1; stroke-width: 1px; fill: rgb(255, 255, 51); fill-opacity: 0.6; stroke: rgb(255, 255, 51); stroke-opacity: 1;\"/></g><g class=\"point\"><path d=\"M495.82,270V259.88H535.09V270Z\" style=\"vector-effect: non-scaling-stroke; opacity: 1; stroke-width: 1px; fill: rgb(255, 255, 51); fill-opacity: 0.6; stroke: rgb(255, 255, 51); stroke-opacity: 1;\"/></g></g></g><g class=\"trace bars\" style=\"opacity: 1;\"><g class=\"points\"><g class=\"point\"><path d=\"M4.91,270V270H44.18V270Z\" style=\"vector-effect: non-scaling-stroke; opacity: 1; stroke-width: 1px; fill: rgb(128, 128, 0); fill-opacity: 0.6; stroke: rgb(128, 128, 0); stroke-opacity: 1;\"/></g><g class=\"point\"><path d=\"M54,270V269.16H93.27V270Z\" style=\"vector-effect: non-scaling-stroke; opacity: 1; stroke-width: 1px; fill: rgb(128, 128, 0); fill-opacity: 0.6; stroke: rgb(128, 128, 0); stroke-opacity: 1;\"/></g><g class=\"point\"><path d=\"M103.09,270V259.88H142.36V270Z\" style=\"vector-effect: non-scaling-stroke; opacity: 1; stroke-width: 1px; fill: rgb(128, 128, 0); fill-opacity: 0.6; stroke: rgb(128, 128, 0); stroke-opacity: 1;\"/></g><g class=\"point\"><path d=\"M152.18,270V251.44H191.45V270Z\" style=\"vector-effect: non-scaling-stroke; opacity: 1; stroke-width: 1px; fill: rgb(128, 128, 0); fill-opacity: 0.6; stroke: rgb(128, 128, 0); stroke-opacity: 1;\"/></g><g class=\"point\"><path d=\"M201.27,270V252.28H240.55V270Z\" style=\"vector-effect: non-scaling-stroke; opacity: 1; stroke-width: 1px; fill: rgb(128, 128, 0); fill-opacity: 0.6; stroke: rgb(128, 128, 0); stroke-opacity: 1;\"/></g><g class=\"point\"><path d=\"M250.36,270V226.97H289.64V270Z\" style=\"vector-effect: non-scaling-stroke; opacity: 1; stroke-width: 1px; fill: rgb(128, 128, 0); fill-opacity: 0.6; stroke: rgb(128, 128, 0); stroke-opacity: 1;\"/></g><g class=\"point\"><path d=\"M299.45,270V250.59H338.73V270Z\" style=\"vector-effect: non-scaling-stroke; opacity: 1; stroke-width: 1px; fill: rgb(128, 128, 0); fill-opacity: 0.6; stroke: rgb(128, 128, 0); stroke-opacity: 1;\"/></g><g class=\"point\"><path d=\"M348.55,270V257.34H387.82V270Z\" style=\"vector-effect: non-scaling-stroke; opacity: 1; stroke-width: 1px; fill: rgb(128, 128, 0); fill-opacity: 0.6; stroke: rgb(128, 128, 0); stroke-opacity: 1;\"/></g><g class=\"point\"><path d=\"M397.64,270V258.19H436.91V270Z\" style=\"vector-effect: non-scaling-stroke; opacity: 1; stroke-width: 1px; fill: rgb(128, 128, 0); fill-opacity: 0.6; stroke: rgb(128, 128, 0); stroke-opacity: 1;\"/></g><g class=\"point\"><path d=\"M446.73,270V263.25H486V270Z\" style=\"vector-effect: non-scaling-stroke; opacity: 1; stroke-width: 1px; fill: rgb(128, 128, 0); fill-opacity: 0.6; stroke: rgb(128, 128, 0); stroke-opacity: 1;\"/></g><g class=\"point\"><path d=\"M495.82,270V264.09H535.09V270Z\" style=\"vector-effect: non-scaling-stroke; opacity: 1; stroke-width: 1px; fill: rgb(128, 128, 0); fill-opacity: 0.6; stroke: rgb(128, 128, 0); stroke-opacity: 1;\"/></g></g></g><g class=\"trace bars\" style=\"opacity: 1;\"><g class=\"points\"><g class=\"point\"><path d=\"M4.91,270V270H44.18V270Z\" style=\"vector-effect: non-scaling-stroke; opacity: 1; stroke-width: 1px; fill: rgb(251, 128, 114); fill-opacity: 0.6; stroke: rgb(251, 128, 114); stroke-opacity: 1;\"/></g><g class=\"point\"><path d=\"M54,270V266.63H93.27V270Z\" style=\"vector-effect: non-scaling-stroke; opacity: 1; stroke-width: 1px; fill: rgb(251, 128, 114); fill-opacity: 0.6; stroke: rgb(251, 128, 114); stroke-opacity: 1;\"/></g><g class=\"point\"><path d=\"M103.09,270V247.22H142.36V270Z\" style=\"vector-effect: non-scaling-stroke; opacity: 1; stroke-width: 1px; fill: rgb(251, 128, 114); fill-opacity: 0.6; stroke: rgb(251, 128, 114); stroke-opacity: 1;\"/></g><g class=\"point\"><path d=\"M152.18,270V250.59H191.45V270Z\" style=\"vector-effect: non-scaling-stroke; opacity: 1; stroke-width: 1px; fill: rgb(251, 128, 114); fill-opacity: 0.6; stroke: rgb(251, 128, 114); stroke-opacity: 1;\"/></g><g class=\"point\"><path d=\"M201.27,270V244.69H240.55V270Z\" style=\"vector-effect: non-scaling-stroke; opacity: 1; stroke-width: 1px; fill: rgb(251, 128, 114); fill-opacity: 0.6; stroke: rgb(251, 128, 114); stroke-opacity: 1;\"/></g><g class=\"point\"><path d=\"M250.36,270V242.16H289.64V270Z\" style=\"vector-effect: non-scaling-stroke; opacity: 1; stroke-width: 1px; fill: rgb(251, 128, 114); fill-opacity: 0.6; stroke: rgb(251, 128, 114); stroke-opacity: 1;\"/></g><g class=\"point\"><path d=\"M299.45,270V256.5H338.73V270Z\" style=\"vector-effect: non-scaling-stroke; opacity: 1; stroke-width: 1px; fill: rgb(251, 128, 114); fill-opacity: 0.6; stroke: rgb(251, 128, 114); stroke-opacity: 1;\"/></g><g class=\"point\"><path d=\"M348.55,270V259.88H387.82V270Z\" style=\"vector-effect: non-scaling-stroke; opacity: 1; stroke-width: 1px; fill: rgb(251, 128, 114); fill-opacity: 0.6; stroke: rgb(251, 128, 114); stroke-opacity: 1;\"/></g><g class=\"point\"><path d=\"M397.64,270V259.03H436.91V270Z\" style=\"vector-effect: non-scaling-stroke; opacity: 1; stroke-width: 1px; fill: rgb(251, 128, 114); fill-opacity: 0.6; stroke: rgb(251, 128, 114); stroke-opacity: 1;\"/></g><g class=\"point\"><path d=\"M446.73,270V262.41H486V270Z\" style=\"vector-effect: non-scaling-stroke; opacity: 1; stroke-width: 1px; fill: rgb(251, 128, 114); fill-opacity: 0.6; stroke: rgb(251, 128, 114); stroke-opacity: 1;\"/></g><g class=\"point\"><path d=\"M495.82,270V264.94H535.09V270Z\" style=\"vector-effect: non-scaling-stroke; opacity: 1; stroke-width: 1px; fill: rgb(251, 128, 114); fill-opacity: 0.6; stroke: rgb(251, 128, 114); stroke-opacity: 1;\"/></g></g></g><g class=\"trace bars\" style=\"opacity: 1;\"><g class=\"points\"><g class=\"point\"><path d=\"M4.91,270V269.16H44.18V270Z\" style=\"vector-effect: non-scaling-stroke; opacity: 1; stroke-width: 1px; fill: rgb(128, 177, 211); fill-opacity: 0.6; stroke: rgb(128, 177, 211); stroke-opacity: 1;\"/></g><g class=\"point\"><path d=\"M54,270V259.88H93.27V270Z\" style=\"vector-effect: non-scaling-stroke; opacity: 1; stroke-width: 1px; fill: rgb(128, 177, 211); fill-opacity: 0.6; stroke: rgb(128, 177, 211); stroke-opacity: 1;\"/></g><g class=\"point\"><path d=\"M103.09,270V245.53H142.36V270Z\" style=\"vector-effect: non-scaling-stroke; opacity: 1; stroke-width: 1px; fill: rgb(128, 177, 211); fill-opacity: 0.6; stroke: rgb(128, 177, 211); stroke-opacity: 1;\"/></g><g class=\"point\"><path d=\"M152.18,270V237.09H191.45V270Z\" style=\"vector-effect: non-scaling-stroke; opacity: 1; stroke-width: 1px; fill: rgb(128, 177, 211); fill-opacity: 0.6; stroke: rgb(128, 177, 211); stroke-opacity: 1;\"/></g><g class=\"point\"><path d=\"M201.27,270V241.31H240.55V270Z\" style=\"vector-effect: non-scaling-stroke; opacity: 1; stroke-width: 1px; fill: rgb(128, 177, 211); fill-opacity: 0.6; stroke: rgb(128, 177, 211); stroke-opacity: 1;\"/></g><g class=\"point\"><path d=\"M250.36,270V235.41H289.64V270Z\" style=\"vector-effect: non-scaling-stroke; opacity: 1; stroke-width: 1px; fill: rgb(128, 177, 211); fill-opacity: 0.6; stroke: rgb(128, 177, 211); stroke-opacity: 1;\"/></g><g class=\"point\"><path d=\"M299.45,270V241.31H338.73V270Z\" style=\"vector-effect: non-scaling-stroke; opacity: 1; stroke-width: 1px; fill: rgb(128, 177, 211); fill-opacity: 0.6; stroke: rgb(128, 177, 211); stroke-opacity: 1;\"/></g><g class=\"point\"><path d=\"M348.55,270V234.56H387.82V270Z\" style=\"vector-effect: non-scaling-stroke; opacity: 1; stroke-width: 1px; fill: rgb(128, 177, 211); fill-opacity: 0.6; stroke: rgb(128, 177, 211); stroke-opacity: 1;\"/></g><g class=\"point\"><path d=\"M397.64,270V216.84H436.91V270Z\" style=\"vector-effect: non-scaling-stroke; opacity: 1; stroke-width: 1px; fill: rgb(128, 177, 211); fill-opacity: 0.6; stroke: rgb(128, 177, 211); stroke-opacity: 1;\"/></g><g class=\"point\"><path d=\"M446.73,270V245.53H486V270Z\" style=\"vector-effect: non-scaling-stroke; opacity: 1; stroke-width: 1px; fill: rgb(128, 177, 211); fill-opacity: 0.6; stroke: rgb(128, 177, 211); stroke-opacity: 1;\"/></g><g class=\"point\"><path d=\"M495.82,270V247.22H535.09V270Z\" style=\"vector-effect: non-scaling-stroke; opacity: 1; stroke-width: 1px; fill: rgb(128, 177, 211); fill-opacity: 0.6; stroke: rgb(128, 177, 211); stroke-opacity: 1;\"/></g></g></g><g class=\"trace bars\" style=\"opacity: 1;\"><g class=\"points\"><g class=\"point\"><path d=\"M4.91,270V269.16H44.18V270Z\" style=\"vector-effect: non-scaling-stroke; opacity: 1; stroke-width: 1px; fill: rgb(128, 177, 211); fill-opacity: 0.6; stroke: rgb(128, 177, 211); stroke-opacity: 0.9;\"/></g><g class=\"point\"><path d=\"M54,270V267.47H93.27V270Z\" style=\"vector-effect: non-scaling-stroke; opacity: 1; stroke-width: 1px; fill: rgb(128, 177, 211); fill-opacity: 0.6; stroke: rgb(128, 177, 211); stroke-opacity: 0.9;\"/></g><g class=\"point\"><path d=\"M103.09,270V263.25H142.36V270Z\" style=\"vector-effect: non-scaling-stroke; opacity: 1; stroke-width: 1px; fill: rgb(128, 177, 211); fill-opacity: 0.6; stroke: rgb(128, 177, 211); stroke-opacity: 0.9;\"/></g><g class=\"point\"><path d=\"M152.18,270V253.97H191.45V270Z\" style=\"vector-effect: non-scaling-stroke; opacity: 1; stroke-width: 1px; fill: rgb(128, 177, 211); fill-opacity: 0.6; stroke: rgb(128, 177, 211); stroke-opacity: 0.9;\"/></g><g class=\"point\"><path d=\"M201.27,270V248.91H240.55V270Z\" style=\"vector-effect: non-scaling-stroke; opacity: 1; stroke-width: 1px; fill: rgb(128, 177, 211); fill-opacity: 0.6; stroke: rgb(128, 177, 211); stroke-opacity: 0.9;\"/></g><g class=\"point\"><path d=\"M250.36,270V234.56H289.64V270Z\" style=\"vector-effect: non-scaling-stroke; opacity: 1; stroke-width: 1px; fill: rgb(128, 177, 211); fill-opacity: 0.6; stroke: rgb(128, 177, 211); stroke-opacity: 0.9;\"/></g><g class=\"point\"><path d=\"M299.45,270V245.53H338.73V270Z\" style=\"vector-effect: non-scaling-stroke; opacity: 1; stroke-width: 1px; fill: rgb(128, 177, 211); fill-opacity: 0.6; stroke: rgb(128, 177, 211); stroke-opacity: 0.9;\"/></g><g class=\"point\"><path d=\"M348.55,270V241.31H387.82V270Z\" style=\"vector-effect: non-scaling-stroke; opacity: 1; stroke-width: 1px; fill: rgb(128, 177, 211); fill-opacity: 0.6; stroke: rgb(128, 177, 211); stroke-opacity: 0.9;\"/></g><g class=\"point\"><path d=\"M397.64,270V248.06H436.91V270Z\" style=\"vector-effect: non-scaling-stroke; opacity: 1; stroke-width: 1px; fill: rgb(128, 177, 211); fill-opacity: 0.6; stroke: rgb(128, 177, 211); stroke-opacity: 0.9;\"/></g><g class=\"point\"><path d=\"M446.73,270V252.28H486V270Z\" style=\"vector-effect: non-scaling-stroke; opacity: 1; stroke-width: 1px; fill: rgb(128, 177, 211); fill-opacity: 0.6; stroke: rgb(128, 177, 211); stroke-opacity: 0.9;\"/></g><g class=\"point\"><path d=\"M495.82,270V243.84H535.09V270Z\" style=\"vector-effect: non-scaling-stroke; opacity: 1; stroke-width: 1px; fill: rgb(128, 177, 211); fill-opacity: 0.6; stroke: rgb(128, 177, 211); stroke-opacity: 0.9;\"/></g></g></g><g class=\"trace bars\" style=\"opacity: 1;\"><g class=\"points\"><g class=\"point\"><path d=\"M4.91,270V270H44.18V270Z\" style=\"vector-effect: non-scaling-stroke; opacity: 1; stroke-width: 1px; fill: rgb(255, 153, 51); fill-opacity: 0.6; stroke: rgb(255, 153, 51); stroke-opacity: 0.9;\"/></g><g class=\"point\"><path d=\"M54,270V269.16H93.27V270Z\" style=\"vector-effect: non-scaling-stroke; opacity: 1; stroke-width: 1px; fill: rgb(255, 153, 51); fill-opacity: 0.6; stroke: rgb(255, 153, 51); stroke-opacity: 0.9;\"/></g><g class=\"point\"><path d=\"M103.09,270V267.47H142.36V270Z\" style=\"vector-effect: non-scaling-stroke; opacity: 1; stroke-width: 1px; fill: rgb(255, 153, 51); fill-opacity: 0.6; stroke: rgb(255, 153, 51); stroke-opacity: 0.9;\"/></g><g class=\"point\"><path d=\"M152.18,270V263.25H191.45V270Z\" style=\"vector-effect: non-scaling-stroke; opacity: 1; stroke-width: 1px; fill: rgb(255, 153, 51); fill-opacity: 0.6; stroke: rgb(255, 153, 51); stroke-opacity: 0.9;\"/></g><g class=\"point\"><path d=\"M201.27,270V259.88H240.55V270Z\" style=\"vector-effect: non-scaling-stroke; opacity: 1; stroke-width: 1px; fill: rgb(255, 153, 51); fill-opacity: 0.6; stroke: rgb(255, 153, 51); stroke-opacity: 0.9;\"/></g><g class=\"point\"><path d=\"M250.36,270V254.81H289.64V270Z\" style=\"vector-effect: non-scaling-stroke; opacity: 1; stroke-width: 1px; fill: rgb(255, 153, 51); fill-opacity: 0.6; stroke: rgb(255, 153, 51); stroke-opacity: 0.9;\"/></g><g class=\"point\"><path d=\"M299.45,270V262.41H338.73V270Z\" style=\"vector-effect: non-scaling-stroke; opacity: 1; stroke-width: 1px; fill: rgb(255, 153, 51); fill-opacity: 0.6; stroke: rgb(255, 153, 51); stroke-opacity: 0.9;\"/></g><g class=\"point\"><path d=\"M348.55,270V262.41H387.82V270Z\" style=\"vector-effect: non-scaling-stroke; opacity: 1; stroke-width: 1px; fill: rgb(255, 153, 51); fill-opacity: 0.6; stroke: rgb(255, 153, 51); stroke-opacity: 0.9;\"/></g><g class=\"point\"><path d=\"M397.64,270V261.56H436.91V270Z\" style=\"vector-effect: non-scaling-stroke; opacity: 1; stroke-width: 1px; fill: rgb(255, 153, 51); fill-opacity: 0.6; stroke: rgb(255, 153, 51); stroke-opacity: 0.9;\"/></g><g class=\"point\"><path d=\"M446.73,270V256.5H486V270Z\" style=\"vector-effect: non-scaling-stroke; opacity: 1; stroke-width: 1px; fill: rgb(255, 153, 51); fill-opacity: 0.6; stroke: rgb(255, 153, 51); stroke-opacity: 0.9;\"/></g><g class=\"point\"><path d=\"M495.82,270V259.03H535.09V270Z\" style=\"vector-effect: non-scaling-stroke; opacity: 1; stroke-width: 1px; fill: rgb(255, 153, 51); fill-opacity: 0.6; stroke: rgb(255, 153, 51); stroke-opacity: 0.9;\"/></g></g></g><g class=\"trace bars\" style=\"opacity: 1;\"><g class=\"points\"><g class=\"point\"><path d=\"M4.91,270V270H44.18V270Z\" style=\"vector-effect: non-scaling-stroke; opacity: 1; stroke-width: 1px; fill: rgb(55, 128, 191); fill-opacity: 0.6; stroke: rgb(55, 128, 191); stroke-opacity: 0.9;\"/></g><g class=\"point\"><path d=\"M54,270V270H93.27V270Z\" style=\"vector-effect: non-scaling-stroke; opacity: 1; stroke-width: 1px; fill: rgb(55, 128, 191); fill-opacity: 0.6; stroke: rgb(55, 128, 191); stroke-opacity: 0.9;\"/></g><g class=\"point\"><path d=\"M103.09,270V269.16H142.36V270Z\" style=\"vector-effect: non-scaling-stroke; opacity: 1; stroke-width: 1px; fill: rgb(55, 128, 191); fill-opacity: 0.6; stroke: rgb(55, 128, 191); stroke-opacity: 0.9;\"/></g><g class=\"point\"><path d=\"M152.18,270V264.94H191.45V270Z\" style=\"vector-effect: non-scaling-stroke; opacity: 1; stroke-width: 1px; fill: rgb(55, 128, 191); fill-opacity: 0.6; stroke: rgb(55, 128, 191); stroke-opacity: 0.9;\"/></g><g class=\"point\"><path d=\"M201.27,270V266.63H240.55V270Z\" style=\"vector-effect: non-scaling-stroke; opacity: 1; stroke-width: 1px; fill: rgb(55, 128, 191); fill-opacity: 0.6; stroke: rgb(55, 128, 191); stroke-opacity: 0.9;\"/></g><g class=\"point\"><path d=\"M250.36,270V238.78H289.64V270Z\" style=\"vector-effect: non-scaling-stroke; opacity: 1; stroke-width: 1px; fill: rgb(55, 128, 191); fill-opacity: 0.6; stroke: rgb(55, 128, 191); stroke-opacity: 0.9;\"/></g><g class=\"point\"><path d=\"M299.45,270V239.63H338.73V270Z\" style=\"vector-effect: non-scaling-stroke; opacity: 1; stroke-width: 1px; fill: rgb(55, 128, 191); fill-opacity: 0.6; stroke: rgb(55, 128, 191); stroke-opacity: 0.9;\"/></g><g class=\"point\"><path d=\"M348.55,270V243H387.82V270Z\" style=\"vector-effect: non-scaling-stroke; opacity: 1; stroke-width: 1px; fill: rgb(55, 128, 191); fill-opacity: 0.6; stroke: rgb(55, 128, 191); stroke-opacity: 0.9;\"/></g><g class=\"point\"><path d=\"M397.64,270V235.41H436.91V270Z\" style=\"vector-effect: non-scaling-stroke; opacity: 1; stroke-width: 1px; fill: rgb(55, 128, 191); fill-opacity: 0.6; stroke: rgb(55, 128, 191); stroke-opacity: 0.9;\"/></g><g class=\"point\"><path d=\"M446.73,270V240.47H486V270Z\" style=\"vector-effect: non-scaling-stroke; opacity: 1; stroke-width: 1px; fill: rgb(55, 128, 191); fill-opacity: 0.6; stroke: rgb(55, 128, 191); stroke-opacity: 0.9;\"/></g><g class=\"point\"><path d=\"M495.82,270V245.53H535.09V270Z\" style=\"vector-effect: non-scaling-stroke; opacity: 1; stroke-width: 1px; fill: rgb(55, 128, 191); fill-opacity: 0.6; stroke: rgb(55, 128, 191); stroke-opacity: 0.9;\"/></g></g></g><g class=\"trace bars\" style=\"opacity: 1;\"><g class=\"points\"><g class=\"point\"><path d=\"M4.91,270V270H44.18V270Z\" style=\"vector-effect: non-scaling-stroke; opacity: 1; stroke-width: 1px; fill: rgb(50, 171, 96); fill-opacity: 0.6; stroke: rgb(50, 171, 96); stroke-opacity: 0.9;\"/></g><g class=\"point\"><path d=\"M54,270V230.34H93.27V270Z\" style=\"vector-effect: non-scaling-stroke; opacity: 1; stroke-width: 1px; fill: rgb(50, 171, 96); fill-opacity: 0.6; stroke: rgb(50, 171, 96); stroke-opacity: 0.9;\"/></g><g class=\"point\"><path d=\"M103.09,270V227.81H142.36V270Z\" style=\"vector-effect: non-scaling-stroke; opacity: 1; stroke-width: 1px; fill: rgb(50, 171, 96); fill-opacity: 0.6; stroke: rgb(50, 171, 96); stroke-opacity: 0.9;\"/></g><g class=\"point\"><path d=\"M152.18,270V235.41H191.45V270Z\" style=\"vector-effect: non-scaling-stroke; opacity: 1; stroke-width: 1px; fill: rgb(50, 171, 96); fill-opacity: 0.6; stroke: rgb(50, 171, 96); stroke-opacity: 0.9;\"/></g><g class=\"point\"><path d=\"M201.27,270V193.22H240.55V270Z\" style=\"vector-effect: non-scaling-stroke; opacity: 1; stroke-width: 1px; fill: rgb(50, 171, 96); fill-opacity: 0.6; stroke: rgb(50, 171, 96); stroke-opacity: 0.9;\"/></g><g class=\"point\"><path d=\"M250.36,270V117.28H289.64V270Z\" style=\"vector-effect: non-scaling-stroke; opacity: 1; stroke-width: 1px; fill: rgb(50, 171, 96); fill-opacity: 0.6; stroke: rgb(50, 171, 96); stroke-opacity: 0.9;\"/></g><g class=\"point\"><path d=\"M299.45,270V171.28H338.73V270Z\" style=\"vector-effect: non-scaling-stroke; opacity: 1; stroke-width: 1px; fill: rgb(50, 171, 96); fill-opacity: 0.6; stroke: rgb(50, 171, 96); stroke-opacity: 0.9;\"/></g><g class=\"point\"><path d=\"M348.55,270V167.91H387.82V270Z\" style=\"vector-effect: non-scaling-stroke; opacity: 1; stroke-width: 1px; fill: rgb(50, 171, 96); fill-opacity: 0.6; stroke: rgb(50, 171, 96); stroke-opacity: 0.9;\"/></g><g class=\"point\"><path d=\"M397.64,270V116.44H436.91V270Z\" style=\"vector-effect: non-scaling-stroke; opacity: 1; stroke-width: 1px; fill: rgb(50, 171, 96); fill-opacity: 0.6; stroke: rgb(50, 171, 96); stroke-opacity: 0.9;\"/></g><g class=\"point\"><path d=\"M446.73,270V144.28H486V270Z\" style=\"vector-effect: non-scaling-stroke; opacity: 1; stroke-width: 1px; fill: rgb(50, 171, 96); fill-opacity: 0.6; stroke: rgb(50, 171, 96); stroke-opacity: 0.9;\"/></g><g class=\"point\"><path d=\"M495.82,270V148.5H535.09V270Z\" style=\"vector-effect: non-scaling-stroke; opacity: 1; stroke-width: 1px; fill: rgb(50, 171, 96); fill-opacity: 0.6; stroke: rgb(50, 171, 96); stroke-opacity: 0.9;\"/></g></g></g><g class=\"trace bars\" style=\"opacity: 1;\"><g class=\"points\"><g class=\"point\"><path d=\"M4.91,270V270H44.18V270Z\" style=\"vector-effect: non-scaling-stroke; opacity: 1; stroke-width: 1px; fill: rgb(128, 0, 128); fill-opacity: 0.6; stroke: rgb(128, 0, 128); stroke-opacity: 0.9;\"/></g><g class=\"point\"><path d=\"M54,270V270H93.27V270Z\" style=\"vector-effect: non-scaling-stroke; opacity: 1; stroke-width: 1px; fill: rgb(128, 0, 128); fill-opacity: 0.6; stroke: rgb(128, 0, 128); stroke-opacity: 0.9;\"/></g><g class=\"point\"><path d=\"M103.09,270V266.63H142.36V270Z\" style=\"vector-effect: non-scaling-stroke; opacity: 1; stroke-width: 1px; fill: rgb(128, 0, 128); fill-opacity: 0.6; stroke: rgb(128, 0, 128); stroke-opacity: 0.9;\"/></g><g class=\"point\"><path d=\"M152.18,270V267.47H191.45V270Z\" style=\"vector-effect: non-scaling-stroke; opacity: 1; stroke-width: 1px; fill: rgb(128, 0, 128); fill-opacity: 0.6; stroke: rgb(128, 0, 128); stroke-opacity: 0.9;\"/></g><g class=\"point\"><path d=\"M201.27,270V267.47H240.55V270Z\" style=\"vector-effect: non-scaling-stroke; opacity: 1; stroke-width: 1px; fill: rgb(128, 0, 128); fill-opacity: 0.6; stroke: rgb(128, 0, 128); stroke-opacity: 0.9;\"/></g><g class=\"point\"><path d=\"M250.36,270V261.56H289.64V270Z\" style=\"vector-effect: non-scaling-stroke; opacity: 1; stroke-width: 1px; fill: rgb(128, 0, 128); fill-opacity: 0.6; stroke: rgb(128, 0, 128); stroke-opacity: 0.9;\"/></g><g class=\"point\"><path d=\"M299.45,270V266.63H338.73V270Z\" style=\"vector-effect: non-scaling-stroke; opacity: 1; stroke-width: 1px; fill: rgb(128, 0, 128); fill-opacity: 0.6; stroke: rgb(128, 0, 128); stroke-opacity: 0.9;\"/></g><g class=\"point\"><path d=\"M348.55,270V266.63H387.82V270Z\" style=\"vector-effect: non-scaling-stroke; opacity: 1; stroke-width: 1px; fill: rgb(128, 0, 128); fill-opacity: 0.6; stroke: rgb(128, 0, 128); stroke-opacity: 0.9;\"/></g><g class=\"point\"><path d=\"M397.64,270V266.63H436.91V270Z\" style=\"vector-effect: non-scaling-stroke; opacity: 1; stroke-width: 1px; fill: rgb(128, 0, 128); fill-opacity: 0.6; stroke: rgb(128, 0, 128); stroke-opacity: 0.9;\"/></g><g class=\"point\"><path d=\"M446.73,270V269.16H486V270Z\" style=\"vector-effect: non-scaling-stroke; opacity: 1; stroke-width: 1px; fill: rgb(128, 0, 128); fill-opacity: 0.6; stroke: rgb(128, 0, 128); stroke-opacity: 0.9;\"/></g><g class=\"point\"><path d=\"M495.82,270V270H535.09V270Z\" style=\"vector-effect: non-scaling-stroke; opacity: 1; stroke-width: 1px; fill: rgb(128, 0, 128); fill-opacity: 0.6; stroke: rgb(128, 0, 128); stroke-opacity: 0.9;\"/></g></g></g><g class=\"trace bars\" style=\"opacity: 1;\"><g class=\"points\"><g class=\"point\"><path d=\"M4.91,270V270H44.18V270Z\" style=\"vector-effect: non-scaling-stroke; opacity: 1; stroke-width: 1px; fill: rgb(219, 64, 82); fill-opacity: 0.6; stroke: rgb(219, 64, 82); stroke-opacity: 0.9;\"/></g><g class=\"point\"><path d=\"M54,270V267.47H93.27V270Z\" style=\"vector-effect: non-scaling-stroke; opacity: 1; stroke-width: 1px; fill: rgb(219, 64, 82); fill-opacity: 0.6; stroke: rgb(219, 64, 82); stroke-opacity: 0.9;\"/></g><g class=\"point\"><path d=\"M103.09,270V257.34H142.36V270Z\" style=\"vector-effect: non-scaling-stroke; opacity: 1; stroke-width: 1px; fill: rgb(219, 64, 82); fill-opacity: 0.6; stroke: rgb(219, 64, 82); stroke-opacity: 0.9;\"/></g><g class=\"point\"><path d=\"M152.18,270V248.91H191.45V270Z\" style=\"vector-effect: non-scaling-stroke; opacity: 1; stroke-width: 1px; fill: rgb(219, 64, 82); fill-opacity: 0.6; stroke: rgb(219, 64, 82); stroke-opacity: 0.9;\"/></g><g class=\"point\"><path d=\"M201.27,270V243H240.55V270Z\" style=\"vector-effect: non-scaling-stroke; opacity: 1; stroke-width: 1px; fill: rgb(219, 64, 82); fill-opacity: 0.6; stroke: rgb(219, 64, 82); stroke-opacity: 0.9;\"/></g><g class=\"point\"><path d=\"M250.36,270V210.94H289.64V270Z\" style=\"vector-effect: non-scaling-stroke; opacity: 1; stroke-width: 1px; fill: rgb(219, 64, 82); fill-opacity: 0.6; stroke: rgb(219, 64, 82); stroke-opacity: 0.9;\"/></g><g class=\"point\"><path d=\"M299.45,270V235.41H338.73V270Z\" style=\"vector-effect: non-scaling-stroke; opacity: 1; stroke-width: 1px; fill: rgb(219, 64, 82); fill-opacity: 0.6; stroke: rgb(219, 64, 82); stroke-opacity: 0.9;\"/></g><g class=\"point\"><path d=\"M348.55,270V232.03H387.82V270Z\" style=\"vector-effect: non-scaling-stroke; opacity: 1; stroke-width: 1px; fill: rgb(219, 64, 82); fill-opacity: 0.6; stroke: rgb(219, 64, 82); stroke-opacity: 0.9;\"/></g><g class=\"point\"><path d=\"M397.64,270V246.38H436.91V270Z\" style=\"vector-effect: non-scaling-stroke; opacity: 1; stroke-width: 1px; fill: rgb(219, 64, 82); fill-opacity: 0.6; stroke: rgb(219, 64, 82); stroke-opacity: 0.9;\"/></g><g class=\"point\"><path d=\"M446.73,270V250.59H486V270Z\" style=\"vector-effect: non-scaling-stroke; opacity: 1; stroke-width: 1px; fill: rgb(219, 64, 82); fill-opacity: 0.6; stroke: rgb(219, 64, 82); stroke-opacity: 0.9;\"/></g><g class=\"point\"><path d=\"M495.82,270V253.13H535.09V270Z\" style=\"vector-effect: non-scaling-stroke; opacity: 1; stroke-width: 1px; fill: rgb(219, 64, 82); fill-opacity: 0.6; stroke: rgb(219, 64, 82); stroke-opacity: 0.9;\"/></g></g></g><g class=\"trace bars\" style=\"opacity: 1;\"><g class=\"points\"><g class=\"point\"><path d=\"M4.91,270V270H44.18V270Z\" style=\"vector-effect: non-scaling-stroke; opacity: 1; stroke-width: 1px; fill: rgb(0, 128, 128); fill-opacity: 0.6; stroke: rgb(0, 128, 128); stroke-opacity: 0.9;\"/></g><g class=\"point\"><path d=\"M54,270V264.09H93.27V270Z\" style=\"vector-effect: non-scaling-stroke; opacity: 1; stroke-width: 1px; fill: rgb(0, 128, 128); fill-opacity: 0.6; stroke: rgb(0, 128, 128); stroke-opacity: 0.9;\"/></g><g class=\"point\"><path d=\"M103.09,270V260.72H142.36V270Z\" style=\"vector-effect: non-scaling-stroke; opacity: 1; stroke-width: 1px; fill: rgb(0, 128, 128); fill-opacity: 0.6; stroke: rgb(0, 128, 128); stroke-opacity: 0.9;\"/></g><g class=\"point\"><path d=\"M152.18,270V252.28H191.45V270Z\" style=\"vector-effect: non-scaling-stroke; opacity: 1; stroke-width: 1px; fill: rgb(0, 128, 128); fill-opacity: 0.6; stroke: rgb(0, 128, 128); stroke-opacity: 0.9;\"/></g><g class=\"point\"><path d=\"M201.27,270V257.34H240.55V270Z\" style=\"vector-effect: non-scaling-stroke; opacity: 1; stroke-width: 1px; fill: rgb(0, 128, 128); fill-opacity: 0.6; stroke: rgb(0, 128, 128); stroke-opacity: 0.9;\"/></g><g class=\"point\"><path d=\"M250.36,270V248.91H289.64V270Z\" style=\"vector-effect: non-scaling-stroke; opacity: 1; stroke-width: 1px; fill: rgb(0, 128, 128); fill-opacity: 0.6; stroke: rgb(0, 128, 128); stroke-opacity: 0.9;\"/></g><g class=\"point\"><path d=\"M299.45,270V254.81H338.73V270Z\" style=\"vector-effect: non-scaling-stroke; opacity: 1; stroke-width: 1px; fill: rgb(0, 128, 128); fill-opacity: 0.6; stroke: rgb(0, 128, 128); stroke-opacity: 0.9;\"/></g><g class=\"point\"><path d=\"M348.55,270V257.34H387.82V270Z\" style=\"vector-effect: non-scaling-stroke; opacity: 1; stroke-width: 1px; fill: rgb(0, 128, 128); fill-opacity: 0.6; stroke: rgb(0, 128, 128); stroke-opacity: 0.9;\"/></g><g class=\"point\"><path d=\"M397.64,270V253.13H436.91V270Z\" style=\"vector-effect: non-scaling-stroke; opacity: 1; stroke-width: 1px; fill: rgb(0, 128, 128); fill-opacity: 0.6; stroke: rgb(0, 128, 128); stroke-opacity: 0.9;\"/></g><g class=\"point\"><path d=\"M446.73,270V262.41H486V270Z\" style=\"vector-effect: non-scaling-stroke; opacity: 1; stroke-width: 1px; fill: rgb(0, 128, 128); fill-opacity: 0.6; stroke: rgb(0, 128, 128); stroke-opacity: 0.9;\"/></g><g class=\"point\"><path d=\"M495.82,270V259.03H535.09V270Z\" style=\"vector-effect: non-scaling-stroke; opacity: 1; stroke-width: 1px; fill: rgb(0, 128, 128); fill-opacity: 0.6; stroke: rgb(0, 128, 128); stroke-opacity: 0.9;\"/></g></g></g><g class=\"trace bars\" style=\"opacity: 1;\"><g class=\"points\"><g class=\"point\"><path d=\"M4.91,270V270H44.18V270Z\" style=\"vector-effect: non-scaling-stroke; opacity: 1; stroke-width: 1px; fill: rgb(255, 255, 51); fill-opacity: 0.6; stroke: rgb(255, 255, 51); stroke-opacity: 0.9;\"/></g><g class=\"point\"><path d=\"M54,270V265.78H93.27V270Z\" style=\"vector-effect: non-scaling-stroke; opacity: 1; stroke-width: 1px; fill: rgb(255, 255, 51); fill-opacity: 0.6; stroke: rgb(255, 255, 51); stroke-opacity: 0.9;\"/></g><g class=\"point\"><path d=\"M103.09,270V264.09H142.36V270Z\" style=\"vector-effect: non-scaling-stroke; opacity: 1; stroke-width: 1px; fill: rgb(255, 255, 51); fill-opacity: 0.6; stroke: rgb(255, 255, 51); stroke-opacity: 0.9;\"/></g><g class=\"point\"><path d=\"M152.18,270V252.28H191.45V270Z\" style=\"vector-effect: non-scaling-stroke; opacity: 1; stroke-width: 1px; fill: rgb(255, 255, 51); fill-opacity: 0.6; stroke: rgb(255, 255, 51); stroke-opacity: 0.9;\"/></g><g class=\"point\"><path d=\"M201.27,270V243H240.55V270Z\" style=\"vector-effect: non-scaling-stroke; opacity: 1; stroke-width: 1px; fill: rgb(255, 255, 51); fill-opacity: 0.6; stroke: rgb(255, 255, 51); stroke-opacity: 0.9;\"/></g><g class=\"point\"><path d=\"M250.36,270V226.13H289.64V270Z\" style=\"vector-effect: non-scaling-stroke; opacity: 1; stroke-width: 1px; fill: rgb(255, 255, 51); fill-opacity: 0.6; stroke: rgb(255, 255, 51); stroke-opacity: 0.9;\"/></g><g class=\"point\"><path d=\"M299.45,270V247.22H338.73V270Z\" style=\"vector-effect: non-scaling-stroke; opacity: 1; stroke-width: 1px; fill: rgb(255, 255, 51); fill-opacity: 0.6; stroke: rgb(255, 255, 51); stroke-opacity: 0.9;\"/></g><g class=\"point\"><path d=\"M348.55,270V240.47H387.82V270Z\" style=\"vector-effect: non-scaling-stroke; opacity: 1; stroke-width: 1px; fill: rgb(255, 255, 51); fill-opacity: 0.6; stroke: rgb(255, 255, 51); stroke-opacity: 0.9;\"/></g><g class=\"point\"><path d=\"M397.64,270V246.38H436.91V270Z\" style=\"vector-effect: non-scaling-stroke; opacity: 1; stroke-width: 1px; fill: rgb(255, 255, 51); fill-opacity: 0.6; stroke: rgb(255, 255, 51); stroke-opacity: 0.9;\"/></g><g class=\"point\"><path d=\"M446.73,270V250.59H486V270Z\" style=\"vector-effect: non-scaling-stroke; opacity: 1; stroke-width: 1px; fill: rgb(255, 255, 51); fill-opacity: 0.6; stroke: rgb(255, 255, 51); stroke-opacity: 0.9;\"/></g><g class=\"point\"><path d=\"M495.82,270V249.75H535.09V270Z\" style=\"vector-effect: non-scaling-stroke; opacity: 1; stroke-width: 1px; fill: rgb(255, 255, 51); fill-opacity: 0.6; stroke: rgb(255, 255, 51); stroke-opacity: 0.9;\"/></g></g></g><g class=\"trace bars\" style=\"opacity: 1;\"><g class=\"points\"><g class=\"point\"><path d=\"M4.91,270V268.31H44.18V270Z\" style=\"vector-effect: non-scaling-stroke; opacity: 1; stroke-width: 1px; fill: rgb(128, 128, 0); fill-opacity: 0.6; stroke: rgb(128, 128, 0); stroke-opacity: 0.9;\"/></g><g class=\"point\"><path d=\"M54,270V244.69H93.27V270Z\" style=\"vector-effect: non-scaling-stroke; opacity: 1; stroke-width: 1px; fill: rgb(128, 128, 0); fill-opacity: 0.6; stroke: rgb(128, 128, 0); stroke-opacity: 0.9;\"/></g><g class=\"point\"><path d=\"M103.09,270V193.22H142.36V270Z\" style=\"vector-effect: non-scaling-stroke; opacity: 1; stroke-width: 1px; fill: rgb(128, 128, 0); fill-opacity: 0.6; stroke: rgb(128, 128, 0); stroke-opacity: 0.9;\"/></g><g class=\"point\"><path d=\"M152.18,270V162.84H191.45V270Z\" style=\"vector-effect: non-scaling-stroke; opacity: 1; stroke-width: 1px; fill: rgb(128, 128, 0); fill-opacity: 0.6; stroke: rgb(128, 128, 0); stroke-opacity: 0.9;\"/></g><g class=\"point\"><path d=\"M201.27,270V103.78H240.55V270Z\" style=\"vector-effect: non-scaling-stroke; opacity: 1; stroke-width: 1px; fill: rgb(128, 128, 0); fill-opacity: 0.6; stroke: rgb(128, 128, 0); stroke-opacity: 0.9;\"/></g><g class=\"point\"><path d=\"M250.36,270V13.5H289.64V270Z\" style=\"vector-effect: non-scaling-stroke; opacity: 1; stroke-width: 1px; fill: rgb(128, 128, 0); fill-opacity: 0.6; stroke: rgb(128, 128, 0); stroke-opacity: 0.9;\"/></g><g class=\"point\"><path d=\"M299.45,270V107.16H338.73V270Z\" style=\"vector-effect: non-scaling-stroke; opacity: 1; stroke-width: 1px; fill: rgb(128, 128, 0); fill-opacity: 0.6; stroke: rgb(128, 128, 0); stroke-opacity: 0.9;\"/></g><g class=\"point\"><path d=\"M348.55,270V94.5H387.82V270Z\" style=\"vector-effect: non-scaling-stroke; opacity: 1; stroke-width: 1px; fill: rgb(128, 128, 0); fill-opacity: 0.6; stroke: rgb(128, 128, 0); stroke-opacity: 0.9;\"/></g><g class=\"point\"><path d=\"M397.64,270V59.91H436.91V270Z\" style=\"vector-effect: non-scaling-stroke; opacity: 1; stroke-width: 1px; fill: rgb(128, 128, 0); fill-opacity: 0.6; stroke: rgb(128, 128, 0); stroke-opacity: 0.9;\"/></g><g class=\"point\"><path d=\"M446.73,270V91.13H486V270Z\" style=\"vector-effect: non-scaling-stroke; opacity: 1; stroke-width: 1px; fill: rgb(128, 128, 0); fill-opacity: 0.6; stroke: rgb(128, 128, 0); stroke-opacity: 0.9;\"/></g><g class=\"point\"><path d=\"M495.82,270V91.13H535.09V270Z\" style=\"vector-effect: non-scaling-stroke; opacity: 1; stroke-width: 1px; fill: rgb(128, 128, 0); fill-opacity: 0.6; stroke: rgb(128, 128, 0); stroke-opacity: 0.9;\"/></g></g></g><g class=\"trace bars\" style=\"opacity: 1;\"><g class=\"points\"><g class=\"point\"><path d=\"M4.91,270V270H44.18V270Z\" style=\"vector-effect: non-scaling-stroke; opacity: 1; stroke-width: 1px; fill: rgb(251, 128, 114); fill-opacity: 0.6; stroke: rgb(251, 128, 114); stroke-opacity: 0.9;\"/></g><g class=\"point\"><path d=\"M54,270V270H93.27V270Z\" style=\"vector-effect: non-scaling-stroke; opacity: 1; stroke-width: 1px; fill: rgb(251, 128, 114); fill-opacity: 0.6; stroke: rgb(251, 128, 114); stroke-opacity: 0.9;\"/></g><g class=\"point\"><path d=\"M103.09,270V269.16H142.36V270Z\" style=\"vector-effect: non-scaling-stroke; opacity: 1; stroke-width: 1px; fill: rgb(251, 128, 114); fill-opacity: 0.6; stroke: rgb(251, 128, 114); stroke-opacity: 0.9;\"/></g><g class=\"point\"><path d=\"M152.18,270V264.09H191.45V270Z\" style=\"vector-effect: non-scaling-stroke; opacity: 1; stroke-width: 1px; fill: rgb(251, 128, 114); fill-opacity: 0.6; stroke: rgb(251, 128, 114); stroke-opacity: 0.9;\"/></g><g class=\"point\"><path d=\"M201.27,270V262.41H240.55V270Z\" style=\"vector-effect: non-scaling-stroke; opacity: 1; stroke-width: 1px; fill: rgb(251, 128, 114); fill-opacity: 0.6; stroke: rgb(251, 128, 114); stroke-opacity: 0.9;\"/></g><g class=\"point\"><path d=\"M250.36,270V266.63H289.64V270Z\" style=\"vector-effect: non-scaling-stroke; opacity: 1; stroke-width: 1px; fill: rgb(251, 128, 114); fill-opacity: 0.6; stroke: rgb(251, 128, 114); stroke-opacity: 0.9;\"/></g><g class=\"point\"><path d=\"M299.45,270V264.94H338.73V270Z\" style=\"vector-effect: non-scaling-stroke; opacity: 1; stroke-width: 1px; fill: rgb(251, 128, 114); fill-opacity: 0.6; stroke: rgb(251, 128, 114); stroke-opacity: 0.9;\"/></g><g class=\"point\"><path d=\"M348.55,270V270H387.82V270Z\" style=\"vector-effect: non-scaling-stroke; opacity: 1; stroke-width: 1px; fill: rgb(251, 128, 114); fill-opacity: 0.6; stroke: rgb(251, 128, 114); stroke-opacity: 0.9;\"/></g><g class=\"point\"><path d=\"M397.64,270V267.47H436.91V270Z\" style=\"vector-effect: non-scaling-stroke; opacity: 1; stroke-width: 1px; fill: rgb(251, 128, 114); fill-opacity: 0.6; stroke: rgb(251, 128, 114); stroke-opacity: 0.9;\"/></g><g class=\"point\"><path d=\"M446.73,270V267.47H486V270Z\" style=\"vector-effect: non-scaling-stroke; opacity: 1; stroke-width: 1px; fill: rgb(251, 128, 114); fill-opacity: 0.6; stroke: rgb(251, 128, 114); stroke-opacity: 0.9;\"/></g><g class=\"point\"><path d=\"M495.82,270V267.47H535.09V270Z\" style=\"vector-effect: non-scaling-stroke; opacity: 1; stroke-width: 1px; fill: rgb(251, 128, 114); fill-opacity: 0.6; stroke: rgb(251, 128, 114); stroke-opacity: 0.9;\"/></g></g></g><g class=\"trace bars\" style=\"opacity: 1;\"><g class=\"points\"><g class=\"point\"><path d=\"M4.91,270V270H44.18V270Z\" style=\"vector-effect: non-scaling-stroke; opacity: 1; stroke-width: 1px; fill: rgb(251, 128, 114); fill-opacity: 0.6; stroke: rgb(251, 128, 114); stroke-opacity: 0.8;\"/></g><g class=\"point\"><path d=\"M54,270V270H93.27V270Z\" style=\"vector-effect: non-scaling-stroke; opacity: 1; stroke-width: 1px; fill: rgb(251, 128, 114); fill-opacity: 0.6; stroke: rgb(251, 128, 114); stroke-opacity: 0.8;\"/></g><g class=\"point\"><path d=\"M103.09,270V267.47H142.36V270Z\" style=\"vector-effect: non-scaling-stroke; opacity: 1; stroke-width: 1px; fill: rgb(251, 128, 114); fill-opacity: 0.6; stroke: rgb(251, 128, 114); stroke-opacity: 0.8;\"/></g><g class=\"point\"><path d=\"M152.18,270V266.63H191.45V270Z\" style=\"vector-effect: non-scaling-stroke; opacity: 1; stroke-width: 1px; fill: rgb(251, 128, 114); fill-opacity: 0.6; stroke: rgb(251, 128, 114); stroke-opacity: 0.8;\"/></g><g class=\"point\"><path d=\"M201.27,270V268.31H240.55V270Z\" style=\"vector-effect: non-scaling-stroke; opacity: 1; stroke-width: 1px; fill: rgb(251, 128, 114); fill-opacity: 0.6; stroke: rgb(251, 128, 114); stroke-opacity: 0.8;\"/></g><g class=\"point\"><path d=\"M250.36,270V268.31H289.64V270Z\" style=\"vector-effect: non-scaling-stroke; opacity: 1; stroke-width: 1px; fill: rgb(251, 128, 114); fill-opacity: 0.6; stroke: rgb(251, 128, 114); stroke-opacity: 0.8;\"/></g><g class=\"point\"><path d=\"M299.45,270V270H338.73V270Z\" style=\"vector-effect: non-scaling-stroke; opacity: 1; stroke-width: 1px; fill: rgb(251, 128, 114); fill-opacity: 0.6; stroke: rgb(251, 128, 114); stroke-opacity: 0.8;\"/></g><g class=\"point\"><path d=\"M348.55,270V268.31H387.82V270Z\" style=\"vector-effect: non-scaling-stroke; opacity: 1; stroke-width: 1px; fill: rgb(251, 128, 114); fill-opacity: 0.6; stroke: rgb(251, 128, 114); stroke-opacity: 0.8;\"/></g><g class=\"point\"><path d=\"M397.64,270V266.63H436.91V270Z\" style=\"vector-effect: non-scaling-stroke; opacity: 1; stroke-width: 1px; fill: rgb(251, 128, 114); fill-opacity: 0.6; stroke: rgb(251, 128, 114); stroke-opacity: 0.8;\"/></g><g class=\"point\"><path d=\"M446.73,270V270H486V270Z\" style=\"vector-effect: non-scaling-stroke; opacity: 1; stroke-width: 1px; fill: rgb(251, 128, 114); fill-opacity: 0.6; stroke: rgb(251, 128, 114); stroke-opacity: 0.8;\"/></g><g class=\"point\"><path d=\"M495.82,270V270H535.09V270Z\" style=\"vector-effect: non-scaling-stroke; opacity: 1; stroke-width: 1px; fill: rgb(251, 128, 114); fill-opacity: 0.6; stroke: rgb(251, 128, 114); stroke-opacity: 0.8;\"/></g></g></g><g class=\"trace bars\" style=\"opacity: 1;\"><g class=\"points\"><g class=\"point\"><path d=\"M4.91,270V270H44.18V270Z\" style=\"vector-effect: non-scaling-stroke; opacity: 1; stroke-width: 1px; fill: rgb(128, 177, 211); fill-opacity: 0.6; stroke: rgb(128, 177, 211); stroke-opacity: 0.8;\"/></g><g class=\"point\"><path d=\"M54,270V269.16H93.27V270Z\" style=\"vector-effect: non-scaling-stroke; opacity: 1; stroke-width: 1px; fill: rgb(128, 177, 211); fill-opacity: 0.6; stroke: rgb(128, 177, 211); stroke-opacity: 0.8;\"/></g><g class=\"point\"><path d=\"M103.09,270V268.31H142.36V270Z\" style=\"vector-effect: non-scaling-stroke; opacity: 1; stroke-width: 1px; fill: rgb(128, 177, 211); fill-opacity: 0.6; stroke: rgb(128, 177, 211); stroke-opacity: 0.8;\"/></g><g class=\"point\"><path d=\"M152.18,270V266.63H191.45V270Z\" style=\"vector-effect: non-scaling-stroke; opacity: 1; stroke-width: 1px; fill: rgb(128, 177, 211); fill-opacity: 0.6; stroke: rgb(128, 177, 211); stroke-opacity: 0.8;\"/></g><g class=\"point\"><path d=\"M201.27,270V267.47H240.55V270Z\" style=\"vector-effect: non-scaling-stroke; opacity: 1; stroke-width: 1px; fill: rgb(128, 177, 211); fill-opacity: 0.6; stroke: rgb(128, 177, 211); stroke-opacity: 0.8;\"/></g><g class=\"point\"><path d=\"M250.36,270V263.25H289.64V270Z\" style=\"vector-effect: non-scaling-stroke; opacity: 1; stroke-width: 1px; fill: rgb(128, 177, 211); fill-opacity: 0.6; stroke: rgb(128, 177, 211); stroke-opacity: 0.8;\"/></g><g class=\"point\"><path d=\"M299.45,270V266.63H338.73V270Z\" style=\"vector-effect: non-scaling-stroke; opacity: 1; stroke-width: 1px; fill: rgb(128, 177, 211); fill-opacity: 0.6; stroke: rgb(128, 177, 211); stroke-opacity: 0.8;\"/></g><g class=\"point\"><path d=\"M348.55,270V268.31H387.82V270Z\" style=\"vector-effect: non-scaling-stroke; opacity: 1; stroke-width: 1px; fill: rgb(128, 177, 211); fill-opacity: 0.6; stroke: rgb(128, 177, 211); stroke-opacity: 0.8;\"/></g><g class=\"point\"><path d=\"M397.64,270V267.47H436.91V270Z\" style=\"vector-effect: non-scaling-stroke; opacity: 1; stroke-width: 1px; fill: rgb(128, 177, 211); fill-opacity: 0.6; stroke: rgb(128, 177, 211); stroke-opacity: 0.8;\"/></g><g class=\"point\"><path d=\"M446.73,270V269.16H486V270Z\" style=\"vector-effect: non-scaling-stroke; opacity: 1; stroke-width: 1px; fill: rgb(128, 177, 211); fill-opacity: 0.6; stroke: rgb(128, 177, 211); stroke-opacity: 0.8;\"/></g><g class=\"point\"><path d=\"M495.82,270V266.63H535.09V270Z\" style=\"vector-effect: non-scaling-stroke; opacity: 1; stroke-width: 1px; fill: rgb(128, 177, 211); fill-opacity: 0.6; stroke: rgb(128, 177, 211); stroke-opacity: 0.8;\"/></g></g></g><g class=\"trace bars\" style=\"opacity: 1;\"><g class=\"points\"><g class=\"point\"><path d=\"M4.91,270V270H44.18V270Z\" style=\"vector-effect: non-scaling-stroke; opacity: 1; stroke-width: 1px; fill: rgb(255, 153, 51); fill-opacity: 0.6; stroke: rgb(255, 153, 51); stroke-opacity: 0.8;\"/></g><g class=\"point\"><path d=\"M54,270V270H93.27V270Z\" style=\"vector-effect: non-scaling-stroke; opacity: 1; stroke-width: 1px; fill: rgb(255, 153, 51); fill-opacity: 0.6; stroke: rgb(255, 153, 51); stroke-opacity: 0.8;\"/></g><g class=\"point\"><path d=\"M103.09,270V267.47H142.36V270Z\" style=\"vector-effect: non-scaling-stroke; opacity: 1; stroke-width: 1px; fill: rgb(255, 153, 51); fill-opacity: 0.6; stroke: rgb(255, 153, 51); stroke-opacity: 0.8;\"/></g><g class=\"point\"><path d=\"M152.18,270V267.47H191.45V270Z\" style=\"vector-effect: non-scaling-stroke; opacity: 1; stroke-width: 1px; fill: rgb(255, 153, 51); fill-opacity: 0.6; stroke: rgb(255, 153, 51); stroke-opacity: 0.8;\"/></g><g class=\"point\"><path d=\"M201.27,270V268.31H240.55V270Z\" style=\"vector-effect: non-scaling-stroke; opacity: 1; stroke-width: 1px; fill: rgb(255, 153, 51); fill-opacity: 0.6; stroke: rgb(255, 153, 51); stroke-opacity: 0.8;\"/></g><g class=\"point\"><path d=\"M250.36,270V268.31H289.64V270Z\" style=\"vector-effect: non-scaling-stroke; opacity: 1; stroke-width: 1px; fill: rgb(255, 153, 51); fill-opacity: 0.6; stroke: rgb(255, 153, 51); stroke-opacity: 0.8;\"/></g><g class=\"point\"><path d=\"M299.45,270V265.78H338.73V270Z\" style=\"vector-effect: non-scaling-stroke; opacity: 1; stroke-width: 1px; fill: rgb(255, 153, 51); fill-opacity: 0.6; stroke: rgb(255, 153, 51); stroke-opacity: 0.8;\"/></g><g class=\"point\"><path d=\"M348.55,270V267.47H387.82V270Z\" style=\"vector-effect: non-scaling-stroke; opacity: 1; stroke-width: 1px; fill: rgb(255, 153, 51); fill-opacity: 0.6; stroke: rgb(255, 153, 51); stroke-opacity: 0.8;\"/></g><g class=\"point\"><path d=\"M397.64,270V265.78H436.91V270Z\" style=\"vector-effect: non-scaling-stroke; opacity: 1; stroke-width: 1px; fill: rgb(255, 153, 51); fill-opacity: 0.6; stroke: rgb(255, 153, 51); stroke-opacity: 0.8;\"/></g><g class=\"point\"><path d=\"M446.73,270V267.47H486V270Z\" style=\"vector-effect: non-scaling-stroke; opacity: 1; stroke-width: 1px; fill: rgb(255, 153, 51); fill-opacity: 0.6; stroke: rgb(255, 153, 51); stroke-opacity: 0.8;\"/></g><g class=\"point\"><path d=\"M495.82,270V265.78H535.09V270Z\" style=\"vector-effect: non-scaling-stroke; opacity: 1; stroke-width: 1px; fill: rgb(255, 153, 51); fill-opacity: 0.6; stroke: rgb(255, 153, 51); stroke-opacity: 0.8;\"/></g></g></g><g class=\"trace bars\" style=\"opacity: 1;\"><g class=\"points\"><g class=\"point\"><path d=\"M4.91,270V270H44.18V270Z\" style=\"vector-effect: non-scaling-stroke; opacity: 1; stroke-width: 1px; fill: rgb(55, 128, 191); fill-opacity: 0.6; stroke: rgb(55, 128, 191); stroke-opacity: 0.8;\"/></g><g class=\"point\"><path d=\"M54,270V260.72H93.27V270Z\" style=\"vector-effect: non-scaling-stroke; opacity: 1; stroke-width: 1px; fill: rgb(55, 128, 191); fill-opacity: 0.6; stroke: rgb(55, 128, 191); stroke-opacity: 0.8;\"/></g><g class=\"point\"><path d=\"M103.09,270V248.91H142.36V270Z\" style=\"vector-effect: non-scaling-stroke; opacity: 1; stroke-width: 1px; fill: rgb(55, 128, 191); fill-opacity: 0.6; stroke: rgb(55, 128, 191); stroke-opacity: 0.8;\"/></g><g class=\"point\"><path d=\"M152.18,270V237.94H191.45V270Z\" style=\"vector-effect: non-scaling-stroke; opacity: 1; stroke-width: 1px; fill: rgb(55, 128, 191); fill-opacity: 0.6; stroke: rgb(55, 128, 191); stroke-opacity: 0.8;\"/></g><g class=\"point\"><path d=\"M201.27,270V204.19H240.55V270Z\" style=\"vector-effect: non-scaling-stroke; opacity: 1; stroke-width: 1px; fill: rgb(55, 128, 191); fill-opacity: 0.6; stroke: rgb(55, 128, 191); stroke-opacity: 0.8;\"/></g><g class=\"point\"><path d=\"M250.36,270V171.28H289.64V270Z\" style=\"vector-effect: non-scaling-stroke; opacity: 1; stroke-width: 1px; fill: rgb(55, 128, 191); fill-opacity: 0.6; stroke: rgb(55, 128, 191); stroke-opacity: 0.8;\"/></g><g class=\"point\"><path d=\"M299.45,270V212.63H338.73V270Z\" style=\"vector-effect: non-scaling-stroke; opacity: 1; stroke-width: 1px; fill: rgb(55, 128, 191); fill-opacity: 0.6; stroke: rgb(55, 128, 191); stroke-opacity: 0.8;\"/></g><g class=\"point\"><path d=\"M348.55,270V214.31H387.82V270Z\" style=\"vector-effect: non-scaling-stroke; opacity: 1; stroke-width: 1px; fill: rgb(55, 128, 191); fill-opacity: 0.6; stroke: rgb(55, 128, 191); stroke-opacity: 0.8;\"/></g><g class=\"point\"><path d=\"M397.64,270V187.31H436.91V270Z\" style=\"vector-effect: non-scaling-stroke; opacity: 1; stroke-width: 1px; fill: rgb(55, 128, 191); fill-opacity: 0.6; stroke: rgb(55, 128, 191); stroke-opacity: 0.8;\"/></g><g class=\"point\"><path d=\"M446.73,270V201.66H486V270Z\" style=\"vector-effect: non-scaling-stroke; opacity: 1; stroke-width: 1px; fill: rgb(55, 128, 191); fill-opacity: 0.6; stroke: rgb(55, 128, 191); stroke-opacity: 0.8;\"/></g><g class=\"point\"><path d=\"M495.82,270V193.22H535.09V270Z\" style=\"vector-effect: non-scaling-stroke; opacity: 1; stroke-width: 1px; fill: rgb(55, 128, 191); fill-opacity: 0.6; stroke: rgb(55, 128, 191); stroke-opacity: 0.8;\"/></g></g></g><g class=\"trace bars\" style=\"opacity: 1;\"><g class=\"points\"><g class=\"point\"><path d=\"M4.91,270V269.16H44.18V270Z\" style=\"vector-effect: non-scaling-stroke; opacity: 1; stroke-width: 1px; fill: rgb(50, 171, 96); fill-opacity: 0.6; stroke: rgb(50, 171, 96); stroke-opacity: 0.8;\"/></g><g class=\"point\"><path d=\"M54,270V262.41H93.27V270Z\" style=\"vector-effect: non-scaling-stroke; opacity: 1; stroke-width: 1px; fill: rgb(50, 171, 96); fill-opacity: 0.6; stroke: rgb(50, 171, 96); stroke-opacity: 0.8;\"/></g><g class=\"point\"><path d=\"M103.09,270V242.16H142.36V270Z\" style=\"vector-effect: non-scaling-stroke; opacity: 1; stroke-width: 1px; fill: rgb(50, 171, 96); fill-opacity: 0.6; stroke: rgb(50, 171, 96); stroke-opacity: 0.8;\"/></g><g class=\"point\"><path d=\"M152.18,270V226.13H191.45V270Z\" style=\"vector-effect: non-scaling-stroke; opacity: 1; stroke-width: 1px; fill: rgb(50, 171, 96); fill-opacity: 0.6; stroke: rgb(50, 171, 96); stroke-opacity: 0.8;\"/></g><g class=\"point\"><path d=\"M201.27,270V216.84H240.55V270Z\" style=\"vector-effect: non-scaling-stroke; opacity: 1; stroke-width: 1px; fill: rgb(50, 171, 96); fill-opacity: 0.6; stroke: rgb(50, 171, 96); stroke-opacity: 0.8;\"/></g><g class=\"point\"><path d=\"M250.36,270V216H289.64V270Z\" style=\"vector-effect: non-scaling-stroke; opacity: 1; stroke-width: 1px; fill: rgb(50, 171, 96); fill-opacity: 0.6; stroke: rgb(50, 171, 96); stroke-opacity: 0.8;\"/></g><g class=\"point\"><path d=\"M299.45,270V226.97H338.73V270Z\" style=\"vector-effect: non-scaling-stroke; opacity: 1; stroke-width: 1px; fill: rgb(50, 171, 96); fill-opacity: 0.6; stroke: rgb(50, 171, 96); stroke-opacity: 0.8;\"/></g><g class=\"point\"><path d=\"M348.55,270V229.5H387.82V270Z\" style=\"vector-effect: non-scaling-stroke; opacity: 1; stroke-width: 1px; fill: rgb(50, 171, 96); fill-opacity: 0.6; stroke: rgb(50, 171, 96); stroke-opacity: 0.8;\"/></g><g class=\"point\"><path d=\"M397.64,270V210.94H436.91V270Z\" style=\"vector-effect: non-scaling-stroke; opacity: 1; stroke-width: 1px; fill: rgb(50, 171, 96); fill-opacity: 0.6; stroke: rgb(50, 171, 96); stroke-opacity: 0.8;\"/></g><g class=\"point\"><path d=\"M446.73,270V229.5H486V270Z\" style=\"vector-effect: non-scaling-stroke; opacity: 1; stroke-width: 1px; fill: rgb(50, 171, 96); fill-opacity: 0.6; stroke: rgb(50, 171, 96); stroke-opacity: 0.8;\"/></g><g class=\"point\"><path d=\"M495.82,270V232.88H535.09V270Z\" style=\"vector-effect: non-scaling-stroke; opacity: 1; stroke-width: 1px; fill: rgb(50, 171, 96); fill-opacity: 0.6; stroke: rgb(50, 171, 96); stroke-opacity: 0.8;\"/></g></g></g><g class=\"trace bars\" style=\"opacity: 1;\"><g class=\"points\"><g class=\"point\"><path d=\"M4.91,270V270H44.18V270Z\" style=\"vector-effect: non-scaling-stroke; opacity: 1; stroke-width: 1px; fill: rgb(128, 0, 128); fill-opacity: 0.6; stroke: rgb(128, 0, 128); stroke-opacity: 0.8;\"/></g><g class=\"point\"><path d=\"M54,270V269.16H93.27V270Z\" style=\"vector-effect: non-scaling-stroke; opacity: 1; stroke-width: 1px; fill: rgb(128, 0, 128); fill-opacity: 0.6; stroke: rgb(128, 0, 128); stroke-opacity: 0.8;\"/></g><g class=\"point\"><path d=\"M103.09,270V259.03H142.36V270Z\" style=\"vector-effect: non-scaling-stroke; opacity: 1; stroke-width: 1px; fill: rgb(128, 0, 128); fill-opacity: 0.6; stroke: rgb(128, 0, 128); stroke-opacity: 0.8;\"/></g><g class=\"point\"><path d=\"M152.18,270V252.28H191.45V270Z\" style=\"vector-effect: non-scaling-stroke; opacity: 1; stroke-width: 1px; fill: rgb(128, 0, 128); fill-opacity: 0.6; stroke: rgb(128, 0, 128); stroke-opacity: 0.8;\"/></g><g class=\"point\"><path d=\"M201.27,270V252.28H240.55V270Z\" style=\"vector-effect: non-scaling-stroke; opacity: 1; stroke-width: 1px; fill: rgb(128, 0, 128); fill-opacity: 0.6; stroke: rgb(128, 0, 128); stroke-opacity: 0.8;\"/></g><g class=\"point\"><path d=\"M250.36,270V242.16H289.64V270Z\" style=\"vector-effect: non-scaling-stroke; opacity: 1; stroke-width: 1px; fill: rgb(128, 0, 128); fill-opacity: 0.6; stroke: rgb(128, 0, 128); stroke-opacity: 0.8;\"/></g><g class=\"point\"><path d=\"M299.45,270V257.34H338.73V270Z\" style=\"vector-effect: non-scaling-stroke; opacity: 1; stroke-width: 1px; fill: rgb(128, 0, 128); fill-opacity: 0.6; stroke: rgb(128, 0, 128); stroke-opacity: 0.8;\"/></g><g class=\"point\"><path d=\"M348.55,270V259.03H387.82V270Z\" style=\"vector-effect: non-scaling-stroke; opacity: 1; stroke-width: 1px; fill: rgb(128, 0, 128); fill-opacity: 0.6; stroke: rgb(128, 0, 128); stroke-opacity: 0.8;\"/></g><g class=\"point\"><path d=\"M397.64,270V253.97H436.91V270Z\" style=\"vector-effect: non-scaling-stroke; opacity: 1; stroke-width: 1px; fill: rgb(128, 0, 128); fill-opacity: 0.6; stroke: rgb(128, 0, 128); stroke-opacity: 0.8;\"/></g><g class=\"point\"><path d=\"M446.73,270V257.34H486V270Z\" style=\"vector-effect: non-scaling-stroke; opacity: 1; stroke-width: 1px; fill: rgb(128, 0, 128); fill-opacity: 0.6; stroke: rgb(128, 0, 128); stroke-opacity: 0.8;\"/></g><g class=\"point\"><path d=\"M495.82,270V253.97H535.09V270Z\" style=\"vector-effect: non-scaling-stroke; opacity: 1; stroke-width: 1px; fill: rgb(128, 0, 128); fill-opacity: 0.6; stroke: rgb(128, 0, 128); stroke-opacity: 0.8;\"/></g></g></g><g class=\"trace bars\" style=\"opacity: 1;\"><g class=\"points\"><g class=\"point\"><path d=\"M4.91,270V270H44.18V270Z\" style=\"vector-effect: non-scaling-stroke; opacity: 1; stroke-width: 1px; fill: rgb(219, 64, 82); fill-opacity: 0.6; stroke: rgb(219, 64, 82); stroke-opacity: 0.8;\"/></g><g class=\"point\"><path d=\"M54,270V267.47H93.27V270Z\" style=\"vector-effect: non-scaling-stroke; opacity: 1; stroke-width: 1px; fill: rgb(219, 64, 82); fill-opacity: 0.6; stroke: rgb(219, 64, 82); stroke-opacity: 0.8;\"/></g><g class=\"point\"><path d=\"M103.09,270V263.25H142.36V270Z\" style=\"vector-effect: non-scaling-stroke; opacity: 1; stroke-width: 1px; fill: rgb(219, 64, 82); fill-opacity: 0.6; stroke: rgb(219, 64, 82); stroke-opacity: 0.8;\"/></g><g class=\"point\"><path d=\"M152.18,270V264.94H191.45V270Z\" style=\"vector-effect: non-scaling-stroke; opacity: 1; stroke-width: 1px; fill: rgb(219, 64, 82); fill-opacity: 0.6; stroke: rgb(219, 64, 82); stroke-opacity: 0.8;\"/></g><g class=\"point\"><path d=\"M201.27,270V270H240.55V270Z\" style=\"vector-effect: non-scaling-stroke; opacity: 1; stroke-width: 1px; fill: rgb(219, 64, 82); fill-opacity: 0.6; stroke: rgb(219, 64, 82); stroke-opacity: 0.8;\"/></g><g class=\"point\"><path d=\"M250.36,270V264.09H289.64V270Z\" style=\"vector-effect: non-scaling-stroke; opacity: 1; stroke-width: 1px; fill: rgb(219, 64, 82); fill-opacity: 0.6; stroke: rgb(219, 64, 82); stroke-opacity: 0.8;\"/></g><g class=\"point\"><path d=\"M299.45,270V266.63H338.73V270Z\" style=\"vector-effect: non-scaling-stroke; opacity: 1; stroke-width: 1px; fill: rgb(219, 64, 82); fill-opacity: 0.6; stroke: rgb(219, 64, 82); stroke-opacity: 0.8;\"/></g><g class=\"point\"><path d=\"M348.55,270V269.16H387.82V270Z\" style=\"vector-effect: non-scaling-stroke; opacity: 1; stroke-width: 1px; fill: rgb(219, 64, 82); fill-opacity: 0.6; stroke: rgb(219, 64, 82); stroke-opacity: 0.8;\"/></g><g class=\"point\"><path d=\"M397.64,270V269.16H436.91V270Z\" style=\"vector-effect: non-scaling-stroke; opacity: 1; stroke-width: 1px; fill: rgb(219, 64, 82); fill-opacity: 0.6; stroke: rgb(219, 64, 82); stroke-opacity: 0.8;\"/></g><g class=\"point\"><path d=\"M446.73,270V270H486V270Z\" style=\"vector-effect: non-scaling-stroke; opacity: 1; stroke-width: 1px; fill: rgb(219, 64, 82); fill-opacity: 0.6; stroke: rgb(219, 64, 82); stroke-opacity: 0.8;\"/></g><g class=\"point\"><path d=\"M495.82,270V270H535.09V270Z\" style=\"vector-effect: non-scaling-stroke; opacity: 1; stroke-width: 1px; fill: rgb(219, 64, 82); fill-opacity: 0.6; stroke: rgb(219, 64, 82); stroke-opacity: 0.8;\"/></g></g></g><g class=\"trace bars\" style=\"opacity: 1;\"><g class=\"points\"><g class=\"point\"><path d=\"M4.91,270V270H44.18V270Z\" style=\"vector-effect: non-scaling-stroke; opacity: 1; stroke-width: 1px; fill: rgb(0, 128, 128); fill-opacity: 0.6; stroke: rgb(0, 128, 128); stroke-opacity: 0.8;\"/></g><g class=\"point\"><path d=\"M54,270V269.16H93.27V270Z\" style=\"vector-effect: non-scaling-stroke; opacity: 1; stroke-width: 1px; fill: rgb(0, 128, 128); fill-opacity: 0.6; stroke: rgb(0, 128, 128); stroke-opacity: 0.8;\"/></g><g class=\"point\"><path d=\"M103.09,270V266.63H142.36V270Z\" style=\"vector-effect: non-scaling-stroke; opacity: 1; stroke-width: 1px; fill: rgb(0, 128, 128); fill-opacity: 0.6; stroke: rgb(0, 128, 128); stroke-opacity: 0.8;\"/></g><g class=\"point\"><path d=\"M152.18,270V254.81H191.45V270Z\" style=\"vector-effect: non-scaling-stroke; opacity: 1; stroke-width: 1px; fill: rgb(0, 128, 128); fill-opacity: 0.6; stroke: rgb(0, 128, 128); stroke-opacity: 0.8;\"/></g><g class=\"point\"><path d=\"M201.27,270V239.63H240.55V270Z\" style=\"vector-effect: non-scaling-stroke; opacity: 1; stroke-width: 1px; fill: rgb(0, 128, 128); fill-opacity: 0.6; stroke: rgb(0, 128, 128); stroke-opacity: 0.8;\"/></g><g class=\"point\"><path d=\"M250.36,270V239.63H289.64V270Z\" style=\"vector-effect: non-scaling-stroke; opacity: 1; stroke-width: 1px; fill: rgb(0, 128, 128); fill-opacity: 0.6; stroke: rgb(0, 128, 128); stroke-opacity: 0.8;\"/></g><g class=\"point\"><path d=\"M299.45,270V252.28H338.73V270Z\" style=\"vector-effect: non-scaling-stroke; opacity: 1; stroke-width: 1px; fill: rgb(0, 128, 128); fill-opacity: 0.6; stroke: rgb(0, 128, 128); stroke-opacity: 0.8;\"/></g><g class=\"point\"><path d=\"M348.55,270V252.28H387.82V270Z\" style=\"vector-effect: non-scaling-stroke; opacity: 1; stroke-width: 1px; fill: rgb(0, 128, 128); fill-opacity: 0.6; stroke: rgb(0, 128, 128); stroke-opacity: 0.8;\"/></g><g class=\"point\"><path d=\"M397.64,270V246.38H436.91V270Z\" style=\"vector-effect: non-scaling-stroke; opacity: 1; stroke-width: 1px; fill: rgb(0, 128, 128); fill-opacity: 0.6; stroke: rgb(0, 128, 128); stroke-opacity: 0.8;\"/></g><g class=\"point\"><path d=\"M446.73,270V247.22H486V270Z\" style=\"vector-effect: non-scaling-stroke; opacity: 1; stroke-width: 1px; fill: rgb(0, 128, 128); fill-opacity: 0.6; stroke: rgb(0, 128, 128); stroke-opacity: 0.8;\"/></g><g class=\"point\"><path d=\"M495.82,270V243H535.09V270Z\" style=\"vector-effect: non-scaling-stroke; opacity: 1; stroke-width: 1px; fill: rgb(0, 128, 128); fill-opacity: 0.6; stroke: rgb(0, 128, 128); stroke-opacity: 0.8;\"/></g></g></g><g class=\"trace bars\" style=\"opacity: 1;\"><g class=\"points\"><g class=\"point\"><path d=\"M4.91,270V270H44.18V270Z\" style=\"vector-effect: non-scaling-stroke; opacity: 1; stroke-width: 1px; fill: rgb(255, 255, 51); fill-opacity: 0.6; stroke: rgb(255, 255, 51); stroke-opacity: 0.8;\"/></g><g class=\"point\"><path d=\"M54,270V265.78H93.27V270Z\" style=\"vector-effect: non-scaling-stroke; opacity: 1; stroke-width: 1px; fill: rgb(255, 255, 51); fill-opacity: 0.6; stroke: rgb(255, 255, 51); stroke-opacity: 0.8;\"/></g><g class=\"point\"><path d=\"M103.09,270V264.94H142.36V270Z\" style=\"vector-effect: non-scaling-stroke; opacity: 1; stroke-width: 1px; fill: rgb(255, 255, 51); fill-opacity: 0.6; stroke: rgb(255, 255, 51); stroke-opacity: 0.8;\"/></g><g class=\"point\"><path d=\"M152.18,270V258.19H191.45V270Z\" style=\"vector-effect: non-scaling-stroke; opacity: 1; stroke-width: 1px; fill: rgb(255, 255, 51); fill-opacity: 0.6; stroke: rgb(255, 255, 51); stroke-opacity: 0.8;\"/></g><g class=\"point\"><path d=\"M201.27,270V256.5H240.55V270Z\" style=\"vector-effect: non-scaling-stroke; opacity: 1; stroke-width: 1px; fill: rgb(255, 255, 51); fill-opacity: 0.6; stroke: rgb(255, 255, 51); stroke-opacity: 0.8;\"/></g><g class=\"point\"><path d=\"M250.36,270V243H289.64V270Z\" style=\"vector-effect: non-scaling-stroke; opacity: 1; stroke-width: 1px; fill: rgb(255, 255, 51); fill-opacity: 0.6; stroke: rgb(255, 255, 51); stroke-opacity: 0.8;\"/></g><g class=\"point\"><path d=\"M299.45,270V259.03H338.73V270Z\" style=\"vector-effect: non-scaling-stroke; opacity: 1; stroke-width: 1px; fill: rgb(255, 255, 51); fill-opacity: 0.6; stroke: rgb(255, 255, 51); stroke-opacity: 0.8;\"/></g><g class=\"point\"><path d=\"M348.55,270V259.03H387.82V270Z\" style=\"vector-effect: non-scaling-stroke; opacity: 1; stroke-width: 1px; fill: rgb(255, 255, 51); fill-opacity: 0.6; stroke: rgb(255, 255, 51); stroke-opacity: 0.8;\"/></g><g class=\"point\"><path d=\"M397.64,270V249.75H436.91V270Z\" style=\"vector-effect: non-scaling-stroke; opacity: 1; stroke-width: 1px; fill: rgb(255, 255, 51); fill-opacity: 0.6; stroke: rgb(255, 255, 51); stroke-opacity: 0.8;\"/></g><g class=\"point\"><path d=\"M446.73,270V253.97H486V270Z\" style=\"vector-effect: non-scaling-stroke; opacity: 1; stroke-width: 1px; fill: rgb(255, 255, 51); fill-opacity: 0.6; stroke: rgb(255, 255, 51); stroke-opacity: 0.8;\"/></g><g class=\"point\"><path d=\"M495.82,270V248.06H535.09V270Z\" style=\"vector-effect: non-scaling-stroke; opacity: 1; stroke-width: 1px; fill: rgb(255, 255, 51); fill-opacity: 0.6; stroke: rgb(255, 255, 51); stroke-opacity: 0.8;\"/></g></g></g><g class=\"trace bars\" style=\"opacity: 1;\"><g class=\"points\"><g class=\"point\"><path d=\"M4.91,270V270H44.18V270Z\" style=\"vector-effect: non-scaling-stroke; opacity: 1; stroke-width: 1px; fill: rgb(128, 128, 0); fill-opacity: 0.6; stroke: rgb(128, 128, 0); stroke-opacity: 0.8;\"/></g><g class=\"point\"><path d=\"M54,270V269.16H93.27V270Z\" style=\"vector-effect: non-scaling-stroke; opacity: 1; stroke-width: 1px; fill: rgb(128, 128, 0); fill-opacity: 0.6; stroke: rgb(128, 128, 0); stroke-opacity: 0.8;\"/></g><g class=\"point\"><path d=\"M103.09,270V270H142.36V270Z\" style=\"vector-effect: non-scaling-stroke; opacity: 1; stroke-width: 1px; fill: rgb(128, 128, 0); fill-opacity: 0.6; stroke: rgb(128, 128, 0); stroke-opacity: 0.8;\"/></g><g class=\"point\"><path d=\"M152.18,270V268.31H191.45V270Z\" style=\"vector-effect: non-scaling-stroke; opacity: 1; stroke-width: 1px; fill: rgb(128, 128, 0); fill-opacity: 0.6; stroke: rgb(128, 128, 0); stroke-opacity: 0.8;\"/></g><g class=\"point\"><path d=\"M201.27,270V264.09H240.55V270Z\" style=\"vector-effect: non-scaling-stroke; opacity: 1; stroke-width: 1px; fill: rgb(128, 128, 0); fill-opacity: 0.6; stroke: rgb(128, 128, 0); stroke-opacity: 0.8;\"/></g><g class=\"point\"><path d=\"M250.36,270V254.81H289.64V270Z\" style=\"vector-effect: non-scaling-stroke; opacity: 1; stroke-width: 1px; fill: rgb(128, 128, 0); fill-opacity: 0.6; stroke: rgb(128, 128, 0); stroke-opacity: 0.8;\"/></g><g class=\"point\"><path d=\"M299.45,270V263.25H338.73V270Z\" style=\"vector-effect: non-scaling-stroke; opacity: 1; stroke-width: 1px; fill: rgb(128, 128, 0); fill-opacity: 0.6; stroke: rgb(128, 128, 0); stroke-opacity: 0.8;\"/></g><g class=\"point\"><path d=\"M348.55,270V265.78H387.82V270Z\" style=\"vector-effect: non-scaling-stroke; opacity: 1; stroke-width: 1px; fill: rgb(128, 128, 0); fill-opacity: 0.6; stroke: rgb(128, 128, 0); stroke-opacity: 0.8;\"/></g><g class=\"point\"><path d=\"M397.64,270V266.63H436.91V270Z\" style=\"vector-effect: non-scaling-stroke; opacity: 1; stroke-width: 1px; fill: rgb(128, 128, 0); fill-opacity: 0.6; stroke: rgb(128, 128, 0); stroke-opacity: 0.8;\"/></g><g class=\"point\"><path d=\"M446.73,270V268.31H486V270Z\" style=\"vector-effect: non-scaling-stroke; opacity: 1; stroke-width: 1px; fill: rgb(128, 128, 0); fill-opacity: 0.6; stroke: rgb(128, 128, 0); stroke-opacity: 0.8;\"/></g><g class=\"point\"><path d=\"M495.82,270V266.63H535.09V270Z\" style=\"vector-effect: non-scaling-stroke; opacity: 1; stroke-width: 1px; fill: rgb(128, 128, 0); fill-opacity: 0.6; stroke: rgb(128, 128, 0); stroke-opacity: 0.8;\"/></g></g></g><g class=\"trace bars\" style=\"opacity: 1;\"><g class=\"points\"><g class=\"point\"><path d=\"M4.91,270V269.16H44.18V270Z\" style=\"vector-effect: non-scaling-stroke; opacity: 1; stroke-width: 1px; fill: rgb(128, 128, 0); fill-opacity: 0.6; stroke: rgb(128, 128, 0); stroke-opacity: 0.7;\"/></g><g class=\"point\"><path d=\"M54,270V262.41H93.27V270Z\" style=\"vector-effect: non-scaling-stroke; opacity: 1; stroke-width: 1px; fill: rgb(128, 128, 0); fill-opacity: 0.6; stroke: rgb(128, 128, 0); stroke-opacity: 0.7;\"/></g><g class=\"point\"><path d=\"M103.09,270V255.66H142.36V270Z\" style=\"vector-effect: non-scaling-stroke; opacity: 1; stroke-width: 1px; fill: rgb(128, 128, 0); fill-opacity: 0.6; stroke: rgb(128, 128, 0); stroke-opacity: 0.7;\"/></g><g class=\"point\"><path d=\"M152.18,270V251.44H191.45V270Z\" style=\"vector-effect: non-scaling-stroke; opacity: 1; stroke-width: 1px; fill: rgb(128, 128, 0); fill-opacity: 0.6; stroke: rgb(128, 128, 0); stroke-opacity: 0.7;\"/></g><g class=\"point\"><path d=\"M201.27,270V247.22H240.55V270Z\" style=\"vector-effect: non-scaling-stroke; opacity: 1; stroke-width: 1px; fill: rgb(128, 128, 0); fill-opacity: 0.6; stroke: rgb(128, 128, 0); stroke-opacity: 0.7;\"/></g><g class=\"point\"><path d=\"M250.36,270V246.38H289.64V270Z\" style=\"vector-effect: non-scaling-stroke; opacity: 1; stroke-width: 1px; fill: rgb(128, 128, 0); fill-opacity: 0.6; stroke: rgb(128, 128, 0); stroke-opacity: 0.7;\"/></g><g class=\"point\"><path d=\"M299.45,270V252.28H338.73V270Z\" style=\"vector-effect: non-scaling-stroke; opacity: 1; stroke-width: 1px; fill: rgb(128, 128, 0); fill-opacity: 0.6; stroke: rgb(128, 128, 0); stroke-opacity: 0.7;\"/></g><g class=\"point\"><path d=\"M348.55,270V254.81H387.82V270Z\" style=\"vector-effect: non-scaling-stroke; opacity: 1; stroke-width: 1px; fill: rgb(128, 128, 0); fill-opacity: 0.6; stroke: rgb(128, 128, 0); stroke-opacity: 0.7;\"/></g><g class=\"point\"><path d=\"M397.64,270V245.53H436.91V270Z\" style=\"vector-effect: non-scaling-stroke; opacity: 1; stroke-width: 1px; fill: rgb(128, 128, 0); fill-opacity: 0.6; stroke: rgb(128, 128, 0); stroke-opacity: 0.7;\"/></g><g class=\"point\"><path d=\"M446.73,270V257.34H486V270Z\" style=\"vector-effect: non-scaling-stroke; opacity: 1; stroke-width: 1px; fill: rgb(128, 128, 0); fill-opacity: 0.6; stroke: rgb(128, 128, 0); stroke-opacity: 0.7;\"/></g><g class=\"point\"><path d=\"M495.82,270V263.25H535.09V270Z\" style=\"vector-effect: non-scaling-stroke; opacity: 1; stroke-width: 1px; fill: rgb(128, 128, 0); fill-opacity: 0.6; stroke: rgb(128, 128, 0); stroke-opacity: 0.7;\"/></g></g></g><g class=\"trace bars\" style=\"opacity: 1;\"><g class=\"points\"><g class=\"point\"><path d=\"M4.91,270V270H44.18V270Z\" style=\"vector-effect: non-scaling-stroke; opacity: 1; stroke-width: 1px; fill: rgb(251, 128, 114); fill-opacity: 0.6; stroke: rgb(251, 128, 114); stroke-opacity: 0.7;\"/></g><g class=\"point\"><path d=\"M54,270V270H93.27V270Z\" style=\"vector-effect: non-scaling-stroke; opacity: 1; stroke-width: 1px; fill: rgb(251, 128, 114); fill-opacity: 0.6; stroke: rgb(251, 128, 114); stroke-opacity: 0.7;\"/></g><g class=\"point\"><path d=\"M103.09,270V269.16H142.36V270Z\" style=\"vector-effect: non-scaling-stroke; opacity: 1; stroke-width: 1px; fill: rgb(251, 128, 114); fill-opacity: 0.6; stroke: rgb(251, 128, 114); stroke-opacity: 0.7;\"/></g><g class=\"point\"><path d=\"M152.18,270V266.63H191.45V270Z\" style=\"vector-effect: non-scaling-stroke; opacity: 1; stroke-width: 1px; fill: rgb(251, 128, 114); fill-opacity: 0.6; stroke: rgb(251, 128, 114); stroke-opacity: 0.7;\"/></g><g class=\"point\"><path d=\"M201.27,270V268.31H240.55V270Z\" style=\"vector-effect: non-scaling-stroke; opacity: 1; stroke-width: 1px; fill: rgb(251, 128, 114); fill-opacity: 0.6; stroke: rgb(251, 128, 114); stroke-opacity: 0.7;\"/></g><g class=\"point\"><path d=\"M250.36,270V270H289.64V270Z\" style=\"vector-effect: non-scaling-stroke; opacity: 1; stroke-width: 1px; fill: rgb(251, 128, 114); fill-opacity: 0.6; stroke: rgb(251, 128, 114); stroke-opacity: 0.7;\"/></g><g class=\"point\"><path d=\"M299.45,270V267.47H338.73V270Z\" style=\"vector-effect: non-scaling-stroke; opacity: 1; stroke-width: 1px; fill: rgb(251, 128, 114); fill-opacity: 0.6; stroke: rgb(251, 128, 114); stroke-opacity: 0.7;\"/></g><g class=\"point\"><path d=\"M348.55,270V269.16H387.82V270Z\" style=\"vector-effect: non-scaling-stroke; opacity: 1; stroke-width: 1px; fill: rgb(251, 128, 114); fill-opacity: 0.6; stroke: rgb(251, 128, 114); stroke-opacity: 0.7;\"/></g><g class=\"point\"><path d=\"M397.64,270V270H436.91V270Z\" style=\"vector-effect: non-scaling-stroke; opacity: 1; stroke-width: 1px; fill: rgb(251, 128, 114); fill-opacity: 0.6; stroke: rgb(251, 128, 114); stroke-opacity: 0.7;\"/></g><g class=\"point\"><path d=\"M446.73,270V269.16H486V270Z\" style=\"vector-effect: non-scaling-stroke; opacity: 1; stroke-width: 1px; fill: rgb(251, 128, 114); fill-opacity: 0.6; stroke: rgb(251, 128, 114); stroke-opacity: 0.7;\"/></g><g class=\"point\"><path d=\"M495.82,270V270H535.09V270Z\" style=\"vector-effect: non-scaling-stroke; opacity: 1; stroke-width: 1px; fill: rgb(251, 128, 114); fill-opacity: 0.6; stroke: rgb(251, 128, 114); stroke-opacity: 0.7;\"/></g></g></g><g class=\"trace bars\" style=\"opacity: 1;\"><g class=\"points\"><g class=\"point\"><path d=\"M4.91,270V270H44.18V270Z\" style=\"vector-effect: non-scaling-stroke; opacity: 1; stroke-width: 1px; fill: rgb(128, 177, 211); fill-opacity: 0.6; stroke: rgb(128, 177, 211); stroke-opacity: 0.7;\"/></g><g class=\"point\"><path d=\"M54,270V244.69H93.27V270Z\" style=\"vector-effect: non-scaling-stroke; opacity: 1; stroke-width: 1px; fill: rgb(128, 177, 211); fill-opacity: 0.6; stroke: rgb(128, 177, 211); stroke-opacity: 0.7;\"/></g><g class=\"point\"><path d=\"M103.09,270V246.38H142.36V270Z\" style=\"vector-effect: non-scaling-stroke; opacity: 1; stroke-width: 1px; fill: rgb(128, 177, 211); fill-opacity: 0.6; stroke: rgb(128, 177, 211); stroke-opacity: 0.7;\"/></g><g class=\"point\"><path d=\"M152.18,270V255.66H191.45V270Z\" style=\"vector-effect: non-scaling-stroke; opacity: 1; stroke-width: 1px; fill: rgb(128, 177, 211); fill-opacity: 0.6; stroke: rgb(128, 177, 211); stroke-opacity: 0.7;\"/></g><g class=\"point\"><path d=\"M201.27,270V250.59H240.55V270Z\" style=\"vector-effect: non-scaling-stroke; opacity: 1; stroke-width: 1px; fill: rgb(128, 177, 211); fill-opacity: 0.6; stroke: rgb(128, 177, 211); stroke-opacity: 0.7;\"/></g><g class=\"point\"><path d=\"M250.36,270V212.63H289.64V270Z\" style=\"vector-effect: non-scaling-stroke; opacity: 1; stroke-width: 1px; fill: rgb(128, 177, 211); fill-opacity: 0.6; stroke: rgb(128, 177, 211); stroke-opacity: 0.7;\"/></g><g class=\"point\"><path d=\"M299.45,270V241.31H338.73V270Z\" style=\"vector-effect: non-scaling-stroke; opacity: 1; stroke-width: 1px; fill: rgb(128, 177, 211); fill-opacity: 0.6; stroke: rgb(128, 177, 211); stroke-opacity: 0.7;\"/></g><g class=\"point\"><path d=\"M348.55,270V246.38H387.82V270Z\" style=\"vector-effect: non-scaling-stroke; opacity: 1; stroke-width: 1px; fill: rgb(128, 177, 211); fill-opacity: 0.6; stroke: rgb(128, 177, 211); stroke-opacity: 0.7;\"/></g><g class=\"point\"><path d=\"M397.64,270V209.25H436.91V270Z\" style=\"vector-effect: non-scaling-stroke; opacity: 1; stroke-width: 1px; fill: rgb(128, 177, 211); fill-opacity: 0.6; stroke: rgb(128, 177, 211); stroke-opacity: 0.7;\"/></g><g class=\"point\"><path d=\"M446.73,270V222.75H486V270Z\" style=\"vector-effect: non-scaling-stroke; opacity: 1; stroke-width: 1px; fill: rgb(128, 177, 211); fill-opacity: 0.6; stroke: rgb(128, 177, 211); stroke-opacity: 0.7;\"/></g><g class=\"point\"><path d=\"M495.82,270V212.63H535.09V270Z\" style=\"vector-effect: non-scaling-stroke; opacity: 1; stroke-width: 1px; fill: rgb(128, 177, 211); fill-opacity: 0.6; stroke: rgb(128, 177, 211); stroke-opacity: 0.7;\"/></g></g></g><g class=\"trace bars\" style=\"opacity: 1;\"><g class=\"points\"><g class=\"point\"><path d=\"M4.91,270V270H44.18V270Z\" style=\"vector-effect: non-scaling-stroke; opacity: 1; stroke-width: 1px; fill: rgb(255, 153, 51); fill-opacity: 0.6; stroke: rgb(255, 153, 51); stroke-opacity: 0.7;\"/></g><g class=\"point\"><path d=\"M54,270V266.63H93.27V270Z\" style=\"vector-effect: non-scaling-stroke; opacity: 1; stroke-width: 1px; fill: rgb(255, 153, 51); fill-opacity: 0.6; stroke: rgb(255, 153, 51); stroke-opacity: 0.7;\"/></g><g class=\"point\"><path d=\"M103.09,270V267.47H142.36V270Z\" style=\"vector-effect: non-scaling-stroke; opacity: 1; stroke-width: 1px; fill: rgb(255, 153, 51); fill-opacity: 0.6; stroke: rgb(255, 153, 51); stroke-opacity: 0.7;\"/></g><g class=\"point\"><path d=\"M152.18,270V267.47H191.45V270Z\" style=\"vector-effect: non-scaling-stroke; opacity: 1; stroke-width: 1px; fill: rgb(255, 153, 51); fill-opacity: 0.6; stroke: rgb(255, 153, 51); stroke-opacity: 0.7;\"/></g><g class=\"point\"><path d=\"M201.27,270V268.31H240.55V270Z\" style=\"vector-effect: non-scaling-stroke; opacity: 1; stroke-width: 1px; fill: rgb(255, 153, 51); fill-opacity: 0.6; stroke: rgb(255, 153, 51); stroke-opacity: 0.7;\"/></g><g class=\"point\"><path d=\"M250.36,270V257.34H289.64V270Z\" style=\"vector-effect: non-scaling-stroke; opacity: 1; stroke-width: 1px; fill: rgb(255, 153, 51); fill-opacity: 0.6; stroke: rgb(255, 153, 51); stroke-opacity: 0.7;\"/></g><g class=\"point\"><path d=\"M299.45,270V258.19H338.73V270Z\" style=\"vector-effect: non-scaling-stroke; opacity: 1; stroke-width: 1px; fill: rgb(255, 153, 51); fill-opacity: 0.6; stroke: rgb(255, 153, 51); stroke-opacity: 0.7;\"/></g><g class=\"point\"><path d=\"M348.55,270V262.41H387.82V270Z\" style=\"vector-effect: non-scaling-stroke; opacity: 1; stroke-width: 1px; fill: rgb(255, 153, 51); fill-opacity: 0.6; stroke: rgb(255, 153, 51); stroke-opacity: 0.7;\"/></g><g class=\"point\"><path d=\"M397.64,270V258.19H436.91V270Z\" style=\"vector-effect: non-scaling-stroke; opacity: 1; stroke-width: 1px; fill: rgb(255, 153, 51); fill-opacity: 0.6; stroke: rgb(255, 153, 51); stroke-opacity: 0.7;\"/></g><g class=\"point\"><path d=\"M446.73,270V261.56H486V270Z\" style=\"vector-effect: non-scaling-stroke; opacity: 1; stroke-width: 1px; fill: rgb(255, 153, 51); fill-opacity: 0.6; stroke: rgb(255, 153, 51); stroke-opacity: 0.7;\"/></g><g class=\"point\"><path d=\"M495.82,270V258.19H535.09V270Z\" style=\"vector-effect: non-scaling-stroke; opacity: 1; stroke-width: 1px; fill: rgb(255, 153, 51); fill-opacity: 0.6; stroke: rgb(255, 153, 51); stroke-opacity: 0.7;\"/></g></g></g></g></g><g class=\"overplot\"/><path class=\"xlines-above crisp\" d=\"M0,0\" style=\"fill: none;\"/><path class=\"ylines-above crisp\" d=\"M0,0\" style=\"fill: none;\"/><g class=\"overlines-above\"/><g class=\"xaxislayer-above\"><g class=\"xtick\"><text text-anchor=\"middle\" x=\"0\" y=\"383\" transform=\"translate(104.55,0)\" style=\"font-family: 'Open Sans', verdana, arial, sans-serif; font-size: 12px; fill: rgb(77, 86, 99); fill-opacity: 1; white-space: pre;\">0</text></g><g class=\"xtick\"><text text-anchor=\"middle\" x=\"0\" y=\"383\" transform=\"translate(202.73000000000002,0)\" style=\"font-family: 'Open Sans', verdana, arial, sans-serif; font-size: 12px; fill: rgb(77, 86, 99); fill-opacity: 1; white-space: pre;\">2</text></g><g class=\"xtick\"><text text-anchor=\"middle\" x=\"0\" y=\"383\" transform=\"translate(300.90999999999997,0)\" style=\"font-family: 'Open Sans', verdana, arial, sans-serif; font-size: 12px; fill: rgb(77, 86, 99); fill-opacity: 1; white-space: pre;\">4</text></g><g class=\"xtick\"><text text-anchor=\"middle\" x=\"0\" y=\"383\" transform=\"translate(399.09,0)\" style=\"font-family: 'Open Sans', verdana, arial, sans-serif; font-size: 12px; fill: rgb(77, 86, 99); fill-opacity: 1; white-space: pre;\">6</text></g><g class=\"xtick\"><text text-anchor=\"middle\" x=\"0\" y=\"383\" transform=\"translate(497.27,0)\" style=\"font-family: 'Open Sans', verdana, arial, sans-serif; font-size: 12px; fill: rgb(77, 86, 99); fill-opacity: 1; white-space: pre;\">8</text></g><g class=\"xtick\"><text text-anchor=\"middle\" x=\"0\" y=\"383\" transform=\"translate(595.45,0)\" style=\"font-family: 'Open Sans', verdana, arial, sans-serif; font-size: 12px; fill: rgb(77, 86, 99); fill-opacity: 1; white-space: pre;\">10</text></g></g><g class=\"yaxislayer-above\"><g class=\"ytick\"><text text-anchor=\"end\" x=\"79\" y=\"4.199999999999999\" transform=\"translate(0,370)\" style=\"font-family: 'Open Sans', verdana, arial, sans-serif; font-size: 12px; fill: rgb(77, 86, 99); fill-opacity: 1; white-space: pre;\">0</text></g><g class=\"ytick\"><text text-anchor=\"end\" x=\"79\" y=\"4.199999999999999\" transform=\"translate(0,327.81)\" style=\"font-family: 'Open Sans', verdana, arial, sans-serif; font-size: 12px; fill: rgb(77, 86, 99); fill-opacity: 1; white-space: pre;\">50</text></g><g class=\"ytick\"><text text-anchor=\"end\" x=\"79\" y=\"4.199999999999999\" transform=\"translate(0,285.63)\" style=\"font-family: 'Open Sans', verdana, arial, sans-serif; font-size: 12px; fill: rgb(77, 86, 99); fill-opacity: 1; white-space: pre;\">100</text></g><g class=\"ytick\"><text text-anchor=\"end\" x=\"79\" y=\"4.199999999999999\" transform=\"translate(0,243.44)\" style=\"font-family: 'Open Sans', verdana, arial, sans-serif; font-size: 12px; fill: rgb(77, 86, 99); fill-opacity: 1; white-space: pre;\">150</text></g><g class=\"ytick\"><text text-anchor=\"end\" x=\"79\" y=\"4.199999999999999\" transform=\"translate(0,201.25)\" style=\"font-family: 'Open Sans', verdana, arial, sans-serif; font-size: 12px; fill: rgb(77, 86, 99); fill-opacity: 1; white-space: pre;\">200</text></g><g class=\"ytick\"><text text-anchor=\"end\" x=\"79\" y=\"4.199999999999999\" transform=\"translate(0,159.06)\" style=\"font-family: 'Open Sans', verdana, arial, sans-serif; font-size: 12px; fill: rgb(77, 86, 99); fill-opacity: 1; white-space: pre;\">250</text></g><g class=\"ytick\"><text text-anchor=\"end\" x=\"79\" y=\"4.199999999999999\" transform=\"translate(0,116.88)\" style=\"font-family: 'Open Sans', verdana, arial, sans-serif; font-size: 12px; fill: rgb(77, 86, 99); fill-opacity: 1; white-space: pre;\">300</text></g></g><g class=\"overaxes-above\"/></g></g><g class=\"polarlayer\"/><g class=\"ternarylayer\"/><g class=\"geolayer\"/><g class=\"funnelarealayer\"/><g class=\"pielayer\"/><g class=\"treemaplayer\"/><g class=\"sunburstlayer\"/><g class=\"glimages\"/><defs id=\"topdefs-62e3d1\"><g class=\"clips\"/><clipPath id=\"legend62e3d1\"><rect width=\"373\" height=\"270\" x=\"0\" y=\"0\"/></clipPath></defs><g class=\"layer-above\"><g class=\"imagelayer\"/><g class=\"shapelayer\"/></g><g class=\"infolayer\"><g class=\"legend\" pointer-events=\"all\" transform=\"translate(327, 100)\"><rect class=\"bg\" shape-rendering=\"crispEdges\" width=\"373\" height=\"270\" x=\"0\" y=\"0\" style=\"stroke: rgb(68, 68, 68); stroke-opacity: 1; fill: rgb(245, 246, 249); fill-opacity: 1; stroke-width: 0px;\"/><g class=\"scrollbox\" transform=\"translate(0, 0)\" clip-path=\"url('#legend62e3d1')\"><g class=\"groups\"><g class=\"traces\" transform=\"translate(0, 14.5)\" style=\"opacity: 1;\"><text class=\"legendtext user-select-none\" text-anchor=\"start\" x=\"40\" y=\"4.680000000000001\" style=\"font-family: 'Open Sans', verdana, arial, sans-serif; font-size: 12px; fill: rgb(77, 86, 99); fill-opacity: 1; white-space: pre;\">Top/society/producthisteria</text><g class=\"layers\" style=\"opacity: 1;\"><g class=\"legendfill\"/><g class=\"legendlines\"/><g class=\"legendsymbols\"><g class=\"legendpoints\"><path class=\"legendundefined\" d=\"M6,6H-6V-6H6Z\" transform=\"translate(20,0)\" style=\"stroke-width: 1px; fill: rgb(255, 153, 51); fill-opacity: 0.6; stroke: rgb(255, 153, 51); stroke-opacity: 1;\"/></g></g></g><rect class=\"legendtoggle\" pointer-events=\"all\" x=\"0\" y=\"-9.5\" width=\"367.5\" height=\"19\" style=\"cursor: pointer; fill: rgb(0, 0, 0); fill-opacity: 0;\"/></g><g class=\"traces\" transform=\"translate(0, 33.5)\" style=\"opacity: 1;\"><text class=\"legendtext user-select-none\" text-anchor=\"start\" x=\"40\" y=\"4.680000000000001\" style=\"font-family: 'Open Sans', verdana, arial, sans-serif; font-size: 12px; fill: rgb(77, 86, 99); fill-opacity: 1; white-space: pre;\">Top/events/onlinetransformed</text><g class=\"layers\" style=\"opacity: 1;\"><g class=\"legendfill\"/><g class=\"legendlines\"/><g class=\"legendsymbols\"><g class=\"legendpoints\"><path class=\"legendundefined\" d=\"M6,6H-6V-6H6Z\" transform=\"translate(20,0)\" style=\"stroke-width: 1px; fill: rgb(55, 128, 191); fill-opacity: 0.6; stroke: rgb(55, 128, 191); stroke-opacity: 1;\"/></g></g></g><rect class=\"legendtoggle\" pointer-events=\"all\" x=\"0\" y=\"-9.5\" width=\"367.5\" height=\"19\" style=\"cursor: pointer; fill: rgb(0, 0, 0); fill-opacity: 0;\"/></g><g class=\"traces\" transform=\"translate(0, 52.5)\" style=\"opacity: 1;\"><text class=\"legendtext user-select-none\" text-anchor=\"start\" x=\"40\" y=\"4.680000000000001\" style=\"font-family: 'Open Sans', verdana, arial, sans-serif; font-size: 12px; fill: rgb(77, 86, 99); fill-opacity: 1; white-space: pre;\">Top/society</text><g class=\"layers\" style=\"opacity: 1;\"><g class=\"legendfill\"/><g class=\"legendlines\"/><g class=\"legendsymbols\"><g class=\"legendpoints\"><path class=\"legendundefined\" d=\"M6,6H-6V-6H6Z\" transform=\"translate(20,0)\" style=\"stroke-width: 1px; fill: rgb(50, 171, 96); fill-opacity: 0.6; stroke: rgb(50, 171, 96); stroke-opacity: 1;\"/></g></g></g><rect class=\"legendtoggle\" pointer-events=\"all\" x=\"0\" y=\"-9.5\" width=\"367.5\" height=\"19\" style=\"cursor: pointer; fill: rgb(0, 0, 0); fill-opacity: 0;\"/></g><g class=\"traces\" transform=\"translate(0, 71.5)\" style=\"opacity: 1;\"><text class=\"legendtext user-select-none\" text-anchor=\"start\" x=\"40\" y=\"4.680000000000001\" style=\"font-family: 'Open Sans', verdana, arial, sans-serif; font-size: 12px; fill: rgb(77, 86, 99); fill-opacity: 1; white-space: pre;\">Top/society/potentialdeathhisteria</text><g class=\"layers\" style=\"opacity: 1;\"><g class=\"legendfill\"/><g class=\"legendlines\"/><g class=\"legendsymbols\"><g class=\"legendpoints\"><path class=\"legendundefined\" d=\"M6,6H-6V-6H6Z\" transform=\"translate(20,0)\" style=\"stroke-width: 1px; fill: rgb(128, 0, 128); fill-opacity: 0.6; stroke: rgb(128, 0, 128); stroke-opacity: 1;\"/></g></g></g><rect class=\"legendtoggle\" pointer-events=\"all\" x=\"0\" y=\"-9.5\" width=\"367.5\" height=\"19\" style=\"cursor: pointer; fill: rgb(0, 0, 0); fill-opacity: 0;\"/></g><g class=\"traces\" transform=\"translate(0, 90.5)\" style=\"opacity: 1;\"><text class=\"legendtext user-select-none\" text-anchor=\"start\" x=\"40\" y=\"4.680000000000001\" style=\"font-family: 'Open Sans', verdana, arial, sans-serif; font-size: 12px; fill: rgb(77, 86, 99); fill-opacity: 1; white-space: pre;\">Top/science/developingnewdrugs</text><g class=\"layers\" style=\"opacity: 1;\"><g class=\"legendfill\"/><g class=\"legendlines\"/><g class=\"legendsymbols\"><g class=\"legendpoints\"><path class=\"legendundefined\" d=\"M6,6H-6V-6H6Z\" transform=\"translate(20,0)\" style=\"stroke-width: 1px; fill: rgb(219, 64, 82); fill-opacity: 0.6; stroke: rgb(219, 64, 82); stroke-opacity: 1;\"/></g></g></g><rect class=\"legendtoggle\" pointer-events=\"all\" x=\"0\" y=\"-9.5\" width=\"367.5\" height=\"19\" style=\"cursor: pointer; fill: rgb(0, 0, 0); fill-opacity: 0;\"/></g><g class=\"traces\" transform=\"translate(0, 109.5)\" style=\"opacity: 1;\"><text class=\"legendtext user-select-none\" text-anchor=\"start\" x=\"40\" y=\"4.680000000000001\" style=\"font-family: 'Open Sans', verdana, arial, sans-serif; font-size: 12px; fill: rgb(77, 86, 99); fill-opacity: 1; white-space: pre;\">Top/politics/healthcarepolicy/entertaiment</text><g class=\"layers\" style=\"opacity: 1;\"><g class=\"legendfill\"/><g class=\"legendlines\"/><g class=\"legendsymbols\"><g class=\"legendpoints\"><path class=\"legendundefined\" d=\"M6,6H-6V-6H6Z\" transform=\"translate(20,0)\" style=\"stroke-width: 1px; fill: rgb(0, 128, 128); fill-opacity: 0.6; stroke: rgb(0, 128, 128); stroke-opacity: 1;\"/></g></g></g><rect class=\"legendtoggle\" pointer-events=\"all\" x=\"0\" y=\"-9.5\" width=\"367.5\" height=\"19\" style=\"cursor: pointer; fill: rgb(0, 0, 0); fill-opacity: 0;\"/></g><g class=\"traces\" transform=\"translate(0, 128.5)\" style=\"opacity: 1;\"><text class=\"legendtext user-select-none\" text-anchor=\"start\" x=\"40\" y=\"4.680000000000001\" style=\"font-family: 'Open Sans', verdana, arial, sans-serif; font-size: 12px; fill: rgb(77, 86, 99); fill-opacity: 1; white-space: pre;\">Top/economy/coronaimport</text><g class=\"layers\" style=\"opacity: 1;\"><g class=\"legendfill\"/><g class=\"legendlines\"/><g class=\"legendsymbols\"><g class=\"legendpoints\"><path class=\"legendundefined\" d=\"M6,6H-6V-6H6Z\" transform=\"translate(20,0)\" style=\"stroke-width: 1px; fill: rgb(255, 255, 51); fill-opacity: 0.6; stroke: rgb(255, 255, 51); stroke-opacity: 1;\"/></g></g></g><rect class=\"legendtoggle\" pointer-events=\"all\" x=\"0\" y=\"-9.5\" width=\"367.5\" height=\"19\" style=\"cursor: pointer; fill: rgb(0, 0, 0); fill-opacity: 0;\"/></g><g class=\"traces\" transform=\"translate(0, 147.5)\" style=\"opacity: 1;\"><text class=\"legendtext user-select-none\" text-anchor=\"start\" x=\"40\" y=\"4.680000000000001\" style=\"font-family: 'Open Sans', verdana, arial, sans-serif; font-size: 12px; fill: rgb(77, 86, 99); fill-opacity: 1; white-space: pre;\">Top/politics/healthcarepolicy/quarntine_strengthening</text><g class=\"layers\" style=\"opacity: 1;\"><g class=\"legendfill\"/><g class=\"legendlines\"/><g class=\"legendsymbols\"><g class=\"legendpoints\"><path class=\"legendundefined\" d=\"M6,6H-6V-6H6Z\" transform=\"translate(20,0)\" style=\"stroke-width: 1px; fill: rgb(128, 128, 0); fill-opacity: 0.6; stroke: rgb(128, 128, 0); stroke-opacity: 1;\"/></g></g></g><rect class=\"legendtoggle\" pointer-events=\"all\" x=\"0\" y=\"-9.5\" width=\"367.5\" height=\"19\" style=\"cursor: pointer; fill: rgb(0, 0, 0); fill-opacity: 0;\"/></g><g class=\"traces\" transform=\"translate(0, 166.5)\" style=\"opacity: 1;\"><text class=\"legendtext user-select-none\" text-anchor=\"start\" x=\"40\" y=\"4.680000000000001\" style=\"font-family: 'Open Sans', verdana, arial, sans-serif; font-size: 12px; fill: rgb(77, 86, 99); fill-opacity: 1; white-space: pre;\">Top/politics/healthcarepolicy/transport</text><g class=\"layers\" style=\"opacity: 1;\"><g class=\"legendfill\"/><g class=\"legendlines\"/><g class=\"legendsymbols\"><g class=\"legendpoints\"><path class=\"legendundefined\" d=\"M6,6H-6V-6H6Z\" transform=\"translate(20,0)\" style=\"stroke-width: 1px; fill: rgb(251, 128, 114); fill-opacity: 0.6; stroke: rgb(251, 128, 114); stroke-opacity: 1;\"/></g></g></g><rect class=\"legendtoggle\" pointer-events=\"all\" x=\"0\" y=\"-9.5\" width=\"367.5\" height=\"19\" style=\"cursor: pointer; fill: rgb(0, 0, 0); fill-opacity: 0;\"/></g><g class=\"traces\" transform=\"translate(0, 185.5)\" style=\"opacity: 1;\"><text class=\"legendtext user-select-none\" text-anchor=\"start\" x=\"40\" y=\"4.680000000000001\" style=\"font-family: 'Open Sans', verdana, arial, sans-serif; font-size: 12px; fill: rgb(77, 86, 99); fill-opacity: 1; white-space: pre;\">Top/economy</text><g class=\"layers\" style=\"opacity: 1;\"><g class=\"legendfill\"/><g class=\"legendlines\"/><g class=\"legendsymbols\"><g class=\"legendpoints\"><path class=\"legendundefined\" d=\"M6,6H-6V-6H6Z\" transform=\"translate(20,0)\" style=\"stroke-width: 1px; fill: rgb(128, 177, 211); fill-opacity: 0.6; stroke: rgb(128, 177, 211); stroke-opacity: 1;\"/></g></g></g><rect class=\"legendtoggle\" pointer-events=\"all\" x=\"0\" y=\"-9.5\" width=\"367.5\" height=\"19\" style=\"cursor: pointer; fill: rgb(0, 0, 0); fill-opacity: 0;\"/></g><g class=\"traces\" transform=\"translate(0, 204.5)\" style=\"opacity: 1;\"><text class=\"legendtext user-select-none\" text-anchor=\"start\" x=\"40\" y=\"4.680000000000001\" style=\"font-family: 'Open Sans', verdana, arial, sans-serif; font-size: 12px; fill: rgb(77, 86, 99); fill-opacity: 1; white-space: pre;\">Top/society/death</text><g class=\"layers\" style=\"opacity: 1;\"><g class=\"legendfill\"/><g class=\"legendlines\"/><g class=\"legendsymbols\"><g class=\"legendpoints\"><path class=\"legendundefined\" d=\"M6,6H-6V-6H6Z\" transform=\"translate(20,0)\" style=\"stroke-width: 1px; fill: rgb(128, 177, 211); fill-opacity: 0.6; stroke: rgb(128, 177, 211); stroke-opacity: 0.9;\"/></g></g></g><rect class=\"legendtoggle\" pointer-events=\"all\" x=\"0\" y=\"-9.5\" width=\"367.5\" height=\"19\" style=\"cursor: pointer; fill: rgb(0, 0, 0); fill-opacity: 0;\"/></g><g class=\"traces\" transform=\"translate(0, 223.5)\" style=\"opacity: 1;\"><text class=\"legendtext user-select-none\" text-anchor=\"start\" x=\"40\" y=\"4.680000000000001\" style=\"font-family: 'Open Sans', verdana, arial, sans-serif; font-size: 12px; fill: rgb(77, 86, 99); fill-opacity: 1; white-space: pre;\">Top/health/dissemination</text><g class=\"layers\" style=\"opacity: 1;\"><g class=\"legendfill\"/><g class=\"legendlines\"/><g class=\"legendsymbols\"><g class=\"legendpoints\"><path class=\"legendundefined\" d=\"M6,6H-6V-6H6Z\" transform=\"translate(20,0)\" style=\"stroke-width: 1px; fill: rgb(255, 153, 51); fill-opacity: 0.6; stroke: rgb(255, 153, 51); stroke-opacity: 0.9;\"/></g></g></g><rect class=\"legendtoggle\" pointer-events=\"all\" x=\"0\" y=\"-9.5\" width=\"367.5\" height=\"19\" style=\"cursor: pointer; fill: rgb(0, 0, 0); fill-opacity: 0;\"/></g><g class=\"traces\" transform=\"translate(0, 242.5)\" style=\"opacity: 1;\"><text class=\"legendtext user-select-none\" text-anchor=\"start\" x=\"40\" y=\"4.680000000000001\" style=\"font-family: 'Open Sans', verdana, arial, sans-serif; font-size: 12px; fill: rgb(77, 86, 99); fill-opacity: 1; white-space: pre;\">Top/technologies</text><g class=\"layers\" style=\"opacity: 1;\"><g class=\"legendfill\"/><g class=\"legendlines\"/><g class=\"legendsymbols\"><g class=\"legendpoints\"><path class=\"legendundefined\" d=\"M6,6H-6V-6H6Z\" transform=\"translate(20,0)\" style=\"stroke-width: 1px; fill: rgb(55, 128, 191); fill-opacity: 0.6; stroke: rgb(55, 128, 191); stroke-opacity: 0.9;\"/></g></g></g><rect class=\"legendtoggle\" pointer-events=\"all\" x=\"0\" y=\"-9.5\" width=\"367.5\" height=\"19\" style=\"cursor: pointer; fill: rgb(0, 0, 0); fill-opacity: 0;\"/></g><g class=\"traces\" transform=\"translate(0, 261.5)\" style=\"opacity: 1;\"><text class=\"legendtext user-select-none\" text-anchor=\"start\" x=\"40\" y=\"4.680000000000001\" style=\"font-family: 'Open Sans', verdana, arial, sans-serif; font-size: 12px; fill: rgb(77, 86, 99); fill-opacity: 1; white-space: pre;\">Top/events</text><g class=\"layers\" style=\"opacity: 1;\"><g class=\"legendfill\"/><g class=\"legendlines\"/><g class=\"legendsymbols\"><g class=\"legendpoints\"><path class=\"legendundefined\" d=\"M6,6H-6V-6H6Z\" transform=\"translate(20,0)\" style=\"stroke-width: 1px; fill: rgb(50, 171, 96); fill-opacity: 0.6; stroke: rgb(50, 171, 96); stroke-opacity: 0.9;\"/></g></g></g><rect class=\"legendtoggle\" pointer-events=\"all\" x=\"0\" y=\"-9.5\" width=\"367.5\" height=\"19\" style=\"cursor: pointer; fill: rgb(0, 0, 0); fill-opacity: 0;\"/></g><g class=\"traces\" transform=\"translate(0, 280.5)\" style=\"opacity: 1;\"><text class=\"legendtext user-select-none\" text-anchor=\"start\" x=\"40\" y=\"4.680000000000001\" style=\"font-family: 'Open Sans', verdana, arial, sans-serif; font-size: 12px; fill: rgb(77, 86, 99); fill-opacity: 1; white-space: pre;\">Top/politics/criminal</text><g class=\"layers\" style=\"opacity: 1;\"><g class=\"legendfill\"/><g class=\"legendlines\"/><g class=\"legendsymbols\"><g class=\"legendpoints\"><path class=\"legendundefined\" d=\"M6,6H-6V-6H6Z\" transform=\"translate(20,0)\" style=\"stroke-width: 1px; fill: rgb(128, 0, 128); fill-opacity: 0.6; stroke: rgb(128, 0, 128); stroke-opacity: 0.9;\"/></g></g></g><rect class=\"legendtoggle\" pointer-events=\"all\" x=\"0\" y=\"-9.5\" width=\"367.5\" height=\"19\" style=\"cursor: pointer; fill: rgb(0, 0, 0); fill-opacity: 0;\"/></g><g class=\"traces\" transform=\"translate(0, 299.5)\" style=\"opacity: 1;\"><text class=\"legendtext user-select-none\" text-anchor=\"start\" x=\"40\" y=\"4.680000000000001\" style=\"font-family: 'Open Sans', verdana, arial, sans-serif; font-size: 12px; fill: rgb(77, 86, 99); fill-opacity: 1; white-space: pre;\">Top/politics/healthcarepolicy/safetysteps</text><g class=\"layers\" style=\"opacity: 1;\"><g class=\"legendfill\"/><g class=\"legendlines\"/><g class=\"legendsymbols\"><g class=\"legendpoints\"><path class=\"legendundefined\" d=\"M6,6H-6V-6H6Z\" transform=\"translate(20,0)\" style=\"stroke-width: 1px; fill: rgb(219, 64, 82); fill-opacity: 0.6; stroke: rgb(219, 64, 82); stroke-opacity: 0.9;\"/></g></g></g><rect class=\"legendtoggle\" pointer-events=\"all\" x=\"0\" y=\"-9.5\" width=\"367.5\" height=\"19\" style=\"cursor: pointer; fill: rgb(0, 0, 0); fill-opacity: 0;\"/></g><g class=\"traces\" transform=\"translate(0, 318.5)\" style=\"opacity: 1;\"><text class=\"legendtext user-select-none\" text-anchor=\"start\" x=\"40\" y=\"4.680000000000001\" style=\"font-family: 'Open Sans', verdana, arial, sans-serif; font-size: 12px; fill: rgb(77, 86, 99); fill-opacity: 1; white-space: pre;\">Top/politics/healthcarepolicy</text><g class=\"layers\" style=\"opacity: 1;\"><g class=\"legendfill\"/><g class=\"legendlines\"/><g class=\"legendsymbols\"><g class=\"legendpoints\"><path class=\"legendundefined\" d=\"M6,6H-6V-6H6Z\" transform=\"translate(20,0)\" style=\"stroke-width: 1px; fill: rgb(0, 128, 128); fill-opacity: 0.6; stroke: rgb(0, 128, 128); stroke-opacity: 0.9;\"/></g></g></g><rect class=\"legendtoggle\" pointer-events=\"all\" x=\"0\" y=\"-9.5\" width=\"367.5\" height=\"19\" style=\"cursor: pointer; fill: rgb(0, 0, 0); fill-opacity: 0;\"/></g><g class=\"traces\" transform=\"translate(0, 337.5)\" style=\"opacity: 1;\"><text class=\"legendtext user-select-none\" text-anchor=\"start\" x=\"40\" y=\"4.680000000000001\" style=\"font-family: 'Open Sans', verdana, arial, sans-serif; font-size: 12px; fill: rgb(77, 86, 99); fill-opacity: 1; white-space: pre;\">Top/health/illness</text><g class=\"layers\" style=\"opacity: 1;\"><g class=\"legendfill\"/><g class=\"legendlines\"/><g class=\"legendsymbols\"><g class=\"legendpoints\"><path class=\"legendundefined\" d=\"M6,6H-6V-6H6Z\" transform=\"translate(20,0)\" style=\"stroke-width: 1px; fill: rgb(255, 255, 51); fill-opacity: 0.6; stroke: rgb(255, 255, 51); stroke-opacity: 0.9;\"/></g></g></g><rect class=\"legendtoggle\" pointer-events=\"all\" x=\"0\" y=\"-9.5\" width=\"367.5\" height=\"19\" style=\"cursor: pointer; fill: rgb(0, 0, 0); fill-opacity: 0;\"/></g><g class=\"traces\" transform=\"translate(0, 356.5)\" style=\"opacity: 1;\"><text class=\"legendtext user-select-none\" text-anchor=\"start\" x=\"40\" y=\"4.680000000000001\" style=\"font-family: 'Open Sans', verdana, arial, sans-serif; font-size: 12px; fill: rgb(77, 86, 99); fill-opacity: 1; white-space: pre;\">Top/coronavirus</text><g class=\"layers\" style=\"opacity: 1;\"><g class=\"legendfill\"/><g class=\"legendlines\"/><g class=\"legendsymbols\"><g class=\"legendpoints\"><path class=\"legendundefined\" d=\"M6,6H-6V-6H6Z\" transform=\"translate(20,0)\" style=\"stroke-width: 1px; fill: rgb(128, 128, 0); fill-opacity: 0.6; stroke: rgb(128, 128, 0); stroke-opacity: 0.9;\"/></g></g></g><rect class=\"legendtoggle\" pointer-events=\"all\" x=\"0\" y=\"-9.5\" width=\"367.5\" height=\"19\" style=\"cursor: pointer; fill: rgb(0, 0, 0); fill-opacity: 0;\"/></g><g class=\"traces\" transform=\"translate(0, 375.5)\" style=\"opacity: 1;\"><text class=\"legendtext user-select-none\" text-anchor=\"start\" x=\"40\" y=\"4.680000000000001\" style=\"font-family: 'Open Sans', verdana, arial, sans-serif; font-size: 12px; fill: rgb(77, 86, 99); fill-opacity: 1; white-space: pre;\">Top/technologies/developingofequipment</text><g class=\"layers\" style=\"opacity: 1;\"><g class=\"legendfill\"/><g class=\"legendlines\"/><g class=\"legendsymbols\"><g class=\"legendpoints\"><path class=\"legendundefined\" d=\"M6,6H-6V-6H6Z\" transform=\"translate(20,0)\" style=\"stroke-width: 1px; fill: rgb(251, 128, 114); fill-opacity: 0.6; stroke: rgb(251, 128, 114); stroke-opacity: 0.9;\"/></g></g></g><rect class=\"legendtoggle\" pointer-events=\"all\" x=\"0\" y=\"-9.5\" width=\"367.5\" height=\"19\" style=\"cursor: pointer; fill: rgb(0, 0, 0); fill-opacity: 0;\"/></g><g class=\"traces\" transform=\"translate(0, 394.5)\" style=\"opacity: 1;\"><text class=\"legendtext user-select-none\" text-anchor=\"start\" x=\"40\" y=\"4.680000000000001\" style=\"font-family: 'Open Sans', verdana, arial, sans-serif; font-size: 12px; fill: rgb(77, 86, 99); fill-opacity: 1; white-space: pre;\">Top/economy/coronabusiness</text><g class=\"layers\" style=\"opacity: 1;\"><g class=\"legendfill\"/><g class=\"legendlines\"/><g class=\"legendsymbols\"><g class=\"legendpoints\"><path class=\"legendundefined\" d=\"M6,6H-6V-6H6Z\" transform=\"translate(20,0)\" style=\"stroke-width: 1px; fill: rgb(251, 128, 114); fill-opacity: 0.6; stroke: rgb(251, 128, 114); stroke-opacity: 0.8;\"/></g></g></g><rect class=\"legendtoggle\" pointer-events=\"all\" x=\"0\" y=\"-9.5\" width=\"367.5\" height=\"19\" style=\"cursor: pointer; fill: rgb(0, 0, 0); fill-opacity: 0;\"/></g><g class=\"traces\" transform=\"translate(0, 413.5)\" style=\"opacity: 1;\"><text class=\"legendtext user-select-none\" text-anchor=\"start\" x=\"40\" y=\"4.680000000000001\" style=\"font-family: 'Open Sans', verdana, arial, sans-serif; font-size: 12px; fill: rgb(77, 86, 99); fill-opacity: 1; white-space: pre;\">Top/society/potentialdeath</text><g class=\"layers\" style=\"opacity: 1;\"><g class=\"legendfill\"/><g class=\"legendlines\"/><g class=\"legendsymbols\"><g class=\"legendpoints\"><path class=\"legendundefined\" d=\"M6,6H-6V-6H6Z\" transform=\"translate(20,0)\" style=\"stroke-width: 1px; fill: rgb(128, 177, 211); fill-opacity: 0.6; stroke: rgb(128, 177, 211); stroke-opacity: 0.8;\"/></g></g></g><rect class=\"legendtoggle\" pointer-events=\"all\" x=\"0\" y=\"-9.5\" width=\"367.5\" height=\"19\" style=\"cursor: pointer; fill: rgb(0, 0, 0); fill-opacity: 0;\"/></g><g class=\"traces\" transform=\"translate(0, 432.5)\" style=\"opacity: 1;\"><text class=\"legendtext user-select-none\" text-anchor=\"start\" x=\"40\" y=\"4.680000000000001\" style=\"font-family: 'Open Sans', verdana, arial, sans-serif; font-size: 12px; fill: rgb(77, 86, 99); fill-opacity: 1; white-space: pre;\">Top/science/developingvaccine</text><g class=\"layers\" style=\"opacity: 1;\"><g class=\"legendfill\"/><g class=\"legendlines\"/><g class=\"legendsymbols\"><g class=\"legendpoints\"><path class=\"legendundefined\" d=\"M6,6H-6V-6H6Z\" transform=\"translate(20,0)\" style=\"stroke-width: 1px; fill: rgb(255, 153, 51); fill-opacity: 0.6; stroke: rgb(255, 153, 51); stroke-opacity: 0.8;\"/></g></g></g><rect class=\"legendtoggle\" pointer-events=\"all\" x=\"0\" y=\"-9.5\" width=\"367.5\" height=\"19\" style=\"cursor: pointer; fill: rgb(0, 0, 0); fill-opacity: 0;\"/></g><g class=\"traces\" transform=\"translate(0, 451.5)\" style=\"opacity: 1;\"><text class=\"legendtext user-select-none\" text-anchor=\"start\" x=\"40\" y=\"4.680000000000001\" style=\"font-family: 'Open Sans', verdana, arial, sans-serif; font-size: 12px; fill: rgb(77, 86, 99); fill-opacity: 1; white-space: pre;\">Top/health</text><g class=\"layers\" style=\"opacity: 1;\"><g class=\"legendfill\"/><g class=\"legendlines\"/><g class=\"legendsymbols\"><g class=\"legendpoints\"><path class=\"legendundefined\" d=\"M6,6H-6V-6H6Z\" transform=\"translate(20,0)\" style=\"stroke-width: 1px; fill: rgb(55, 128, 191); fill-opacity: 0.6; stroke: rgb(55, 128, 191); stroke-opacity: 0.8;\"/></g></g></g><rect class=\"legendtoggle\" pointer-events=\"all\" x=\"0\" y=\"-9.5\" width=\"367.5\" height=\"19\" style=\"cursor: pointer; fill: rgb(0, 0, 0); fill-opacity: 0;\"/></g><g class=\"traces\" transform=\"translate(0, 470.5)\" style=\"opacity: 1;\"><text class=\"legendtext user-select-none\" text-anchor=\"start\" x=\"40\" y=\"4.680000000000001\" style=\"font-family: 'Open Sans', verdana, arial, sans-serif; font-size: 12px; fill: rgb(77, 86, 99); fill-opacity: 1; white-space: pre;\">Top/economy/crisis</text><g class=\"layers\" style=\"opacity: 1;\"><g class=\"legendfill\"/><g class=\"legendlines\"/><g class=\"legendsymbols\"><g class=\"legendpoints\"><path class=\"legendundefined\" d=\"M6,6H-6V-6H6Z\" transform=\"translate(20,0)\" style=\"stroke-width: 1px; fill: rgb(50, 171, 96); fill-opacity: 0.6; stroke: rgb(50, 171, 96); stroke-opacity: 0.8;\"/></g></g></g><rect class=\"legendtoggle\" pointer-events=\"all\" x=\"0\" y=\"-9.5\" width=\"367.5\" height=\"19\" style=\"cursor: pointer; fill: rgb(0, 0, 0); fill-opacity: 0;\"/></g><g class=\"traces\" transform=\"translate(0, 489.5)\" style=\"opacity: 1;\"><text class=\"legendtext user-select-none\" text-anchor=\"start\" x=\"40\" y=\"4.680000000000001\" style=\"font-family: 'Open Sans', verdana, arial, sans-serif; font-size: 12px; fill: rgb(77, 86, 99); fill-opacity: 1; white-space: pre;\">Top/economy/coronajobloss</text><g class=\"layers\" style=\"opacity: 1;\"><g class=\"legendfill\"/><g class=\"legendlines\"/><g class=\"legendsymbols\"><g class=\"legendpoints\"><path class=\"legendundefined\" d=\"M6,6H-6V-6H6Z\" transform=\"translate(20,0)\" style=\"stroke-width: 1px; fill: rgb(128, 0, 128); fill-opacity: 0.6; stroke: rgb(128, 0, 128); stroke-opacity: 0.8;\"/></g></g></g><rect class=\"legendtoggle\" pointer-events=\"all\" x=\"0\" y=\"-9.5\" width=\"367.5\" height=\"19\" style=\"cursor: pointer; fill: rgb(0, 0, 0); fill-opacity: 0;\"/></g><g class=\"traces\" transform=\"translate(0, 508.5)\" style=\"opacity: 1;\"><text class=\"legendtext user-select-none\" text-anchor=\"start\" x=\"40\" y=\"4.680000000000001\" style=\"font-family: 'Open Sans', verdana, arial, sans-serif; font-size: 12px; fill: rgb(77, 86, 99); fill-opacity: 1; white-space: pre;\">Top/politics/healthcarepolicy/education</text><g class=\"layers\" style=\"opacity: 1;\"><g class=\"legendfill\"/><g class=\"legendlines\"/><g class=\"legendsymbols\"><g class=\"legendpoints\"><path class=\"legendundefined\" d=\"M6,6H-6V-6H6Z\" transform=\"translate(20,0)\" style=\"stroke-width: 1px; fill: rgb(219, 64, 82); fill-opacity: 0.6; stroke: rgb(219, 64, 82); stroke-opacity: 0.8;\"/></g></g></g><rect class=\"legendtoggle\" pointer-events=\"all\" x=\"0\" y=\"-9.5\" width=\"367.5\" height=\"19\" style=\"cursor: pointer; fill: rgb(0, 0, 0); fill-opacity: 0;\"/></g><g class=\"traces\" transform=\"translate(0, 527.5)\" style=\"opacity: 1;\"><text class=\"legendtext user-select-none\" text-anchor=\"start\" x=\"40\" y=\"4.680000000000001\" style=\"font-family: 'Open Sans', verdana, arial, sans-serif; font-size: 12px; fill: rgb(77, 86, 99); fill-opacity: 1; white-space: pre;\">Top/health/recover</text><g class=\"layers\" style=\"opacity: 1;\"><g class=\"legendfill\"/><g class=\"legendlines\"/><g class=\"legendsymbols\"><g class=\"legendpoints\"><path class=\"legendundefined\" d=\"M6,6H-6V-6H6Z\" transform=\"translate(20,0)\" style=\"stroke-width: 1px; fill: rgb(0, 128, 128); fill-opacity: 0.6; stroke: rgb(0, 128, 128); stroke-opacity: 0.8;\"/></g></g></g><rect class=\"legendtoggle\" pointer-events=\"all\" x=\"0\" y=\"-9.5\" width=\"367.5\" height=\"19\" style=\"cursor: pointer; fill: rgb(0, 0, 0); fill-opacity: 0;\"/></g><g class=\"traces\" transform=\"translate(0, 546.5)\" style=\"opacity: 1;\"><text class=\"legendtext user-select-none\" text-anchor=\"start\" x=\"40\" y=\"4.680000000000001\" style=\"font-family: 'Open Sans', verdana, arial, sans-serif; font-size: 12px; fill: rgb(77, 86, 99); fill-opacity: 1; white-space: pre;\">Top/science</text><g class=\"layers\" style=\"opacity: 1;\"><g class=\"legendfill\"/><g class=\"legendlines\"/><g class=\"legendsymbols\"><g class=\"legendpoints\"><path class=\"legendundefined\" d=\"M6,6H-6V-6H6Z\" transform=\"translate(20,0)\" style=\"stroke-width: 1px; fill: rgb(255, 255, 51); fill-opacity: 0.6; stroke: rgb(255, 255, 51); stroke-opacity: 0.8;\"/></g></g></g><rect class=\"legendtoggle\" pointer-events=\"all\" x=\"0\" y=\"-9.5\" width=\"367.5\" height=\"19\" style=\"cursor: pointer; fill: rgb(0, 0, 0); fill-opacity: 0;\"/></g><g class=\"traces\" transform=\"translate(0, 565.5)\" style=\"opacity: 1;\"><text class=\"legendtext user-select-none\" text-anchor=\"start\" x=\"40\" y=\"4.680000000000001\" style=\"font-family: 'Open Sans', verdana, arial, sans-serif; font-size: 12px; fill: rgb(77, 86, 99); fill-opacity: 1; white-space: pre;\">Top/science/existeddrugs</text><g class=\"layers\" style=\"opacity: 1;\"><g class=\"legendfill\"/><g class=\"legendlines\"/><g class=\"legendsymbols\"><g class=\"legendpoints\"><path class=\"legendundefined\" d=\"M6,6H-6V-6H6Z\" transform=\"translate(20,0)\" style=\"stroke-width: 1px; fill: rgb(128, 128, 0); fill-opacity: 0.6; stroke: rgb(128, 128, 0); stroke-opacity: 0.8;\"/></g></g></g><rect class=\"legendtoggle\" pointer-events=\"all\" x=\"0\" y=\"-9.5\" width=\"367.5\" height=\"19\" style=\"cursor: pointer; fill: rgb(0, 0, 0); fill-opacity: 0;\"/></g><g class=\"traces\" transform=\"translate(0, 584.5)\" style=\"opacity: 1;\"><text class=\"legendtext user-select-none\" text-anchor=\"start\" x=\"40\" y=\"4.680000000000001\" style=\"font-family: 'Open Sans', verdana, arial, sans-serif; font-size: 12px; fill: rgb(77, 86, 99); fill-opacity: 1; white-space: pre;\">Top/economy/coronacrisis</text><g class=\"layers\" style=\"opacity: 1;\"><g class=\"legendfill\"/><g class=\"legendlines\"/><g class=\"legendsymbols\"><g class=\"legendpoints\"><path class=\"legendundefined\" d=\"M6,6H-6V-6H6Z\" transform=\"translate(20,0)\" style=\"stroke-width: 1px; fill: rgb(128, 128, 0); fill-opacity: 0.6; stroke: rgb(128, 128, 0); stroke-opacity: 0.7;\"/></g></g></g><rect class=\"legendtoggle\" pointer-events=\"all\" x=\"0\" y=\"-9.5\" width=\"367.5\" height=\"19\" style=\"cursor: pointer; fill: rgb(0, 0, 0); fill-opacity: 0;\"/></g><g class=\"traces\" transform=\"translate(0, 603.5)\" style=\"opacity: 1;\"><text class=\"legendtext user-select-none\" text-anchor=\"start\" x=\"40\" y=\"4.680000000000001\" style=\"font-family: 'Open Sans', verdana, arial, sans-serif; font-size: 12px; fill: rgb(77, 86, 99); fill-opacity: 1; white-space: pre;\">Top/society/familytroubles</text><g class=\"layers\" style=\"opacity: 1;\"><g class=\"legendfill\"/><g class=\"legendlines\"/><g class=\"legendsymbols\"><g class=\"legendpoints\"><path class=\"legendundefined\" d=\"M6,6H-6V-6H6Z\" transform=\"translate(20,0)\" style=\"stroke-width: 1px; fill: rgb(251, 128, 114); fill-opacity: 0.6; stroke: rgb(251, 128, 114); stroke-opacity: 0.7;\"/></g></g></g><rect class=\"legendtoggle\" pointer-events=\"all\" x=\"0\" y=\"-9.5\" width=\"367.5\" height=\"19\" style=\"cursor: pointer; fill: rgb(0, 0, 0); fill-opacity: 0;\"/></g><g class=\"traces\" transform=\"translate(0, 622.5)\" style=\"opacity: 1;\"><text class=\"legendtext user-select-none\" text-anchor=\"start\" x=\"40\" y=\"4.680000000000001\" style=\"font-family: 'Open Sans', verdana, arial, sans-serif; font-size: 12px; fill: rgb(77, 86, 99); fill-opacity: 1; white-space: pre;\">Top/politics</text><g class=\"layers\" style=\"opacity: 1;\"><g class=\"legendfill\"/><g class=\"legendlines\"/><g class=\"legendsymbols\"><g class=\"legendpoints\"><path class=\"legendundefined\" d=\"M6,6H-6V-6H6Z\" transform=\"translate(20,0)\" style=\"stroke-width: 1px; fill: rgb(128, 177, 211); fill-opacity: 0.6; stroke: rgb(128, 177, 211); stroke-opacity: 0.7;\"/></g></g></g><rect class=\"legendtoggle\" pointer-events=\"all\" x=\"0\" y=\"-9.5\" width=\"367.5\" height=\"19\" style=\"cursor: pointer; fill: rgb(0, 0, 0); fill-opacity: 0;\"/></g><g class=\"traces\" transform=\"translate(0, 641.5)\" style=\"opacity: 1;\"><text class=\"legendtext user-select-none\" text-anchor=\"start\" x=\"40\" y=\"4.680000000000001\" style=\"font-family: 'Open Sans', verdana, arial, sans-serif; font-size: 12px; fill: rgb(77, 86, 99); fill-opacity: 1; white-space: pre;\">Top/events/coronacanceledevents</text><g class=\"layers\" style=\"opacity: 1;\"><g class=\"legendfill\"/><g class=\"legendlines\"/><g class=\"legendsymbols\"><g class=\"legendpoints\"><path class=\"legendundefined\" d=\"M6,6H-6V-6H6Z\" transform=\"translate(20,0)\" style=\"stroke-width: 1px; fill: rgb(255, 153, 51); fill-opacity: 0.6; stroke: rgb(255, 153, 51); stroke-opacity: 0.7;\"/></g></g></g><rect class=\"legendtoggle\" pointer-events=\"all\" x=\"0\" y=\"-9.5\" width=\"367.5\" height=\"19\" style=\"cursor: pointer; fill: rgb(0, 0, 0); fill-opacity: 0;\"/></g></g></g><rect class=\"scrollbar\" rx=\"20\" ry=\"3\" width=\"0\" height=\"0\" x=\"0\" y=\"0\" style=\"fill: rgb(128, 139, 164); fill-opacity: 1;\"/></g><g class=\"g-gtitle\"><text class=\"gtitle\" x=\"35\" y=\"50\" text-anchor=\"start\" dy=\"0em\" style=\"font-family: 'Open Sans', verdana, arial, sans-serif; font-size: 17px; fill: rgb(77, 86, 99); opacity: 1; font-weight: normal; white-space: pre;\">Coronovirus</text></g><g class=\"g-xtitle\"><text class=\"xtitle\" x=\"350\" y=\"410.8\" text-anchor=\"middle\" style=\"font-family: 'Open Sans', verdana, arial, sans-serif; font-size: 14px; fill: rgb(77, 86, 99); opacity: 1; font-weight: normal; white-space: pre;\">period</text></g><g class=\"g-ytitle\"><text class=\"ytitle\" transform=\"rotate(-90,31.309375000000003,235)\" x=\"31.309375000000003\" y=\"235\" text-anchor=\"middle\" style=\"font-family: 'Open Sans', verdana, arial, sans-serif; font-size: 14px; fill: rgb(77, 86, 99); opacity: 1; font-weight: normal; white-space: pre;\">count</text></g></g></svg>"
      ]
     },
     "metadata": {},
     "output_type": "display_data"
    }
   ],
   "source": [
    "res_without_dates.figure(kind='bar', histnorm='percent',\n",
    "    barmode='overlay', xTitle='period',\n",
    "                  yTitle='count', title='Coronovirus').show(\"svg\")"
   ]
  },
  {
   "cell_type": "code",
   "execution_count": null,
   "metadata": {
    "scrolled": false
   },
   "outputs": [],
   "source": []
  },
  {
   "cell_type": "code",
   "execution_count": 17,
   "metadata": {},
   "outputs": [
    {
     "data": {
      "image/svg+xml": [
       "<svg class=\"main-svg\" xmlns=\"http://www.w3.org/2000/svg\" xmlns:xlink=\"http://www.w3.org/1999/xlink\" width=\"700\" height=\"450\" style=\"\" viewBox=\"0 0 700 450\"><rect x=\"0\" y=\"0\" width=\"700\" height=\"450\" style=\"fill: rgb(245, 246, 249); fill-opacity: 1;\"/><defs id=\"defs-c6ca85\"><g class=\"clips\"><clipPath id=\"clipc6ca85xyplot\" class=\"plotclip\"><rect width=\"438\" height=\"270\"/></clipPath><clipPath class=\"axesclip\" id=\"clipc6ca85x\"><rect x=\"80\" y=\"0\" width=\"438\" height=\"450\"/></clipPath><clipPath class=\"axesclip\" id=\"clipc6ca85y\"><rect x=\"0\" y=\"100\" width=\"700\" height=\"270\"/></clipPath><clipPath class=\"axesclip\" id=\"clipc6ca85xy\"><rect x=\"80\" y=\"100\" width=\"438\" height=\"270\"/></clipPath></g><g class=\"gradients\"/></defs><g class=\"bglayer\"/><g class=\"layer-below\"><g class=\"imagelayer\"/><g class=\"shapelayer\"/></g><g class=\"cartesianlayer\"><g class=\"subplot xy\"><g class=\"layer-subplot\"><g class=\"shapelayer\"/><g class=\"imagelayer\"/></g><g class=\"gridlayer\"><g class=\"x\"><path class=\"xgrid crisp\" transform=\"translate(179.55,0)\" d=\"M0,100v270\" style=\"stroke: rgb(225, 229, 237); stroke-opacity: 1; stroke-width: 1px;\"/><path class=\"xgrid crisp\" transform=\"translate(259.18,0)\" d=\"M0,100v270\" style=\"stroke: rgb(225, 229, 237); stroke-opacity: 1; stroke-width: 1px;\"/><path class=\"xgrid crisp\" transform=\"translate(338.82,0)\" d=\"M0,100v270\" style=\"stroke: rgb(225, 229, 237); stroke-opacity: 1; stroke-width: 1px;\"/><path class=\"xgrid crisp\" transform=\"translate(418.45,0)\" d=\"M0,100v270\" style=\"stroke: rgb(225, 229, 237); stroke-opacity: 1; stroke-width: 1px;\"/><path class=\"xgrid crisp\" transform=\"translate(498.09,0)\" d=\"M0,100v270\" style=\"stroke: rgb(225, 229, 237); stroke-opacity: 1; stroke-width: 1px;\"/></g><g class=\"y\"><path class=\"ygrid crisp\" transform=\"translate(0,320.66999999999996)\" d=\"M80,0h438\" style=\"stroke: rgb(225, 229, 237); stroke-opacity: 1; stroke-width: 1px;\"/><path class=\"ygrid crisp\" transform=\"translate(0,271.35)\" d=\"M80,0h438\" style=\"stroke: rgb(225, 229, 237); stroke-opacity: 1; stroke-width: 1px;\"/><path class=\"ygrid crisp\" transform=\"translate(0,222.01999999999998)\" d=\"M80,0h438\" style=\"stroke: rgb(225, 229, 237); stroke-opacity: 1; stroke-width: 1px;\"/><path class=\"ygrid crisp\" transform=\"translate(0,172.69)\" d=\"M80,0h438\" style=\"stroke: rgb(225, 229, 237); stroke-opacity: 1; stroke-width: 1px;\"/><path class=\"ygrid crisp\" transform=\"translate(0,123.37)\" d=\"M80,0h438\" style=\"stroke: rgb(225, 229, 237); stroke-opacity: 1; stroke-width: 1px;\"/></g></g><g class=\"zerolinelayer\"><path class=\"xzl zl crisp\" transform=\"translate(99.91,0)\" d=\"M0,100v270\" style=\"stroke: rgb(225, 229, 237); stroke-opacity: 1; stroke-width: 2px;\"/><path class=\"yzl zl crisp\" transform=\"translate(0,370)\" d=\"M80,0h438\" style=\"stroke: rgb(225, 229, 237); stroke-opacity: 1; stroke-width: 2px;\"/></g><path class=\"xlines-below\"/><path class=\"ylines-below\"/><g class=\"overlines-below\"/><g class=\"xaxislayer-below\"/><g class=\"yaxislayer-below\"/><g class=\"overaxes-below\"/><g class=\"plot\" transform=\"translate(80, 100)\" clip-path=\"url('#clipc6ca85xyplot')\"><g class=\"barlayer mlayer\"><g class=\"trace bars\" style=\"opacity: 1;\"><g class=\"points\"><g class=\"point\"><path d=\"M3.98,270V270H19.91V270Z\" style=\"vector-effect: non-scaling-stroke; opacity: 1; stroke-width: 1px; fill: rgb(255, 153, 51); fill-opacity: 0.6; stroke: rgb(255, 153, 51); stroke-opacity: 1;\"/></g><g class=\"point\"><path d=\"M43.8,270V265.07H59.73V270Z\" style=\"vector-effect: non-scaling-stroke; opacity: 1; stroke-width: 1px; fill: rgb(255, 153, 51); fill-opacity: 0.6; stroke: rgb(255, 153, 51); stroke-opacity: 1;\"/></g><g class=\"point\"><path d=\"M83.62,270V250.27H99.55V270Z\" style=\"vector-effect: non-scaling-stroke; opacity: 1; stroke-width: 1px; fill: rgb(255, 153, 51); fill-opacity: 0.6; stroke: rgb(255, 153, 51); stroke-opacity: 1;\"/></g><g class=\"point\"><path d=\"M123.44,270V181.21H139.36V270Z\" style=\"vector-effect: non-scaling-stroke; opacity: 1; stroke-width: 1px; fill: rgb(255, 153, 51); fill-opacity: 0.6; stroke: rgb(255, 153, 51); stroke-opacity: 1;\"/></g><g class=\"point\"><path d=\"M163.25,270V92.42H179.18V270Z\" style=\"vector-effect: non-scaling-stroke; opacity: 1; stroke-width: 1px; fill: rgb(255, 153, 51); fill-opacity: 0.6; stroke: rgb(255, 153, 51); stroke-opacity: 1;\"/></g><g class=\"point\"><path d=\"M203.07,270V92.42H219V270Z\" style=\"vector-effect: non-scaling-stroke; opacity: 1; stroke-width: 1px; fill: rgb(255, 153, 51); fill-opacity: 0.6; stroke: rgb(255, 153, 51); stroke-opacity: 1;\"/></g><g class=\"point\"><path d=\"M242.89,270V166.41H258.82V270Z\" style=\"vector-effect: non-scaling-stroke; opacity: 1; stroke-width: 1px; fill: rgb(255, 153, 51); fill-opacity: 0.6; stroke: rgb(255, 153, 51); stroke-opacity: 1;\"/></g><g class=\"point\"><path d=\"M282.71,270V166.41H298.64V270Z\" style=\"vector-effect: non-scaling-stroke; opacity: 1; stroke-width: 1px; fill: rgb(255, 153, 51); fill-opacity: 0.6; stroke: rgb(255, 153, 51); stroke-opacity: 1;\"/></g><g class=\"point\"><path d=\"M322.53,270V131.88H338.45V270Z\" style=\"vector-effect: non-scaling-stroke; opacity: 1; stroke-width: 1px; fill: rgb(255, 153, 51); fill-opacity: 0.6; stroke: rgb(255, 153, 51); stroke-opacity: 1;\"/></g><g class=\"point\"><path d=\"M362.35,270V136.82H378.27V270Z\" style=\"vector-effect: non-scaling-stroke; opacity: 1; stroke-width: 1px; fill: rgb(255, 153, 51); fill-opacity: 0.6; stroke: rgb(255, 153, 51); stroke-opacity: 1;\"/></g><g class=\"point\"><path d=\"M402.16,270V112.15H418.09V270Z\" style=\"vector-effect: non-scaling-stroke; opacity: 1; stroke-width: 1px; fill: rgb(255, 153, 51); fill-opacity: 0.6; stroke: rgb(255, 153, 51); stroke-opacity: 1;\"/></g></g></g><g class=\"trace bars\" style=\"opacity: 1;\"><g class=\"points\"><g class=\"point\"><path d=\"M19.91,270V270H35.84V270Z\" style=\"vector-effect: non-scaling-stroke; opacity: 1; stroke-width: 1px; fill: rgb(55, 128, 191); fill-opacity: 0.6; stroke: rgb(55, 128, 191); stroke-opacity: 1;\"/></g><g class=\"point\"><path d=\"M59.73,270V245.34H75.65V270Z\" style=\"vector-effect: non-scaling-stroke; opacity: 1; stroke-width: 1px; fill: rgb(55, 128, 191); fill-opacity: 0.6; stroke: rgb(55, 128, 191); stroke-opacity: 1;\"/></g><g class=\"point\"><path d=\"M99.55,270V235.47H115.47V270Z\" style=\"vector-effect: non-scaling-stroke; opacity: 1; stroke-width: 1px; fill: rgb(55, 128, 191); fill-opacity: 0.6; stroke: rgb(55, 128, 191); stroke-opacity: 1;\"/></g><g class=\"point\"><path d=\"M139.36,270V166.41H155.29V270Z\" style=\"vector-effect: non-scaling-stroke; opacity: 1; stroke-width: 1px; fill: rgb(55, 128, 191); fill-opacity: 0.6; stroke: rgb(55, 128, 191); stroke-opacity: 1;\"/></g><g class=\"point\"><path d=\"M179.18,270V112.15H195.11V270Z\" style=\"vector-effect: non-scaling-stroke; opacity: 1; stroke-width: 1px; fill: rgb(55, 128, 191); fill-opacity: 0.6; stroke: rgb(55, 128, 191); stroke-opacity: 1;\"/></g><g class=\"point\"><path d=\"M219,270V13.5H234.93V270Z\" style=\"vector-effect: non-scaling-stroke; opacity: 1; stroke-width: 1px; fill: rgb(55, 128, 191); fill-opacity: 0.6; stroke: rgb(55, 128, 191); stroke-opacity: 1;\"/></g><g class=\"point\"><path d=\"M258.82,270V136.82H274.75V270Z\" style=\"vector-effect: non-scaling-stroke; opacity: 1; stroke-width: 1px; fill: rgb(55, 128, 191); fill-opacity: 0.6; stroke: rgb(55, 128, 191); stroke-opacity: 1;\"/></g><g class=\"point\"><path d=\"M298.64,270V97.36H314.56V270Z\" style=\"vector-effect: non-scaling-stroke; opacity: 1; stroke-width: 1px; fill: rgb(55, 128, 191); fill-opacity: 0.6; stroke: rgb(55, 128, 191); stroke-opacity: 1;\"/></g><g class=\"point\"><path d=\"M338.45,270V131.88H354.38V270Z\" style=\"vector-effect: non-scaling-stroke; opacity: 1; stroke-width: 1px; fill: rgb(55, 128, 191); fill-opacity: 0.6; stroke: rgb(55, 128, 191); stroke-opacity: 1;\"/></g><g class=\"point\"><path d=\"M378.27,270V156.55H394.2V270Z\" style=\"vector-effect: non-scaling-stroke; opacity: 1; stroke-width: 1px; fill: rgb(55, 128, 191); fill-opacity: 0.6; stroke: rgb(55, 128, 191); stroke-opacity: 1;\"/></g><g class=\"point\"><path d=\"M418.09,270V151.62H434.02V270Z\" style=\"vector-effect: non-scaling-stroke; opacity: 1; stroke-width: 1px; fill: rgb(55, 128, 191); fill-opacity: 0.6; stroke: rgb(55, 128, 191); stroke-opacity: 1;\"/></g></g></g></g></g><g class=\"overplot\"/><path class=\"xlines-above crisp\" d=\"M0,0\" style=\"fill: none;\"/><path class=\"ylines-above crisp\" d=\"M0,0\" style=\"fill: none;\"/><g class=\"overlines-above\"/><g class=\"xaxislayer-above\"><g class=\"xtick\"><text text-anchor=\"middle\" x=\"0\" y=\"383\" transform=\"translate(99.91,0)\" style=\"font-family: 'Open Sans', verdana, arial, sans-serif; font-size: 12px; fill: rgb(77, 86, 99); fill-opacity: 1; white-space: pre;\">0</text></g><g class=\"xtick\"><text text-anchor=\"middle\" x=\"0\" y=\"383\" transform=\"translate(179.55,0)\" style=\"font-family: 'Open Sans', verdana, arial, sans-serif; font-size: 12px; fill: rgb(77, 86, 99); fill-opacity: 1; white-space: pre;\">2</text></g><g class=\"xtick\"><text text-anchor=\"middle\" x=\"0\" y=\"383\" transform=\"translate(259.18,0)\" style=\"font-family: 'Open Sans', verdana, arial, sans-serif; font-size: 12px; fill: rgb(77, 86, 99); fill-opacity: 1; white-space: pre;\">4</text></g><g class=\"xtick\"><text text-anchor=\"middle\" x=\"0\" y=\"383\" transform=\"translate(338.82,0)\" style=\"font-family: 'Open Sans', verdana, arial, sans-serif; font-size: 12px; fill: rgb(77, 86, 99); fill-opacity: 1; white-space: pre;\">6</text></g><g class=\"xtick\"><text text-anchor=\"middle\" x=\"0\" y=\"383\" transform=\"translate(418.45,0)\" style=\"font-family: 'Open Sans', verdana, arial, sans-serif; font-size: 12px; fill: rgb(77, 86, 99); fill-opacity: 1; white-space: pre;\">8</text></g><g class=\"xtick\"><text text-anchor=\"middle\" x=\"0\" y=\"383\" transform=\"translate(498.09,0)\" style=\"font-family: 'Open Sans', verdana, arial, sans-serif; font-size: 12px; fill: rgb(77, 86, 99); fill-opacity: 1; white-space: pre;\">10</text></g></g><g class=\"yaxislayer-above\"><g class=\"ytick\"><text text-anchor=\"end\" x=\"79\" y=\"4.199999999999999\" transform=\"translate(0,370)\" style=\"font-family: 'Open Sans', verdana, arial, sans-serif; font-size: 12px; fill: rgb(77, 86, 99); fill-opacity: 1; white-space: pre;\">0</text></g><g class=\"ytick\"><text text-anchor=\"end\" x=\"79\" y=\"4.199999999999999\" transform=\"translate(0,320.66999999999996)\" style=\"font-family: 'Open Sans', verdana, arial, sans-serif; font-size: 12px; fill: rgb(77, 86, 99); fill-opacity: 1; white-space: pre;\">10</text></g><g class=\"ytick\"><text text-anchor=\"end\" x=\"79\" y=\"4.199999999999999\" transform=\"translate(0,271.35)\" style=\"font-family: 'Open Sans', verdana, arial, sans-serif; font-size: 12px; fill: rgb(77, 86, 99); fill-opacity: 1; white-space: pre;\">20</text></g><g class=\"ytick\"><text text-anchor=\"end\" x=\"79\" y=\"4.199999999999999\" transform=\"translate(0,222.01999999999998)\" style=\"font-family: 'Open Sans', verdana, arial, sans-serif; font-size: 12px; fill: rgb(77, 86, 99); fill-opacity: 1; white-space: pre;\">30</text></g><g class=\"ytick\"><text text-anchor=\"end\" x=\"79\" y=\"4.199999999999999\" transform=\"translate(0,172.69)\" style=\"font-family: 'Open Sans', verdana, arial, sans-serif; font-size: 12px; fill: rgb(77, 86, 99); fill-opacity: 1; white-space: pre;\">40</text></g><g class=\"ytick\"><text text-anchor=\"end\" x=\"79\" y=\"4.199999999999999\" transform=\"translate(0,123.37)\" style=\"font-family: 'Open Sans', verdana, arial, sans-serif; font-size: 12px; fill: rgb(77, 86, 99); fill-opacity: 1; white-space: pre;\">50</text></g></g><g class=\"overaxes-above\"/></g></g><g class=\"polarlayer\"/><g class=\"ternarylayer\"/><g class=\"geolayer\"/><g class=\"funnelarealayer\"/><g class=\"pielayer\"/><g class=\"treemaplayer\"/><g class=\"sunburstlayer\"/><g class=\"glimages\"/><defs id=\"topdefs-c6ca85\"><g class=\"clips\"/><clipPath id=\"legendc6ca85\"><rect width=\"161\" height=\"48\" x=\"0\" y=\"0\"/></clipPath></defs><g class=\"layer-above\"><g class=\"imagelayer\"/><g class=\"shapelayer\"/></g><g class=\"infolayer\"><g class=\"legend\" pointer-events=\"all\" transform=\"translate(526.76, 100)\"><rect class=\"bg\" shape-rendering=\"crispEdges\" width=\"161\" height=\"48\" x=\"0\" y=\"0\" style=\"stroke: rgb(68, 68, 68); stroke-opacity: 1; fill: rgb(245, 246, 249); fill-opacity: 1; stroke-width: 0px;\"/><g class=\"scrollbox\" transform=\"translate(0, 0)\" clip-path=\"url('#legendc6ca85')\"><g class=\"groups\"><g class=\"traces\" transform=\"translate(0, 14.5)\" style=\"opacity: 1;\"><text class=\"legendtext user-select-none\" text-anchor=\"start\" x=\"40\" y=\"4.680000000000001\" style=\"font-family: 'Open Sans', verdana, arial, sans-serif; font-size: 12px; fill: rgb(77, 86, 99); fill-opacity: 1; white-space: pre;\">Top/health/recover</text><g class=\"layers\" style=\"opacity: 1;\"><g class=\"legendfill\"/><g class=\"legendlines\"/><g class=\"legendsymbols\"><g class=\"legendpoints\"><path class=\"legendundefined\" d=\"M6,6H-6V-6H6Z\" transform=\"translate(20,0)\" style=\"stroke-width: 1px; fill: rgb(255, 153, 51); fill-opacity: 0.6; stroke: rgb(255, 153, 51); stroke-opacity: 1;\"/></g></g></g><rect class=\"legendtoggle\" pointer-events=\"all\" x=\"0\" y=\"-9.5\" width=\"155.84375\" height=\"19\" style=\"cursor: pointer; fill: rgb(0, 0, 0); fill-opacity: 0;\"/></g><g class=\"traces\" transform=\"translate(0, 33.5)\" style=\"opacity: 1;\"><text class=\"legendtext user-select-none\" text-anchor=\"start\" x=\"40\" y=\"4.680000000000001\" style=\"font-family: 'Open Sans', verdana, arial, sans-serif; font-size: 12px; fill: rgb(77, 86, 99); fill-opacity: 1; white-space: pre;\">Top/health/illness</text><g class=\"layers\" style=\"opacity: 1;\"><g class=\"legendfill\"/><g class=\"legendlines\"/><g class=\"legendsymbols\"><g class=\"legendpoints\"><path class=\"legendundefined\" d=\"M6,6H-6V-6H6Z\" transform=\"translate(20,0)\" style=\"stroke-width: 1px; fill: rgb(55, 128, 191); fill-opacity: 0.6; stroke: rgb(55, 128, 191); stroke-opacity: 1;\"/></g></g></g><rect class=\"legendtoggle\" pointer-events=\"all\" x=\"0\" y=\"-9.5\" width=\"155.84375\" height=\"19\" style=\"cursor: pointer; fill: rgb(0, 0, 0); fill-opacity: 0;\"/></g></g></g><rect class=\"scrollbar\" rx=\"20\" ry=\"3\" width=\"0\" height=\"0\" x=\"0\" y=\"0\" style=\"fill: rgb(128, 139, 164); fill-opacity: 1;\"/></g><g class=\"g-gtitle\"><text class=\"gtitle\" x=\"35\" y=\"50\" text-anchor=\"start\" dy=\"0em\" style=\"font-family: 'Open Sans', verdana, arial, sans-serif; font-size: 17px; fill: rgb(77, 86, 99); opacity: 1; font-weight: normal; white-space: pre;\">Coronovirus</text></g><g class=\"g-xtitle\"><text class=\"xtitle\" x=\"299\" y=\"410.8\" text-anchor=\"middle\" style=\"font-family: 'Open Sans', verdana, arial, sans-serif; font-size: 14px; fill: rgb(77, 86, 99); opacity: 1; font-weight: normal; white-space: pre;\">period</text></g><g class=\"g-ytitle\"><text class=\"ytitle\" transform=\"rotate(-90,38.934375,235)\" x=\"38.934375\" y=\"235\" text-anchor=\"middle\" style=\"font-family: 'Open Sans', verdana, arial, sans-serif; font-size: 14px; fill: rgb(77, 86, 99); opacity: 1; font-weight: normal; white-space: pre;\">count</text></g></g></svg>"
      ]
     },
     "metadata": {},
     "output_type": "display_data"
    }
   ],
   "source": [
    "res_without_dates[['Top/health/recover', 'Top/health/illness']].figure(kind='bar', histnorm='percent', xTitle='period',\n",
    "                  yTitle='count', title='Coronovirus').show(\"svg\")\n"
   ]
  },
  {
   "cell_type": "code",
   "execution_count": null,
   "metadata": {},
   "outputs": [],
   "source": []
  },
  {
   "cell_type": "code",
   "execution_count": 20,
   "metadata": {},
   "outputs": [
    {
     "data": {
      "text/html": [
       "        <script type=\"text/javascript\">\n",
       "        window.PlotlyConfig = {MathJaxConfig: 'local'};\n",
       "        if (window.MathJax) {MathJax.Hub.Config({SVG: {font: \"STIX-Web\"}});}\n",
       "        if (typeof require !== 'undefined') {\n",
       "        require.undef(\"plotly\");\n",
       "        requirejs.config({\n",
       "            paths: {\n",
       "                'plotly': ['https://cdn.plot.ly/plotly-latest.min']\n",
       "            }\n",
       "        });\n",
       "        require(['plotly'], function(Plotly) {\n",
       "            window._Plotly = Plotly;\n",
       "        });\n",
       "        }\n",
       "        </script>\n",
       "        "
      ]
     },
     "metadata": {},
     "output_type": "display_data"
    },
    {
     "data": {
      "application/vnd.plotly.v1+json": {
       "config": {
        "plotlyServerURL": "https://plot.ly"
       },
       "data": [
        {
         "marker": {
          "color": "rgba(255, 153, 51, 0.6)",
          "line": {
           "color": "rgba(255, 153, 51, 1.0)",
           "width": 1
          }
         },
         "name": "Top/society/producthisteria",
         "orientation": "v",
         "text": "",
         "type": "bar",
         "x": [
          0,
          1,
          2,
          3,
          4,
          5,
          6,
          7
         ],
         "y": [
          1,
          2,
          3,
          9,
          3,
          0,
          1,
          3
         ]
        },
        {
         "marker": {
          "color": "rgba(55, 128, 191, 0.6)",
          "line": {
           "color": "rgba(55, 128, 191, 1.0)",
           "width": 1
          }
         },
         "name": "Top/events/onlinetransformed",
         "orientation": "v",
         "text": "",
         "type": "bar",
         "x": [
          0,
          1,
          2,
          3,
          4,
          5,
          6,
          7
         ],
         "y": [
          0,
          4,
          7,
          8,
          10,
          7,
          4,
          6
         ]
        },
        {
         "marker": {
          "color": "rgba(50, 171, 96, 0.6)",
          "line": {
           "color": "rgba(50, 171, 96, 1.0)",
           "width": 1
          }
         },
         "name": "Top/society",
         "orientation": "v",
         "text": "",
         "type": "bar",
         "x": [
          0,
          1,
          2,
          3,
          4,
          5,
          6,
          7
         ],
         "y": [
          7,
          45,
          62,
          121,
          160,
          101,
          138,
          119
         ]
        },
        {
         "marker": {
          "color": "rgba(128, 0, 128, 0.6)",
          "line": {
           "color": "rgba(128, 0, 128, 1.0)",
           "width": 1
          }
         },
         "name": "Top/society/potentialdeathhisteria",
         "orientation": "v",
         "text": "",
         "type": "bar",
         "x": [
          0,
          1,
          2,
          3,
          4,
          5,
          6,
          7
         ],
         "y": [
          0,
          1,
          6,
          9,
          7,
          4,
          4,
          0
         ]
        },
        {
         "marker": {
          "color": "rgba(219, 64, 82, 0.6)",
          "line": {
           "color": "rgba(219, 64, 82, 1.0)",
           "width": 1
          }
         },
         "name": "Top/science/developingnewdrugs",
         "orientation": "v",
         "text": "",
         "type": "bar",
         "x": [
          0,
          1,
          2,
          3,
          4,
          5,
          6,
          7
         ],
         "y": [
          0,
          0,
          3,
          2,
          4,
          5,
          5,
          5
         ]
        },
        {
         "marker": {
          "color": "rgba(0, 128, 128, 0.6)",
          "line": {
           "color": "rgba(0, 128, 128, 1.0)",
           "width": 1
          }
         },
         "name": "Top/politics/healthcarepolicy/entertaiment",
         "orientation": "v",
         "text": "",
         "type": "bar",
         "x": [
          0,
          1,
          2,
          3,
          4,
          5,
          6,
          7
         ],
         "y": [
          0,
          23,
          14,
          33,
          44,
          15,
          17,
          14
         ]
        },
        {
         "marker": {
          "color": "rgba(255, 255, 51, 0.6)",
          "line": {
           "color": "rgba(255, 255, 51, 1.0)",
           "width": 1
          }
         },
         "name": "Top/economy/coronaimport",
         "orientation": "v",
         "text": "",
         "type": "bar",
         "x": [
          0,
          1,
          2,
          3,
          4,
          5,
          6,
          7
         ],
         "y": [
          0,
          1,
          12,
          15,
          17,
          13,
          20,
          14
         ]
        },
        {
         "marker": {
          "color": "rgba(128, 128, 0, 0.6)",
          "line": {
           "color": "rgba(128, 128, 0, 1.0)",
           "width": 1
          }
         },
         "name": "Top/politics/healthcarepolicy/quarntine_strengthening",
         "orientation": "v",
         "text": "",
         "type": "bar",
         "x": [
          0,
          1,
          2,
          3,
          4,
          5,
          6,
          7
         ],
         "y": [
          0,
          13,
          22,
          33,
          59,
          18,
          16,
          10
         ]
        },
        {
         "marker": {
          "color": "rgba(251, 128, 114, 0.6)",
          "line": {
           "color": "rgba(251, 128, 114, 1.0)",
           "width": 1
          }
         },
         "name": "Top/politics/healthcarepolicy/transport",
         "orientation": "v",
         "text": "",
         "type": "bar",
         "x": [
          0,
          1,
          2,
          3,
          4,
          5,
          6,
          7
         ],
         "y": [
          0,
          21,
          33,
          37,
          35,
          19,
          13,
          12
         ]
        },
        {
         "marker": {
          "color": "rgba(128, 177, 211, 0.6)",
          "line": {
           "color": "rgba(128, 177, 211, 1.0)",
           "width": 1
          }
         },
         "name": "Top/economy",
         "orientation": "v",
         "text": "",
         "type": "bar",
         "x": [
          0,
          1,
          2,
          3,
          4,
          5,
          6,
          7
         ],
         "y": [
          8,
          20,
          53,
          45,
          53,
          53,
          69,
          39
         ]
        },
        {
         "marker": {
          "color": "rgba(128, 177, 211, 0.6)",
          "line": {
           "color": "rgba(128, 177, 211, 0.8999999999999999)",
           "width": 1
          }
         },
         "name": "Top/society/death",
         "orientation": "v",
         "text": "",
         "type": "bar",
         "x": [
          0,
          1,
          2,
          3,
          4,
          5,
          6,
          7
         ],
         "y": [
          2,
          4,
          25,
          39,
          44,
          47,
          35,
          32
         ]
        },
        {
         "marker": {
          "color": "rgba(255, 153, 51, 0.6)",
          "line": {
           "color": "rgba(255, 153, 51, 0.8999999999999999)",
           "width": 1
          }
         },
         "name": "Top/health/dissemination",
         "orientation": "v",
         "text": "",
         "type": "bar",
         "x": [
          0,
          1,
          2,
          3,
          4,
          5,
          6,
          7
         ],
         "y": [
          1,
          2,
          9,
          16,
          18,
          14,
          10,
          22
         ]
        },
        {
         "marker": {
          "color": "rgba(55, 128, 191, 0.6)",
          "line": {
           "color": "rgba(55, 128, 191, 0.8999999999999999)",
           "width": 1
          }
         },
         "name": "Top/technologies",
         "orientation": "v",
         "text": "",
         "type": "bar",
         "x": [
          0,
          1,
          2,
          3,
          4,
          5,
          6,
          7
         ],
         "y": [
          0,
          1,
          6,
          16,
          52,
          41,
          49,
          43
         ]
        },
        {
         "marker": {
          "color": "rgba(50, 171, 96, 0.6)",
          "line": {
           "color": "rgba(50, 171, 96, 0.8999999999999999)",
           "width": 1
          }
         },
         "name": "Top/events",
         "orientation": "v",
         "text": "",
         "type": "bar",
         "x": [
          0,
          1,
          2,
          3,
          4,
          5,
          6,
          7
         ],
         "y": [
          9,
          75,
          54,
          123,
          227,
          160,
          220,
          195
         ]
        },
        {
         "marker": {
          "color": "rgba(128, 0, 128, 0.6)",
          "line": {
           "color": "rgba(128, 0, 128, 0.8999999999999999)",
           "width": 1
          }
         },
         "name": "Top/politics/criminal",
         "orientation": "v",
         "text": "",
         "type": "bar",
         "x": [
          0,
          1,
          2,
          3,
          4,
          5,
          6,
          7
         ],
         "y": [
          0,
          4,
          3,
          8,
          9,
          4,
          4,
          1
         ]
        },
        {
         "marker": {
          "color": "rgba(219, 64, 82, 0.6)",
          "line": {
           "color": "rgba(219, 64, 82, 0.8999999999999999)",
           "width": 1
          }
         },
         "name": "Top/politics/healthcarepolicy/safetysteps",
         "orientation": "v",
         "text": "",
         "type": "bar",
         "x": [
          0,
          1,
          2,
          3,
          4,
          5,
          6,
          7
         ],
         "y": [
          0,
          14,
          29,
          57,
          76,
          55,
          35,
          27
         ]
        },
        {
         "marker": {
          "color": "rgba(0, 128, 128, 0.6)",
          "line": {
           "color": "rgba(0, 128, 128, 0.8999999999999999)",
           "width": 1
          }
         },
         "name": "Top/politics/healthcarepolicy",
         "orientation": "v",
         "text": "",
         "type": "bar",
         "x": [
          0,
          1,
          2,
          3,
          4,
          5,
          6,
          7
         ],
         "y": [
          0,
          13,
          26,
          27,
          29,
          17,
          21,
          20
         ]
        },
        {
         "marker": {
          "color": "rgba(255, 255, 51, 0.6)",
          "line": {
           "color": "rgba(255, 255, 51, 0.8999999999999999)",
           "width": 1
          }
         },
         "name": "Top/health/illness",
         "orientation": "v",
         "text": "",
         "type": "bar",
         "x": [
          0,
          1,
          2,
          3,
          4,
          5,
          6,
          7
         ],
         "y": [
          1,
          7,
          25,
          53,
          46,
          47,
          35,
          31
         ]
        },
        {
         "marker": {
          "color": "rgba(128, 128, 0, 0.6)",
          "line": {
           "color": "rgba(128, 128, 0, 0.8999999999999999)",
           "width": 1
          }
         },
         "name": "Top/coronavirus",
         "orientation": "v",
         "text": "",
         "type": "bar",
         "x": [
          0,
          1,
          2,
          3,
          4,
          5,
          6,
          7
         ],
         "y": [
          9,
          73,
          168,
          297,
          334,
          271,
          307,
          281
         ]
        },
        {
         "marker": {
          "color": "rgba(251, 128, 114, 0.6)",
          "line": {
           "color": "rgba(251, 128, 114, 0.8999999999999999)",
           "width": 1
          }
         },
         "name": "Top/technologies/developingofequipment",
         "orientation": "v",
         "text": "",
         "type": "bar",
         "x": [
          0,
          1,
          2,
          3,
          4,
          5,
          6,
          7
         ],
         "y": [
          0,
          1,
          7,
          10,
          6,
          3,
          3,
          5
         ]
        },
        {
         "marker": {
          "color": "rgba(251, 128, 114, 0.6)",
          "line": {
           "color": "rgba(251, 128, 114, 0.7999999999999998)",
           "width": 1
          }
         },
         "name": "Top/economy/coronabusiness",
         "orientation": "v",
         "text": "",
         "type": "bar",
         "x": [
          0,
          1,
          2,
          3,
          4,
          5,
          6,
          7
         ],
         "y": [
          0,
          1,
          6,
          2,
          2,
          2,
          4,
          0
         ]
        },
        {
         "marker": {
          "color": "rgba(128, 177, 211, 0.6)",
          "line": {
           "color": "rgba(128, 177, 211, 0.7999999999999998)",
           "width": 1
          }
         },
         "name": "Top/society/potentialdeath",
         "orientation": "v",
         "text": "",
         "type": "bar",
         "x": [
          0,
          1,
          2,
          3,
          4,
          5,
          6,
          7
         ],
         "y": [
          0,
          1,
          6,
          6,
          9,
          2,
          4,
          0
         ]
        },
        {
         "marker": {
          "color": "rgba(255, 153, 51, 0.6)",
          "line": {
           "color": "rgba(255, 153, 51, 0.7999999999999998)",
           "width": 1
          }
         },
         "name": "Top/science/developingvaccine",
         "orientation": "v",
         "text": "",
         "type": "bar",
         "x": [
          0,
          1,
          2,
          3,
          4,
          5,
          6,
          7
         ],
         "y": [
          0,
          1,
          5,
          4,
          1,
          7,
          6,
          5
         ]
        },
        {
         "marker": {
          "color": "rgba(55, 128, 191, 0.6)",
          "line": {
           "color": "rgba(55, 128, 191, 0.7999999999999998)",
           "width": 1
          }
         },
         "name": "Top/health",
         "orientation": "v",
         "text": "",
         "type": "bar",
         "x": [
          0,
          1,
          2,
          3,
          4,
          5,
          6,
          7
         ],
         "y": [
          1,
          30,
          43,
          117,
          124,
          88,
          122,
          110
         ]
        },
        {
         "marker": {
          "color": "rgba(50, 171, 96, 0.6)",
          "line": {
           "color": "rgba(50, 171, 96, 0.7999999999999998)",
           "width": 1
          }
         },
         "name": "Top/economy/crisis",
         "orientation": "v",
         "text": "",
         "type": "bar",
         "x": [
          0,
          1,
          2,
          3,
          4,
          5,
          6,
          7
         ],
         "y": [
          5,
          21,
          69,
          85,
          80,
          61,
          87,
          50
         ]
        },
        {
         "marker": {
          "color": "rgba(128, 0, 128, 0.6)",
          "line": {
           "color": "rgba(128, 0, 128, 0.7999999999999998)",
           "width": 1
          }
         },
         "name": "Top/economy/coronajobloss",
         "orientation": "v",
         "text": "",
         "type": "bar",
         "x": [
          0,
          1,
          2,
          3,
          4,
          5,
          6,
          7
         ],
         "y": [
          0,
          10,
          25,
          31,
          33,
          18,
          23,
          22
         ]
        },
        {
         "marker": {
          "color": "rgba(219, 64, 82, 0.6)",
          "line": {
           "color": "rgba(219, 64, 82, 0.7999999999999998)",
           "width": 1
          }
         },
         "name": "Top/politics/healthcarepolicy/education",
         "orientation": "v",
         "text": "",
         "type": "bar",
         "x": [
          0,
          1,
          2,
          3,
          4,
          5,
          6,
          7
         ],
         "y": [
          0,
          9,
          8,
          2,
          9,
          1,
          1,
          0
         ]
        },
        {
         "marker": {
          "color": "rgba(0, 128, 128, 0.6)",
          "line": {
           "color": "rgba(0, 128, 128, 0.7999999999999998)",
           "width": 1
          }
         },
         "name": "Top/health/recover",
         "orientation": "v",
         "text": "",
         "type": "bar",
         "x": [
          0,
          1,
          2,
          3,
          4,
          5,
          6,
          7
         ],
         "y": [
          0,
          3,
          20,
          47,
          37,
          30,
          42,
          30
         ]
        },
        {
         "marker": {
          "color": "rgba(255, 255, 51, 0.6)",
          "line": {
           "color": "rgba(255, 255, 51, 0.7999999999999998)",
           "width": 1
          }
         },
         "name": "Top/science",
         "orientation": "v",
         "text": "",
         "type": "bar",
         "x": [
          0,
          1,
          2,
          3,
          4,
          5,
          6,
          7
         ],
         "y": [
          3,
          4,
          18,
          26,
          31,
          17,
          30,
          24
         ]
        },
        {
         "marker": {
          "color": "rgba(128, 128, 0, 0.6)",
          "line": {
           "color": "rgba(128, 128, 0, 0.7999999999999998)",
           "width": 1
          }
         },
         "name": "Top/science/existeddrugs",
         "orientation": "v",
         "text": "",
         "type": "bar",
         "x": [
          0,
          1,
          2,
          3,
          4,
          5,
          6,
          7
         ],
         "y": [
          1,
          0,
          2,
          15,
          15,
          8,
          4,
          5
         ]
        },
        {
         "marker": {
          "color": "rgba(128, 128, 0, 0.6)",
          "line": {
           "color": "rgba(128, 128, 0, 0.7)",
           "width": 1
          }
         },
         "name": "Top/economy/coronacrisis",
         "orientation": "v",
         "text": "",
         "type": "bar",
         "x": [
          0,
          1,
          2,
          3,
          4,
          5,
          6,
          7
         ],
         "y": [
          5,
          14,
          30,
          38,
          33,
          23,
          32,
          15
         ]
        },
        {
         "marker": {
          "color": "rgba(251, 128, 114, 0.6)",
          "line": {
           "color": "rgba(251, 128, 114, 0.7)",
           "width": 1
          }
         },
         "name": "Top/society/familytroubles",
         "orientation": "v",
         "text": "",
         "type": "bar",
         "x": [
          0,
          1,
          2,
          3,
          4,
          5,
          6,
          7
         ],
         "y": [
          0,
          0,
          5,
          2,
          2,
          2,
          0,
          1
         ]
        },
        {
         "marker": {
          "color": "rgba(128, 177, 211, 0.6)",
          "line": {
           "color": "rgba(128, 177, 211, 0.7)",
           "width": 1
          }
         },
         "name": "Top/politics",
         "orientation": "v",
         "text": "",
         "type": "bar",
         "x": [
          0,
          1,
          2,
          3,
          4,
          5,
          6,
          7
         ],
         "y": [
          3,
          48,
          24,
          33,
          82,
          38,
          89,
          73
         ]
        },
        {
         "marker": {
          "color": "rgba(255, 153, 51, 0.6)",
          "line": {
           "color": "rgba(255, 153, 51, 0.7)",
           "width": 1
          }
         },
         "name": "Top/events/coronacanceledevents",
         "orientation": "v",
         "text": "",
         "type": "bar",
         "x": [
          0,
          1,
          2,
          3,
          4,
          5,
          6,
          7
         ],
         "y": [
          0,
          7,
          3,
          6,
          20,
          14,
          16,
          20
         ]
        }
       ],
       "layout": {
        "barmode": "overlay",
        "legend": {
         "bgcolor": "#F5F6F9",
         "font": {
          "color": "#4D5663"
         }
        },
        "paper_bgcolor": "#F5F6F9",
        "plot_bgcolor": "#F5F6F9",
        "template": {
         "data": {
          "bar": [
           {
            "error_x": {
             "color": "#2a3f5f"
            },
            "error_y": {
             "color": "#2a3f5f"
            },
            "marker": {
             "line": {
              "color": "#E5ECF6",
              "width": 0.5
             }
            },
            "type": "bar"
           }
          ],
          "barpolar": [
           {
            "marker": {
             "line": {
              "color": "#E5ECF6",
              "width": 0.5
             }
            },
            "type": "barpolar"
           }
          ],
          "carpet": [
           {
            "aaxis": {
             "endlinecolor": "#2a3f5f",
             "gridcolor": "white",
             "linecolor": "white",
             "minorgridcolor": "white",
             "startlinecolor": "#2a3f5f"
            },
            "baxis": {
             "endlinecolor": "#2a3f5f",
             "gridcolor": "white",
             "linecolor": "white",
             "minorgridcolor": "white",
             "startlinecolor": "#2a3f5f"
            },
            "type": "carpet"
           }
          ],
          "choropleth": [
           {
            "colorbar": {
             "outlinewidth": 0,
             "ticks": ""
            },
            "type": "choropleth"
           }
          ],
          "contour": [
           {
            "colorbar": {
             "outlinewidth": 0,
             "ticks": ""
            },
            "colorscale": [
             [
              0,
              "#0d0887"
             ],
             [
              0.1111111111111111,
              "#46039f"
             ],
             [
              0.2222222222222222,
              "#7201a8"
             ],
             [
              0.3333333333333333,
              "#9c179e"
             ],
             [
              0.4444444444444444,
              "#bd3786"
             ],
             [
              0.5555555555555556,
              "#d8576b"
             ],
             [
              0.6666666666666666,
              "#ed7953"
             ],
             [
              0.7777777777777778,
              "#fb9f3a"
             ],
             [
              0.8888888888888888,
              "#fdca26"
             ],
             [
              1,
              "#f0f921"
             ]
            ],
            "type": "contour"
           }
          ],
          "contourcarpet": [
           {
            "colorbar": {
             "outlinewidth": 0,
             "ticks": ""
            },
            "type": "contourcarpet"
           }
          ],
          "heatmap": [
           {
            "colorbar": {
             "outlinewidth": 0,
             "ticks": ""
            },
            "colorscale": [
             [
              0,
              "#0d0887"
             ],
             [
              0.1111111111111111,
              "#46039f"
             ],
             [
              0.2222222222222222,
              "#7201a8"
             ],
             [
              0.3333333333333333,
              "#9c179e"
             ],
             [
              0.4444444444444444,
              "#bd3786"
             ],
             [
              0.5555555555555556,
              "#d8576b"
             ],
             [
              0.6666666666666666,
              "#ed7953"
             ],
             [
              0.7777777777777778,
              "#fb9f3a"
             ],
             [
              0.8888888888888888,
              "#fdca26"
             ],
             [
              1,
              "#f0f921"
             ]
            ],
            "type": "heatmap"
           }
          ],
          "heatmapgl": [
           {
            "colorbar": {
             "outlinewidth": 0,
             "ticks": ""
            },
            "colorscale": [
             [
              0,
              "#0d0887"
             ],
             [
              0.1111111111111111,
              "#46039f"
             ],
             [
              0.2222222222222222,
              "#7201a8"
             ],
             [
              0.3333333333333333,
              "#9c179e"
             ],
             [
              0.4444444444444444,
              "#bd3786"
             ],
             [
              0.5555555555555556,
              "#d8576b"
             ],
             [
              0.6666666666666666,
              "#ed7953"
             ],
             [
              0.7777777777777778,
              "#fb9f3a"
             ],
             [
              0.8888888888888888,
              "#fdca26"
             ],
             [
              1,
              "#f0f921"
             ]
            ],
            "type": "heatmapgl"
           }
          ],
          "histogram": [
           {
            "marker": {
             "colorbar": {
              "outlinewidth": 0,
              "ticks": ""
             }
            },
            "type": "histogram"
           }
          ],
          "histogram2d": [
           {
            "colorbar": {
             "outlinewidth": 0,
             "ticks": ""
            },
            "colorscale": [
             [
              0,
              "#0d0887"
             ],
             [
              0.1111111111111111,
              "#46039f"
             ],
             [
              0.2222222222222222,
              "#7201a8"
             ],
             [
              0.3333333333333333,
              "#9c179e"
             ],
             [
              0.4444444444444444,
              "#bd3786"
             ],
             [
              0.5555555555555556,
              "#d8576b"
             ],
             [
              0.6666666666666666,
              "#ed7953"
             ],
             [
              0.7777777777777778,
              "#fb9f3a"
             ],
             [
              0.8888888888888888,
              "#fdca26"
             ],
             [
              1,
              "#f0f921"
             ]
            ],
            "type": "histogram2d"
           }
          ],
          "histogram2dcontour": [
           {
            "colorbar": {
             "outlinewidth": 0,
             "ticks": ""
            },
            "colorscale": [
             [
              0,
              "#0d0887"
             ],
             [
              0.1111111111111111,
              "#46039f"
             ],
             [
              0.2222222222222222,
              "#7201a8"
             ],
             [
              0.3333333333333333,
              "#9c179e"
             ],
             [
              0.4444444444444444,
              "#bd3786"
             ],
             [
              0.5555555555555556,
              "#d8576b"
             ],
             [
              0.6666666666666666,
              "#ed7953"
             ],
             [
              0.7777777777777778,
              "#fb9f3a"
             ],
             [
              0.8888888888888888,
              "#fdca26"
             ],
             [
              1,
              "#f0f921"
             ]
            ],
            "type": "histogram2dcontour"
           }
          ],
          "mesh3d": [
           {
            "colorbar": {
             "outlinewidth": 0,
             "ticks": ""
            },
            "type": "mesh3d"
           }
          ],
          "parcoords": [
           {
            "line": {
             "colorbar": {
              "outlinewidth": 0,
              "ticks": ""
             }
            },
            "type": "parcoords"
           }
          ],
          "pie": [
           {
            "automargin": true,
            "type": "pie"
           }
          ],
          "scatter": [
           {
            "marker": {
             "colorbar": {
              "outlinewidth": 0,
              "ticks": ""
             }
            },
            "type": "scatter"
           }
          ],
          "scatter3d": [
           {
            "line": {
             "colorbar": {
              "outlinewidth": 0,
              "ticks": ""
             }
            },
            "marker": {
             "colorbar": {
              "outlinewidth": 0,
              "ticks": ""
             }
            },
            "type": "scatter3d"
           }
          ],
          "scattercarpet": [
           {
            "marker": {
             "colorbar": {
              "outlinewidth": 0,
              "ticks": ""
             }
            },
            "type": "scattercarpet"
           }
          ],
          "scattergeo": [
           {
            "marker": {
             "colorbar": {
              "outlinewidth": 0,
              "ticks": ""
             }
            },
            "type": "scattergeo"
           }
          ],
          "scattergl": [
           {
            "marker": {
             "colorbar": {
              "outlinewidth": 0,
              "ticks": ""
             }
            },
            "type": "scattergl"
           }
          ],
          "scattermapbox": [
           {
            "marker": {
             "colorbar": {
              "outlinewidth": 0,
              "ticks": ""
             }
            },
            "type": "scattermapbox"
           }
          ],
          "scatterpolar": [
           {
            "marker": {
             "colorbar": {
              "outlinewidth": 0,
              "ticks": ""
             }
            },
            "type": "scatterpolar"
           }
          ],
          "scatterpolargl": [
           {
            "marker": {
             "colorbar": {
              "outlinewidth": 0,
              "ticks": ""
             }
            },
            "type": "scatterpolargl"
           }
          ],
          "scatterternary": [
           {
            "marker": {
             "colorbar": {
              "outlinewidth": 0,
              "ticks": ""
             }
            },
            "type": "scatterternary"
           }
          ],
          "surface": [
           {
            "colorbar": {
             "outlinewidth": 0,
             "ticks": ""
            },
            "colorscale": [
             [
              0,
              "#0d0887"
             ],
             [
              0.1111111111111111,
              "#46039f"
             ],
             [
              0.2222222222222222,
              "#7201a8"
             ],
             [
              0.3333333333333333,
              "#9c179e"
             ],
             [
              0.4444444444444444,
              "#bd3786"
             ],
             [
              0.5555555555555556,
              "#d8576b"
             ],
             [
              0.6666666666666666,
              "#ed7953"
             ],
             [
              0.7777777777777778,
              "#fb9f3a"
             ],
             [
              0.8888888888888888,
              "#fdca26"
             ],
             [
              1,
              "#f0f921"
             ]
            ],
            "type": "surface"
           }
          ],
          "table": [
           {
            "cells": {
             "fill": {
              "color": "#EBF0F8"
             },
             "line": {
              "color": "white"
             }
            },
            "header": {
             "fill": {
              "color": "#C8D4E3"
             },
             "line": {
              "color": "white"
             }
            },
            "type": "table"
           }
          ]
         },
         "layout": {
          "annotationdefaults": {
           "arrowcolor": "#2a3f5f",
           "arrowhead": 0,
           "arrowwidth": 1
          },
          "coloraxis": {
           "colorbar": {
            "outlinewidth": 0,
            "ticks": ""
           }
          },
          "colorscale": {
           "diverging": [
            [
             0,
             "#8e0152"
            ],
            [
             0.1,
             "#c51b7d"
            ],
            [
             0.2,
             "#de77ae"
            ],
            [
             0.3,
             "#f1b6da"
            ],
            [
             0.4,
             "#fde0ef"
            ],
            [
             0.5,
             "#f7f7f7"
            ],
            [
             0.6,
             "#e6f5d0"
            ],
            [
             0.7,
             "#b8e186"
            ],
            [
             0.8,
             "#7fbc41"
            ],
            [
             0.9,
             "#4d9221"
            ],
            [
             1,
             "#276419"
            ]
           ],
           "sequential": [
            [
             0,
             "#0d0887"
            ],
            [
             0.1111111111111111,
             "#46039f"
            ],
            [
             0.2222222222222222,
             "#7201a8"
            ],
            [
             0.3333333333333333,
             "#9c179e"
            ],
            [
             0.4444444444444444,
             "#bd3786"
            ],
            [
             0.5555555555555556,
             "#d8576b"
            ],
            [
             0.6666666666666666,
             "#ed7953"
            ],
            [
             0.7777777777777778,
             "#fb9f3a"
            ],
            [
             0.8888888888888888,
             "#fdca26"
            ],
            [
             1,
             "#f0f921"
            ]
           ],
           "sequentialminus": [
            [
             0,
             "#0d0887"
            ],
            [
             0.1111111111111111,
             "#46039f"
            ],
            [
             0.2222222222222222,
             "#7201a8"
            ],
            [
             0.3333333333333333,
             "#9c179e"
            ],
            [
             0.4444444444444444,
             "#bd3786"
            ],
            [
             0.5555555555555556,
             "#d8576b"
            ],
            [
             0.6666666666666666,
             "#ed7953"
            ],
            [
             0.7777777777777778,
             "#fb9f3a"
            ],
            [
             0.8888888888888888,
             "#fdca26"
            ],
            [
             1,
             "#f0f921"
            ]
           ]
          },
          "colorway": [
           "#636efa",
           "#EF553B",
           "#00cc96",
           "#ab63fa",
           "#FFA15A",
           "#19d3f3",
           "#FF6692",
           "#B6E880",
           "#FF97FF",
           "#FECB52"
          ],
          "font": {
           "color": "#2a3f5f"
          },
          "geo": {
           "bgcolor": "white",
           "lakecolor": "white",
           "landcolor": "#E5ECF6",
           "showlakes": true,
           "showland": true,
           "subunitcolor": "white"
          },
          "hoverlabel": {
           "align": "left"
          },
          "hovermode": "closest",
          "mapbox": {
           "style": "light"
          },
          "paper_bgcolor": "white",
          "plot_bgcolor": "#E5ECF6",
          "polar": {
           "angularaxis": {
            "gridcolor": "white",
            "linecolor": "white",
            "ticks": ""
           },
           "bgcolor": "#E5ECF6",
           "radialaxis": {
            "gridcolor": "white",
            "linecolor": "white",
            "ticks": ""
           }
          },
          "scene": {
           "xaxis": {
            "backgroundcolor": "#E5ECF6",
            "gridcolor": "white",
            "gridwidth": 2,
            "linecolor": "white",
            "showbackground": true,
            "ticks": "",
            "zerolinecolor": "white"
           },
           "yaxis": {
            "backgroundcolor": "#E5ECF6",
            "gridcolor": "white",
            "gridwidth": 2,
            "linecolor": "white",
            "showbackground": true,
            "ticks": "",
            "zerolinecolor": "white"
           },
           "zaxis": {
            "backgroundcolor": "#E5ECF6",
            "gridcolor": "white",
            "gridwidth": 2,
            "linecolor": "white",
            "showbackground": true,
            "ticks": "",
            "zerolinecolor": "white"
           }
          },
          "shapedefaults": {
           "line": {
            "color": "#2a3f5f"
           }
          },
          "ternary": {
           "aaxis": {
            "gridcolor": "white",
            "linecolor": "white",
            "ticks": ""
           },
           "baxis": {
            "gridcolor": "white",
            "linecolor": "white",
            "ticks": ""
           },
           "bgcolor": "#E5ECF6",
           "caxis": {
            "gridcolor": "white",
            "linecolor": "white",
            "ticks": ""
           }
          },
          "title": {
           "x": 0.05
          },
          "xaxis": {
           "automargin": true,
           "gridcolor": "white",
           "linecolor": "white",
           "ticks": "",
           "title": {
            "standoff": 15
           },
           "zerolinecolor": "white",
           "zerolinewidth": 2
          },
          "yaxis": {
           "automargin": true,
           "gridcolor": "white",
           "linecolor": "white",
           "ticks": "",
           "title": {
            "standoff": 15
           },
           "zerolinecolor": "white",
           "zerolinewidth": 2
          }
         }
        },
        "title": {
         "font": {
          "color": "#4D5663"
         },
         "text": "Coronovirus"
        },
        "xaxis": {
         "gridcolor": "#E1E5ED",
         "showgrid": true,
         "tickfont": {
          "color": "#4D5663"
         },
         "title": {
          "font": {
           "color": "#4D5663"
          },
          "text": "period"
         },
         "zerolinecolor": "#E1E5ED"
        },
        "yaxis": {
         "gridcolor": "#E1E5ED",
         "showgrid": true,
         "tickfont": {
          "color": "#4D5663"
         },
         "title": {
          "font": {
           "color": "#4D5663"
          },
          "text": "count"
         },
         "zerolinecolor": "#E1E5ED"
        }
       }
      },
      "text/html": [
       "<div>\n",
       "        \n",
       "        \n",
       "            <div id=\"006be1a4-9083-4350-92db-96094673fe32\" class=\"plotly-graph-div\" style=\"height:525px; width:100%;\"></div>\n",
       "            <script type=\"text/javascript\">\n",
       "                require([\"plotly\"], function(Plotly) {\n",
       "                    window.PLOTLYENV=window.PLOTLYENV || {};\n",
       "                    \n",
       "                if (document.getElementById(\"006be1a4-9083-4350-92db-96094673fe32\")) {\n",
       "                    Plotly.newPlot(\n",
       "                        '006be1a4-9083-4350-92db-96094673fe32',\n",
       "                        [{\"marker\": {\"color\": \"rgba(255, 153, 51, 0.6)\", \"line\": {\"color\": \"rgba(255, 153, 51, 1.0)\", \"width\": 1}}, \"name\": \"Top/society/producthisteria\", \"orientation\": \"v\", \"text\": \"\", \"type\": \"bar\", \"x\": [0, 1, 2, 3, 4, 5, 6, 7], \"y\": [1.0, 2.0, 3.0, 9.0, 3.0, 0.0, 1.0, 3.0]}, {\"marker\": {\"color\": \"rgba(55, 128, 191, 0.6)\", \"line\": {\"color\": \"rgba(55, 128, 191, 1.0)\", \"width\": 1}}, \"name\": \"Top/events/onlinetransformed\", \"orientation\": \"v\", \"text\": \"\", \"type\": \"bar\", \"x\": [0, 1, 2, 3, 4, 5, 6, 7], \"y\": [0.0, 4.0, 7.0, 8.0, 10.0, 7.0, 4.0, 6.0]}, {\"marker\": {\"color\": \"rgba(50, 171, 96, 0.6)\", \"line\": {\"color\": \"rgba(50, 171, 96, 1.0)\", \"width\": 1}}, \"name\": \"Top/society\", \"orientation\": \"v\", \"text\": \"\", \"type\": \"bar\", \"x\": [0, 1, 2, 3, 4, 5, 6, 7], \"y\": [7.0, 45.0, 62.0, 121.0, 160.0, 101.0, 138.0, 119.0]}, {\"marker\": {\"color\": \"rgba(128, 0, 128, 0.6)\", \"line\": {\"color\": \"rgba(128, 0, 128, 1.0)\", \"width\": 1}}, \"name\": \"Top/society/potentialdeathhisteria\", \"orientation\": \"v\", \"text\": \"\", \"type\": \"bar\", \"x\": [0, 1, 2, 3, 4, 5, 6, 7], \"y\": [0.0, 1.0, 6.0, 9.0, 7.0, 4.0, 4.0, 0.0]}, {\"marker\": {\"color\": \"rgba(219, 64, 82, 0.6)\", \"line\": {\"color\": \"rgba(219, 64, 82, 1.0)\", \"width\": 1}}, \"name\": \"Top/science/developingnewdrugs\", \"orientation\": \"v\", \"text\": \"\", \"type\": \"bar\", \"x\": [0, 1, 2, 3, 4, 5, 6, 7], \"y\": [0.0, 0.0, 3.0, 2.0, 4.0, 5.0, 5.0, 5.0]}, {\"marker\": {\"color\": \"rgba(0, 128, 128, 0.6)\", \"line\": {\"color\": \"rgba(0, 128, 128, 1.0)\", \"width\": 1}}, \"name\": \"Top/politics/healthcarepolicy/entertaiment\", \"orientation\": \"v\", \"text\": \"\", \"type\": \"bar\", \"x\": [0, 1, 2, 3, 4, 5, 6, 7], \"y\": [0.0, 23.0, 14.0, 33.0, 44.0, 15.0, 17.0, 14.0]}, {\"marker\": {\"color\": \"rgba(255, 255, 51, 0.6)\", \"line\": {\"color\": \"rgba(255, 255, 51, 1.0)\", \"width\": 1}}, \"name\": \"Top/economy/coronaimport\", \"orientation\": \"v\", \"text\": \"\", \"type\": \"bar\", \"x\": [0, 1, 2, 3, 4, 5, 6, 7], \"y\": [0.0, 1.0, 12.0, 15.0, 17.0, 13.0, 20.0, 14.0]}, {\"marker\": {\"color\": \"rgba(128, 128, 0, 0.6)\", \"line\": {\"color\": \"rgba(128, 128, 0, 1.0)\", \"width\": 1}}, \"name\": \"Top/politics/healthcarepolicy/quarntine_strengthening\", \"orientation\": \"v\", \"text\": \"\", \"type\": \"bar\", \"x\": [0, 1, 2, 3, 4, 5, 6, 7], \"y\": [0.0, 13.0, 22.0, 33.0, 59.0, 18.0, 16.0, 10.0]}, {\"marker\": {\"color\": \"rgba(251, 128, 114, 0.6)\", \"line\": {\"color\": \"rgba(251, 128, 114, 1.0)\", \"width\": 1}}, \"name\": \"Top/politics/healthcarepolicy/transport\", \"orientation\": \"v\", \"text\": \"\", \"type\": \"bar\", \"x\": [0, 1, 2, 3, 4, 5, 6, 7], \"y\": [0.0, 21.0, 33.0, 37.0, 35.0, 19.0, 13.0, 12.0]}, {\"marker\": {\"color\": \"rgba(128, 177, 211, 0.6)\", \"line\": {\"color\": \"rgba(128, 177, 211, 1.0)\", \"width\": 1}}, \"name\": \"Top/economy\", \"orientation\": \"v\", \"text\": \"\", \"type\": \"bar\", \"x\": [0, 1, 2, 3, 4, 5, 6, 7], \"y\": [8.0, 20.0, 53.0, 45.0, 53.0, 53.0, 69.0, 39.0]}, {\"marker\": {\"color\": \"rgba(128, 177, 211, 0.6)\", \"line\": {\"color\": \"rgba(128, 177, 211, 0.8999999999999999)\", \"width\": 1}}, \"name\": \"Top/society/death\", \"orientation\": \"v\", \"text\": \"\", \"type\": \"bar\", \"x\": [0, 1, 2, 3, 4, 5, 6, 7], \"y\": [2.0, 4.0, 25.0, 39.0, 44.0, 47.0, 35.0, 32.0]}, {\"marker\": {\"color\": \"rgba(255, 153, 51, 0.6)\", \"line\": {\"color\": \"rgba(255, 153, 51, 0.8999999999999999)\", \"width\": 1}}, \"name\": \"Top/health/dissemination\", \"orientation\": \"v\", \"text\": \"\", \"type\": \"bar\", \"x\": [0, 1, 2, 3, 4, 5, 6, 7], \"y\": [1.0, 2.0, 9.0, 16.0, 18.0, 14.0, 10.0, 22.0]}, {\"marker\": {\"color\": \"rgba(55, 128, 191, 0.6)\", \"line\": {\"color\": \"rgba(55, 128, 191, 0.8999999999999999)\", \"width\": 1}}, \"name\": \"Top/technologies\", \"orientation\": \"v\", \"text\": \"\", \"type\": \"bar\", \"x\": [0, 1, 2, 3, 4, 5, 6, 7], \"y\": [0.0, 1.0, 6.0, 16.0, 52.0, 41.0, 49.0, 43.0]}, {\"marker\": {\"color\": \"rgba(50, 171, 96, 0.6)\", \"line\": {\"color\": \"rgba(50, 171, 96, 0.8999999999999999)\", \"width\": 1}}, \"name\": \"Top/events\", \"orientation\": \"v\", \"text\": \"\", \"type\": \"bar\", \"x\": [0, 1, 2, 3, 4, 5, 6, 7], \"y\": [9.0, 75.0, 54.0, 123.0, 227.0, 160.0, 220.0, 195.0]}, {\"marker\": {\"color\": \"rgba(128, 0, 128, 0.6)\", \"line\": {\"color\": \"rgba(128, 0, 128, 0.8999999999999999)\", \"width\": 1}}, \"name\": \"Top/politics/criminal\", \"orientation\": \"v\", \"text\": \"\", \"type\": \"bar\", \"x\": [0, 1, 2, 3, 4, 5, 6, 7], \"y\": [0.0, 4.0, 3.0, 8.0, 9.0, 4.0, 4.0, 1.0]}, {\"marker\": {\"color\": \"rgba(219, 64, 82, 0.6)\", \"line\": {\"color\": \"rgba(219, 64, 82, 0.8999999999999999)\", \"width\": 1}}, \"name\": \"Top/politics/healthcarepolicy/safetysteps\", \"orientation\": \"v\", \"text\": \"\", \"type\": \"bar\", \"x\": [0, 1, 2, 3, 4, 5, 6, 7], \"y\": [0.0, 14.0, 29.0, 57.0, 76.0, 55.0, 35.0, 27.0]}, {\"marker\": {\"color\": \"rgba(0, 128, 128, 0.6)\", \"line\": {\"color\": \"rgba(0, 128, 128, 0.8999999999999999)\", \"width\": 1}}, \"name\": \"Top/politics/healthcarepolicy\", \"orientation\": \"v\", \"text\": \"\", \"type\": \"bar\", \"x\": [0, 1, 2, 3, 4, 5, 6, 7], \"y\": [0.0, 13.0, 26.0, 27.0, 29.0, 17.0, 21.0, 20.0]}, {\"marker\": {\"color\": \"rgba(255, 255, 51, 0.6)\", \"line\": {\"color\": \"rgba(255, 255, 51, 0.8999999999999999)\", \"width\": 1}}, \"name\": \"Top/health/illness\", \"orientation\": \"v\", \"text\": \"\", \"type\": \"bar\", \"x\": [0, 1, 2, 3, 4, 5, 6, 7], \"y\": [1.0, 7.0, 25.0, 53.0, 46.0, 47.0, 35.0, 31.0]}, {\"marker\": {\"color\": \"rgba(128, 128, 0, 0.6)\", \"line\": {\"color\": \"rgba(128, 128, 0, 0.8999999999999999)\", \"width\": 1}}, \"name\": \"Top/coronavirus\", \"orientation\": \"v\", \"text\": \"\", \"type\": \"bar\", \"x\": [0, 1, 2, 3, 4, 5, 6, 7], \"y\": [9.0, 73.0, 168.0, 297.0, 334.0, 271.0, 307.0, 281.0]}, {\"marker\": {\"color\": \"rgba(251, 128, 114, 0.6)\", \"line\": {\"color\": \"rgba(251, 128, 114, 0.8999999999999999)\", \"width\": 1}}, \"name\": \"Top/technologies/developingofequipment\", \"orientation\": \"v\", \"text\": \"\", \"type\": \"bar\", \"x\": [0, 1, 2, 3, 4, 5, 6, 7], \"y\": [0.0, 1.0, 7.0, 10.0, 6.0, 3.0, 3.0, 5.0]}, {\"marker\": {\"color\": \"rgba(251, 128, 114, 0.6)\", \"line\": {\"color\": \"rgba(251, 128, 114, 0.7999999999999998)\", \"width\": 1}}, \"name\": \"Top/economy/coronabusiness\", \"orientation\": \"v\", \"text\": \"\", \"type\": \"bar\", \"x\": [0, 1, 2, 3, 4, 5, 6, 7], \"y\": [0.0, 1.0, 6.0, 2.0, 2.0, 2.0, 4.0, 0.0]}, {\"marker\": {\"color\": \"rgba(128, 177, 211, 0.6)\", \"line\": {\"color\": \"rgba(128, 177, 211, 0.7999999999999998)\", \"width\": 1}}, \"name\": \"Top/society/potentialdeath\", \"orientation\": \"v\", \"text\": \"\", \"type\": \"bar\", \"x\": [0, 1, 2, 3, 4, 5, 6, 7], \"y\": [0.0, 1.0, 6.0, 6.0, 9.0, 2.0, 4.0, 0.0]}, {\"marker\": {\"color\": \"rgba(255, 153, 51, 0.6)\", \"line\": {\"color\": \"rgba(255, 153, 51, 0.7999999999999998)\", \"width\": 1}}, \"name\": \"Top/science/developingvaccine\", \"orientation\": \"v\", \"text\": \"\", \"type\": \"bar\", \"x\": [0, 1, 2, 3, 4, 5, 6, 7], \"y\": [0.0, 1.0, 5.0, 4.0, 1.0, 7.0, 6.0, 5.0]}, {\"marker\": {\"color\": \"rgba(55, 128, 191, 0.6)\", \"line\": {\"color\": \"rgba(55, 128, 191, 0.7999999999999998)\", \"width\": 1}}, \"name\": \"Top/health\", \"orientation\": \"v\", \"text\": \"\", \"type\": \"bar\", \"x\": [0, 1, 2, 3, 4, 5, 6, 7], \"y\": [1.0, 30.0, 43.0, 117.0, 124.0, 88.0, 122.0, 110.0]}, {\"marker\": {\"color\": \"rgba(50, 171, 96, 0.6)\", \"line\": {\"color\": \"rgba(50, 171, 96, 0.7999999999999998)\", \"width\": 1}}, \"name\": \"Top/economy/crisis\", \"orientation\": \"v\", \"text\": \"\", \"type\": \"bar\", \"x\": [0, 1, 2, 3, 4, 5, 6, 7], \"y\": [5.0, 21.0, 69.0, 85.0, 80.0, 61.0, 87.0, 50.0]}, {\"marker\": {\"color\": \"rgba(128, 0, 128, 0.6)\", \"line\": {\"color\": \"rgba(128, 0, 128, 0.7999999999999998)\", \"width\": 1}}, \"name\": \"Top/economy/coronajobloss\", \"orientation\": \"v\", \"text\": \"\", \"type\": \"bar\", \"x\": [0, 1, 2, 3, 4, 5, 6, 7], \"y\": [0.0, 10.0, 25.0, 31.0, 33.0, 18.0, 23.0, 22.0]}, {\"marker\": {\"color\": \"rgba(219, 64, 82, 0.6)\", \"line\": {\"color\": \"rgba(219, 64, 82, 0.7999999999999998)\", \"width\": 1}}, \"name\": \"Top/politics/healthcarepolicy/education\", \"orientation\": \"v\", \"text\": \"\", \"type\": \"bar\", \"x\": [0, 1, 2, 3, 4, 5, 6, 7], \"y\": [0.0, 9.0, 8.0, 2.0, 9.0, 1.0, 1.0, 0.0]}, {\"marker\": {\"color\": \"rgba(0, 128, 128, 0.6)\", \"line\": {\"color\": \"rgba(0, 128, 128, 0.7999999999999998)\", \"width\": 1}}, \"name\": \"Top/health/recover\", \"orientation\": \"v\", \"text\": \"\", \"type\": \"bar\", \"x\": [0, 1, 2, 3, 4, 5, 6, 7], \"y\": [0.0, 3.0, 20.0, 47.0, 37.0, 30.0, 42.0, 30.0]}, {\"marker\": {\"color\": \"rgba(255, 255, 51, 0.6)\", \"line\": {\"color\": \"rgba(255, 255, 51, 0.7999999999999998)\", \"width\": 1}}, \"name\": \"Top/science\", \"orientation\": \"v\", \"text\": \"\", \"type\": \"bar\", \"x\": [0, 1, 2, 3, 4, 5, 6, 7], \"y\": [3.0, 4.0, 18.0, 26.0, 31.0, 17.0, 30.0, 24.0]}, {\"marker\": {\"color\": \"rgba(128, 128, 0, 0.6)\", \"line\": {\"color\": \"rgba(128, 128, 0, 0.7999999999999998)\", \"width\": 1}}, \"name\": \"Top/science/existeddrugs\", \"orientation\": \"v\", \"text\": \"\", \"type\": \"bar\", \"x\": [0, 1, 2, 3, 4, 5, 6, 7], \"y\": [1.0, 0.0, 2.0, 15.0, 15.0, 8.0, 4.0, 5.0]}, {\"marker\": {\"color\": \"rgba(128, 128, 0, 0.6)\", \"line\": {\"color\": \"rgba(128, 128, 0, 0.7)\", \"width\": 1}}, \"name\": \"Top/economy/coronacrisis\", \"orientation\": \"v\", \"text\": \"\", \"type\": \"bar\", \"x\": [0, 1, 2, 3, 4, 5, 6, 7], \"y\": [5.0, 14.0, 30.0, 38.0, 33.0, 23.0, 32.0, 15.0]}, {\"marker\": {\"color\": \"rgba(251, 128, 114, 0.6)\", \"line\": {\"color\": \"rgba(251, 128, 114, 0.7)\", \"width\": 1}}, \"name\": \"Top/society/familytroubles\", \"orientation\": \"v\", \"text\": \"\", \"type\": \"bar\", \"x\": [0, 1, 2, 3, 4, 5, 6, 7], \"y\": [0.0, 0.0, 5.0, 2.0, 2.0, 2.0, 0.0, 1.0]}, {\"marker\": {\"color\": \"rgba(128, 177, 211, 0.6)\", \"line\": {\"color\": \"rgba(128, 177, 211, 0.7)\", \"width\": 1}}, \"name\": \"Top/politics\", \"orientation\": \"v\", \"text\": \"\", \"type\": \"bar\", \"x\": [0, 1, 2, 3, 4, 5, 6, 7], \"y\": [3.0, 48.0, 24.0, 33.0, 82.0, 38.0, 89.0, 73.0]}, {\"marker\": {\"color\": \"rgba(255, 153, 51, 0.6)\", \"line\": {\"color\": \"rgba(255, 153, 51, 0.7)\", \"width\": 1}}, \"name\": \"Top/events/coronacanceledevents\", \"orientation\": \"v\", \"text\": \"\", \"type\": \"bar\", \"x\": [0, 1, 2, 3, 4, 5, 6, 7], \"y\": [0.0, 7.0, 3.0, 6.0, 20.0, 14.0, 16.0, 20.0]}],\n",
       "                        {\"barmode\": \"overlay\", \"legend\": {\"bgcolor\": \"#F5F6F9\", \"font\": {\"color\": \"#4D5663\"}}, \"paper_bgcolor\": \"#F5F6F9\", \"plot_bgcolor\": \"#F5F6F9\", \"template\": {\"data\": {\"bar\": [{\"error_x\": {\"color\": \"#2a3f5f\"}, \"error_y\": {\"color\": \"#2a3f5f\"}, \"marker\": {\"line\": {\"color\": \"#E5ECF6\", \"width\": 0.5}}, \"type\": \"bar\"}], \"barpolar\": [{\"marker\": {\"line\": {\"color\": \"#E5ECF6\", \"width\": 0.5}}, \"type\": \"barpolar\"}], \"carpet\": [{\"aaxis\": {\"endlinecolor\": \"#2a3f5f\", \"gridcolor\": \"white\", \"linecolor\": \"white\", \"minorgridcolor\": \"white\", \"startlinecolor\": \"#2a3f5f\"}, \"baxis\": {\"endlinecolor\": \"#2a3f5f\", \"gridcolor\": \"white\", \"linecolor\": \"white\", \"minorgridcolor\": \"white\", \"startlinecolor\": \"#2a3f5f\"}, \"type\": \"carpet\"}], \"choropleth\": [{\"colorbar\": {\"outlinewidth\": 0, \"ticks\": \"\"}, \"type\": \"choropleth\"}], \"contour\": [{\"colorbar\": {\"outlinewidth\": 0, \"ticks\": \"\"}, \"colorscale\": [[0.0, \"#0d0887\"], [0.1111111111111111, \"#46039f\"], [0.2222222222222222, \"#7201a8\"], [0.3333333333333333, \"#9c179e\"], [0.4444444444444444, \"#bd3786\"], [0.5555555555555556, \"#d8576b\"], [0.6666666666666666, \"#ed7953\"], [0.7777777777777778, \"#fb9f3a\"], [0.8888888888888888, \"#fdca26\"], [1.0, \"#f0f921\"]], \"type\": \"contour\"}], \"contourcarpet\": [{\"colorbar\": {\"outlinewidth\": 0, \"ticks\": \"\"}, \"type\": \"contourcarpet\"}], \"heatmap\": [{\"colorbar\": {\"outlinewidth\": 0, \"ticks\": \"\"}, \"colorscale\": [[0.0, \"#0d0887\"], [0.1111111111111111, \"#46039f\"], [0.2222222222222222, \"#7201a8\"], [0.3333333333333333, \"#9c179e\"], [0.4444444444444444, \"#bd3786\"], [0.5555555555555556, \"#d8576b\"], [0.6666666666666666, \"#ed7953\"], [0.7777777777777778, \"#fb9f3a\"], [0.8888888888888888, \"#fdca26\"], [1.0, \"#f0f921\"]], \"type\": \"heatmap\"}], \"heatmapgl\": [{\"colorbar\": {\"outlinewidth\": 0, \"ticks\": \"\"}, \"colorscale\": [[0.0, \"#0d0887\"], [0.1111111111111111, \"#46039f\"], [0.2222222222222222, \"#7201a8\"], [0.3333333333333333, \"#9c179e\"], [0.4444444444444444, \"#bd3786\"], [0.5555555555555556, \"#d8576b\"], [0.6666666666666666, \"#ed7953\"], [0.7777777777777778, \"#fb9f3a\"], [0.8888888888888888, \"#fdca26\"], [1.0, \"#f0f921\"]], \"type\": \"heatmapgl\"}], \"histogram\": [{\"marker\": {\"colorbar\": {\"outlinewidth\": 0, \"ticks\": \"\"}}, \"type\": \"histogram\"}], \"histogram2d\": [{\"colorbar\": {\"outlinewidth\": 0, \"ticks\": \"\"}, \"colorscale\": [[0.0, \"#0d0887\"], [0.1111111111111111, \"#46039f\"], [0.2222222222222222, \"#7201a8\"], [0.3333333333333333, \"#9c179e\"], [0.4444444444444444, \"#bd3786\"], [0.5555555555555556, \"#d8576b\"], [0.6666666666666666, \"#ed7953\"], [0.7777777777777778, \"#fb9f3a\"], [0.8888888888888888, \"#fdca26\"], [1.0, \"#f0f921\"]], \"type\": \"histogram2d\"}], \"histogram2dcontour\": [{\"colorbar\": {\"outlinewidth\": 0, \"ticks\": \"\"}, \"colorscale\": [[0.0, \"#0d0887\"], [0.1111111111111111, \"#46039f\"], [0.2222222222222222, \"#7201a8\"], [0.3333333333333333, \"#9c179e\"], [0.4444444444444444, \"#bd3786\"], [0.5555555555555556, \"#d8576b\"], [0.6666666666666666, \"#ed7953\"], [0.7777777777777778, \"#fb9f3a\"], [0.8888888888888888, \"#fdca26\"], [1.0, \"#f0f921\"]], \"type\": \"histogram2dcontour\"}], \"mesh3d\": [{\"colorbar\": {\"outlinewidth\": 0, \"ticks\": \"\"}, \"type\": \"mesh3d\"}], \"parcoords\": [{\"line\": {\"colorbar\": {\"outlinewidth\": 0, \"ticks\": \"\"}}, \"type\": \"parcoords\"}], \"pie\": [{\"automargin\": true, \"type\": \"pie\"}], \"scatter\": [{\"marker\": {\"colorbar\": {\"outlinewidth\": 0, \"ticks\": \"\"}}, \"type\": \"scatter\"}], \"scatter3d\": [{\"line\": {\"colorbar\": {\"outlinewidth\": 0, \"ticks\": \"\"}}, \"marker\": {\"colorbar\": {\"outlinewidth\": 0, \"ticks\": \"\"}}, \"type\": \"scatter3d\"}], \"scattercarpet\": [{\"marker\": {\"colorbar\": {\"outlinewidth\": 0, \"ticks\": \"\"}}, \"type\": \"scattercarpet\"}], \"scattergeo\": [{\"marker\": {\"colorbar\": {\"outlinewidth\": 0, \"ticks\": \"\"}}, \"type\": \"scattergeo\"}], \"scattergl\": [{\"marker\": {\"colorbar\": {\"outlinewidth\": 0, \"ticks\": \"\"}}, \"type\": \"scattergl\"}], \"scattermapbox\": [{\"marker\": {\"colorbar\": {\"outlinewidth\": 0, \"ticks\": \"\"}}, \"type\": \"scattermapbox\"}], \"scatterpolar\": [{\"marker\": {\"colorbar\": {\"outlinewidth\": 0, \"ticks\": \"\"}}, \"type\": \"scatterpolar\"}], \"scatterpolargl\": [{\"marker\": {\"colorbar\": {\"outlinewidth\": 0, \"ticks\": \"\"}}, \"type\": \"scatterpolargl\"}], \"scatterternary\": [{\"marker\": {\"colorbar\": {\"outlinewidth\": 0, \"ticks\": \"\"}}, \"type\": \"scatterternary\"}], \"surface\": [{\"colorbar\": {\"outlinewidth\": 0, \"ticks\": \"\"}, \"colorscale\": [[0.0, \"#0d0887\"], [0.1111111111111111, \"#46039f\"], [0.2222222222222222, \"#7201a8\"], [0.3333333333333333, \"#9c179e\"], [0.4444444444444444, \"#bd3786\"], [0.5555555555555556, \"#d8576b\"], [0.6666666666666666, \"#ed7953\"], [0.7777777777777778, \"#fb9f3a\"], [0.8888888888888888, \"#fdca26\"], [1.0, \"#f0f921\"]], \"type\": \"surface\"}], \"table\": [{\"cells\": {\"fill\": {\"color\": \"#EBF0F8\"}, \"line\": {\"color\": \"white\"}}, \"header\": {\"fill\": {\"color\": \"#C8D4E3\"}, \"line\": {\"color\": \"white\"}}, \"type\": \"table\"}]}, \"layout\": {\"annotationdefaults\": {\"arrowcolor\": \"#2a3f5f\", \"arrowhead\": 0, \"arrowwidth\": 1}, \"coloraxis\": {\"colorbar\": {\"outlinewidth\": 0, \"ticks\": \"\"}}, \"colorscale\": {\"diverging\": [[0, \"#8e0152\"], [0.1, \"#c51b7d\"], [0.2, \"#de77ae\"], [0.3, \"#f1b6da\"], [0.4, \"#fde0ef\"], [0.5, \"#f7f7f7\"], [0.6, \"#e6f5d0\"], [0.7, \"#b8e186\"], [0.8, \"#7fbc41\"], [0.9, \"#4d9221\"], [1, \"#276419\"]], \"sequential\": [[0.0, \"#0d0887\"], [0.1111111111111111, \"#46039f\"], [0.2222222222222222, \"#7201a8\"], [0.3333333333333333, \"#9c179e\"], [0.4444444444444444, \"#bd3786\"], [0.5555555555555556, \"#d8576b\"], [0.6666666666666666, \"#ed7953\"], [0.7777777777777778, \"#fb9f3a\"], [0.8888888888888888, \"#fdca26\"], [1.0, \"#f0f921\"]], \"sequentialminus\": [[0.0, \"#0d0887\"], [0.1111111111111111, \"#46039f\"], [0.2222222222222222, \"#7201a8\"], [0.3333333333333333, \"#9c179e\"], [0.4444444444444444, \"#bd3786\"], [0.5555555555555556, \"#d8576b\"], [0.6666666666666666, \"#ed7953\"], [0.7777777777777778, \"#fb9f3a\"], [0.8888888888888888, \"#fdca26\"], [1.0, \"#f0f921\"]]}, \"colorway\": [\"#636efa\", \"#EF553B\", \"#00cc96\", \"#ab63fa\", \"#FFA15A\", \"#19d3f3\", \"#FF6692\", \"#B6E880\", \"#FF97FF\", \"#FECB52\"], \"font\": {\"color\": \"#2a3f5f\"}, \"geo\": {\"bgcolor\": \"white\", \"lakecolor\": \"white\", \"landcolor\": \"#E5ECF6\", \"showlakes\": true, \"showland\": true, \"subunitcolor\": \"white\"}, \"hoverlabel\": {\"align\": \"left\"}, \"hovermode\": \"closest\", \"mapbox\": {\"style\": \"light\"}, \"paper_bgcolor\": \"white\", \"plot_bgcolor\": \"#E5ECF6\", \"polar\": {\"angularaxis\": {\"gridcolor\": \"white\", \"linecolor\": \"white\", \"ticks\": \"\"}, \"bgcolor\": \"#E5ECF6\", \"radialaxis\": {\"gridcolor\": \"white\", \"linecolor\": \"white\", \"ticks\": \"\"}}, \"scene\": {\"xaxis\": {\"backgroundcolor\": \"#E5ECF6\", \"gridcolor\": \"white\", \"gridwidth\": 2, \"linecolor\": \"white\", \"showbackground\": true, \"ticks\": \"\", \"zerolinecolor\": \"white\"}, \"yaxis\": {\"backgroundcolor\": \"#E5ECF6\", \"gridcolor\": \"white\", \"gridwidth\": 2, \"linecolor\": \"white\", \"showbackground\": true, \"ticks\": \"\", \"zerolinecolor\": \"white\"}, \"zaxis\": {\"backgroundcolor\": \"#E5ECF6\", \"gridcolor\": \"white\", \"gridwidth\": 2, \"linecolor\": \"white\", \"showbackground\": true, \"ticks\": \"\", \"zerolinecolor\": \"white\"}}, \"shapedefaults\": {\"line\": {\"color\": \"#2a3f5f\"}}, \"ternary\": {\"aaxis\": {\"gridcolor\": \"white\", \"linecolor\": \"white\", \"ticks\": \"\"}, \"baxis\": {\"gridcolor\": \"white\", \"linecolor\": \"white\", \"ticks\": \"\"}, \"bgcolor\": \"#E5ECF6\", \"caxis\": {\"gridcolor\": \"white\", \"linecolor\": \"white\", \"ticks\": \"\"}}, \"title\": {\"x\": 0.05}, \"xaxis\": {\"automargin\": true, \"gridcolor\": \"white\", \"linecolor\": \"white\", \"ticks\": \"\", \"title\": {\"standoff\": 15}, \"zerolinecolor\": \"white\", \"zerolinewidth\": 2}, \"yaxis\": {\"automargin\": true, \"gridcolor\": \"white\", \"linecolor\": \"white\", \"ticks\": \"\", \"title\": {\"standoff\": 15}, \"zerolinecolor\": \"white\", \"zerolinewidth\": 2}}}, \"title\": {\"font\": {\"color\": \"#4D5663\"}, \"text\": \"Coronovirus\"}, \"xaxis\": {\"gridcolor\": \"#E1E5ED\", \"showgrid\": true, \"tickfont\": {\"color\": \"#4D5663\"}, \"title\": {\"font\": {\"color\": \"#4D5663\"}, \"text\": \"period\"}, \"zerolinecolor\": \"#E1E5ED\"}, \"yaxis\": {\"gridcolor\": \"#E1E5ED\", \"showgrid\": true, \"tickfont\": {\"color\": \"#4D5663\"}, \"title\": {\"font\": {\"color\": \"#4D5663\"}, \"text\": \"count\"}, \"zerolinecolor\": \"#E1E5ED\"}},\n",
       "                        {\"responsive\": true}\n",
       "                    ).then(function(){\n",
       "                            \n",
       "var gd = document.getElementById('006be1a4-9083-4350-92db-96094673fe32');\n",
       "var x = new MutationObserver(function (mutations, observer) {{\n",
       "        var display = window.getComputedStyle(gd).display;\n",
       "        if (!display || display === 'none') {{\n",
       "            console.log([gd, 'removed!']);\n",
       "            Plotly.purge(gd);\n",
       "            observer.disconnect();\n",
       "        }}\n",
       "}});\n",
       "\n",
       "// Listen for the removal of the full notebook cells\n",
       "var notebookContainer = gd.closest('#notebook-container');\n",
       "if (notebookContainer) {{\n",
       "    x.observe(notebookContainer, {childList: true});\n",
       "}}\n",
       "\n",
       "// Listen for the clearing of the current output cell\n",
       "var outputEl = gd.closest('.output');\n",
       "if (outputEl) {{\n",
       "    x.observe(outputEl, {childList: true});\n",
       "}}\n",
       "\n",
       "                        })\n",
       "                };\n",
       "                });\n",
       "            </script>\n",
       "        </div>"
      ]
     },
     "metadata": {},
     "output_type": "display_data"
    }
   ],
   "source": [
    "days_period = 7 \n",
    "all_source_bars = create_result_table(name_colums_for_new_csv, my_classes, days_period, first_day, last_day)\n",
    "res_without_dates = all_source_bars.drop(['start_period','end_period'], axis=1)\n",
    "cf.set_config_file(offline=True)\n",
    "res_without_dates.iplot(kind='bar', histnorm='percent',\n",
    "    barmode='overlay', xTitle='period',\n",
    "                  yTitle='count', title='Coronovirus', asFigure=True)"
   ]
  },
  {
   "cell_type": "code",
   "execution_count": null,
   "metadata": {},
   "outputs": [],
   "source": []
  },
  {
   "cell_type": "code",
   "execution_count": null,
   "metadata": {},
   "outputs": [],
   "source": []
  }
 ],
 "metadata": {
  "kernelspec": {
   "display_name": "Python 3",
   "language": "python",
   "name": "python3"
  },
  "language_info": {
   "codemirror_mode": {
    "name": "ipython",
    "version": 3
   },
   "file_extension": ".py",
   "mimetype": "text/x-python",
   "name": "python",
   "nbconvert_exporter": "python",
   "pygments_lexer": "ipython3",
   "version": "3.7.6"
  }
 },
 "nbformat": 4,
 "nbformat_minor": 2
}
