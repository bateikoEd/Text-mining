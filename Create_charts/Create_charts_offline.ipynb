{
 "cells": [
  {
   "cell_type": "code",
   "execution_count": 1,
   "metadata": {},
   "outputs": [
    {
     "data": {
      "text/html": [
       "        <script type=\"text/javascript\">\n",
       "        window.PlotlyConfig = {MathJaxConfig: 'local'};\n",
       "        if (window.MathJax) {MathJax.Hub.Config({SVG: {font: \"STIX-Web\"}});}\n",
       "        if (typeof require !== 'undefined') {\n",
       "        require.undef(\"plotly\");\n",
       "        requirejs.config({\n",
       "            paths: {\n",
       "                'plotly': ['https://cdn.plot.ly/plotly-latest.min']\n",
       "            }\n",
       "        });\n",
       "        require(['plotly'], function(Plotly) {\n",
       "            window._Plotly = Plotly;\n",
       "        });\n",
       "        }\n",
       "        </script>\n",
       "        "
      ]
     },
     "metadata": {},
     "output_type": "display_data"
    }
   ],
   "source": [
    "import pandas as pd\n",
    "import numpy as np\n",
    "import re\n",
    "import plotly\n",
    "import cufflinks as cf\n",
    "cf.go_offline()"
   ]
  },
  {
   "cell_type": "code",
   "execution_count": 2,
   "metadata": {},
   "outputs": [],
   "source": [
    "file_name_bbc = '../BBC_reading/exсel_files/bbc_scraping.xlsx'\n",
    "file_name_nz = '../BBC_reading/exсel_files/zn_ua_scraping.xlsx'\n",
    "file_name_csv = '../report/report2.csv'\n",
    "\n",
    "csv_final_report = pd.read_csv(file_name_csv)\n",
    "excel_bbc_texts = pd.read_excel(file_name_bbc, index_col=0)\n",
    "excel_nz_texts = pd.read_excel(file_name_nz, index_col=0)"
   ]
  },
  {
   "cell_type": "code",
   "execution_count": 3,
   "metadata": {},
   "outputs": [
    {
     "data": {
      "text/plain": [
       "<bound method NDFrame.head of      file_code  pass  is_fail_doc  \\\n",
       "0        bbc_0     1            0   \n",
       "1        bbc_0     1            0   \n",
       "2        bbc_0     1            0   \n",
       "3        bbc_0     1            0   \n",
       "4        bbc_0     1            0   \n",
       "...        ...   ...          ...   \n",
       "9706    zn_842     1            0   \n",
       "9707    zn_842     1            0   \n",
       "9708    zn_843     1            0   \n",
       "9709    zn_843     1            0   \n",
       "9710    zn_843     1            0   \n",
       "\n",
       "                                          category_name  relevancy  \\\n",
       "0                         Top/politics/healthcarepolicy        1.0   \n",
       "1     Top/politics/healthcarepolicy/quarntine_streng...        1.0   \n",
       "2                                            Top/events        1.0   \n",
       "3                          Top/events/onlinetransformed        1.0   \n",
       "4                              Top/economy/coronacrisis        1.0   \n",
       "...                                                 ...        ...   \n",
       "9706                                       Top/politics        1.0   \n",
       "9707  Top/politics/healthcarepolicy/quarntine_streng...        1.0   \n",
       "9708                                 Top/health/recover        1.0   \n",
       "9709                           Top/health/dissemination        1.0   \n",
       "9710                                   Top/technologies        1.0   \n",
       "\n",
       "      above_rel_cutoff                  date  \n",
       "0                    1  11May2014 11:15:36.0  \n",
       "1                    1  11May2014 11:15:36.0  \n",
       "2                    1  11May2014 11:15:36.0  \n",
       "3                    1  11May2014 11:15:36.0  \n",
       "4                    1  11May2014 11:15:36.0  \n",
       "...                ...                   ...  \n",
       "9706                 1  11May2014 11:15:37.0  \n",
       "9707                 1  11May2014 11:15:37.0  \n",
       "9708                 1  11May2014 11:15:37.0  \n",
       "9709                 1  11May2014 11:15:37.0  \n",
       "9710                 1  11May2014 11:15:37.0  \n",
       "\n",
       "[9711 rows x 7 columns]>"
      ]
     },
     "execution_count": 3,
     "metadata": {},
     "output_type": "execute_result"
    }
   ],
   "source": [
    "csv_final_report.head"
   ]
  },
  {
   "cell_type": "code",
   "execution_count": 4,
   "metadata": {},
   "outputs": [
    {
     "data": {
      "text/plain": [
       "<bound method NDFrame.head of            Date                       Author  Main_Topics  \\\n",
       "0    22/03/2020                          NaN     Здоров'я   \n",
       "1    22/03/2020                          NaN     Здоров'я   \n",
       "2    22/03/2020                          NaN     Здоров'я   \n",
       "3    22/03/2020              Ольга Паламарюк     Здоров'я   \n",
       "4    22/03/2020               BBC Моніторинг     Здоров'я   \n",
       "..          ...                          ...          ...   \n",
       "866  12/05/2020  Говард Мусто і Сем Проффітт  Коронавірус   \n",
       "867  13/05/2020                          NaN  Коронавірус   \n",
       "868  13/05/2020                          NaN  Коронавірус   \n",
       "869  13/05/2020                          NaN  Коронавірус   \n",
       "870  13/05/2020                          NaN  Коронавірус   \n",
       "\n",
       "                                                 Topic  \\\n",
       "0    Надія є: п'ять причин порадіти під час пандемі...   \n",
       "1           Маски: щоб захистити інших, а не вас - МОЗ   \n",
       "2       Коронавірус: як у світі запроваджують карантин   \n",
       "3    \"Коли тобі кажуть: у тебе - коронавірус\". Розп...   \n",
       "4        Ібупрофен і Covid-19: міфи та правда про ліки   \n",
       "..                                                 ...   \n",
       "866  Застрягли в морі через коронавірус: як моряків...   \n",
       "867  Як подолала коронавірус найстаріша жителька Іс...   \n",
       "868           Коронавірус в Україні. Інтерактивна мапа   \n",
       "869                                        Коронавірус   \n",
       "870  Twitter дозволив співробітникам працювати з до...   \n",
       "\n",
       "                                                  Text  \n",
       "0    Копирайт изображения\\nAFP\\nImage caption\\nПо в...  \n",
       "1    Копирайт изображения\\nUNIAN\\nЗахисні маски не ...  \n",
       "2    Копирайт изображения\\nGETTY IMAGES\\nПандемія к...  \n",
       "3    Копирайт изображения\\nUNIAN\\nОлександр з Черні...  \n",
       "4    Копирайт изображения\\nGETTY IMAGES\\nОстаннім ч...  \n",
       "..                                                 ...  \n",
       "866  Копирайт изображения\\nGETTY IMAGES\\nЧерез панд...  \n",
       "867  Копирайт изображения\\nGETTY IMAGES\\nImage capt...  \n",
       "868  В якій області найбільше інфікованих коронавір...  \n",
       "869                                                NaN  \n",
       "870  Копирайт изображения\\nGETTY IMAGES\\nКомпанія T...  \n",
       "\n",
       "[871 rows x 5 columns]>"
      ]
     },
     "execution_count": 4,
     "metadata": {},
     "output_type": "execute_result"
    }
   ],
   "source": [
    "excel_bbc_texts.head"
   ]
  },
  {
   "cell_type": "code",
   "execution_count": 5,
   "metadata": {},
   "outputs": [
    {
     "data": {
      "text/plain": [
       "<bound method NDFrame.head of             Date  Author Main_Topics  \\\n",
       "0     05/04/2020     NaN    Політика   \n",
       "1     05/04/2020     NaN    Політика   \n",
       "2     05/04/2020     NaN    Політика   \n",
       "3     05/04/2020     NaN    Політика   \n",
       "4     05/04/2020     NaN    Політика   \n",
       "...          ...     ...         ...   \n",
       "3026  14/05/2020     NaN     Україна   \n",
       "3027  14/05/2020     NaN     Україна   \n",
       "3028  14/05/2020     NaN     Україна   \n",
       "3029  14/05/2020     NaN     Україна   \n",
       "3030  14/05/2020     NaN     Україна   \n",
       "\n",
       "                                                  Topic  \\\n",
       "0     Постпред України в ООН розповів, як Росія пере...   \n",
       "1     З початку року в Донбасі 12 осіб загинули від ...   \n",
       "2     Людина Ахметова стала позаштатним радником пре...   \n",
       "3          НАБУ завершило розслідування справи Гримчака   \n",
       "4                           НАБУ допитало Дениса Єрмака   \n",
       "...                                                 ...   \n",
       "3026  На Закарпатті обрушився кінотеатр: з-під завал...   \n",
       "3027  COVID-19 додали до переліку профзахворювань ук...   \n",
       "3028  Стерненка викликали до СБУ: активіст очікує ог...   \n",
       "3029  Зеркаль стала відповідальною за організацію ро...   \n",
       "3030  Венедіктова повернула в Офіс генпрокурора прак...   \n",
       "\n",
       "                                                   Text  \n",
       "0     Москва розробляє багаторівневі та багатокроков...  \n",
       "1     В ОБСЄ закликали негайно провести розмінування...  \n",
       "2     Топ-чиновник корпорації ДТЕК став радником пре...  \n",
       "3     Матеріали кримінального провадження відкриті д...  \n",
       "4     Детективи записали зразки голосу брата керівни...  \n",
       "...                                                 ...  \n",
       "3026  Рятувальники шукають людей під завалами.\\n\\nУ ...  \n",
       "3027  Кабмін доповнив перелік захворювань, які відно...  \n",
       "3028  Сергія Стерненко в понеділок чекають в СБУ для...  \n",
       "3029  У \"Нафтогазі України\" нагадали, що Зеркаль бра...  \n",
       "3030  Саме для вибудовування контрольованої вертикал...  \n",
       "\n",
       "[3031 rows x 5 columns]>"
      ]
     },
     "execution_count": 5,
     "metadata": {},
     "output_type": "execute_result"
    }
   ],
   "source": [
    "excel_nz_texts.head"
   ]
  },
  {
   "cell_type": "code",
   "execution_count": 6,
   "metadata": {},
   "outputs": [],
   "source": [
    "name_colums_for_new_csv = ['file_code', 'class', 'date']\n",
    "new_csv = pd.DataFrame(zip(csv_final_report.file_code, csv_final_report.category_name, csv_final_report.date), columns=name_colums_for_new_csv)"
   ]
  },
  {
   "cell_type": "code",
   "execution_count": 7,
   "metadata": {},
   "outputs": [
    {
     "data": {
      "text/plain": [
       "<bound method NDFrame.head of      file_code                                              class  \\\n",
       "0        bbc_0                      Top/politics/healthcarepolicy   \n",
       "1        bbc_0  Top/politics/healthcarepolicy/quarntine_streng...   \n",
       "2        bbc_0                                         Top/events   \n",
       "3        bbc_0                       Top/events/onlinetransformed   \n",
       "4        bbc_0                           Top/economy/coronacrisis   \n",
       "...        ...                                                ...   \n",
       "9706    zn_842                                       Top/politics   \n",
       "9707    zn_842  Top/politics/healthcarepolicy/quarntine_streng...   \n",
       "9708    zn_843                                 Top/health/recover   \n",
       "9709    zn_843                           Top/health/dissemination   \n",
       "9710    zn_843                                   Top/technologies   \n",
       "\n",
       "                      date  \n",
       "0     11May2014 11:15:36.0  \n",
       "1     11May2014 11:15:36.0  \n",
       "2     11May2014 11:15:36.0  \n",
       "3     11May2014 11:15:36.0  \n",
       "4     11May2014 11:15:36.0  \n",
       "...                    ...  \n",
       "9706  11May2014 11:15:37.0  \n",
       "9707  11May2014 11:15:37.0  \n",
       "9708  11May2014 11:15:37.0  \n",
       "9709  11May2014 11:15:37.0  \n",
       "9710  11May2014 11:15:37.0  \n",
       "\n",
       "[9711 rows x 3 columns]>"
      ]
     },
     "execution_count": 7,
     "metadata": {},
     "output_type": "execute_result"
    }
   ],
   "source": [
    "new_csv.head"
   ]
  },
  {
   "cell_type": "code",
   "execution_count": 8,
   "metadata": {},
   "outputs": [],
   "source": [
    "def preparation():\n",
    "    \n",
    "    for index in range(len(csv_final_report)):\n",
    "        source_name = (re.findall('zn|bbc',new_csv.loc[index][0]))[0]\n",
    "        count_in_table = re.findall('_\\d{0,10}', new_csv.loc[index][0])\n",
    "        count_in_table = int(count_in_table[0].replace('_', ''))\n",
    "\n",
    "        if source_name == 'bbc':\n",
    "            new_csv.loc[index][2] = pd.to_datetime(excel_bbc_texts.loc[count_in_table]['Date'], format='%d/%m/%Y', dayfirst=True)\n",
    "        elif source_name == 'zn':\n",
    "            new_csv.loc[index][2] = pd.to_datetime(excel_nz_texts.loc[count_in_table]['Date'], format='%d/%m/%Y', dayfirst=True)\n",
    "    \n",
    "    my_classes = list(set(new_csv['class']))\n",
    "    len_my_classes = len(my_classes)\n",
    "    \n",
    "    my_classes.append('start_period')\n",
    "    my_classes.append('end_period')\n",
    "    return my_classes,len_my_classes"
   ]
  },
  {
   "cell_type": "code",
   "execution_count": null,
   "metadata": {},
   "outputs": [],
   "source": [
    "my_classes, len_my_classes = preparation()\n",
    "my_classes"
   ]
  },
  {
   "cell_type": "code",
   "execution_count": null,
   "metadata": {},
   "outputs": [],
   "source": [
    "def create_result_table(name_colums_for_new_csv, my_classes, days_period, first_day, last_day):\n",
    "    \n",
    "    all_source_for_bars = pd.DataFrame(columns=my_classes)\n",
    "    \n",
    "    last_day = pd.to_datetime(last_day,format='%d/%m/%Y')\n",
    "    start_period = pd.to_datetime(first_day,format='%d/%m/%Y')\n",
    "    period_time = pd.Timedelta(days=days_period)\n",
    "    bool_parametr = True\n",
    "    \n",
    "    while bool_parametr:\n",
    "        end_period = start_period + period_time\n",
    "        \n",
    "        if end_period >= last_day:\n",
    "            bool_parametr = False\n",
    "            end_period = last_day\n",
    "            break\n",
    "        \n",
    "        counts_dateFrame = pd.DataFrame(columns=name_colums_for_new_csv)\n",
    "        counts_list = np.array([])\n",
    "        for index,name_class in enumerate(my_classes):\n",
    "            if name_class == 'start_period':\n",
    "                counts_list = np.append(counts_list, start_period)\n",
    "                counts_list = np.append(counts_list, end_period)\n",
    "                break\n",
    "\n",
    "            counts_dateFrame = new_csv[(new_csv['class'] == name_class) & (start_period <= new_csv['date']) & (new_csv['date'] <= end_period)]\n",
    "            # print(counts_dateFrame.head)\n",
    "            count = len(counts_dateFrame)\n",
    "\n",
    "            # print(f\"count\\t{count}\\nindex\\t{index}\")\n",
    "            counts_list = np.append(counts_list, count)\n",
    "\n",
    "        temp_count_table = pd.DataFrame([counts_list],columns=my_classes) \n",
    "        all_source_for_bars = all_source_for_bars.append(temp_count_table, ignore_index=True)\n",
    "        \n",
    "        start_period = end_period + pd.Timedelta(days=1)\n",
    "    \n",
    "    return all_source_for_bars"
   ]
  },
  {
   "cell_type": "code",
   "execution_count": null,
   "metadata": {},
   "outputs": [],
   "source": [
    "days_period = 3 \n",
    "first_day = '03/03/2020' \n",
    "last_day = '12/05/2020'\n",
    "all_source_bars = create_result_table(name_colums_for_new_csv, my_classes, days_period, first_day, last_day)\n"
   ]
  },
  {
   "cell_type": "code",
   "execution_count": null,
   "metadata": {},
   "outputs": [],
   "source": [
    "all_source_bars.head"
   ]
  },
  {
   "cell_type": "code",
   "execution_count": null,
   "metadata": {},
   "outputs": [],
   "source": [
    "res_without_dates = all_source_bars.drop(['start_period','end_period'], axis=1)\n"
   ]
  },
  {
   "cell_type": "code",
   "execution_count": null,
   "metadata": {},
   "outputs": [],
   "source": [
    "cf.set_config_file(offline=False, world_readable=True)\n",
    "res_without_dates.iplot(kind='bar', histnorm='percent',\n",
    "    barmode='overlay', xTitle='period',\n",
    "                  yTitle='count', title='Coronovirus')\n",
    "\n",
    "#res_without_dates.corr().iplot(kind='heatmap',colorscale=\"Blues\",title=\"Feature Correlation Matrix\")"
   ]
  },
  {
   "cell_type": "code",
   "execution_count": null,
   "metadata": {},
   "outputs": [],
   "source": []
  },
  {
   "cell_type": "code",
   "execution_count": null,
   "metadata": {},
   "outputs": [],
   "source": [
    "days_period = 5 \n",
    "all_source_bars = create_result_table(name_colums_for_new_csv, my_classes, days_period, first_day, last_day)\n",
    "res_without_dates = all_source_bars.drop(['start_period','end_period'], axis=1)\n"
   ]
  },
  {
   "cell_type": "code",
   "execution_count": null,
   "metadata": {},
   "outputs": [],
   "source": [
    "res_without_dates.iplot(kind='bar', histnorm='percent',\n",
    "    barmode='overlay', xTitle='period',\n",
    "                  yTitle='count', title='Coronovirus')"
   ]
  },
  {
   "cell_type": "code",
   "execution_count": null,
   "metadata": {
    "scrolled": false
   },
   "outputs": [],
   "source": []
  },
  {
   "cell_type": "code",
   "execution_count": null,
   "metadata": {},
   "outputs": [],
   "source": [
    "res_without_dates[['Top/health/recover', 'Top/health/illness']].iplot(kind='bar', histnorm='percent', xTitle='period',\n",
    "                  yTitle='count', title='Coronovirus')"
   ]
  },
  {
   "cell_type": "code",
   "execution_count": null,
   "metadata": {},
   "outputs": [],
   "source": []
  },
  {
   "cell_type": "code",
   "execution_count": null,
   "metadata": {},
   "outputs": [],
   "source": [
    "days_period = 7 \n",
    "all_source_bars = create_result_table(name_colums_for_new_csv, my_classes, days_period, first_day, last_day)\n",
    "res_without_dates = all_source_bars.drop(['start_period','end_period'], axis=1)\n",
    "\n",
    "res_without_dates.iplot(kind='bar', histnorm='percent',\n",
    "    barmode='overlay', xTitle='period',\n",
    "                  yTitle='count', title='Coronovirus')"
   ]
  },
  {
   "cell_type": "code",
   "execution_count": null,
   "metadata": {},
   "outputs": [],
   "source": []
  }
 ],
 "metadata": {
  "kernelspec": {
   "display_name": "Python 3",
   "language": "python",
   "name": "python3"
  },
  "language_info": {
   "codemirror_mode": {
    "name": "ipython",
    "version": 3
   },
   "file_extension": ".py",
   "mimetype": "text/x-python",
   "name": "python",
   "nbconvert_exporter": "python",
   "pygments_lexer": "ipython3",
   "version": "3.7.4"
  }
 },
 "nbformat": 4,
 "nbformat_minor": 2
}
