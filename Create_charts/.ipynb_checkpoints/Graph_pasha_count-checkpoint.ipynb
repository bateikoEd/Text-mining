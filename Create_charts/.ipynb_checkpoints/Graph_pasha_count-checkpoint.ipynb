{
 "cells": [
  {
   "cell_type": "code",
   "execution_count": 1,
   "metadata": {},
   "outputs": [],
   "source": [
    "import pandas as pd\n",
    "import numpy as np\n",
    "import re\n",
    "import chart_studio.plotly.plotly as plotly\n",
    "from chart_studio.plotly import iplot \n",
    "import cufflinks as cf\n",
    "\n",
    "cf.set_config_file(offline=False, world_readable=True)\n",
    "import plotly.express as px\n",
    "import plotly.io as pio\n",
    "\n",
    "\n",
    "plotly.sign_in('pavloboiko', 'az5LvJJAnnHGiWxie4Rq')\n"
   ]
  },
  {
   "cell_type": "code",
   "execution_count": 2,
   "metadata": {},
   "outputs": [],
   "source": [
    "file_name_bbc = '../BBC_reading/exсel_files/bbc_scraping.xlsx'\n",
    "file_name_nz = '../BBC_reading/exсel_files/zn_ua_scraping.xlsx'\n",
    "file_name_csv = '../report/report2.csv'\n",
    "\n",
    "csv_final_report = pd.read_csv(file_name_csv)\n",
    "excel_bbc_texts = pd.read_excel(file_name_bbc, index_col=0)\n",
    "excel_nz_texts = pd.read_excel(file_name_nz, index_col=0)"
   ]
  },
  {
   "cell_type": "code",
   "execution_count": 3,
   "metadata": {},
   "outputs": [
    {
     "data": {
      "text/plain": [
       "<bound method NDFrame.head of      file_code  pass  is_fail_doc  \\\n",
       "0        bbc_0     1            0   \n",
       "1        bbc_0     1            0   \n",
       "2        bbc_0     1            0   \n",
       "3        bbc_0     1            0   \n",
       "4        bbc_0     1            0   \n",
       "...        ...   ...          ...   \n",
       "9706    zn_842     1            0   \n",
       "9707    zn_842     1            0   \n",
       "9708    zn_843     1            0   \n",
       "9709    zn_843     1            0   \n",
       "9710    zn_843     1            0   \n",
       "\n",
       "                                          category_name  relevancy  \\\n",
       "0                         Top/politics/healthcarepolicy        1.0   \n",
       "1     Top/politics/healthcarepolicy/quarntine_streng...        1.0   \n",
       "2                                            Top/events        1.0   \n",
       "3                          Top/events/onlinetransformed        1.0   \n",
       "4                              Top/economy/coronacrisis        1.0   \n",
       "...                                                 ...        ...   \n",
       "9706                                       Top/politics        1.0   \n",
       "9707  Top/politics/healthcarepolicy/quarntine_streng...        1.0   \n",
       "9708                                 Top/health/recover        1.0   \n",
       "9709                           Top/health/dissemination        1.0   \n",
       "9710                                   Top/technologies        1.0   \n",
       "\n",
       "      above_rel_cutoff                  date  \n",
       "0                    1  11May2014 11:15:36.0  \n",
       "1                    1  11May2014 11:15:36.0  \n",
       "2                    1  11May2014 11:15:36.0  \n",
       "3                    1  11May2014 11:15:36.0  \n",
       "4                    1  11May2014 11:15:36.0  \n",
       "...                ...                   ...  \n",
       "9706                 1  11May2014 11:15:37.0  \n",
       "9707                 1  11May2014 11:15:37.0  \n",
       "9708                 1  11May2014 11:15:37.0  \n",
       "9709                 1  11May2014 11:15:37.0  \n",
       "9710                 1  11May2014 11:15:37.0  \n",
       "\n",
       "[9711 rows x 7 columns]>"
      ]
     },
     "execution_count": 3,
     "metadata": {},
     "output_type": "execute_result"
    }
   ],
   "source": [
    "csv_final_report.head"
   ]
  },
  {
   "cell_type": "code",
   "execution_count": 4,
   "metadata": {},
   "outputs": [
    {
     "data": {
      "text/plain": [
       "<bound method NDFrame.head of            Date                       Author  Main_Topics  \\\n",
       "0    22/03/2020                          NaN     Здоров'я   \n",
       "1    22/03/2020                          NaN     Здоров'я   \n",
       "2    22/03/2020                          NaN     Здоров'я   \n",
       "3    22/03/2020              Ольга Паламарюк     Здоров'я   \n",
       "4    22/03/2020               BBC Моніторинг     Здоров'я   \n",
       "..          ...                          ...          ...   \n",
       "866  12/05/2020  Говард Мусто і Сем Проффітт  Коронавірус   \n",
       "867  13/05/2020                          NaN  Коронавірус   \n",
       "868  13/05/2020                          NaN  Коронавірус   \n",
       "869  13/05/2020                          NaN  Коронавірус   \n",
       "870  13/05/2020                          NaN  Коронавірус   \n",
       "\n",
       "                                                 Topic  \\\n",
       "0    Надія є: п'ять причин порадіти під час пандемі...   \n",
       "1           Маски: щоб захистити інших, а не вас - МОЗ   \n",
       "2       Коронавірус: як у світі запроваджують карантин   \n",
       "3    \"Коли тобі кажуть: у тебе - коронавірус\". Розп...   \n",
       "4        Ібупрофен і Covid-19: міфи та правда про ліки   \n",
       "..                                                 ...   \n",
       "866  Застрягли в морі через коронавірус: як моряків...   \n",
       "867  Як подолала коронавірус найстаріша жителька Іс...   \n",
       "868           Коронавірус в Україні. Інтерактивна мапа   \n",
       "869                                        Коронавірус   \n",
       "870  Twitter дозволив співробітникам працювати з до...   \n",
       "\n",
       "                                                  Text  \n",
       "0    Копирайт изображения\\nAFP\\nImage caption\\nПо в...  \n",
       "1    Копирайт изображения\\nUNIAN\\nЗахисні маски не ...  \n",
       "2    Копирайт изображения\\nGETTY IMAGES\\nПандемія к...  \n",
       "3    Копирайт изображения\\nUNIAN\\nОлександр з Черні...  \n",
       "4    Копирайт изображения\\nGETTY IMAGES\\nОстаннім ч...  \n",
       "..                                                 ...  \n",
       "866  Копирайт изображения\\nGETTY IMAGES\\nЧерез панд...  \n",
       "867  Копирайт изображения\\nGETTY IMAGES\\nImage capt...  \n",
       "868  В якій області найбільше інфікованих коронавір...  \n",
       "869                                                NaN  \n",
       "870  Копирайт изображения\\nGETTY IMAGES\\nКомпанія T...  \n",
       "\n",
       "[871 rows x 5 columns]>"
      ]
     },
     "execution_count": 4,
     "metadata": {},
     "output_type": "execute_result"
    }
   ],
   "source": [
    "excel_bbc_texts.head"
   ]
  },
  {
   "cell_type": "code",
   "execution_count": 5,
   "metadata": {},
   "outputs": [
    {
     "data": {
      "text/plain": [
       "<bound method NDFrame.head of             Date  Author Main_Topics  \\\n",
       "0     05/04/2020     NaN    Політика   \n",
       "1     05/04/2020     NaN    Політика   \n",
       "2     05/04/2020     NaN    Політика   \n",
       "3     05/04/2020     NaN    Політика   \n",
       "4     05/04/2020     NaN    Політика   \n",
       "...          ...     ...         ...   \n",
       "3026  14/05/2020     NaN     Україна   \n",
       "3027  14/05/2020     NaN     Україна   \n",
       "3028  14/05/2020     NaN     Україна   \n",
       "3029  14/05/2020     NaN     Україна   \n",
       "3030  14/05/2020     NaN     Україна   \n",
       "\n",
       "                                                  Topic  \\\n",
       "0     Постпред України в ООН розповів, як Росія пере...   \n",
       "1     З початку року в Донбасі 12 осіб загинули від ...   \n",
       "2     Людина Ахметова стала позаштатним радником пре...   \n",
       "3          НАБУ завершило розслідування справи Гримчака   \n",
       "4                           НАБУ допитало Дениса Єрмака   \n",
       "...                                                 ...   \n",
       "3026  На Закарпатті обрушився кінотеатр: з-під завал...   \n",
       "3027  COVID-19 додали до переліку профзахворювань ук...   \n",
       "3028  Стерненка викликали до СБУ: активіст очікує ог...   \n",
       "3029  Зеркаль стала відповідальною за організацію ро...   \n",
       "3030  Венедіктова повернула в Офіс генпрокурора прак...   \n",
       "\n",
       "                                                   Text  \n",
       "0     Москва розробляє багаторівневі та багатокроков...  \n",
       "1     В ОБСЄ закликали негайно провести розмінування...  \n",
       "2     Топ-чиновник корпорації ДТЕК став радником пре...  \n",
       "3     Матеріали кримінального провадження відкриті д...  \n",
       "4     Детективи записали зразки голосу брата керівни...  \n",
       "...                                                 ...  \n",
       "3026  Рятувальники шукають людей під завалами.\\n\\nУ ...  \n",
       "3027  Кабмін доповнив перелік захворювань, які відно...  \n",
       "3028  Сергія Стерненко в понеділок чекають в СБУ для...  \n",
       "3029  У \"Нафтогазі України\" нагадали, що Зеркаль бра...  \n",
       "3030  Саме для вибудовування контрольованої вертикал...  \n",
       "\n",
       "[3031 rows x 5 columns]>"
      ]
     },
     "execution_count": 5,
     "metadata": {},
     "output_type": "execute_result"
    }
   ],
   "source": [
    "excel_nz_texts.head"
   ]
  },
  {
   "cell_type": "code",
   "execution_count": 6,
   "metadata": {},
   "outputs": [],
   "source": [
    "name_colums_for_new_csv = ['file_code', 'class', 'date']\n",
    "new_csv = pd.DataFrame(zip(csv_final_report.file_code, csv_final_report.category_name, csv_final_report.date), columns=name_colums_for_new_csv)"
   ]
  },
  {
   "cell_type": "code",
   "execution_count": 7,
   "metadata": {},
   "outputs": [
    {
     "data": {
      "text/plain": [
       "<bound method NDFrame.head of      file_code                                              class  \\\n",
       "0        bbc_0                      Top/politics/healthcarepolicy   \n",
       "1        bbc_0  Top/politics/healthcarepolicy/quarntine_streng...   \n",
       "2        bbc_0                                         Top/events   \n",
       "3        bbc_0                       Top/events/onlinetransformed   \n",
       "4        bbc_0                           Top/economy/coronacrisis   \n",
       "...        ...                                                ...   \n",
       "9706    zn_842                                       Top/politics   \n",
       "9707    zn_842  Top/politics/healthcarepolicy/quarntine_streng...   \n",
       "9708    zn_843                                 Top/health/recover   \n",
       "9709    zn_843                           Top/health/dissemination   \n",
       "9710    zn_843                                   Top/technologies   \n",
       "\n",
       "                      date  \n",
       "0     11May2014 11:15:36.0  \n",
       "1     11May2014 11:15:36.0  \n",
       "2     11May2014 11:15:36.0  \n",
       "3     11May2014 11:15:36.0  \n",
       "4     11May2014 11:15:36.0  \n",
       "...                    ...  \n",
       "9706  11May2014 11:15:37.0  \n",
       "9707  11May2014 11:15:37.0  \n",
       "9708  11May2014 11:15:37.0  \n",
       "9709  11May2014 11:15:37.0  \n",
       "9710  11May2014 11:15:37.0  \n",
       "\n",
       "[9711 rows x 3 columns]>"
      ]
     },
     "execution_count": 7,
     "metadata": {},
     "output_type": "execute_result"
    }
   ],
   "source": [
    "new_csv.head"
   ]
  },
  {
   "cell_type": "code",
   "execution_count": 8,
   "metadata": {},
   "outputs": [],
   "source": [
    "def preparation():\n",
    "    \n",
    "    for index in range(len(csv_final_report)):\n",
    "        source_name = (re.findall('zn|bbc',new_csv.loc[index][0]))[0]\n",
    "        count_in_table = re.findall('_\\d{0,10}', new_csv.loc[index][0])\n",
    "        count_in_table = int(count_in_table[0].replace('_', ''))\n",
    "\n",
    "        if source_name == 'bbc':\n",
    "            new_csv.loc[index][2] = pd.to_datetime(excel_bbc_texts.loc[count_in_table]['Date'], format='%d/%m/%Y', dayfirst=True)\n",
    "        elif source_name == 'zn':\n",
    "            new_csv.loc[index][2] = pd.to_datetime(excel_nz_texts.loc[count_in_table]['Date'], format='%d/%m/%Y', dayfirst=True)\n",
    "    \n",
    "    my_classes = list(set(new_csv['class']))\n",
    "    len_my_classes = len(my_classes)\n",
    "    \n",
    "    my_classes.append('start_period')\n",
    "    my_classes.append('end_period')\n",
    "    return my_classes,len_my_classes"
   ]
  },
  {
   "cell_type": "code",
   "execution_count": 9,
   "metadata": {},
   "outputs": [
    {
     "data": {
      "text/plain": [
       "['Top/politics/healthcarepolicy/safetysteps',\n",
       " 'Top/society/producthisteria',\n",
       " 'Top/health/dissemination',\n",
       " 'Top/politics/healthcarepolicy/education',\n",
       " 'Top/technologies/developingofequipment',\n",
       " 'Top/economy',\n",
       " 'Top/economy/coronaimport',\n",
       " 'Top/politics/healthcarepolicy',\n",
       " 'Top/economy/coronabusiness',\n",
       " 'Top/events',\n",
       " 'Top/politics/healthcarepolicy/entertaiment',\n",
       " 'Top/science/developingvaccine',\n",
       " 'Top/health',\n",
       " 'Top/politics',\n",
       " 'Top/science',\n",
       " 'Top/society/familytroubles',\n",
       " 'Top/society/potentialdeathhisteria',\n",
       " 'Top/economy/crisis',\n",
       " 'Top/society',\n",
       " 'Top/politics/healthcarepolicy/transport',\n",
       " 'Top/technologies',\n",
       " 'Top/society/potentialdeath',\n",
       " 'Top/society/death',\n",
       " 'Top/events/onlinetransformed',\n",
       " 'Top/politics/healthcarepolicy/quarntine_strengthening',\n",
       " 'Top/politics/criminal',\n",
       " 'Top/health/illness',\n",
       " 'Top/events/coronacanceledevents',\n",
       " 'Top/science/developingnewdrugs',\n",
       " 'Top/economy/coronacrisis',\n",
       " 'Top/health/recover',\n",
       " 'Top/coronavirus',\n",
       " 'Top/science/existeddrugs',\n",
       " 'Top/economy/coronajobloss',\n",
       " 'start_period',\n",
       " 'end_period']"
      ]
     },
     "execution_count": 9,
     "metadata": {},
     "output_type": "execute_result"
    }
   ],
   "source": [
    "my_classes, len_my_classes = preparation()\n",
    "my_classes"
   ]
  },
  {
   "cell_type": "code",
   "execution_count": 10,
   "metadata": {},
   "outputs": [],
   "source": [
    "def create_result_table(name_colums_for_new_csv, my_classes, days_period, first_day, last_day):\n",
    "    \n",
    "    all_source_for_bars = pd.DataFrame(columns=my_classes)\n",
    "    \n",
    "    last_day = pd.to_datetime(last_day,format='%d/%m/%Y')\n",
    "    start_period = pd.to_datetime(first_day,format='%d/%m/%Y')\n",
    "    period_time = pd.Timedelta(days=days_period)\n",
    "    bool_parametr = True\n",
    "    \n",
    "    while bool_parametr:\n",
    "        end_period = start_period + period_time\n",
    "        \n",
    "        if end_period >= last_day:\n",
    "            bool_parametr = False\n",
    "            end_period = last_day\n",
    "            break\n",
    "        \n",
    "        counts_dateFrame = pd.DataFrame(columns=name_colums_for_new_csv)\n",
    "        counts_list = np.array([])\n",
    "        for index,name_class in enumerate(my_classes):\n",
    "            if name_class == 'start_period':\n",
    "                counts_list = np.append(counts_list, start_period)\n",
    "                counts_list = np.append(counts_list, end_period)\n",
    "                break\n",
    "\n",
    "            counts_dateFrame = new_csv[(new_csv['class'] == name_class) & (start_period <= new_csv['date']) & (new_csv['date'] <= end_period)]\n",
    "            # print(counts_dateFrame.head)\n",
    "            count = len(counts_dateFrame)\n",
    "\n",
    "            # print(f\"count\\t{count}\\nindex\\t{index}\")\n",
    "            counts_list = np.append(counts_list, count)\n",
    "\n",
    "        temp_count_table = pd.DataFrame([counts_list],columns=my_classes) \n",
    "        all_source_for_bars = all_source_for_bars.append(temp_count_table, ignore_index=True)\n",
    "        \n",
    "        start_period = end_period + pd.Timedelta(days=1)\n",
    "    \n",
    "    return all_source_for_bars"
   ]
  },
  {
   "cell_type": "code",
   "execution_count": 11,
   "metadata": {},
   "outputs": [],
   "source": [
    "days_period = 3 \n",
    "first_day = '03/03/2020' \n",
    "last_day = '12/05/2020'\n",
    "all_source_bars = create_result_table(name_colums_for_new_csv, my_classes, days_period, first_day, last_day)\n"
   ]
  },
  {
   "cell_type": "code",
   "execution_count": 12,
   "metadata": {},
   "outputs": [
    {
     "data": {
      "text/plain": [
       "<bound method NDFrame.head of     Top/politics/healthcarepolicy/safetysteps  Top/society/producthisteria  \\\n",
       "0                                         0.0                          0.0   \n",
       "1                                         0.0                          1.0   \n",
       "2                                         3.0                          0.0   \n",
       "3                                        11.0                          2.0   \n",
       "4                                        11.0                          2.0   \n",
       "5                                        18.0                          1.0   \n",
       "6                                        17.0                          6.0   \n",
       "7                                        40.0                          3.0   \n",
       "8                                        45.0                          0.0   \n",
       "9                                        31.0                          3.0   \n",
       "10                                       24.0                          0.0   \n",
       "11                                       31.0                          0.0   \n",
       "12                                       22.0                          0.0   \n",
       "13                                       13.0                          1.0   \n",
       "14                                       16.0                          1.0   \n",
       "15                                       11.0                          2.0   \n",
       "16                                       21.0                          2.0   \n",
       "\n",
       "    Top/health/dissemination  Top/politics/healthcarepolicy/education  \\\n",
       "0                        0.0                                      0.0   \n",
       "1                        1.0                                      0.0   \n",
       "2                        0.0                                      3.0   \n",
       "3                        2.0                                      6.0   \n",
       "4                        2.0                                      5.0   \n",
       "5                        7.0                                      3.0   \n",
       "6                        8.0                                      0.0   \n",
       "7                        8.0                                      2.0   \n",
       "8                       14.0                                      5.0   \n",
       "9                        4.0                                      4.0   \n",
       "10                       8.0                                      1.0   \n",
       "11                       6.0                                      0.0   \n",
       "12                      10.0                                      1.0   \n",
       "13                       0.0                                      0.0   \n",
       "14                      16.0                                      0.0   \n",
       "15                       6.0                                      0.0   \n",
       "16                      10.0                                      1.0   \n",
       "\n",
       "    Top/technologies/developingofequipment  Top/economy  \\\n",
       "0                                      0.0          0.0   \n",
       "1                                      0.0          8.0   \n",
       "2                                      0.0          5.0   \n",
       "3                                      1.0         15.0   \n",
       "4                                      1.0         18.0   \n",
       "5                                      6.0         35.0   \n",
       "6                                      7.0         17.0   \n",
       "7                                      3.0         28.0   \n",
       "8                                      3.0         30.0   \n",
       "9                                      3.0         23.0   \n",
       "10                                     3.0         30.0   \n",
       "11                                     0.0         23.0   \n",
       "12                                     1.0         44.0   \n",
       "13                                     2.0         25.0   \n",
       "14                                     3.0         23.0   \n",
       "15                                     2.0         16.0   \n",
       "16                                     1.0         28.0   \n",
       "\n",
       "    Top/economy/coronaimport  Top/politics/healthcarepolicy  \\\n",
       "0                        0.0                            0.0   \n",
       "1                        0.0                            0.0   \n",
       "2                        0.0                            7.0   \n",
       "3                        1.0                            6.0   \n",
       "4                        6.0                           10.0   \n",
       "5                        6.0                           16.0   \n",
       "6                        7.0                            5.0   \n",
       "7                        8.0                           22.0   \n",
       "8                        9.0                           13.0   \n",
       "9                        8.0                           16.0   \n",
       "10                       4.0                            6.0   \n",
       "11                       9.0                           11.0   \n",
       "12                      10.0                           17.0   \n",
       "13                      10.0                            4.0   \n",
       "14                       8.0                            8.0   \n",
       "15                       6.0                           12.0   \n",
       "16                       6.0                            9.0   \n",
       "\n",
       "    Top/economy/coronabusiness  Top/events  ...  Top/health/illness  \\\n",
       "0                          0.0         0.0  ...                 0.0   \n",
       "1                          0.0         9.0  ...                 1.0   \n",
       "2                          0.0        38.0  ...                 4.0   \n",
       "3                          1.0        37.0  ...                 3.0   \n",
       "4                          3.0        23.0  ...                 5.0   \n",
       "5                          3.0        31.0  ...                20.0   \n",
       "6                          0.0        42.0  ...                18.0   \n",
       "7                          2.0        81.0  ...                35.0   \n",
       "8                          2.0       149.0  ...                31.0   \n",
       "9                          0.0        78.0  ...                15.0   \n",
       "10                         1.0        81.0  ...                22.0   \n",
       "11                         1.0        79.0  ...                25.0   \n",
       "12                         3.0       123.0  ...                24.0   \n",
       "13                         1.0        97.0  ...                11.0   \n",
       "14                         0.0       111.0  ...                16.0   \n",
       "15                         0.0        84.0  ...                15.0   \n",
       "16                         0.0       120.0  ...                22.0   \n",
       "\n",
       "    Top/events/coronacanceledevents  Top/science/developingnewdrugs  \\\n",
       "0                               0.0                             0.0   \n",
       "1                               0.0                             0.0   \n",
       "2                               4.0                             0.0   \n",
       "3                               3.0                             0.0   \n",
       "4                               2.0                             3.0   \n",
       "5                               1.0                             0.0   \n",
       "6                               2.0                             2.0   \n",
       "7                               4.0                             0.0   \n",
       "8                              11.0                             2.0   \n",
       "9                               9.0                             2.0   \n",
       "10                             10.0                             4.0   \n",
       "11                              4.0                             1.0   \n",
       "12                             11.0                             3.0   \n",
       "13                              5.0                             2.0   \n",
       "14                              8.0                             3.0   \n",
       "15                             12.0                             2.0   \n",
       "16                              5.0                             3.0   \n",
       "\n",
       "    Top/economy/coronacrisis  Top/health/recover  Top/coronavirus  \\\n",
       "0                        0.0                 0.0              1.0   \n",
       "1                        5.0                 0.0              8.0   \n",
       "2                        5.0                 1.0             23.0   \n",
       "3                        9.0                 2.0             50.0   \n",
       "4                       10.0                 6.0             64.0   \n",
       "5                       20.0                14.0            104.0   \n",
       "6                       12.0                20.0            103.0   \n",
       "7                       26.0                27.0            194.0   \n",
       "8                       17.0                25.0            204.0   \n",
       "9                       16.0                12.0            130.0   \n",
       "10                      12.0                17.0            139.0   \n",
       "11                      11.0                13.0            132.0   \n",
       "12                      22.0                22.0            178.0   \n",
       "13                      10.0                20.0            129.0   \n",
       "14                      12.0                13.0            154.0   \n",
       "15                       3.0                17.0            127.0   \n",
       "16                      13.0                27.0            164.0   \n",
       "\n",
       "    Top/science/existeddrugs  Top/economy/coronajobloss  start_period  \\\n",
       "0                        0.0                        0.0    2020-03-03   \n",
       "1                        1.0                        0.0    2020-03-07   \n",
       "2                        0.0                        1.0    2020-03-11   \n",
       "3                        0.0                        9.0    2020-03-15   \n",
       "4                        0.0                        7.0    2020-03-19   \n",
       "5                        2.0                       18.0    2020-03-23   \n",
       "6                        3.0                       12.0    2020-03-27   \n",
       "7                       12.0                       19.0    2020-03-31   \n",
       "8                       10.0                       23.0    2020-04-04   \n",
       "9                        5.0                       10.0    2020-04-08   \n",
       "10                       4.0                       12.0    2020-04-12   \n",
       "11                       4.0                        6.0    2020-04-16   \n",
       "12                       3.0                       12.0    2020-04-20   \n",
       "13                       1.0                       11.0    2020-04-24   \n",
       "14                       2.0                       11.0    2020-04-28   \n",
       "15                       3.0                       11.0    2020-05-02   \n",
       "16                       1.0                       10.0    2020-05-06   \n",
       "\n",
       "    end_period  \n",
       "0   2020-03-06  \n",
       "1   2020-03-10  \n",
       "2   2020-03-14  \n",
       "3   2020-03-18  \n",
       "4   2020-03-22  \n",
       "5   2020-03-26  \n",
       "6   2020-03-30  \n",
       "7   2020-04-03  \n",
       "8   2020-04-07  \n",
       "9   2020-04-11  \n",
       "10  2020-04-15  \n",
       "11  2020-04-19  \n",
       "12  2020-04-23  \n",
       "13  2020-04-27  \n",
       "14  2020-05-01  \n",
       "15  2020-05-05  \n",
       "16  2020-05-09  \n",
       "\n",
       "[17 rows x 36 columns]>"
      ]
     },
     "execution_count": 12,
     "metadata": {},
     "output_type": "execute_result"
    }
   ],
   "source": [
    "all_source_bars.head"
   ]
  },
  {
   "cell_type": "code",
   "execution_count": 13,
   "metadata": {},
   "outputs": [],
   "source": [
    "res_without_dates = all_source_bars.drop(['start_period','end_period'], axis=1)\n"
   ]
  },
  {
   "cell_type": "code",
   "execution_count": 14,
   "metadata": {},
   "outputs": [],
   "source": [
    "ax = res_without_dates.iplot(kind='bar', histnorm='percent',\n",
    "    barmode='overlay', xTitle='period',\n",
    "                  yTitle='count', title='Coronovirus')\n",
    "\n",
    "\n",
    "\n",
    "\n",
    "#res_without_dates.corr().iplot(kind='heatmap',colorscale=\"Blues\",title=\"Feature Correlation Matrix\")"
   ]
  },
  {
   "cell_type": "code",
   "execution_count": 15,
   "metadata": {},
   "outputs": [
    {
     "data": {
      "text/html": [
       "\n",
       "        <iframe\n",
       "            width=\"100%\"\n",
       "            height=\"525px\"\n",
       "            src=\"https://plotly.com/~pavloboiko/24.embed\"\n",
       "            frameborder=\"0\"\n",
       "            allowfullscreen\n",
       "        ></iframe>\n",
       "        "
      ],
      "text/plain": [
       "<IPython.lib.display.IFrame at 0x11e4e4490>"
      ]
     },
     "execution_count": 15,
     "metadata": {},
     "output_type": "execute_result"
    }
   ],
   "source": [
    "ax.template = \"plotly_dark\"\n",
    "ax"
   ]
  },
  {
   "cell_type": "code",
   "execution_count": null,
   "metadata": {},
   "outputs": [],
   "source": [
    "cf.set_config_file(offline=True, world_readable=False)\n",
    "res_without_dates.iplot(kind='bar', histnorm='percent',\n",
    "    barmode='overlay', xTitle='period',\n",
    "                  yTitle='count', title='Coronovirus')"
   ]
  },
  {
   "cell_type": "code",
   "execution_count": 16,
   "metadata": {},
   "outputs": [],
   "source": [
    "days_period = 5 \n",
    "all_source_bars = create_result_table(name_colums_for_new_csv, my_classes, days_period, first_day, last_day)\n",
    "res_without_dates = all_source_bars.drop(['start_period','end_period'], axis=1)\n"
   ]
  },
  {
   "cell_type": "code",
   "execution_count": null,
   "metadata": {},
   "outputs": [],
   "source": []
  },
  {
   "cell_type": "code",
   "execution_count": null,
   "metadata": {},
   "outputs": [],
   "source": [
    "cf.set_config_file(offline=False, world_readable=True)\n",
    "res_without_dates.iplot(kind='bar', histnorm='percent',\n",
    "    barmode='overlay', xTitle='period',\n",
    "                  yTitle='count', title='Coronovirus')"
   ]
  },
  {
   "cell_type": "code",
   "execution_count": 17,
   "metadata": {
    "scrolled": false
   },
   "outputs": [
    {
     "data": {
      "text/html": [
       "\n",
       "        <iframe\n",
       "            width=\"100%\"\n",
       "            height=\"525px\"\n",
       "            src=\"https://plotly.com/~pavloboiko/24.embed\"\n",
       "            frameborder=\"0\"\n",
       "            allowfullscreen\n",
       "        ></iframe>\n",
       "        "
      ],
      "text/plain": [
       "<IPython.lib.display.IFrame at 0x11e12a710>"
      ]
     },
     "execution_count": 17,
     "metadata": {},
     "output_type": "execute_result"
    }
   ],
   "source": [
    "cf.set_config_file(offline=True, world_readable=False)\n",
    "res_without_dates.iplot(kind='bar', histnorm='percent',\n",
    "    barmode='overlay', xTitle='period',\n",
    "                  yTitle='count', title='Coronovirus')"
   ]
  },
  {
   "cell_type": "code",
   "execution_count": 18,
   "metadata": {},
   "outputs": [
    {
     "data": {
      "text/html": [
       "\n",
       "        <iframe\n",
       "            width=\"100%\"\n",
       "            height=\"525px\"\n",
       "            src=\"https://plotly.com/~pavloboiko/24.embed\"\n",
       "            frameborder=\"0\"\n",
       "            allowfullscreen\n",
       "        ></iframe>\n",
       "        "
      ],
      "text/plain": [
       "<IPython.lib.display.IFrame at 0x11afb1c50>"
      ]
     },
     "execution_count": 18,
     "metadata": {},
     "output_type": "execute_result"
    }
   ],
   "source": [
    "cf.set_config_file(offline=True, world_readable=False)\n",
    "res_without_dates[['Top/health/recover', 'Top/health/illness']].iplot(kind='bar', histnorm='percent', xTitle='period',\n",
    "                  yTitle='count', title='Coronovirus')"
   ]
  },
  {
   "cell_type": "code",
   "execution_count": 20,
   "metadata": {},
   "outputs": [
    {
     "data": {
      "text/html": [
       "\n",
       "        <iframe\n",
       "            width=\"100%\"\n",
       "            height=\"525px\"\n",
       "            src=\"https://plotly.com/~pavloboiko/24.embed\"\n",
       "            frameborder=\"0\"\n",
       "            allowfullscreen\n",
       "        ></iframe>\n",
       "        "
      ],
      "text/plain": [
       "<IPython.lib.display.IFrame at 0x11e4f0990>"
      ]
     },
     "execution_count": 20,
     "metadata": {},
     "output_type": "execute_result"
    }
   ],
   "source": [
    "days_period = 7 \n",
    "all_source_bars = create_result_table(name_colums_for_new_csv, my_classes, days_period, first_day, last_day)\n",
    "res_without_dates = all_source_bars.drop(['start_period','end_period'], axis=1)\n",
    "\n",
    "res_without_dates.iplot(kind='bar', histnorm='percent',\n",
    "    barmode='overlay', xTitle='period',\n",
    "                  yTitle='count', title='Coronovirus')"
   ]
  },
  {
   "cell_type": "code",
   "execution_count": null,
   "metadata": {},
   "outputs": [],
   "source": []
  }
 ],
 "metadata": {
  "kernelspec": {
   "display_name": "Python 3",
   "language": "python",
   "name": "python3"
  },
  "language_info": {
   "codemirror_mode": {
    "name": "ipython",
    "version": 3
   },
   "file_extension": ".py",
   "mimetype": "text/x-python",
   "name": "python",
   "nbconvert_exporter": "python",
   "pygments_lexer": "ipython3",
   "version": "3.7.4"
  }
 },
 "nbformat": 4,
 "nbformat_minor": 2
}
